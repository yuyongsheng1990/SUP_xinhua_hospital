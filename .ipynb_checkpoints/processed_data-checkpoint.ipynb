{
 "cells": [
  {
   "cell_type": "code",
   "execution_count": 1,
   "metadata": {},
   "outputs": [],
   "source": [
    "# _*_ coding: utf-8 _*_\n",
    "# @Time: 2021/12/24 14:15 \n",
    "# @Author: yuyongsheng\n",
    "# @Software: PyCharm\n",
    "# @Description: 新华医院生脉注射液：1. 数据处理：201907041611133032包含在其他科原始数据中，它们和心内科用的受试者编号对应不同人"
   ]
  },
  {
   "cell_type": "markdown",
   "metadata": {},
   "source": [
    "# 数据处理"
   ]
  },
  {
   "cell_type": "markdown",
   "metadata": {},
   "source": [
    "## 导入程序包"
   ]
  },
  {
   "cell_type": "code",
   "execution_count": 2,
   "metadata": {},
   "outputs": [],
   "source": [
    "# 导入程序包\n",
    "import pymysql as MySQLDB\n",
    "import pandas as pd\n",
    "import numpy as np\n",
    "\n",
    "import re\n",
    "import sys\n",
    "import os\n",
    "project_path = os.getcwd()"
   ]
  },
  {
   "cell_type": "markdown",
   "metadata": {},
   "source": [
    "## 导入预定义函数"
   ]
  },
  {
   "cell_type": "code",
   "execution_count": 3,
   "metadata": {},
   "outputs": [],
   "source": [
    "# 字符串转换为时间格式\n",
    "import datetime\n",
    "def str_to_datetime(x):\n",
    "    try:\n",
    "        a = datetime.datetime.strptime(x, \"%d/%m/%Y %H:%M:%S\")\n",
    "        return a\n",
    "    except:\n",
    "        return np.NaN"
   ]
  },
  {
   "cell_type": "code",
   "execution_count": 4,
   "metadata": {},
   "outputs": [],
   "source": [
    "# 过滤特征字符\n",
    "def filter_spec_character(df,feature):\n",
    "    df[feature]=df[feature].apply(lambda x: re.sub('<|>|\\+|\\/','',str(x)))\n",
    "    return df"
   ]
  },
  {
   "cell_type": "code",
   "execution_count": 5,
   "metadata": {},
   "outputs": [],
   "source": [
    "# 过滤文字\n",
    "import numpy as np\n",
    "def filter_string(df,feature):\n",
    "    # 过滤文字!!!!!!!!!!!!!!!!!!!!!!!!!!!\n",
    "    df=df[df[feature].str.contains('\\d')]\n",
    "    return df"
   ]
  },
  {
   "cell_type": "code",
   "execution_count": 6,
   "metadata": {},
   "outputs": [],
   "source": [
    "# 过滤异常大值\n",
    "def filter_huge_value(df,feature):\n",
    "    # 过滤异常大值!!!!!!!!!!!!!!!!!!!!!!!!!!\n",
    "    median_value=df[feature].median()\n",
    "    if median_value == 0:\n",
    "        pass\n",
    "    else:\n",
    "        df[feature]=df[feature].apply(lambda x: np.nan if x<0 else x if float(x) <= 100 * median_value else 100*median_value)\n",
    "    return df"
   ]
  },
  {
   "cell_type": "code",
   "execution_count": 7,
   "metadata": {},
   "outputs": [],
   "source": [
    "# 使用随机森林对缺失值进行插补\n",
    "import pandas as pd\n",
    "pd.set_option('mode.chained_assignment', None)\n",
    "import numpy as np\n",
    "from sklearn.ensemble import RandomForestRegressor\n",
    "from sklearn.model_selection import GridSearchCV\n",
    "def missing_value_interpolation(df,missing_list=[]):\n",
    "    df = df.reset_index(drop=True)\n",
    "    # 提取存在缺失值的列名\n",
    "    if not missing_list:\n",
    "        for i in df.columns:\n",
    "            if df[i].isnull().sum() > 0:\n",
    "                missing_list.append(i)\n",
    "    missing_list_copy = missing_list.copy()\n",
    "    # 用该列未缺失的值训练随机森林，然后用训练好的rf预测缺失值\n",
    "    for i in range(len(missing_list)):\n",
    "        name=missing_list[0]\n",
    "        df_missing = df[missing_list_copy]\n",
    "        # 将其他列的缺失值用0表示。\n",
    "        missing_list.remove(name)\n",
    "        for j in missing_list:\n",
    "            df_missing[j]=df_missing[j].astype('str').apply(lambda x: 0 if x=='nan' else x)\n",
    "        df_missing_is = df_missing[df_missing[name].isnull()]\n",
    "        df_missing_not = df_missing[df_missing[name].notnull()]\n",
    "        y = df_missing_not[name]\n",
    "        x = df_missing_not.drop([name],axis=1)\n",
    "        # 列出参数列表\n",
    "        tree_grid_parameter = {'n_estimators': list((10, 50, 100, 150, 200))}\n",
    "        # 进行参数的搜索组合\n",
    "        grid = GridSearchCV(RandomForestRegressor(),param_grid=tree_grid_parameter,cv=3)\n",
    "        #rfr=RandomForestRegressor(random_state=0,n_estimators=100,n_jobs=-1)\n",
    "        #根据已有数据去拟合随机森林模型\n",
    "        grid.fit(x, y)\n",
    "        rfr = RandomForestRegressor(n_estimators=grid.best_params_['n_estimators'])\n",
    "        rfr.fit(x, y)\n",
    "        #预测缺失值\n",
    "        predict = rfr.predict(df_missing_is.drop([name],axis=1))\n",
    "        #填补缺失值\n",
    "        df.loc[df[name].isnull(),name] = predict\n",
    "    return df"
   ]
  },
  {
   "cell_type": "markdown",
   "metadata": {},
   "source": [
    "## 提取用药信息"
   ]
  },
  {
   "cell_type": "markdown",
   "metadata": {},
   "source": [
    "### 其他科用药数据"
   ]
  },
  {
   "cell_type": "code",
   "execution_count": 62,
   "metadata": {},
   "outputs": [],
   "source": [
    "drug_data_1 = pd.read_excel(project_path+'/data/raw_data/导出全部CRF表数据-其他科1021.xlsx',\n",
    "                            sheet_name='EX_生脉注射液用药情况',\n",
    "#                            header=1,  # 指定第2行作为标题行\n",
    "                           skiprows=[1,1,1])  # 跳过第1行"
   ]
  },
  {
   "cell_type": "code",
   "execution_count": 63,
   "metadata": {},
   "outputs": [
    {
     "name": "stdout",
     "output_type": "stream",
     "text": [
      "(1107, 30)\n",
      "645\n"
     ]
    }
   ],
   "source": [
    "print(drug_data_1.shape)\n",
    "print(drug_data_1['SUBJECTID'].nunique())"
   ]
  },
  {
   "cell_type": "code",
   "execution_count": 64,
   "metadata": {
    "collapsed": true
   },
   "outputs": [
    {
     "data": {
      "text/html": [
       "<div>\n",
       "<style scoped>\n",
       "    .dataframe tbody tr th:only-of-type {\n",
       "        vertical-align: middle;\n",
       "    }\n",
       "\n",
       "    .dataframe tbody tr th {\n",
       "        vertical-align: top;\n",
       "    }\n",
       "\n",
       "    .dataframe thead th {\n",
       "        text-align: right;\n",
       "    }\n",
       "</style>\n",
       "<table border=\"1\" class=\"dataframe\">\n",
       "  <thead>\n",
       "    <tr style=\"text-align: right;\">\n",
       "      <th></th>\n",
       "      <th>STUDYID</th>\n",
       "      <th>SITEID</th>\n",
       "      <th>SITE</th>\n",
       "      <th>SUBJECTID</th>\n",
       "      <th>VISIT</th>\n",
       "      <th>EXYN</th>\n",
       "      <th>EXYN_CHAR</th>\n",
       "      <th>EXSTDAT</th>\n",
       "      <th>EXENDAT</th>\n",
       "      <th>EXDLDAYS</th>\n",
       "      <th>...</th>\n",
       "      <th>EXDSTXTUT</th>\n",
       "      <th>EXDSTXTSD</th>\n",
       "      <th>EXDSTXTSU</th>\n",
       "      <th>EXMENS</th>\n",
       "      <th>EXMENS_CHAR</th>\n",
       "      <th>EXMENOTH</th>\n",
       "      <th>EXCOMDYN</th>\n",
       "      <th>EXCOMDYN_CHAR</th>\n",
       "      <th>ENTSTDTC</th>\n",
       "      <th>ENTENDTC</th>\n",
       "    </tr>\n",
       "  </thead>\n",
       "  <tbody>\n",
       "    <tr>\n",
       "      <th>0</th>\n",
       "      <td>SMZSY-V1.0</td>\n",
       "      <td>9</td>\n",
       "      <td>上海交通大学医学院附属新华医院</td>\n",
       "      <td>90001</td>\n",
       "      <td>生脉注射液用药情况</td>\n",
       "      <td>1.0</td>\n",
       "      <td>是</td>\n",
       "      <td>2018-04-07</td>\n",
       "      <td>2018-04-15</td>\n",
       "      <td>9.0</td>\n",
       "      <td>...</td>\n",
       "      <td>ml</td>\n",
       "      <td>NaN</td>\n",
       "      <td>NaN</td>\n",
       "      <td>99.0</td>\n",
       "      <td>其它</td>\n",
       "      <td>0.9% NS 100ml</td>\n",
       "      <td>2.0</td>\n",
       "      <td>无</td>\n",
       "      <td>2018/4/20 15:59:03</td>\n",
       "      <td>NaN</td>\n",
       "    </tr>\n",
       "    <tr>\n",
       "      <th>1</th>\n",
       "      <td>SMZSY-V1.0</td>\n",
       "      <td>9</td>\n",
       "      <td>上海交通大学医学院附属新华医院</td>\n",
       "      <td>90001</td>\n",
       "      <td>生脉注射液用药情况</td>\n",
       "      <td>2.0</td>\n",
       "      <td>否</td>\n",
       "      <td>NaN</td>\n",
       "      <td>NaN</td>\n",
       "      <td>1.0</td>\n",
       "      <td>...</td>\n",
       "      <td>NaN</td>\n",
       "      <td>NaN</td>\n",
       "      <td>NaN</td>\n",
       "      <td>NaN</td>\n",
       "      <td>NaN</td>\n",
       "      <td>NaN</td>\n",
       "      <td>NaN</td>\n",
       "      <td>NaN</td>\n",
       "      <td>2019/8/1 23:14:03</td>\n",
       "      <td>NaN</td>\n",
       "    </tr>\n",
       "    <tr>\n",
       "      <th>2</th>\n",
       "      <td>SMZSY-V1.0</td>\n",
       "      <td>9</td>\n",
       "      <td>上海交通大学医学院附属新华医院</td>\n",
       "      <td>90002</td>\n",
       "      <td>生脉注射液用药情况</td>\n",
       "      <td>2.0</td>\n",
       "      <td>否</td>\n",
       "      <td>NaN</td>\n",
       "      <td>NaN</td>\n",
       "      <td>1.0</td>\n",
       "      <td>...</td>\n",
       "      <td>NaN</td>\n",
       "      <td>NaN</td>\n",
       "      <td>NaN</td>\n",
       "      <td>NaN</td>\n",
       "      <td>NaN</td>\n",
       "      <td>NaN</td>\n",
       "      <td>NaN</td>\n",
       "      <td>NaN</td>\n",
       "      <td>2019/10/1 19:20:27</td>\n",
       "      <td>NaN</td>\n",
       "    </tr>\n",
       "    <tr>\n",
       "      <th>3</th>\n",
       "      <td>SMZSY-V1.0</td>\n",
       "      <td>9</td>\n",
       "      <td>上海交通大学医学院附属新华医院</td>\n",
       "      <td>90003</td>\n",
       "      <td>生脉注射液用药情况</td>\n",
       "      <td>1.0</td>\n",
       "      <td>是</td>\n",
       "      <td>2018-03-12</td>\n",
       "      <td>2018-03-17</td>\n",
       "      <td>6.0</td>\n",
       "      <td>...</td>\n",
       "      <td>ml</td>\n",
       "      <td>NaN</td>\n",
       "      <td>NaN</td>\n",
       "      <td>1.0</td>\n",
       "      <td>5% GS 250ml</td>\n",
       "      <td>NaN</td>\n",
       "      <td>2.0</td>\n",
       "      <td>无</td>\n",
       "      <td>2018/9/16 16:37:59</td>\n",
       "      <td>NaN</td>\n",
       "    </tr>\n",
       "    <tr>\n",
       "      <th>4</th>\n",
       "      <td>SMZSY-V1.0</td>\n",
       "      <td>9</td>\n",
       "      <td>上海交通大学医学院附属新华医院</td>\n",
       "      <td>90003</td>\n",
       "      <td>生脉注射液用药情况</td>\n",
       "      <td>2.0</td>\n",
       "      <td>否</td>\n",
       "      <td>NaN</td>\n",
       "      <td>NaN</td>\n",
       "      <td>1.0</td>\n",
       "      <td>...</td>\n",
       "      <td>NaN</td>\n",
       "      <td>NaN</td>\n",
       "      <td>NaN</td>\n",
       "      <td>NaN</td>\n",
       "      <td>NaN</td>\n",
       "      <td>NaN</td>\n",
       "      <td>NaN</td>\n",
       "      <td>NaN</td>\n",
       "      <td>2019/8/8 16:31:10</td>\n",
       "      <td>NaN</td>\n",
       "    </tr>\n",
       "  </tbody>\n",
       "</table>\n",
       "<p>5 rows × 30 columns</p>\n",
       "</div>"
      ],
      "text/plain": [
       "      STUDYID  SITEID             SITE  SUBJECTID      VISIT  EXYN EXYN_CHAR  \\\n",
       "0  SMZSY-V1.0       9  上海交通大学医学院附属新华医院      90001  生脉注射液用药情况   1.0         是   \n",
       "1  SMZSY-V1.0       9  上海交通大学医学院附属新华医院      90001  生脉注射液用药情况   2.0         否   \n",
       "2  SMZSY-V1.0       9  上海交通大学医学院附属新华医院      90002  生脉注射液用药情况   2.0         否   \n",
       "3  SMZSY-V1.0       9  上海交通大学医学院附属新华医院      90003  生脉注射液用药情况   1.0         是   \n",
       "4  SMZSY-V1.0       9  上海交通大学医学院附属新华医院      90003  生脉注射液用药情况   2.0         否   \n",
       "\n",
       "      EXSTDAT     EXENDAT  EXDLDAYS  ... EXDSTXTUT  EXDSTXTSD  EXDSTXTSU  \\\n",
       "0  2018-04-07  2018-04-15       9.0  ...        ml        NaN        NaN   \n",
       "1         NaN         NaN       1.0  ...       NaN        NaN        NaN   \n",
       "2         NaN         NaN       1.0  ...       NaN        NaN        NaN   \n",
       "3  2018-03-12  2018-03-17       6.0  ...        ml        NaN        NaN   \n",
       "4         NaN         NaN       1.0  ...       NaN        NaN        NaN   \n",
       "\n",
       "   EXMENS  EXMENS_CHAR       EXMENOTH EXCOMDYN  EXCOMDYN_CHAR  \\\n",
       "0    99.0           其它  0.9% NS 100ml      2.0              无   \n",
       "1     NaN          NaN            NaN      NaN            NaN   \n",
       "2     NaN          NaN            NaN      NaN            NaN   \n",
       "3     1.0  5% GS 250ml            NaN      2.0              无   \n",
       "4     NaN          NaN            NaN      NaN            NaN   \n",
       "\n",
       "             ENTSTDTC  ENTENDTC  \n",
       "0  2018/4/20 15:59:03       NaN  \n",
       "1   2019/8/1 23:14:03       NaN  \n",
       "2  2019/10/1 19:20:27       NaN  \n",
       "3  2018/9/16 16:37:59       NaN  \n",
       "4   2019/8/8 16:31:10       NaN  \n",
       "\n",
       "[5 rows x 30 columns]"
      ]
     },
     "execution_count": 64,
     "metadata": {},
     "output_type": "execute_result"
    }
   ],
   "source": [
    "drug_data_1.head()"
   ]
  },
  {
   "cell_type": "code",
   "execution_count": 65,
   "metadata": {},
   "outputs": [],
   "source": [
    "# 提取使用生脉注射液的数据\n",
    "drug_data_1=drug_data_1[drug_data_1['EXYN_CHAR']=='是']\n",
    "drug_data_1=drug_data_1.reset_index(drop=True)"
   ]
  },
  {
   "cell_type": "code",
   "execution_count": 66,
   "metadata": {},
   "outputs": [
    {
     "name": "stdout",
     "output_type": "stream",
     "text": [
      "(635, 30)\n",
      "635\n"
     ]
    }
   ],
   "source": [
    "print(drug_data_1.shape)\n",
    "print(drug_data_1['SUBJECTID'].nunique())"
   ]
  },
  {
   "cell_type": "code",
   "execution_count": 67,
   "metadata": {},
   "outputs": [],
   "source": [
    "# 删除用药剂量为空的数据\n",
    "drug_data_1=drug_data_1[(drug_data_1['EXDOSFRQ'].notnull()) &\n",
    "                       (drug_data_1['EXDSTXT'].notnull())]\n",
    "drug_data_1=drug_data_1.reset_index(drop=True)"
   ]
  },
  {
   "cell_type": "code",
   "execution_count": 68,
   "metadata": {},
   "outputs": [
    {
     "name": "stdout",
     "output_type": "stream",
     "text": [
      "(635, 30)\n",
      "635\n"
     ]
    }
   ],
   "source": [
    "print(drug_data_1.shape)\n",
    "print(drug_data_1['SUBJECTID'].nunique())"
   ]
  },
  {
   "cell_type": "code",
   "execution_count": 69,
   "metadata": {},
   "outputs": [],
   "source": [
    "# 提取有效字段\n",
    "drug_data_1=drug_data_1[['SUBJECTID','EXSTDAT','EXENDAT','EXDLDAYS','EXDOSFRQ','EXDSTXT']]"
   ]
  },
  {
   "cell_type": "code",
   "execution_count": 70,
   "metadata": {},
   "outputs": [],
   "source": [
    "# 标记受试者编号\n",
    "drug_data_1['SUBJECTID']=drug_data_1['SUBJECTID'].apply(lambda x: str(x)+'_a')"
   ]
  },
  {
   "cell_type": "code",
   "execution_count": 71,
   "metadata": {},
   "outputs": [
    {
     "data": {
      "text/html": [
       "<div>\n",
       "<style scoped>\n",
       "    .dataframe tbody tr th:only-of-type {\n",
       "        vertical-align: middle;\n",
       "    }\n",
       "\n",
       "    .dataframe tbody tr th {\n",
       "        vertical-align: top;\n",
       "    }\n",
       "\n",
       "    .dataframe thead th {\n",
       "        text-align: right;\n",
       "    }\n",
       "</style>\n",
       "<table border=\"1\" class=\"dataframe\">\n",
       "  <thead>\n",
       "    <tr style=\"text-align: right;\">\n",
       "      <th></th>\n",
       "      <th>SUBJECTID</th>\n",
       "      <th>EXSTDAT</th>\n",
       "      <th>EXENDAT</th>\n",
       "      <th>EXDLDAYS</th>\n",
       "      <th>EXDOSFRQ</th>\n",
       "      <th>EXDSTXT</th>\n",
       "    </tr>\n",
       "  </thead>\n",
       "  <tbody>\n",
       "    <tr>\n",
       "      <th>0</th>\n",
       "      <td>90001_a</td>\n",
       "      <td>2018-04-07</td>\n",
       "      <td>2018-04-15</td>\n",
       "      <td>9.0</td>\n",
       "      <td>1.0</td>\n",
       "      <td>30.0</td>\n",
       "    </tr>\n",
       "    <tr>\n",
       "      <th>1</th>\n",
       "      <td>90003_a</td>\n",
       "      <td>2018-03-12</td>\n",
       "      <td>2018-03-17</td>\n",
       "      <td>6.0</td>\n",
       "      <td>1.0</td>\n",
       "      <td>40.0</td>\n",
       "    </tr>\n",
       "    <tr>\n",
       "      <th>2</th>\n",
       "      <td>90004_a</td>\n",
       "      <td>2018-02-13</td>\n",
       "      <td>2018-02-13</td>\n",
       "      <td>1.0</td>\n",
       "      <td>1.0</td>\n",
       "      <td>40.0</td>\n",
       "    </tr>\n",
       "    <tr>\n",
       "      <th>3</th>\n",
       "      <td>90005_a</td>\n",
       "      <td>2018-02-09</td>\n",
       "      <td>2018-02-09</td>\n",
       "      <td>1.0</td>\n",
       "      <td>1.0</td>\n",
       "      <td>40.0</td>\n",
       "    </tr>\n",
       "    <tr>\n",
       "      <th>4</th>\n",
       "      <td>90006_a</td>\n",
       "      <td>2018-02-23</td>\n",
       "      <td>2018-02-23</td>\n",
       "      <td>1.0</td>\n",
       "      <td>1.0</td>\n",
       "      <td>30.0</td>\n",
       "    </tr>\n",
       "  </tbody>\n",
       "</table>\n",
       "</div>"
      ],
      "text/plain": [
       "  SUBJECTID     EXSTDAT     EXENDAT  EXDLDAYS  EXDOSFRQ  EXDSTXT\n",
       "0   90001_a  2018-04-07  2018-04-15       9.0       1.0     30.0\n",
       "1   90003_a  2018-03-12  2018-03-17       6.0       1.0     40.0\n",
       "2   90004_a  2018-02-13  2018-02-13       1.0       1.0     40.0\n",
       "3   90005_a  2018-02-09  2018-02-09       1.0       1.0     40.0\n",
       "4   90006_a  2018-02-23  2018-02-23       1.0       1.0     30.0"
      ]
     },
     "execution_count": 71,
     "metadata": {},
     "output_type": "execute_result"
    }
   ],
   "source": [
    "drug_data_1.head()"
   ]
  },
  {
   "cell_type": "code",
   "execution_count": 72,
   "metadata": {},
   "outputs": [],
   "source": [
    "#计算日计量\n",
    "drug_data_1['日计量']=drug_data_1['EXDOSFRQ'].astype('float') * drug_data_1['EXDSTXT'].astype('float')"
   ]
  },
  {
   "cell_type": "code",
   "execution_count": 73,
   "metadata": {},
   "outputs": [],
   "source": [
    "drug_data_1.to_excel(project_path+'/data/processed_data/用药数据/其他科_drug_1.xlsx')"
   ]
  },
  {
   "cell_type": "markdown",
   "metadata": {},
   "source": [
    "### 心内科用药数据"
   ]
  },
  {
   "cell_type": "code",
   "execution_count": 74,
   "metadata": {},
   "outputs": [],
   "source": [
    "drug_data_2 = pd.read_excel(project_path+'/data/raw_data/导出全部CRF表数据-心内科1021.xlsx',\n",
    "                            sheet_name='EX_生脉注射液用药情况',\n",
    "                            #                            header=1,  # 指定第2行作为标题行\n",
    "                           skiprows=[1,1,1])  # 跳过第几行)"
   ]
  },
  {
   "cell_type": "code",
   "execution_count": 75,
   "metadata": {},
   "outputs": [
    {
     "name": "stdout",
     "output_type": "stream",
     "text": [
      "(192, 30)\n",
      "105\n"
     ]
    }
   ],
   "source": [
    "print(drug_data_2.shape)\n",
    "print(drug_data_2['SUBJECTID'].nunique())"
   ]
  },
  {
   "cell_type": "code",
   "execution_count": 76,
   "metadata": {},
   "outputs": [
    {
     "data": {
      "text/html": [
       "<div>\n",
       "<style scoped>\n",
       "    .dataframe tbody tr th:only-of-type {\n",
       "        vertical-align: middle;\n",
       "    }\n",
       "\n",
       "    .dataframe tbody tr th {\n",
       "        vertical-align: top;\n",
       "    }\n",
       "\n",
       "    .dataframe thead th {\n",
       "        text-align: right;\n",
       "    }\n",
       "</style>\n",
       "<table border=\"1\" class=\"dataframe\">\n",
       "  <thead>\n",
       "    <tr style=\"text-align: right;\">\n",
       "      <th></th>\n",
       "      <th>STUDYID</th>\n",
       "      <th>SITEID</th>\n",
       "      <th>SITE</th>\n",
       "      <th>SUBJECTID</th>\n",
       "      <th>VISIT</th>\n",
       "      <th>EXYN</th>\n",
       "      <th>EXYN_CHAR</th>\n",
       "      <th>EXSTDAT</th>\n",
       "      <th>EXENDAT</th>\n",
       "      <th>EXDLDAYS</th>\n",
       "      <th>...</th>\n",
       "      <th>EXDSTXTUT</th>\n",
       "      <th>EXDSTXTSD</th>\n",
       "      <th>EXDSTXTSU</th>\n",
       "      <th>EXMENS</th>\n",
       "      <th>EXMENS_CHAR</th>\n",
       "      <th>EXMENOTH</th>\n",
       "      <th>EXCOMDYN</th>\n",
       "      <th>EXCOMDYN_CHAR</th>\n",
       "      <th>ENTSTDTC</th>\n",
       "      <th>ENTENDTC</th>\n",
       "    </tr>\n",
       "  </thead>\n",
       "  <tbody>\n",
       "    <tr>\n",
       "      <th>0</th>\n",
       "      <td>SMZSY-V1.0</td>\n",
       "      <td>9</td>\n",
       "      <td>上海交通大学医学院附属新华医院</td>\n",
       "      <td>90001</td>\n",
       "      <td>生脉注射液用药情况</td>\n",
       "      <td>1</td>\n",
       "      <td>是</td>\n",
       "      <td>2018-02-13</td>\n",
       "      <td>2018-02-13</td>\n",
       "      <td>1</td>\n",
       "      <td>...</td>\n",
       "      <td>ml</td>\n",
       "      <td>NaN</td>\n",
       "      <td>NaN</td>\n",
       "      <td>1.0</td>\n",
       "      <td>5% GS 250ml</td>\n",
       "      <td>NaN</td>\n",
       "      <td>2.0</td>\n",
       "      <td>无</td>\n",
       "      <td>2018/9/16 15:23:56</td>\n",
       "      <td>NaN</td>\n",
       "    </tr>\n",
       "    <tr>\n",
       "      <th>1</th>\n",
       "      <td>SMZSY-V1.0</td>\n",
       "      <td>9</td>\n",
       "      <td>上海交通大学医学院附属新华医院</td>\n",
       "      <td>90001</td>\n",
       "      <td>生脉注射液用药情况</td>\n",
       "      <td>2</td>\n",
       "      <td>否</td>\n",
       "      <td>NaN</td>\n",
       "      <td>NaN</td>\n",
       "      <td>1</td>\n",
       "      <td>...</td>\n",
       "      <td>NaN</td>\n",
       "      <td>NaN</td>\n",
       "      <td>NaN</td>\n",
       "      <td>NaN</td>\n",
       "      <td>NaN</td>\n",
       "      <td>NaN</td>\n",
       "      <td>NaN</td>\n",
       "      <td>NaN</td>\n",
       "      <td>2019/7/3 20:11:17</td>\n",
       "      <td>NaN</td>\n",
       "    </tr>\n",
       "    <tr>\n",
       "      <th>2</th>\n",
       "      <td>SMZSY-V1.0</td>\n",
       "      <td>9</td>\n",
       "      <td>上海交通大学医学院附属新华医院</td>\n",
       "      <td>90002</td>\n",
       "      <td>生脉注射液用药情况</td>\n",
       "      <td>1</td>\n",
       "      <td>是</td>\n",
       "      <td>2019-04-24</td>\n",
       "      <td>2019-05-05</td>\n",
       "      <td>12</td>\n",
       "      <td>...</td>\n",
       "      <td>ml</td>\n",
       "      <td>NaN</td>\n",
       "      <td>NaN</td>\n",
       "      <td>99.0</td>\n",
       "      <td>其它</td>\n",
       "      <td>果糖针5%0ml静滴qd</td>\n",
       "      <td>NaN</td>\n",
       "      <td>NaN</td>\n",
       "      <td>2019/9/8 19:36:19</td>\n",
       "      <td>NaN</td>\n",
       "    </tr>\n",
       "    <tr>\n",
       "      <th>3</th>\n",
       "      <td>SMZSY-V1.0</td>\n",
       "      <td>9</td>\n",
       "      <td>上海交通大学医学院附属新华医院</td>\n",
       "      <td>90002</td>\n",
       "      <td>生脉注射液用药情况</td>\n",
       "      <td>2</td>\n",
       "      <td>否</td>\n",
       "      <td>NaN</td>\n",
       "      <td>NaN</td>\n",
       "      <td>1</td>\n",
       "      <td>...</td>\n",
       "      <td>NaN</td>\n",
       "      <td>NaN</td>\n",
       "      <td>NaN</td>\n",
       "      <td>NaN</td>\n",
       "      <td>NaN</td>\n",
       "      <td>NaN</td>\n",
       "      <td>NaN</td>\n",
       "      <td>NaN</td>\n",
       "      <td>2019/9/29 20:17:06</td>\n",
       "      <td>NaN</td>\n",
       "    </tr>\n",
       "    <tr>\n",
       "      <th>4</th>\n",
       "      <td>SMZSY-V1.0</td>\n",
       "      <td>9</td>\n",
       "      <td>上海交通大学医学院附属新华医院</td>\n",
       "      <td>90003</td>\n",
       "      <td>生脉注射液用药情况</td>\n",
       "      <td>1</td>\n",
       "      <td>是</td>\n",
       "      <td>2019-05-24</td>\n",
       "      <td>NaN</td>\n",
       "      <td>1</td>\n",
       "      <td>...</td>\n",
       "      <td>ml</td>\n",
       "      <td>NaN</td>\n",
       "      <td>NaN</td>\n",
       "      <td>99.0</td>\n",
       "      <td>其它</td>\n",
       "      <td>0.9%氯化钠针100ml静滴</td>\n",
       "      <td>NaN</td>\n",
       "      <td>NaN</td>\n",
       "      <td>2019/9/8 19:45:14</td>\n",
       "      <td>NaN</td>\n",
       "    </tr>\n",
       "    <tr>\n",
       "      <th>...</th>\n",
       "      <td>...</td>\n",
       "      <td>...</td>\n",
       "      <td>...</td>\n",
       "      <td>...</td>\n",
       "      <td>...</td>\n",
       "      <td>...</td>\n",
       "      <td>...</td>\n",
       "      <td>...</td>\n",
       "      <td>...</td>\n",
       "      <td>...</td>\n",
       "      <td>...</td>\n",
       "      <td>...</td>\n",
       "      <td>...</td>\n",
       "      <td>...</td>\n",
       "      <td>...</td>\n",
       "      <td>...</td>\n",
       "      <td>...</td>\n",
       "      <td>...</td>\n",
       "      <td>...</td>\n",
       "      <td>...</td>\n",
       "      <td>...</td>\n",
       "    </tr>\n",
       "    <tr>\n",
       "      <th>187</th>\n",
       "      <td>SMZSY-V1.0</td>\n",
       "      <td>9</td>\n",
       "      <td>上海交通大学医学院附属新华医院</td>\n",
       "      <td>90101</td>\n",
       "      <td>生脉注射液用药情况</td>\n",
       "      <td>1</td>\n",
       "      <td>是</td>\n",
       "      <td>2019-05-28</td>\n",
       "      <td>2019-06-28</td>\n",
       "      <td>32</td>\n",
       "      <td>...</td>\n",
       "      <td>ml</td>\n",
       "      <td>NaN</td>\n",
       "      <td>NaN</td>\n",
       "      <td>99.0</td>\n",
       "      <td>其它</td>\n",
       "      <td>0.9%氯化钠注射液100ml 静滴qd</td>\n",
       "      <td>NaN</td>\n",
       "      <td>NaN</td>\n",
       "      <td>2019/9/27 22:29:14</td>\n",
       "      <td>NaN</td>\n",
       "    </tr>\n",
       "    <tr>\n",
       "      <th>188</th>\n",
       "      <td>SMZSY-V1.0</td>\n",
       "      <td>9</td>\n",
       "      <td>上海交通大学医学院附属新华医院</td>\n",
       "      <td>90102</td>\n",
       "      <td>生脉注射液用药情况</td>\n",
       "      <td>1</td>\n",
       "      <td>是</td>\n",
       "      <td>2019-01-29</td>\n",
       "      <td>2019-01-30</td>\n",
       "      <td>2</td>\n",
       "      <td>...</td>\n",
       "      <td>ml</td>\n",
       "      <td>NaN</td>\n",
       "      <td>NaN</td>\n",
       "      <td>99.0</td>\n",
       "      <td>其它</td>\n",
       "      <td>果糖针250ml 静滴qd</td>\n",
       "      <td>NaN</td>\n",
       "      <td>NaN</td>\n",
       "      <td>2019/9/28 16:30:03</td>\n",
       "      <td>NaN</td>\n",
       "    </tr>\n",
       "    <tr>\n",
       "      <th>189</th>\n",
       "      <td>SMZSY-V1.0</td>\n",
       "      <td>9</td>\n",
       "      <td>上海交通大学医学院附属新华医院</td>\n",
       "      <td>90103</td>\n",
       "      <td>生脉注射液用药情况</td>\n",
       "      <td>1</td>\n",
       "      <td>是</td>\n",
       "      <td>2019-08-15</td>\n",
       "      <td>2019-08-21</td>\n",
       "      <td>7</td>\n",
       "      <td>...</td>\n",
       "      <td>ml</td>\n",
       "      <td>NaN</td>\n",
       "      <td>NaN</td>\n",
       "      <td>99.0</td>\n",
       "      <td>其它</td>\n",
       "      <td>0.9%氯化钠注射液250ml 静滴qd</td>\n",
       "      <td>NaN</td>\n",
       "      <td>NaN</td>\n",
       "      <td>2019/10/1 23:38:26</td>\n",
       "      <td>NaN</td>\n",
       "    </tr>\n",
       "    <tr>\n",
       "      <th>190</th>\n",
       "      <td>SMZSY-V1.0</td>\n",
       "      <td>9</td>\n",
       "      <td>上海交通大学医学院附属新华医院</td>\n",
       "      <td>90104</td>\n",
       "      <td>生脉注射液用药情况</td>\n",
       "      <td>1</td>\n",
       "      <td>是</td>\n",
       "      <td>2019-08-05</td>\n",
       "      <td>2019-08-12</td>\n",
       "      <td>8</td>\n",
       "      <td>...</td>\n",
       "      <td>ml</td>\n",
       "      <td>NaN</td>\n",
       "      <td>NaN</td>\n",
       "      <td>99.0</td>\n",
       "      <td>其它</td>\n",
       "      <td>0.9%氯化钠注射液100ml 静滴qd</td>\n",
       "      <td>NaN</td>\n",
       "      <td>NaN</td>\n",
       "      <td>2019/10/1 23:49:02</td>\n",
       "      <td>NaN</td>\n",
       "    </tr>\n",
       "    <tr>\n",
       "      <th>191</th>\n",
       "      <td>SMZSY-V1.0</td>\n",
       "      <td>9</td>\n",
       "      <td>上海交通大学医学院附属新华医院</td>\n",
       "      <td>90105</td>\n",
       "      <td>生脉注射液用药情况</td>\n",
       "      <td>1</td>\n",
       "      <td>是</td>\n",
       "      <td>2019-08-25</td>\n",
       "      <td>2019-08-27</td>\n",
       "      <td>3</td>\n",
       "      <td>...</td>\n",
       "      <td>ml</td>\n",
       "      <td>NaN</td>\n",
       "      <td>NaN</td>\n",
       "      <td>99.0</td>\n",
       "      <td>其它</td>\n",
       "      <td>0.9%氯化钠注射液250ml 静滴qd</td>\n",
       "      <td>NaN</td>\n",
       "      <td>NaN</td>\n",
       "      <td>2019/10/2 0:02:58</td>\n",
       "      <td>NaN</td>\n",
       "    </tr>\n",
       "  </tbody>\n",
       "</table>\n",
       "<p>192 rows × 30 columns</p>\n",
       "</div>"
      ],
      "text/plain": [
       "        STUDYID  SITEID             SITE  SUBJECTID      VISIT  EXYN  \\\n",
       "0    SMZSY-V1.0       9  上海交通大学医学院附属新华医院      90001  生脉注射液用药情况     1   \n",
       "1    SMZSY-V1.0       9  上海交通大学医学院附属新华医院      90001  生脉注射液用药情况     2   \n",
       "2    SMZSY-V1.0       9  上海交通大学医学院附属新华医院      90002  生脉注射液用药情况     1   \n",
       "3    SMZSY-V1.0       9  上海交通大学医学院附属新华医院      90002  生脉注射液用药情况     2   \n",
       "4    SMZSY-V1.0       9  上海交通大学医学院附属新华医院      90003  生脉注射液用药情况     1   \n",
       "..          ...     ...              ...        ...        ...   ...   \n",
       "187  SMZSY-V1.0       9  上海交通大学医学院附属新华医院      90101  生脉注射液用药情况     1   \n",
       "188  SMZSY-V1.0       9  上海交通大学医学院附属新华医院      90102  生脉注射液用药情况     1   \n",
       "189  SMZSY-V1.0       9  上海交通大学医学院附属新华医院      90103  生脉注射液用药情况     1   \n",
       "190  SMZSY-V1.0       9  上海交通大学医学院附属新华医院      90104  生脉注射液用药情况     1   \n",
       "191  SMZSY-V1.0       9  上海交通大学医学院附属新华医院      90105  生脉注射液用药情况     1   \n",
       "\n",
       "    EXYN_CHAR     EXSTDAT     EXENDAT  EXDLDAYS  ... EXDSTXTUT  EXDSTXTSD  \\\n",
       "0           是  2018-02-13  2018-02-13         1  ...        ml        NaN   \n",
       "1           否         NaN         NaN         1  ...       NaN        NaN   \n",
       "2           是  2019-04-24  2019-05-05        12  ...        ml        NaN   \n",
       "3           否         NaN         NaN         1  ...       NaN        NaN   \n",
       "4           是  2019-05-24         NaN         1  ...        ml        NaN   \n",
       "..        ...         ...         ...       ...  ...       ...        ...   \n",
       "187         是  2019-05-28  2019-06-28        32  ...        ml        NaN   \n",
       "188         是  2019-01-29  2019-01-30         2  ...        ml        NaN   \n",
       "189         是  2019-08-15  2019-08-21         7  ...        ml        NaN   \n",
       "190         是  2019-08-05  2019-08-12         8  ...        ml        NaN   \n",
       "191         是  2019-08-25  2019-08-27         3  ...        ml        NaN   \n",
       "\n",
       "     EXDSTXTSU  EXMENS  EXMENS_CHAR              EXMENOTH EXCOMDYN  \\\n",
       "0          NaN     1.0  5% GS 250ml                   NaN      2.0   \n",
       "1          NaN     NaN          NaN                   NaN      NaN   \n",
       "2          NaN    99.0           其它          果糖针5%0ml静滴qd      NaN   \n",
       "3          NaN     NaN          NaN                   NaN      NaN   \n",
       "4          NaN    99.0           其它       0.9%氯化钠针100ml静滴      NaN   \n",
       "..         ...     ...          ...                   ...      ...   \n",
       "187        NaN    99.0           其它  0.9%氯化钠注射液100ml 静滴qd      NaN   \n",
       "188        NaN    99.0           其它         果糖针250ml 静滴qd      NaN   \n",
       "189        NaN    99.0           其它  0.9%氯化钠注射液250ml 静滴qd      NaN   \n",
       "190        NaN    99.0           其它  0.9%氯化钠注射液100ml 静滴qd      NaN   \n",
       "191        NaN    99.0           其它  0.9%氯化钠注射液250ml 静滴qd      NaN   \n",
       "\n",
       "     EXCOMDYN_CHAR            ENTSTDTC  ENTENDTC  \n",
       "0                无  2018/9/16 15:23:56       NaN  \n",
       "1              NaN   2019/7/3 20:11:17       NaN  \n",
       "2              NaN   2019/9/8 19:36:19       NaN  \n",
       "3              NaN  2019/9/29 20:17:06       NaN  \n",
       "4              NaN   2019/9/8 19:45:14       NaN  \n",
       "..             ...                 ...       ...  \n",
       "187            NaN  2019/9/27 22:29:14       NaN  \n",
       "188            NaN  2019/9/28 16:30:03       NaN  \n",
       "189            NaN  2019/10/1 23:38:26       NaN  \n",
       "190            NaN  2019/10/1 23:49:02       NaN  \n",
       "191            NaN   2019/10/2 0:02:58       NaN  \n",
       "\n",
       "[192 rows x 30 columns]"
      ]
     },
     "execution_count": 76,
     "metadata": {},
     "output_type": "execute_result"
    }
   ],
   "source": [
    "drug_data_2"
   ]
  },
  {
   "cell_type": "code",
   "execution_count": 77,
   "metadata": {},
   "outputs": [],
   "source": [
    "# 提取使用生脉注射液的数据\n",
    "drug_data_2=drug_data_2[drug_data_2['EXYN_CHAR']=='是']\n",
    "drug_data_2=drug_data_2.reset_index(drop=True)"
   ]
  },
  {
   "cell_type": "code",
   "execution_count": 78,
   "metadata": {},
   "outputs": [
    {
     "name": "stdout",
     "output_type": "stream",
     "text": [
      "(105, 30)\n",
      "105\n"
     ]
    }
   ],
   "source": [
    "print(drug_data_2.shape)\n",
    "print(drug_data_2['SUBJECTID'].nunique())"
   ]
  },
  {
   "cell_type": "code",
   "execution_count": 79,
   "metadata": {},
   "outputs": [],
   "source": [
    "# 删除用药剂量为空的数据\n",
    "drug_data_2=drug_data_2[(drug_data_2['EXDOSFRQ'].notnull()) &\n",
    "                       (drug_data_2['EXDSTXT'].notnull())]\n",
    "drug_data_2=drug_data_2.reset_index(drop=True)"
   ]
  },
  {
   "cell_type": "code",
   "execution_count": 80,
   "metadata": {},
   "outputs": [
    {
     "name": "stdout",
     "output_type": "stream",
     "text": [
      "(105, 30)\n",
      "105\n"
     ]
    }
   ],
   "source": [
    "print(drug_data_2.shape)\n",
    "print(drug_data_2['SUBJECTID'].nunique())"
   ]
  },
  {
   "cell_type": "code",
   "execution_count": 81,
   "metadata": {},
   "outputs": [],
   "source": [
    "# 提取有效字段\n",
    "drug_data_2=drug_data_2[['SUBJECTID','EXSTDAT','EXENDAT','EXDLDAYS','EXDOSFRQ','EXDSTXT']]"
   ]
  },
  {
   "cell_type": "code",
   "execution_count": 82,
   "metadata": {},
   "outputs": [],
   "source": [
    "# 标记受试者编号\n",
    "drug_data_2['SUBJECTID']=drug_data_2['SUBJECTID'].apply(lambda x: str(x)+'_b')"
   ]
  },
  {
   "cell_type": "code",
   "execution_count": 83,
   "metadata": {},
   "outputs": [
    {
     "data": {
      "text/html": [
       "<div>\n",
       "<style scoped>\n",
       "    .dataframe tbody tr th:only-of-type {\n",
       "        vertical-align: middle;\n",
       "    }\n",
       "\n",
       "    .dataframe tbody tr th {\n",
       "        vertical-align: top;\n",
       "    }\n",
       "\n",
       "    .dataframe thead th {\n",
       "        text-align: right;\n",
       "    }\n",
       "</style>\n",
       "<table border=\"1\" class=\"dataframe\">\n",
       "  <thead>\n",
       "    <tr style=\"text-align: right;\">\n",
       "      <th></th>\n",
       "      <th>SUBJECTID</th>\n",
       "      <th>EXSTDAT</th>\n",
       "      <th>EXENDAT</th>\n",
       "      <th>EXDLDAYS</th>\n",
       "      <th>EXDOSFRQ</th>\n",
       "      <th>EXDSTXT</th>\n",
       "    </tr>\n",
       "  </thead>\n",
       "  <tbody>\n",
       "    <tr>\n",
       "      <th>0</th>\n",
       "      <td>90001_b</td>\n",
       "      <td>2018-02-13</td>\n",
       "      <td>2018-02-13</td>\n",
       "      <td>1</td>\n",
       "      <td>1.0</td>\n",
       "      <td>40.0</td>\n",
       "    </tr>\n",
       "    <tr>\n",
       "      <th>1</th>\n",
       "      <td>90002_b</td>\n",
       "      <td>2019-04-24</td>\n",
       "      <td>2019-05-05</td>\n",
       "      <td>12</td>\n",
       "      <td>1.0</td>\n",
       "      <td>60.0</td>\n",
       "    </tr>\n",
       "    <tr>\n",
       "      <th>2</th>\n",
       "      <td>90003_b</td>\n",
       "      <td>2019-05-24</td>\n",
       "      <td>NaN</td>\n",
       "      <td>1</td>\n",
       "      <td>1.0</td>\n",
       "      <td>40.0</td>\n",
       "    </tr>\n",
       "    <tr>\n",
       "      <th>3</th>\n",
       "      <td>90004_b</td>\n",
       "      <td>2019-04-01</td>\n",
       "      <td>2019-04-03</td>\n",
       "      <td>3</td>\n",
       "      <td>1.0</td>\n",
       "      <td>60.0</td>\n",
       "    </tr>\n",
       "    <tr>\n",
       "      <th>4</th>\n",
       "      <td>90005_b</td>\n",
       "      <td>2019-05-20</td>\n",
       "      <td>2019-05-27</td>\n",
       "      <td>8</td>\n",
       "      <td>1.0</td>\n",
       "      <td>30.0</td>\n",
       "    </tr>\n",
       "  </tbody>\n",
       "</table>\n",
       "</div>"
      ],
      "text/plain": [
       "  SUBJECTID     EXSTDAT     EXENDAT  EXDLDAYS  EXDOSFRQ  EXDSTXT\n",
       "0   90001_b  2018-02-13  2018-02-13         1       1.0     40.0\n",
       "1   90002_b  2019-04-24  2019-05-05        12       1.0     60.0\n",
       "2   90003_b  2019-05-24         NaN         1       1.0     40.0\n",
       "3   90004_b  2019-04-01  2019-04-03         3       1.0     60.0\n",
       "4   90005_b  2019-05-20  2019-05-27         8       1.0     30.0"
      ]
     },
     "execution_count": 83,
     "metadata": {},
     "output_type": "execute_result"
    }
   ],
   "source": [
    "drug_data_2.head()"
   ]
  },
  {
   "cell_type": "code",
   "execution_count": 84,
   "metadata": {},
   "outputs": [],
   "source": [
    "#计算日计量\n",
    "drug_data_2['日计量']=drug_data_2['EXDOSFRQ'].astype('float') * drug_data_1['EXDSTXT'].astype('float')"
   ]
  },
  {
   "cell_type": "code",
   "execution_count": 85,
   "metadata": {},
   "outputs": [],
   "source": [
    "drug_data_2.to_excel(project_path+'/data/processed_data/用药数据/心内科_drug_2.xlsx')"
   ]
  },
  {
   "cell_type": "markdown",
   "metadata": {},
   "source": [
    "### 合并用药数据"
   ]
  },
  {
   "cell_type": "code",
   "execution_count": 247,
   "metadata": {},
   "outputs": [],
   "source": [
    "df_SUP_drug=pd.concat([drug_data_1,drug_data_2],axis=0)"
   ]
  },
  {
   "cell_type": "code",
   "execution_count": 248,
   "metadata": {},
   "outputs": [
    {
     "name": "stdout",
     "output_type": "stream",
     "text": [
      "(740, 7)\n",
      "740\n"
     ]
    }
   ],
   "source": [
    "print(df_SUP_drug.shape)\n",
    "print(df_SUP_drug['SUBJECTID'].nunique())"
   ]
  },
  {
   "cell_type": "code",
   "execution_count": 329,
   "metadata": {},
   "outputs": [
    {
     "data": {
      "text/plain": [
       "Index(['受试者编号', '用药开始时间', '用药结束时间', '用药天数', 'EXDOSFRQ', 'EXDSTXT', '日计量'], dtype='object')"
      ]
     },
     "execution_count": 329,
     "metadata": {},
     "output_type": "execute_result"
    }
   ],
   "source": [
    "df_SUP_drug.columns"
   ]
  },
  {
   "cell_type": "code",
   "execution_count": 249,
   "metadata": {},
   "outputs": [],
   "source": [
    "df_SUP_drug.rename(columns={'SUBJECTID':'受试者编号',\n",
    "                            'EXSTDAT':'用药开始时间',\n",
    "                            'EXENDAT':'用药结束时间',\n",
    "                            'EXDLDAYS':'用药天数'},inplace=True)\n",
    "df_SUP_drug=df_SUP_drug.reset_index(drop=True)"
   ]
  },
  {
   "cell_type": "code",
   "execution_count": 357,
   "metadata": {},
   "outputs": [],
   "source": [
    "df_SUP_drug.to_excel(project_path+'/data/processed_data/df_1.3.3_生脉用药.xlsx')"
   ]
  },
  {
   "cell_type": "markdown",
   "metadata": {},
   "source": [
    "### 计算用药时长"
   ]
  },
  {
   "cell_type": "code",
   "execution_count": 257,
   "metadata": {},
   "outputs": [],
   "source": [
    "aaa=df_SUP_drug[df_SUP_drug['用药结束时间'].isnull()]\n",
    "bbb=df_SUP_drug[df_SUP_drug['用药结束时间'].notnull()]\n",
    "aaa['用药结束时间']=aaa['用药开始时间']\n",
    "df_SUP_drug=pd.concat([aaa,bbb],axis=0)\n",
    "df_SUP_drug=df_SUP_drug.sort_values(by=['受试者编号','用药开始时间'])\n",
    "df_SUP_drug=df_SUP_drug.reset_index(drop=True)"
   ]
  },
  {
   "cell_type": "code",
   "execution_count": 258,
   "metadata": {},
   "outputs": [],
   "source": [
    "df_SUP_drug['用药天数']=(pd.to_datetime(df_SUP_drug['用药结束时间']) - pd.to_datetime(df_SUP_drug['用药开始时间']))\n",
    "df_SUP_drug['用药天数']=df_SUP_drug['用药天数'].apply(lambda x:x.days+1)"
   ]
  },
  {
   "cell_type": "code",
   "execution_count": 259,
   "metadata": {},
   "outputs": [
    {
     "data": {
      "text/plain": [
       "(740, 7)"
      ]
     },
     "execution_count": 259,
     "metadata": {},
     "output_type": "execute_result"
    }
   ],
   "source": [
    "df_SUP_drug.shape"
   ]
  },
  {
   "cell_type": "code",
   "execution_count": 114,
   "metadata": {},
   "outputs": [],
   "source": [
    "df_SUP_drug.to_excel(project_path+'/data/processed_data/df_1.3.4_用药时长.xlsx')"
   ]
  },
  {
   "cell_type": "markdown",
   "metadata": {},
   "source": [
    "## 统计用药时长和出入院时长"
   ]
  },
  {
   "cell_type": "markdown",
   "metadata": {},
   "source": [
    "### 入院时间"
   ]
  },
  {
   "cell_type": "code",
   "execution_count": 39,
   "metadata": {},
   "outputs": [],
   "source": [
    "# 其他科 VD_住院日期\n",
    "df_入院时间_1 = pd.read_excel(project_path+'/data/raw_data/导出全部CRF表数据-其他科1021.xlsx',\n",
    "                            sheet_name='VD_住院日期',\n",
    "                           header=1,)  # 指定第2行作为标题行\n",
    "#                            skiprows=[1,1,1])  # 跳过第1行\n",
    "\n",
    "df_入院时间_1['受试者编号']=df_入院时间_1['受试者编号'].apply(lambda x: str(x)+'_a')\n",
    "df_入院时间_1=df_入院时间_1[['受试者编号','住院日期']]"
   ]
  },
  {
   "cell_type": "code",
   "execution_count": 40,
   "metadata": {},
   "outputs": [],
   "source": [
    "# 心内科入院时间\n",
    "df_入院时间_2 = pd.read_excel(project_path+'/data/raw_data/导出全部CRF表数据-心内科1021.xlsx',\n",
    "                            sheet_name='VD_住院日期',\n",
    "                           header=1,)  # 指定第2行作为标题行\n",
    "#                            skiprows=[1,1,1])  # 跳过第几行)\n",
    "\n",
    "df_入院时间_2['受试者编号']=df_入院时间_2['受试者编号'].apply(lambda x: str(x)+'_b')\n",
    "df_入院时间_2=df_入院时间_2[['受试者编号','住院日期']]"
   ]
  },
  {
   "cell_type": "code",
   "execution_count": 41,
   "metadata": {},
   "outputs": [],
   "source": [
    "df_入院时间=pd.concat([df_入院时间_1,df_入院时间_2],axis=0)"
   ]
  },
  {
   "cell_type": "code",
   "execution_count": 42,
   "metadata": {},
   "outputs": [
    {
     "data": {
      "text/html": [
       "<div>\n",
       "<style scoped>\n",
       "    .dataframe tbody tr th:only-of-type {\n",
       "        vertical-align: middle;\n",
       "    }\n",
       "\n",
       "    .dataframe tbody tr th {\n",
       "        vertical-align: top;\n",
       "    }\n",
       "\n",
       "    .dataframe thead th {\n",
       "        text-align: right;\n",
       "    }\n",
       "</style>\n",
       "<table border=\"1\" class=\"dataframe\">\n",
       "  <thead>\n",
       "    <tr style=\"text-align: right;\">\n",
       "      <th></th>\n",
       "      <th>受试者编号</th>\n",
       "      <th>住院日期</th>\n",
       "    </tr>\n",
       "  </thead>\n",
       "  <tbody>\n",
       "    <tr>\n",
       "      <th>0</th>\n",
       "      <td>90001_a</td>\n",
       "      <td>2018-04-03</td>\n",
       "    </tr>\n",
       "    <tr>\n",
       "      <th>1</th>\n",
       "      <td>90002_a</td>\n",
       "      <td>2018-07-17</td>\n",
       "    </tr>\n",
       "    <tr>\n",
       "      <th>2</th>\n",
       "      <td>90003_a</td>\n",
       "      <td>2018-01-31</td>\n",
       "    </tr>\n",
       "    <tr>\n",
       "      <th>3</th>\n",
       "      <td>90004_a</td>\n",
       "      <td>2018-01-26</td>\n",
       "    </tr>\n",
       "    <tr>\n",
       "      <th>4</th>\n",
       "      <td>90005_a</td>\n",
       "      <td>2018-02-07</td>\n",
       "    </tr>\n",
       "    <tr>\n",
       "      <th>...</th>\n",
       "      <td>...</td>\n",
       "      <td>...</td>\n",
       "    </tr>\n",
       "    <tr>\n",
       "      <th>100</th>\n",
       "      <td>90101_b</td>\n",
       "      <td>2019-05-08</td>\n",
       "    </tr>\n",
       "    <tr>\n",
       "      <th>101</th>\n",
       "      <td>90102_b</td>\n",
       "      <td>2019-01-18</td>\n",
       "    </tr>\n",
       "    <tr>\n",
       "      <th>102</th>\n",
       "      <td>90103_b</td>\n",
       "      <td>2019-08-15</td>\n",
       "    </tr>\n",
       "    <tr>\n",
       "      <th>103</th>\n",
       "      <td>90104_b</td>\n",
       "      <td>2019-08-05</td>\n",
       "    </tr>\n",
       "    <tr>\n",
       "      <th>104</th>\n",
       "      <td>90105_b</td>\n",
       "      <td>2019-08-22</td>\n",
       "    </tr>\n",
       "  </tbody>\n",
       "</table>\n",
       "<p>750 rows × 2 columns</p>\n",
       "</div>"
      ],
      "text/plain": [
       "       受试者编号        住院日期\n",
       "0    90001_a  2018-04-03\n",
       "1    90002_a  2018-07-17\n",
       "2    90003_a  2018-01-31\n",
       "3    90004_a  2018-01-26\n",
       "4    90005_a  2018-02-07\n",
       "..       ...         ...\n",
       "100  90101_b  2019-05-08\n",
       "101  90102_b  2019-01-18\n",
       "102  90103_b  2019-08-15\n",
       "103  90104_b  2019-08-05\n",
       "104  90105_b  2019-08-22\n",
       "\n",
       "[750 rows x 2 columns]"
      ]
     },
     "execution_count": 42,
     "metadata": {},
     "output_type": "execute_result"
    }
   ],
   "source": [
    "df_入院时间"
   ]
  },
  {
   "cell_type": "code",
   "execution_count": 116,
   "metadata": {},
   "outputs": [],
   "source": [
    "df_入院时间.to_excel(project_path+'/data/processed_data/df_1.4.1_入院时间.xlsx')"
   ]
  },
  {
   "cell_type": "markdown",
   "metadata": {},
   "source": [
    "### 出院时间"
   ]
  },
  {
   "cell_type": "code",
   "execution_count": 221,
   "metadata": {},
   "outputs": [],
   "source": [
    "# 其他科 VD_住院日期\n",
    "df_出院时间_1 = pd.read_excel(project_path+'/data/raw_data/导出全部CRF表数据-其他科1021.xlsx',\n",
    "                            sheet_name='DS_出院情况',\n",
    "                           header=1,)  # 指定第2行作为标题行\n",
    "#                            skiprows=[1,1,1])  # 跳过第1行\n",
    "\n",
    "df_出院时间_1['受试者编号']=df_出院时间_1['受试者编号'].apply(lambda x: str(x)+'_a')\n",
    "df_出院时间_1=df_出院时间_1[['受试者编号','完成日期']]"
   ]
  },
  {
   "cell_type": "code",
   "execution_count": 222,
   "metadata": {},
   "outputs": [],
   "source": [
    "# 心内科入院时间\n",
    "df_出院时间_2 = pd.read_excel(project_path+'/data/raw_data/导出全部CRF表数据-心内科1021.xlsx',\n",
    "                            sheet_name='DS_出院情况',\n",
    "                           header=1,)  # 指定第2行作为标题行\n",
    "#                            skiprows=[1,1,1])  # 跳过第几行)\n",
    "\n",
    "df_出院时间_2['受试者编号']=df_出院时间_2['受试者编号'].apply(lambda x: str(x)+'_b')\n",
    "df_出院时间_2=df_出院时间_2[['受试者编号','完成日期']]"
   ]
  },
  {
   "cell_type": "code",
   "execution_count": 223,
   "metadata": {},
   "outputs": [],
   "source": [
    "df_出院时间 = pd.concat([df_出院时间_1,df_出院时间_2],axis=0)"
   ]
  },
  {
   "cell_type": "markdown",
   "metadata": {},
   "source": [
    "### 合并住院时间"
   ]
  },
  {
   "cell_type": "code",
   "execution_count": 243,
   "metadata": {},
   "outputs": [],
   "source": [
    "df_住院时间 = pd.merge(df_入院时间,df_出院时间,on='受试者编号',how='left')"
   ]
  },
  {
   "cell_type": "code",
   "execution_count": 244,
   "metadata": {},
   "outputs": [
    {
     "data": {
      "text/plain": [
       "(750, 3)"
      ]
     },
     "execution_count": 244,
     "metadata": {},
     "output_type": "execute_result"
    }
   ],
   "source": [
    "df_住院时间.shape"
   ]
  },
  {
   "cell_type": "code",
   "execution_count": 226,
   "metadata": {
    "collapsed": true
   },
   "outputs": [
    {
     "ename": "PermissionError",
     "evalue": "[Errno 13] Permission denied: 'D:\\\\PycharmProjects\\\\SUP_xinhua_hospital/data/processed_data/df_1.4.3_合并出院时间.xlsx'",
     "output_type": "error",
     "traceback": [
      "\u001b[1;31m---------------------------------------------------------------------------\u001b[0m",
      "\u001b[1;31mPermissionError\u001b[0m                           Traceback (most recent call last)",
      "\u001b[1;32m<ipython-input-226-30e2f77c8d8b>\u001b[0m in \u001b[0;36m<module>\u001b[1;34m\u001b[0m\n\u001b[1;32m----> 1\u001b[1;33m \u001b[0mdf_住院时间\u001b[0m\u001b[1;33m.\u001b[0m\u001b[0mto_excel\u001b[0m\u001b[1;33m(\u001b[0m\u001b[0mproject_path\u001b[0m\u001b[1;33m+\u001b[0m\u001b[1;34m'/data/processed_data/df_1.4.3_合并出院时间.xlsx'\u001b[0m\u001b[1;33m)\u001b[0m\u001b[1;33m\u001b[0m\u001b[1;33m\u001b[0m\u001b[0m\n\u001b[0m",
      "\u001b[1;32mD:\\Anaconda3\\lib\\site-packages\\pandas\\core\\generic.py\u001b[0m in \u001b[0;36mto_excel\u001b[1;34m(self, excel_writer, sheet_name, na_rep, float_format, columns, header, index, index_label, startrow, startcol, engine, merge_cells, encoding, inf_rep, verbose, freeze_panes)\u001b[0m\n\u001b[0;32m   2030\u001b[0m             \u001b[0mstartcol\u001b[0m\u001b[1;33m=\u001b[0m\u001b[0mstartcol\u001b[0m\u001b[1;33m,\u001b[0m\u001b[1;33m\u001b[0m\u001b[1;33m\u001b[0m\u001b[0m\n\u001b[0;32m   2031\u001b[0m             \u001b[0mfreeze_panes\u001b[0m\u001b[1;33m=\u001b[0m\u001b[0mfreeze_panes\u001b[0m\u001b[1;33m,\u001b[0m\u001b[1;33m\u001b[0m\u001b[1;33m\u001b[0m\u001b[0m\n\u001b[1;32m-> 2032\u001b[1;33m             \u001b[0mengine\u001b[0m\u001b[1;33m=\u001b[0m\u001b[0mengine\u001b[0m\u001b[1;33m,\u001b[0m\u001b[1;33m\u001b[0m\u001b[1;33m\u001b[0m\u001b[0m\n\u001b[0m\u001b[0;32m   2033\u001b[0m         )\n\u001b[0;32m   2034\u001b[0m \u001b[1;33m\u001b[0m\u001b[0m\n",
      "\u001b[1;32mD:\\Anaconda3\\lib\\site-packages\\pandas\\io\\formats\\excel.py\u001b[0m in \u001b[0;36mwrite\u001b[1;34m(self, writer, sheet_name, startrow, startcol, freeze_panes, engine)\u001b[0m\n\u001b[0;32m    740\u001b[0m         )\n\u001b[0;32m    741\u001b[0m         \u001b[1;32mif\u001b[0m \u001b[0mneed_save\u001b[0m\u001b[1;33m:\u001b[0m\u001b[1;33m\u001b[0m\u001b[1;33m\u001b[0m\u001b[0m\n\u001b[1;32m--> 742\u001b[1;33m             \u001b[0mwriter\u001b[0m\u001b[1;33m.\u001b[0m\u001b[0msave\u001b[0m\u001b[1;33m(\u001b[0m\u001b[1;33m)\u001b[0m\u001b[1;33m\u001b[0m\u001b[1;33m\u001b[0m\u001b[0m\n\u001b[0m",
      "\u001b[1;32mD:\\Anaconda3\\lib\\site-packages\\pandas\\io\\excel\\_xlsxwriter.py\u001b[0m in \u001b[0;36msave\u001b[1;34m(self)\u001b[0m\n\u001b[0;32m    191\u001b[0m         \u001b[0mSave\u001b[0m \u001b[0mworkbook\u001b[0m \u001b[0mto\u001b[0m \u001b[0mdisk\u001b[0m\u001b[1;33m.\u001b[0m\u001b[1;33m\u001b[0m\u001b[1;33m\u001b[0m\u001b[0m\n\u001b[0;32m    192\u001b[0m         \"\"\"\n\u001b[1;32m--> 193\u001b[1;33m         \u001b[1;32mreturn\u001b[0m \u001b[0mself\u001b[0m\u001b[1;33m.\u001b[0m\u001b[0mbook\u001b[0m\u001b[1;33m.\u001b[0m\u001b[0mclose\u001b[0m\u001b[1;33m(\u001b[0m\u001b[1;33m)\u001b[0m\u001b[1;33m\u001b[0m\u001b[1;33m\u001b[0m\u001b[0m\n\u001b[0m\u001b[0;32m    194\u001b[0m \u001b[1;33m\u001b[0m\u001b[0m\n\u001b[0;32m    195\u001b[0m     def write_cells(\n",
      "\u001b[1;32mD:\\Anaconda3\\lib\\site-packages\\xlsxwriter\\workbook.py\u001b[0m in \u001b[0;36mclose\u001b[1;34m(self)\u001b[0m\n\u001b[0;32m    304\u001b[0m         \u001b[1;32mif\u001b[0m \u001b[1;32mnot\u001b[0m \u001b[0mself\u001b[0m\u001b[1;33m.\u001b[0m\u001b[0mfileclosed\u001b[0m\u001b[1;33m:\u001b[0m\u001b[1;33m\u001b[0m\u001b[1;33m\u001b[0m\u001b[0m\n\u001b[0;32m    305\u001b[0m             \u001b[0mself\u001b[0m\u001b[1;33m.\u001b[0m\u001b[0mfileclosed\u001b[0m \u001b[1;33m=\u001b[0m \u001b[1;36m1\u001b[0m\u001b[1;33m\u001b[0m\u001b[1;33m\u001b[0m\u001b[0m\n\u001b[1;32m--> 306\u001b[1;33m             \u001b[0mself\u001b[0m\u001b[1;33m.\u001b[0m\u001b[0m_store_workbook\u001b[0m\u001b[1;33m(\u001b[0m\u001b[1;33m)\u001b[0m\u001b[1;33m\u001b[0m\u001b[1;33m\u001b[0m\u001b[0m\n\u001b[0m\u001b[0;32m    307\u001b[0m \u001b[1;33m\u001b[0m\u001b[0m\n\u001b[0;32m    308\u001b[0m     \u001b[1;32mdef\u001b[0m \u001b[0mset_size\u001b[0m\u001b[1;33m(\u001b[0m\u001b[0mself\u001b[0m\u001b[1;33m,\u001b[0m \u001b[0mwidth\u001b[0m\u001b[1;33m,\u001b[0m \u001b[0mheight\u001b[0m\u001b[1;33m)\u001b[0m\u001b[1;33m:\u001b[0m\u001b[1;33m\u001b[0m\u001b[1;33m\u001b[0m\u001b[0m\n",
      "\u001b[1;32mD:\\Anaconda3\\lib\\site-packages\\xlsxwriter\\workbook.py\u001b[0m in \u001b[0;36m_store_workbook\u001b[1;34m(self)\u001b[0m\n\u001b[0;32m    653\u001b[0m \u001b[1;33m\u001b[0m\u001b[0m\n\u001b[0;32m    654\u001b[0m         xlsx_file = ZipFile(self.filename, \"w\", compression=ZIP_DEFLATED,\n\u001b[1;32m--> 655\u001b[1;33m                             allowZip64=self.allow_zip64)\n\u001b[0m\u001b[0;32m    656\u001b[0m \u001b[1;33m\u001b[0m\u001b[0m\n\u001b[0;32m    657\u001b[0m         \u001b[1;31m# Add XML sub-files to the Zip file with their Excel filename.\u001b[0m\u001b[1;33m\u001b[0m\u001b[1;33m\u001b[0m\u001b[1;33m\u001b[0m\u001b[0m\n",
      "\u001b[1;32mD:\\Anaconda3\\lib\\zipfile.py\u001b[0m in \u001b[0;36m__init__\u001b[1;34m(self, file, mode, compression, allowZip64)\u001b[0m\n\u001b[0;32m   1111\u001b[0m             \u001b[1;32mwhile\u001b[0m \u001b[1;32mTrue\u001b[0m\u001b[1;33m:\u001b[0m\u001b[1;33m\u001b[0m\u001b[1;33m\u001b[0m\u001b[0m\n\u001b[0;32m   1112\u001b[0m                 \u001b[1;32mtry\u001b[0m\u001b[1;33m:\u001b[0m\u001b[1;33m\u001b[0m\u001b[1;33m\u001b[0m\u001b[0m\n\u001b[1;32m-> 1113\u001b[1;33m                     \u001b[0mself\u001b[0m\u001b[1;33m.\u001b[0m\u001b[0mfp\u001b[0m \u001b[1;33m=\u001b[0m \u001b[0mio\u001b[0m\u001b[1;33m.\u001b[0m\u001b[0mopen\u001b[0m\u001b[1;33m(\u001b[0m\u001b[0mfile\u001b[0m\u001b[1;33m,\u001b[0m \u001b[0mfilemode\u001b[0m\u001b[1;33m)\u001b[0m\u001b[1;33m\u001b[0m\u001b[1;33m\u001b[0m\u001b[0m\n\u001b[0m\u001b[0;32m   1114\u001b[0m                 \u001b[1;32mexcept\u001b[0m \u001b[0mOSError\u001b[0m\u001b[1;33m:\u001b[0m\u001b[1;33m\u001b[0m\u001b[1;33m\u001b[0m\u001b[0m\n\u001b[0;32m   1115\u001b[0m                     \u001b[1;32mif\u001b[0m \u001b[0mfilemode\u001b[0m \u001b[1;32min\u001b[0m \u001b[0mmodeDict\u001b[0m\u001b[1;33m:\u001b[0m\u001b[1;33m\u001b[0m\u001b[1;33m\u001b[0m\u001b[0m\n",
      "\u001b[1;31mPermissionError\u001b[0m: [Errno 13] Permission denied: 'D:\\\\PycharmProjects\\\\SUP_xinhua_hospital/data/processed_data/df_1.4.3_合并出院时间.xlsx'"
     ]
    }
   ],
   "source": [
    "df_住院时间.to_excel(project_path+'/data/processed_data/df_1.4.3_合并出院时间.xlsx')"
   ]
  },
  {
   "cell_type": "markdown",
   "metadata": {},
   "source": [
    "### 并入用药-计算住院时长"
   ]
  },
  {
   "cell_type": "code",
   "execution_count": 260,
   "metadata": {},
   "outputs": [],
   "source": [
    "# 并入住院时间\n",
    "df_SUP_inp=pd.merge(df_SUP_drug,df_住院时间,on='受试者编号',how='left')"
   ]
  },
  {
   "cell_type": "code",
   "execution_count": 261,
   "metadata": {},
   "outputs": [
    {
     "data": {
      "text/plain": [
       "Index(['受试者编号', '用药开始时间', '用药结束时间', '用药天数', 'EXDOSFRQ', 'EXDSTXT', '日计量',\n",
       "       '住院日期', '完成日期'],\n",
       "      dtype='object')"
      ]
     },
     "execution_count": 261,
     "metadata": {},
     "output_type": "execute_result"
    }
   ],
   "source": [
    "df_SUP_inp.columns"
   ]
  },
  {
   "cell_type": "code",
   "execution_count": 268,
   "metadata": {},
   "outputs": [],
   "source": [
    "aaa=df_SUP_inp[df_SUP_inp['住院日期'].isnull()]\n",
    "bbb=df_SUP_inp[df_SUP_inp['住院日期'].notnull()]\n",
    "aaa['住院日期']=aaa['用药开始时间']\n",
    "df_SUP_inp=pd.concat([aaa,bbb],axis=0)\n",
    "df_SUP_inp=df_SUP_inp.sort_values(by=['受试者编号','用药开始时间'])\n",
    "df_SUP_inp=df_SUP_inp.reset_index(drop=True)"
   ]
  },
  {
   "cell_type": "code",
   "execution_count": 269,
   "metadata": {},
   "outputs": [
    {
     "data": {
      "text/plain": [
       "受试者编号       False\n",
       "用药开始时间      False\n",
       "用药结束时间      False\n",
       "用药天数        False\n",
       "EXDOSFRQ    False\n",
       "EXDSTXT     False\n",
       "日计量         False\n",
       "住院日期        False\n",
       "完成日期         True\n",
       "dtype: bool"
      ]
     },
     "execution_count": 269,
     "metadata": {},
     "output_type": "execute_result"
    }
   ],
   "source": [
    "df_SUP_inp.isnull().any()"
   ]
  },
  {
   "cell_type": "code",
   "execution_count": 270,
   "metadata": {},
   "outputs": [],
   "source": [
    "df_SUP_inp.to_excel(project_path+'/data/processed_data/df_1.4.4_temp_补充入院时间.xlsx')"
   ]
  },
  {
   "cell_type": "code",
   "execution_count": 271,
   "metadata": {},
   "outputs": [],
   "source": [
    "aaa=df_SUP_inp[df_SUP_inp['完成日期'].isnull()]\n",
    "bbb=df_SUP_inp[df_SUP_inp['完成日期'].notnull()]\n",
    "aaa['完成日期']=aaa['用药开始时间']\n",
    "df_SUP_inp=pd.concat([aaa,bbb],axis=0)\n",
    "df_SUP_inp=df_SUP_inp.sort_values(by=['受试者编号','用药开始时间'])\n",
    "df_SUP_inp=df_SUP_inp.reset_index(drop=True)"
   ]
  },
  {
   "cell_type": "code",
   "execution_count": 272,
   "metadata": {},
   "outputs": [
    {
     "data": {
      "text/plain": [
       "受试者编号       False\n",
       "用药开始时间      False\n",
       "用药结束时间      False\n",
       "用药天数        False\n",
       "EXDOSFRQ    False\n",
       "EXDSTXT     False\n",
       "日计量         False\n",
       "住院日期        False\n",
       "完成日期        False\n",
       "dtype: bool"
      ]
     },
     "execution_count": 272,
     "metadata": {},
     "output_type": "execute_result"
    }
   ],
   "source": [
    "df_SUP_inp.isnull().any()"
   ]
  },
  {
   "cell_type": "code",
   "execution_count": 274,
   "metadata": {},
   "outputs": [],
   "source": [
    "df_SUP_inp.to_excel(project_path+'/data/processed_data/df_1.4.4_temp_补充出院时间.xlsx')"
   ]
  },
  {
   "cell_type": "code",
   "execution_count": 278,
   "metadata": {},
   "outputs": [],
   "source": [
    "df_SUP_inp['住院时长']=(pd.to_datetime(df_SUP_inp['完成日期']) - pd.to_datetime(df_SUP_inp['住院日期']))\n",
    "df_SUP_inp['住院时长']=df_SUP_inp['住院时长'].apply(lambda x:x.days+1)"
   ]
  },
  {
   "cell_type": "code",
   "execution_count": 281,
   "metadata": {},
   "outputs": [
    {
     "data": {
      "text/plain": [
       "(740, 10)"
      ]
     },
     "execution_count": 281,
     "metadata": {},
     "output_type": "execute_result"
    }
   ],
   "source": [
    "df_SUP_inp.shape"
   ]
  },
  {
   "cell_type": "code",
   "execution_count": 280,
   "metadata": {},
   "outputs": [],
   "source": [
    "df_SUP_inp.to_excel(project_path+'/data/processed_data/df_1.4.4_计算住院时长.xlsx')"
   ]
  },
  {
   "cell_type": "markdown",
   "metadata": {},
   "source": [
    "### 住院前3天内用药筛选"
   ]
  },
  {
   "cell_type": "code",
   "execution_count": 331,
   "metadata": {},
   "outputs": [],
   "source": [
    "# 统计出院前1天的用药\n",
    "df_SUP_oup_1d=df_SUP_inp[(pd.to_datetime(df_SUP_inp['用药结束时间'])>=pd.to_datetime(df_SUP_inp['完成日期'])-datetime.timedelta(days=1))&\n",
    "    (pd.to_datetime(df_SUP_inp['用药开始时间'])<=pd.to_datetime(df_SUP_inp['完成日期'])-datetime.timedelta(days=1))]"
   ]
  },
  {
   "cell_type": "code",
   "execution_count": 332,
   "metadata": {},
   "outputs": [
    {
     "data": {
      "text/plain": [
       "(392, 10)"
      ]
     },
     "execution_count": 332,
     "metadata": {},
     "output_type": "execute_result"
    }
   ],
   "source": [
    "df_SUP_oup_1d.shape"
   ]
  },
  {
   "cell_type": "code",
   "execution_count": 333,
   "metadata": {},
   "outputs": [],
   "source": [
    "# 统计出院前2天的用药\n",
    "df_SUP_oup_2d=df_SUP_inp[(pd.to_datetime(df_SUP_inp['用药结束时间'])>=pd.to_datetime(df_SUP_inp['完成日期'])-datetime.timedelta(days=1))&\n",
    "    (pd.to_datetime(df_SUP_inp['用药开始时间'])<=pd.to_datetime(df_SUP_inp['完成日期'])-datetime.timedelta(days=2))]"
   ]
  },
  {
   "cell_type": "code",
   "execution_count": 334,
   "metadata": {},
   "outputs": [
    {
     "data": {
      "text/plain": [
       "(382, 10)"
      ]
     },
     "execution_count": 334,
     "metadata": {},
     "output_type": "execute_result"
    }
   ],
   "source": [
    "df_SUP_oup_2d.shape"
   ]
  },
  {
   "cell_type": "code",
   "execution_count": 335,
   "metadata": {},
   "outputs": [],
   "source": [
    "# 统计出院前3天的用药\n",
    "df_SUP_oup_3d=df_SUP_inp[(pd.to_datetime(df_SUP_inp['用药结束时间'])>=pd.to_datetime(df_SUP_inp['完成日期'])-datetime.timedelta(days=1))&\n",
    "    (pd.to_datetime(df_SUP_inp['用药开始时间'])<=pd.to_datetime(df_SUP_inp['完成日期'])-datetime.timedelta(days=3))]"
   ]
  },
  {
   "cell_type": "code",
   "execution_count": 336,
   "metadata": {},
   "outputs": [
    {
     "data": {
      "text/plain": [
       "(371, 10)"
      ]
     },
     "execution_count": 336,
     "metadata": {},
     "output_type": "execute_result"
    }
   ],
   "source": [
    "df_SUP_oup_3d.shape"
   ]
  },
  {
   "cell_type": "code",
   "execution_count": 338,
   "metadata": {
    "scrolled": true
   },
   "outputs": [],
   "source": [
    "df_SUP_oup_3d.to_excel(project_path+'/data/processed_data/df_1.4.5_用药_出院_3d.xlsx')"
   ]
  },
  {
   "cell_type": "code",
   "execution_count": 339,
   "metadata": {},
   "outputs": [],
   "source": [
    "# 统计出院前4天的用药\n",
    "df_SUP_oup_4d=df_SUP_inp[(pd.to_datetime(df_SUP_inp['用药结束时间'])>=pd.to_datetime(df_SUP_inp['完成日期'])-datetime.timedelta(days=1))&\n",
    "    (pd.to_datetime(df_SUP_inp['用药开始时间'])<=pd.to_datetime(df_SUP_inp['完成日期'])-datetime.timedelta(days=4))]"
   ]
  },
  {
   "cell_type": "code",
   "execution_count": 340,
   "metadata": {},
   "outputs": [
    {
     "data": {
      "text/plain": [
       "(353, 10)"
      ]
     },
     "execution_count": 340,
     "metadata": {},
     "output_type": "execute_result"
    }
   ],
   "source": [
    "df_SUP_oup_4d.shape"
   ]
  },
  {
   "cell_type": "markdown",
   "metadata": {},
   "source": [
    "## 提取人口学特征"
   ]
  },
  {
   "cell_type": "code",
   "execution_count": 309,
   "metadata": {},
   "outputs": [],
   "source": [
    "df_former_processed_data=pd.read_excel(project_path+'/data/processed_data/数据清洗结果.xlsx')"
   ]
  },
  {
   "cell_type": "code",
   "execution_count": 314,
   "metadata": {},
   "outputs": [],
   "source": [
    "df_popu=df_former_processed_data[['受试者编号','年龄','性别']]\n",
    "# 男-1，女-0\n",
    "df_popu['性别']=df_popu['性别'].apply(lambda x: 1 if x==0 else 0)"
   ]
  },
  {
   "cell_type": "code",
   "execution_count": 315,
   "metadata": {},
   "outputs": [
    {
     "data": {
      "text/html": [
       "<div>\n",
       "<style scoped>\n",
       "    .dataframe tbody tr th:only-of-type {\n",
       "        vertical-align: middle;\n",
       "    }\n",
       "\n",
       "    .dataframe tbody tr th {\n",
       "        vertical-align: top;\n",
       "    }\n",
       "\n",
       "    .dataframe thead th {\n",
       "        text-align: right;\n",
       "    }\n",
       "</style>\n",
       "<table border=\"1\" class=\"dataframe\">\n",
       "  <thead>\n",
       "    <tr style=\"text-align: right;\">\n",
       "      <th></th>\n",
       "      <th>受试者编号</th>\n",
       "      <th>年龄</th>\n",
       "      <th>性别</th>\n",
       "    </tr>\n",
       "  </thead>\n",
       "  <tbody>\n",
       "    <tr>\n",
       "      <th>0</th>\n",
       "      <td>90001_a</td>\n",
       "      <td>61</td>\n",
       "      <td>0</td>\n",
       "    </tr>\n",
       "    <tr>\n",
       "      <th>1</th>\n",
       "      <td>90003_a</td>\n",
       "      <td>53</td>\n",
       "      <td>1</td>\n",
       "    </tr>\n",
       "    <tr>\n",
       "      <th>2</th>\n",
       "      <td>90004_a</td>\n",
       "      <td>70</td>\n",
       "      <td>1</td>\n",
       "    </tr>\n",
       "    <tr>\n",
       "      <th>3</th>\n",
       "      <td>90005_a</td>\n",
       "      <td>70</td>\n",
       "      <td>1</td>\n",
       "    </tr>\n",
       "    <tr>\n",
       "      <th>4</th>\n",
       "      <td>90006_a</td>\n",
       "      <td>79</td>\n",
       "      <td>0</td>\n",
       "    </tr>\n",
       "    <tr>\n",
       "      <th>...</th>\n",
       "      <td>...</td>\n",
       "      <td>...</td>\n",
       "      <td>...</td>\n",
       "    </tr>\n",
       "    <tr>\n",
       "      <th>732</th>\n",
       "      <td>90100_b</td>\n",
       "      <td>85</td>\n",
       "      <td>1</td>\n",
       "    </tr>\n",
       "    <tr>\n",
       "      <th>733</th>\n",
       "      <td>90101_b</td>\n",
       "      <td>70</td>\n",
       "      <td>0</td>\n",
       "    </tr>\n",
       "    <tr>\n",
       "      <th>734</th>\n",
       "      <td>90102_b</td>\n",
       "      <td>64</td>\n",
       "      <td>1</td>\n",
       "    </tr>\n",
       "    <tr>\n",
       "      <th>735</th>\n",
       "      <td>90104_b</td>\n",
       "      <td>82</td>\n",
       "      <td>0</td>\n",
       "    </tr>\n",
       "    <tr>\n",
       "      <th>736</th>\n",
       "      <td>90105_b</td>\n",
       "      <td>73</td>\n",
       "      <td>1</td>\n",
       "    </tr>\n",
       "  </tbody>\n",
       "</table>\n",
       "<p>737 rows × 3 columns</p>\n",
       "</div>"
      ],
      "text/plain": [
       "       受试者编号  年龄  性别\n",
       "0    90001_a  61   0\n",
       "1    90003_a  53   1\n",
       "2    90004_a  70   1\n",
       "3    90005_a  70   1\n",
       "4    90006_a  79   0\n",
       "..       ...  ..  ..\n",
       "732  90100_b  85   1\n",
       "733  90101_b  70   0\n",
       "734  90102_b  64   1\n",
       "735  90104_b  82   0\n",
       "736  90105_b  73   1\n",
       "\n",
       "[737 rows x 3 columns]"
      ]
     },
     "execution_count": 315,
     "metadata": {},
     "output_type": "execute_result"
    }
   ],
   "source": [
    "df_popu"
   ]
  },
  {
   "cell_type": "code",
   "execution_count": 316,
   "metadata": {},
   "outputs": [],
   "source": [
    "df_SUP_popu=pd.merge(df_SUP_oup_3d,df_popu,on='受试者编号',how='left')"
   ]
  },
  {
   "cell_type": "code",
   "execution_count": 317,
   "metadata": {},
   "outputs": [],
   "source": [
    "df_SUP_popu.to_excel(project_path+'/data/processed_data/df_1.5_df_SUP_popu.xlsx')"
   ]
  },
  {
   "cell_type": "markdown",
   "metadata": {},
   "source": [
    "## 提取结局事件"
   ]
  },
  {
   "cell_type": "markdown",
   "metadata": {},
   "source": [
    "### 提取出院诊断"
   ]
  },
  {
   "cell_type": "code",
   "execution_count": 341,
   "metadata": {},
   "outputs": [],
   "source": [
    "# 其他科\n",
    "df_oup_diagnosis_1 = pd.read_excel(project_path+'/data/raw_data/导出全部CRF表数据-其他科1021.xlsx',\n",
    "                            sheet_name='DS_出院情况',\n",
    "                           header=1,)  # 指定第2行作为标题行\n",
    "#                            skiprows=[1,1,1])  # 跳过第1行\n",
    "\n",
    "# 标记受试者编号\n",
    "df_oup_diagnosis_1['受试者编号']=df_oup_diagnosis_1['受试者编号'].apply(lambda x: str(x)+'_a')\n",
    "\n",
    "# 提取有效字段\n",
    "df_oup_diagnosis_1=df_oup_diagnosis_1[['受试者编号','出院诊断','主要疾病转归_描述']]"
   ]
  },
  {
   "cell_type": "code",
   "execution_count": 342,
   "metadata": {},
   "outputs": [],
   "source": [
    "# 心内科\n",
    "df_oup_diagnosis_2 = pd.read_excel(project_path+'/data/raw_data//导出全部CRF表数据-心内科1021.xlsx',\n",
    "                            sheet_name='DS_出院情况',\n",
    "                           header=1,)  # 指定第2行作为标题行\n",
    "#                            skiprows=[1,1,1])  # 跳过第1行\n",
    "\n",
    "# 标记受试者编号\n",
    "df_oup_diagnosis_2['受试者编号']=df_oup_diagnosis_2['受试者编号'].apply(lambda x: str(x)+'_b')\n",
    "# 提取有效字段\n",
    "df_oup_diagnosis_2=df_oup_diagnosis_2[['受试者编号','出院诊断','主要疾病转归_描述']]"
   ]
  },
  {
   "cell_type": "code",
   "execution_count": 343,
   "metadata": {},
   "outputs": [],
   "source": [
    "# 合并其他科和心内科联合用药\n",
    "df_oup_diagnosis=pd.concat([df_oup_diagnosis_1,df_oup_diagnosis_2])\n",
    "df_oup_diagnosis=df_oup_diagnosis[df_oup_diagnosis['主要疾病转归_描述'].notnull()]"
   ]
  },
  {
   "cell_type": "code",
   "execution_count": 344,
   "metadata": {},
   "outputs": [
    {
     "data": {
      "text/plain": [
       "(741, 3)"
      ]
     },
     "execution_count": 344,
     "metadata": {},
     "output_type": "execute_result"
    }
   ],
   "source": [
    "df_oup_diagnosis.shape"
   ]
  },
  {
   "cell_type": "code",
   "execution_count": 346,
   "metadata": {},
   "outputs": [
    {
     "data": {
      "text/plain": [
       "好转    671\n",
       "致死     39\n",
       "未愈     30\n",
       "治愈      1\n",
       "Name: 主要疾病转归_描述, dtype: int64"
      ]
     },
     "execution_count": 346,
     "metadata": {},
     "output_type": "execute_result"
    }
   ],
   "source": [
    "df_oup_diagnosis['主要疾病转归_描述'].value_counts()"
   ]
  },
  {
   "cell_type": "code",
   "execution_count": 323,
   "metadata": {},
   "outputs": [],
   "source": [
    "df_oup_diagnosis.to_excel(project_path+'/data/processed_data/df_1.6.1_出院诊断数据.xlsx')"
   ]
  },
  {
   "cell_type": "markdown",
   "metadata": {},
   "source": [
    "### 并入出院诊断"
   ]
  },
  {
   "cell_type": "code",
   "execution_count": 325,
   "metadata": {},
   "outputs": [],
   "source": [
    "df_oup_diagnosis.rename(columns={'主要疾病转归_描述':'label'},inplace=True)\n",
    "df_oup_diagnosis['label']=df_oup_diagnosis['label'].apply(lambda x: 1 if re.match('致死|未愈',x) else 0)"
   ]
  },
  {
   "cell_type": "code",
   "execution_count": 326,
   "metadata": {},
   "outputs": [],
   "source": [
    "df_SUP_diagnosis=pd.merge(df_SUP_popu,df_oup_diagnosis,on='受试者编号',how='inner')"
   ]
  },
  {
   "cell_type": "code",
   "execution_count": 327,
   "metadata": {},
   "outputs": [
    {
     "data": {
      "text/plain": [
       "(370, 14)"
      ]
     },
     "execution_count": 327,
     "metadata": {},
     "output_type": "execute_result"
    }
   ],
   "source": [
    "df_SUP_diagnosis.shape"
   ]
  },
  {
   "cell_type": "code",
   "execution_count": 348,
   "metadata": {},
   "outputs": [
    {
     "data": {
      "text/plain": [
       "0    349\n",
       "1     21\n",
       "Name: label, dtype: int64"
      ]
     },
     "execution_count": 348,
     "metadata": {},
     "output_type": "execute_result"
    }
   ],
   "source": [
    "df_SUP_diagnosis.label.value_counts()"
   ]
  },
  {
   "cell_type": "code",
   "execution_count": 328,
   "metadata": {},
   "outputs": [
    {
     "data": {
      "text/html": [
       "<div>\n",
       "<style scoped>\n",
       "    .dataframe tbody tr th:only-of-type {\n",
       "        vertical-align: middle;\n",
       "    }\n",
       "\n",
       "    .dataframe tbody tr th {\n",
       "        vertical-align: top;\n",
       "    }\n",
       "\n",
       "    .dataframe thead th {\n",
       "        text-align: right;\n",
       "    }\n",
       "</style>\n",
       "<table border=\"1\" class=\"dataframe\">\n",
       "  <thead>\n",
       "    <tr style=\"text-align: right;\">\n",
       "      <th></th>\n",
       "      <th>受试者编号</th>\n",
       "      <th>用药开始时间</th>\n",
       "      <th>用药结束时间</th>\n",
       "      <th>用药天数</th>\n",
       "      <th>EXDOSFRQ</th>\n",
       "      <th>EXDSTXT</th>\n",
       "      <th>日计量</th>\n",
       "      <th>住院日期</th>\n",
       "      <th>完成日期</th>\n",
       "      <th>住院时长</th>\n",
       "      <th>年龄</th>\n",
       "      <th>性别</th>\n",
       "      <th>出院诊断</th>\n",
       "      <th>label</th>\n",
       "    </tr>\n",
       "  </thead>\n",
       "  <tbody>\n",
       "    <tr>\n",
       "      <th>0</th>\n",
       "      <td>90001_a</td>\n",
       "      <td>2018-04-07</td>\n",
       "      <td>2018-04-15</td>\n",
       "      <td>9</td>\n",
       "      <td>1.0</td>\n",
       "      <td>30.0</td>\n",
       "      <td>30.0</td>\n",
       "      <td>2018-04-03</td>\n",
       "      <td>2018-04-15</td>\n",
       "      <td>13</td>\n",
       "      <td>61.0</td>\n",
       "      <td>0.0</td>\n",
       "      <td>大脑动脉狭窄脑梗死 NIHSS评分12分，高血压病（2级，很高危），2型糖尿病，脑梗死个人史...</td>\n",
       "      <td>0</td>\n",
       "    </tr>\n",
       "    <tr>\n",
       "      <th>1</th>\n",
       "      <td>90003_a</td>\n",
       "      <td>2018-03-12</td>\n",
       "      <td>2018-03-17</td>\n",
       "      <td>6</td>\n",
       "      <td>1.0</td>\n",
       "      <td>40.0</td>\n",
       "      <td>40.0</td>\n",
       "      <td>2018-01-31</td>\n",
       "      <td>2018-03-17</td>\n",
       "      <td>46</td>\n",
       "      <td>53.0</td>\n",
       "      <td>1.0</td>\n",
       "      <td>I型呼吸衰竭 重症肺炎 肺栓塞(中低危)心功能不全 高血压病I级(高危)肝功能不全 下肢静脉...</td>\n",
       "      <td>1</td>\n",
       "    </tr>\n",
       "    <tr>\n",
       "      <th>2</th>\n",
       "      <td>90018_b</td>\n",
       "      <td>2019-05-28</td>\n",
       "      <td>2019-06-04</td>\n",
       "      <td>8</td>\n",
       "      <td>1.0</td>\n",
       "      <td>60.0</td>\n",
       "      <td>40.0</td>\n",
       "      <td>2019-05-28</td>\n",
       "      <td>2019-06-05</td>\n",
       "      <td>9</td>\n",
       "      <td>51.0</td>\n",
       "      <td>1.0</td>\n",
       "      <td>急性下壁心肌梗塞,Killip I 级,急诊RCA-PCI术后,冠心病,高血压病(1级,很高危)</td>\n",
       "      <td>0</td>\n",
       "    </tr>\n",
       "    <tr>\n",
       "      <th>3</th>\n",
       "      <td>90021_b</td>\n",
       "      <td>2019-04-23</td>\n",
       "      <td>2019-05-05</td>\n",
       "      <td>13</td>\n",
       "      <td>1.0</td>\n",
       "      <td>60.0</td>\n",
       "      <td>30.0</td>\n",
       "      <td>2019-04-27</td>\n",
       "      <td>2019-05-06</td>\n",
       "      <td>10</td>\n",
       "      <td>62.0</td>\n",
       "      <td>1.0</td>\n",
       "      <td>急性前壁心肌梗塞,killip Ⅰ级,急诊PCI术后,冠心病 2型糖尿病 脑梗个人史</td>\n",
       "      <td>0</td>\n",
       "    </tr>\n",
       "    <tr>\n",
       "      <th>4</th>\n",
       "      <td>90025_a</td>\n",
       "      <td>2018-02-23</td>\n",
       "      <td>2018-03-02</td>\n",
       "      <td>8</td>\n",
       "      <td>1.0</td>\n",
       "      <td>40.0</td>\n",
       "      <td>40.0</td>\n",
       "      <td>1933-02-23</td>\n",
       "      <td>2018-03-02</td>\n",
       "      <td>31054</td>\n",
       "      <td>0.0</td>\n",
       "      <td>1.0</td>\n",
       "      <td>1.大脑动脉狭窄 2.肺部感染 慢支 3.高血压病3级,极高危; 4.2型糖尿病 5.脑梗死个人史</td>\n",
       "      <td>0</td>\n",
       "    </tr>\n",
       "  </tbody>\n",
       "</table>\n",
       "</div>"
      ],
      "text/plain": [
       "     受试者编号      用药开始时间      用药结束时间  用药天数  EXDOSFRQ  EXDSTXT   日计量        住院日期  \\\n",
       "0  90001_a  2018-04-07  2018-04-15     9       1.0     30.0  30.0  2018-04-03   \n",
       "1  90003_a  2018-03-12  2018-03-17     6       1.0     40.0  40.0  2018-01-31   \n",
       "2  90018_b  2019-05-28  2019-06-04     8       1.0     60.0  40.0  2019-05-28   \n",
       "3  90021_b  2019-04-23  2019-05-05    13       1.0     60.0  30.0  2019-04-27   \n",
       "4  90025_a  2018-02-23  2018-03-02     8       1.0     40.0  40.0  1933-02-23   \n",
       "\n",
       "         完成日期   住院时长    年龄   性别  \\\n",
       "0  2018-04-15     13  61.0  0.0   \n",
       "1  2018-03-17     46  53.0  1.0   \n",
       "2  2019-06-05      9  51.0  1.0   \n",
       "3  2019-05-06     10  62.0  1.0   \n",
       "4  2018-03-02  31054   0.0  1.0   \n",
       "\n",
       "                                                出院诊断  label  \n",
       "0  大脑动脉狭窄脑梗死 NIHSS评分12分，高血压病（2级，很高危），2型糖尿病，脑梗死个人史...      0  \n",
       "1  I型呼吸衰竭 重症肺炎 肺栓塞(中低危)心功能不全 高血压病I级(高危)肝功能不全 下肢静脉...      1  \n",
       "2   急性下壁心肌梗塞,Killip I 级,急诊RCA-PCI术后,冠心病,高血压病(1级,很高危)      0  \n",
       "3         急性前壁心肌梗塞,killip Ⅰ级,急诊PCI术后,冠心病 2型糖尿病 脑梗个人史      0  \n",
       "4  1.大脑动脉狭窄 2.肺部感染 慢支 3.高血压病3级,极高危; 4.2型糖尿病 5.脑梗死个人史      0  "
      ]
     },
     "execution_count": 328,
     "metadata": {},
     "output_type": "execute_result"
    }
   ],
   "source": [
    "df_SUP_diagnosis.head()"
   ]
  },
  {
   "cell_type": "code",
   "execution_count": 330,
   "metadata": {},
   "outputs": [],
   "source": [
    "df_SUP_diagnosis.to_excel(project_path+'/data/processed_data/df_1.6.2_并入出院诊断结局.xlsx')"
   ]
  },
  {
   "cell_type": "markdown",
   "metadata": {},
   "source": [
    "### 统计出院前几天用药的结局分布"
   ]
  },
  {
   "cell_type": "code",
   "execution_count": 350,
   "metadata": {},
   "outputs": [
    {
     "data": {
      "text/plain": [
       "好转    366\n",
       "未愈     21\n",
       "致死      4\n",
       "Name: 主要疾病转归_描述, dtype: int64"
      ]
     },
     "execution_count": 350,
     "metadata": {},
     "output_type": "execute_result"
    }
   ],
   "source": [
    "df_count_3d_1=df_oup_diagnosis[df_oup_diagnosis['受试者编号'].isin(df_SUP_oup_1d.受试者编号.unique())]\n",
    "\n",
    "df_count_3d_1['主要疾病转归_描述'].value_counts()"
   ]
  },
  {
   "cell_type": "code",
   "execution_count": 351,
   "metadata": {},
   "outputs": [
    {
     "data": {
      "text/plain": [
       "好转    358\n",
       "未愈     19\n",
       "致死      4\n",
       "Name: 主要疾病转归_描述, dtype: int64"
      ]
     },
     "execution_count": 351,
     "metadata": {},
     "output_type": "execute_result"
    }
   ],
   "source": [
    "df_count_3d_2=df_oup_diagnosis[df_oup_diagnosis['受试者编号'].isin(df_SUP_oup_2d.受试者编号.unique())]\n",
    "\n",
    "df_count_3d_2['主要疾病转归_描述'].value_counts()"
   ]
  },
  {
   "cell_type": "code",
   "execution_count": 352,
   "metadata": {},
   "outputs": [
    {
     "data": {
      "text/plain": [
       "好转    349\n",
       "未愈     17\n",
       "致死      4\n",
       "Name: 主要疾病转归_描述, dtype: int64"
      ]
     },
     "execution_count": 352,
     "metadata": {},
     "output_type": "execute_result"
    }
   ],
   "source": [
    "df_count_3d_3=df_oup_diagnosis[df_oup_diagnosis['受试者编号'].isin(df_SUP_oup_3d.受试者编号.unique())]\n",
    "\n",
    "df_count_3d_3['主要疾病转归_描述'].value_counts()"
   ]
  },
  {
   "cell_type": "code",
   "execution_count": 354,
   "metadata": {},
   "outputs": [],
   "source": [
    "df_count_3d_3.to_excel(project_path+'/data/processed_data/df_1.6.3_出院前3天的结局分布.xlsx')"
   ]
  },
  {
   "cell_type": "code",
   "execution_count": 353,
   "metadata": {},
   "outputs": [
    {
     "data": {
      "text/plain": [
       "好转    334\n",
       "未愈     15\n",
       "致死      3\n",
       "Name: 主要疾病转归_描述, dtype: int64"
      ]
     },
     "execution_count": 353,
     "metadata": {},
     "output_type": "execute_result"
    }
   ],
   "source": [
    "df_count_3d_4=df_oup_diagnosis[df_oup_diagnosis['受试者编号'].isin(df_SUP_oup_4d.受试者编号.unique())]\n",
    "\n",
    "df_count_3d_4['主要疾病转归_描述'].value_counts()"
   ]
  },
  {
   "cell_type": "markdown",
   "metadata": {},
   "source": [
    "## 并入个人史和既往史"
   ]
  },
  {
   "cell_type": "code",
   "execution_count": null,
   "metadata": {},
   "outputs": [],
   "source": [
    "df_history=df_former_processed_data[[]]"
   ]
  },
  {
   "cell_type": "code",
   "execution_count": null,
   "metadata": {},
   "outputs": [],
   "source": []
  },
  {
   "cell_type": "code",
   "execution_count": null,
   "metadata": {},
   "outputs": [],
   "source": []
  },
  {
   "cell_type": "markdown",
   "metadata": {},
   "source": [
    "## 提取联合用药"
   ]
  },
  {
   "cell_type": "markdown",
   "metadata": {},
   "source": [
    "### 提取联合用药"
   ]
  },
  {
   "cell_type": "code",
   "execution_count": 211,
   "metadata": {},
   "outputs": [],
   "source": [
    "# 其他科\n",
    "df_drug_other_1 = pd.read_excel(project_path+'/data/raw_data/导出全部CRF表数据-其他科1021.xlsx',\n",
    "                            sheet_name='CM_合并用药',\n",
    "                           header=1,)  # 指定第2行作为标题行\n",
    "#                            skiprows=[1,1,1])  # 跳过第1行\n",
    "\n",
    "# 标记受试者编号\n",
    "df_drug_other_1['受试者编号']=df_drug_other_1['受试者编号'].apply(lambda x: str(x)+'_a')\n",
    "\n",
    "# 提取有效字段\n",
    "df_drug_other_1=df_drug_other_1[['受试者编号','药物名称（通用名）','用药开始日期','用药结束日期']]"
   ]
  },
  {
   "cell_type": "code",
   "execution_count": 212,
   "metadata": {},
   "outputs": [],
   "source": [
    "# 心内科\n",
    "df_drug_other_2 = pd.read_excel(project_path+'/data/raw_data//导出全部CRF表数据-心内科1021.xlsx',\n",
    "                            sheet_name='CM_合并用药',\n",
    "                           header=1,)  # 指定第2行作为标题行\n",
    "#                            skiprows=[1,1,1])  # 跳过第1行\n",
    "\n",
    "# 标记受试者编号\n",
    "df_drug_other_2['受试者编号']=df_drug_other_2['受试者编号'].apply(lambda x: str(x)+'_b')\n",
    "# 提取有效字段\n",
    "df_drug_other_2=df_drug_other_2[['受试者编号','药物名称（通用名）','用药开始日期','用药结束日期']]"
   ]
  },
  {
   "cell_type": "code",
   "execution_count": 218,
   "metadata": {},
   "outputs": [],
   "source": [
    "# 合并其他科和心内科联合用药\n",
    "df_drug_other=pd.concat([df_drug_other_1,df_drug_other_2])"
   ]
  },
  {
   "cell_type": "code",
   "execution_count": 221,
   "metadata": {},
   "outputs": [],
   "source": [
    "df_drug_other.to_excel(project_path+'/data/processed_data/df_1.5.1_联合用药.xlsx')"
   ]
  },
  {
   "cell_type": "markdown",
   "metadata": {},
   "source": [
    "### 统计联合用药"
   ]
  },
  {
   "cell_type": "code",
   "execution_count": 275,
   "metadata": {},
   "outputs": [
    {
     "data": {
      "text/plain": [
       "pandas.core.series.Series"
      ]
     },
     "execution_count": 275,
     "metadata": {},
     "output_type": "execute_result"
    }
   ],
   "source": [
    "type(df_drug_other['药物名称（通用名）'].value_counts())"
   ]
  },
  {
   "cell_type": "code",
   "execution_count": 276,
   "metadata": {},
   "outputs": [],
   "source": [
    "drug_name_counts=df_drug_other['药物名称（通用名）'].value_counts()\n",
    "df_drug_other_name=pd.DataFrame(data={'药物名称':drug_name_counts.index,\n",
    "                                     '频次':drug_name_counts.values})\n",
    "# 保存联合用药名\n",
    "writer=pd.ExcelWriter(project_path+'/data/processed_data/df_1.5.2_统计联合用药名.xlsx')\n",
    "df_drug_other_name.to_excel(writer)\n",
    "writer.save()"
   ]
  },
  {
   "cell_type": "markdown",
   "metadata": {},
   "source": [
    "### 筛选出院前3天的联合用药"
   ]
  },
  {
   "cell_type": "code",
   "execution_count": 306,
   "metadata": {
    "code_folding": []
   },
   "outputs": [],
   "source": [
    "# 提取出院前3天的联合用药\n",
    "temp_list=[]\n",
    "for i in df_用药时长_住院时长.受试者编号.unique():\n",
    "    temp=df_用药时长_住院时长[df_用药时长_住院时长['受试者编号']==i]\n",
    "    temp=temp.reset_index(drop=True)\n",
    "    temp_other=df_drug_other[df_drug_other['受试者编号']==i]\n",
    "    temp_other=temp_other.reset_index(drop=True)\n",
    "    \n",
    "    temp_other_choose=temp_other[(pd.to_datetime(temp_other['用药结束日期'])>=pd.to_datetime(temp.loc[0,'完成日期'])-datetime.timedelta(days=3))&\n",
    "                                 (pd.to_datetime(temp_other['用药开始日期'])<=pd.to_datetime(temp.loc[0,'完成日期'])-datetime.timedelta(days=1))]\n",
    "\n",
    "    temp_list.append(temp_other_choose)"
   ]
  },
  {
   "cell_type": "code",
   "execution_count": 307,
   "metadata": {},
   "outputs": [
    {
     "data": {
      "text/html": [
       "<div>\n",
       "<style scoped>\n",
       "    .dataframe tbody tr th:only-of-type {\n",
       "        vertical-align: middle;\n",
       "    }\n",
       "\n",
       "    .dataframe tbody tr th {\n",
       "        vertical-align: top;\n",
       "    }\n",
       "\n",
       "    .dataframe thead th {\n",
       "        text-align: right;\n",
       "    }\n",
       "</style>\n",
       "<table border=\"1\" class=\"dataframe\">\n",
       "  <thead>\n",
       "    <tr style=\"text-align: right;\">\n",
       "      <th></th>\n",
       "      <th>受试者编号</th>\n",
       "      <th>药物名称（通用名）</th>\n",
       "      <th>用药开始日期</th>\n",
       "      <th>用药结束日期</th>\n",
       "    </tr>\n",
       "  </thead>\n",
       "  <tbody>\n",
       "    <tr>\n",
       "      <th>0</th>\n",
       "      <td>90105_b</td>\n",
       "      <td>美托洛尔缓释片</td>\n",
       "      <td>2019-08-23</td>\n",
       "      <td>2019-08-28</td>\n",
       "    </tr>\n",
       "    <tr>\n",
       "      <th>1</th>\n",
       "      <td>90105_b</td>\n",
       "      <td>泮托拉唑肠溶片</td>\n",
       "      <td>2019-08-22</td>\n",
       "      <td>2019-08-28</td>\n",
       "    </tr>\n",
       "    <tr>\n",
       "      <th>2</th>\n",
       "      <td>90105_b</td>\n",
       "      <td>硫酸氢氯吡格雷片</td>\n",
       "      <td>2019-08-22</td>\n",
       "      <td>2019-08-28</td>\n",
       "    </tr>\n",
       "  </tbody>\n",
       "</table>\n",
       "</div>"
      ],
      "text/plain": [
       "     受试者编号 药物名称（通用名）      用药开始日期      用药结束日期\n",
       "0  90105_b   美托洛尔缓释片  2019-08-23  2019-08-28\n",
       "1  90105_b   泮托拉唑肠溶片  2019-08-22  2019-08-28\n",
       "2  90105_b  硫酸氢氯吡格雷片  2019-08-22  2019-08-28"
      ]
     },
     "execution_count": 307,
     "metadata": {},
     "output_type": "execute_result"
    }
   ],
   "source": [
    "temp_other_choose"
   ]
  },
  {
   "cell_type": "code",
   "execution_count": 308,
   "metadata": {},
   "outputs": [
    {
     "data": {
      "text/html": [
       "<div>\n",
       "<style scoped>\n",
       "    .dataframe tbody tr th:only-of-type {\n",
       "        vertical-align: middle;\n",
       "    }\n",
       "\n",
       "    .dataframe tbody tr th {\n",
       "        vertical-align: top;\n",
       "    }\n",
       "\n",
       "    .dataframe thead th {\n",
       "        text-align: right;\n",
       "    }\n",
       "</style>\n",
       "<table border=\"1\" class=\"dataframe\">\n",
       "  <thead>\n",
       "    <tr style=\"text-align: right;\">\n",
       "      <th></th>\n",
       "      <th>受试者编号</th>\n",
       "      <th>药物名称（通用名）</th>\n",
       "      <th>用药开始日期</th>\n",
       "      <th>用药结束日期</th>\n",
       "    </tr>\n",
       "  </thead>\n",
       "  <tbody>\n",
       "    <tr>\n",
       "      <th>0</th>\n",
       "      <td>90105_b</td>\n",
       "      <td>美托洛尔缓释片</td>\n",
       "      <td>2019-08-23</td>\n",
       "      <td>2019-08-28</td>\n",
       "    </tr>\n",
       "    <tr>\n",
       "      <th>1</th>\n",
       "      <td>90105_b</td>\n",
       "      <td>泮托拉唑肠溶片</td>\n",
       "      <td>2019-08-22</td>\n",
       "      <td>2019-08-28</td>\n",
       "    </tr>\n",
       "    <tr>\n",
       "      <th>2</th>\n",
       "      <td>90105_b</td>\n",
       "      <td>硫酸氢氯吡格雷片</td>\n",
       "      <td>2019-08-22</td>\n",
       "      <td>2019-08-28</td>\n",
       "    </tr>\n",
       "  </tbody>\n",
       "</table>\n",
       "</div>"
      ],
      "text/plain": [
       "     受试者编号 药物名称（通用名）      用药开始日期      用药结束日期\n",
       "0  90105_b   美托洛尔缓释片  2019-08-23  2019-08-28\n",
       "1  90105_b   泮托拉唑肠溶片  2019-08-22  2019-08-28\n",
       "2  90105_b  硫酸氢氯吡格雷片  2019-08-22  2019-08-28"
      ]
     },
     "execution_count": 308,
     "metadata": {},
     "output_type": "execute_result"
    }
   ],
   "source": [
    "temp_other_choose"
   ]
  },
  {
   "cell_type": "code",
   "execution_count": 309,
   "metadata": {
    "scrolled": true
   },
   "outputs": [],
   "source": [
    "df_drug_other_choose=pd.concat(temp_list,axis=0).reset_index(drop=True)"
   ]
  },
  {
   "cell_type": "code",
   "execution_count": 310,
   "metadata": {},
   "outputs": [],
   "source": [
    "df_drug_other_choose.to_excel(project_path+'/data/processed_data/df_1.7.3_出院前3天内的联合用药.xlsx')"
   ]
  },
  {
   "cell_type": "markdown",
   "metadata": {},
   "source": [
    "## 提取检测信息"
   ]
  },
  {
   "cell_type": "markdown",
   "metadata": {},
   "source": [
    "### 血常规"
   ]
  },
  {
   "cell_type": "markdown",
   "metadata": {},
   "source": [
    "#### 其他科"
   ]
  },
  {
   "cell_type": "code",
   "execution_count": 48,
   "metadata": {},
   "outputs": [],
   "source": [
    "df_血常规_1 = pd.read_excel(project_path+'/data/raw_data/导出全部CRF表数据-其他科1021.xlsx',\n",
    "                            sheet_name='LBR_血常规',\n",
    "                           header=1,)  # 指定第2行作为标题行\n",
    "#                            skiprows=[1,1,1])  # 跳过第1行"
   ]
  },
  {
   "cell_type": "code",
   "execution_count": 49,
   "metadata": {},
   "outputs": [],
   "source": [
    "# 标记受试者编号\n",
    "df_血常规_1['受试者编号']=df_血常规_1['受试者编号'].apply(lambda x: str(x)+'_a')"
   ]
  },
  {
   "cell_type": "code",
   "execution_count": 50,
   "metadata": {},
   "outputs": [
    {
     "data": {
      "text/plain": [
       "Index(['方案号', '中心标识', '中心名称', '受试者编号', '访视', '检查日期', '红细胞', '红细胞-临床意义',\n",
       "       '红细胞-临床意义_描述', '红细胞-异常请描述', '血红蛋白', '血红蛋白-临床意义', '血红蛋白-临床意义_描述',\n",
       "       '血红蛋白-异常请描述', '白细胞', '白细胞-临床意义', '白细胞-临床意义_描述', '白细胞-异常请描述', '中性粒细胞计数',\n",
       "       '中性粒细胞计数-临床意义', '中性粒细胞计数-临床意义_描述', '中性粒细胞计数-异常请描述', '血小板', '血小板-临床意义',\n",
       "       '血小板-临床意义_描述', '血小板-异常请描述', '红细胞压积', '红细胞压积-临床意义', '红细胞压积-临床意义_描述',\n",
       "       '红细胞压积-异常请描述', '原始录入日期', '最后修改日期'],\n",
       "      dtype='object')"
      ]
     },
     "execution_count": 50,
     "metadata": {},
     "output_type": "execute_result"
    }
   ],
   "source": [
    "df_血常规_1.columns"
   ]
  },
  {
   "cell_type": "code",
   "execution_count": 51,
   "metadata": {},
   "outputs": [],
   "source": [
    "# 提取有效字段\n",
    "df_血常规_1=df_血常规_1[['访视','受试者编号','检查日期','红细胞','血红蛋白','白细胞','中性粒细胞计数','血小板','红细胞压积']]"
   ]
  },
  {
   "cell_type": "code",
   "execution_count": 52,
   "metadata": {},
   "outputs": [
    {
     "data": {
      "text/plain": [
       "(1176, 9)"
      ]
     },
     "execution_count": 52,
     "metadata": {},
     "output_type": "execute_result"
    }
   ],
   "source": [
    "df_血常规_1.shape"
   ]
  },
  {
   "cell_type": "code",
   "execution_count": 53,
   "metadata": {
    "scrolled": true
   },
   "outputs": [
    {
     "data": {
      "text/html": [
       "<div>\n",
       "<style scoped>\n",
       "    .dataframe tbody tr th:only-of-type {\n",
       "        vertical-align: middle;\n",
       "    }\n",
       "\n",
       "    .dataframe tbody tr th {\n",
       "        vertical-align: top;\n",
       "    }\n",
       "\n",
       "    .dataframe thead th {\n",
       "        text-align: right;\n",
       "    }\n",
       "</style>\n",
       "<table border=\"1\" class=\"dataframe\">\n",
       "  <thead>\n",
       "    <tr style=\"text-align: right;\">\n",
       "      <th></th>\n",
       "      <th>访视</th>\n",
       "      <th>受试者编号</th>\n",
       "      <th>检查日期</th>\n",
       "      <th>红细胞</th>\n",
       "      <th>血红蛋白</th>\n",
       "      <th>白细胞</th>\n",
       "      <th>中性粒细胞计数</th>\n",
       "      <th>血小板</th>\n",
       "      <th>红细胞压积</th>\n",
       "    </tr>\n",
       "  </thead>\n",
       "  <tbody>\n",
       "    <tr>\n",
       "      <th>0</th>\n",
       "      <td>入院检查</td>\n",
       "      <td>90001_a</td>\n",
       "      <td>2018-03-31</td>\n",
       "      <td>4.38</td>\n",
       "      <td>127.0</td>\n",
       "      <td>10.6</td>\n",
       "      <td>75.4</td>\n",
       "      <td>315.0</td>\n",
       "      <td>37.2</td>\n",
       "    </tr>\n",
       "    <tr>\n",
       "      <th>1</th>\n",
       "      <td>出院前检查</td>\n",
       "      <td>90001_a</td>\n",
       "      <td>2018-04-10</td>\n",
       "      <td>3.85</td>\n",
       "      <td>111.0</td>\n",
       "      <td>15.0</td>\n",
       "      <td>75.0</td>\n",
       "      <td>337.0</td>\n",
       "      <td>32.5</td>\n",
       "    </tr>\n",
       "    <tr>\n",
       "      <th>2</th>\n",
       "      <td>入院检查</td>\n",
       "      <td>90003_a</td>\n",
       "      <td>2018-01-31</td>\n",
       "      <td>4.70</td>\n",
       "      <td>133.0</td>\n",
       "      <td>1.8</td>\n",
       "      <td>87.5</td>\n",
       "      <td>136.0</td>\n",
       "      <td>38.7</td>\n",
       "    </tr>\n",
       "    <tr>\n",
       "      <th>3</th>\n",
       "      <td>出院前检查</td>\n",
       "      <td>90003_a</td>\n",
       "      <td>NaN</td>\n",
       "      <td>NaN</td>\n",
       "      <td>NaN</td>\n",
       "      <td>NaN</td>\n",
       "      <td>NaN</td>\n",
       "      <td>NaN</td>\n",
       "      <td>NaN</td>\n",
       "    </tr>\n",
       "    <tr>\n",
       "      <th>4</th>\n",
       "      <td>入院检查</td>\n",
       "      <td>90004_a</td>\n",
       "      <td>2018-01-26</td>\n",
       "      <td>2.99</td>\n",
       "      <td>97.0</td>\n",
       "      <td>6.2</td>\n",
       "      <td>59.9</td>\n",
       "      <td>226.0</td>\n",
       "      <td>29.0</td>\n",
       "    </tr>\n",
       "  </tbody>\n",
       "</table>\n",
       "</div>"
      ],
      "text/plain": [
       "      访视    受试者编号        检查日期   红细胞   血红蛋白   白细胞  中性粒细胞计数    血小板  红细胞压积\n",
       "0   入院检查  90001_a  2018-03-31  4.38  127.0  10.6     75.4  315.0   37.2\n",
       "1  出院前检查  90001_a  2018-04-10  3.85  111.0  15.0     75.0  337.0   32.5\n",
       "2   入院检查  90003_a  2018-01-31  4.70  133.0   1.8     87.5  136.0   38.7\n",
       "3  出院前检查  90003_a         NaN   NaN    NaN   NaN      NaN    NaN    NaN\n",
       "4   入院检查  90004_a  2018-01-26  2.99   97.0   6.2     59.9  226.0   29.0"
      ]
     },
     "execution_count": 53,
     "metadata": {},
     "output_type": "execute_result"
    }
   ],
   "source": [
    "df_血常规_1.head()"
   ]
  },
  {
   "cell_type": "code",
   "execution_count": 54,
   "metadata": {},
   "outputs": [],
   "source": [
    "# 出入院血常规检测\n",
    "df_血常规_1_inp=df_血常规_1[df_血常规_1['访视'].str.contains('入院检查')]\n",
    "df_血常规_1_inp=df_血常规_1_inp.reset_index(drop=True)\n",
    "df_血常规_1_oup=df_血常规_1[df_血常规_1['访视'].str.contains('出院前检查')]\n",
    "df_血常规_1_oup=df_血常规_1_oup.reset_index(drop=True)"
   ]
  },
  {
   "cell_type": "code",
   "execution_count": 55,
   "metadata": {},
   "outputs": [
    {
     "data": {
      "text/plain": [
       "(641, 9)"
      ]
     },
     "execution_count": 55,
     "metadata": {},
     "output_type": "execute_result"
    }
   ],
   "source": [
    "df_血常规_1_inp.shape"
   ]
  },
  {
   "cell_type": "code",
   "execution_count": 56,
   "metadata": {
    "scrolled": true
   },
   "outputs": [
    {
     "data": {
      "text/html": [
       "<div>\n",
       "<style scoped>\n",
       "    .dataframe tbody tr th:only-of-type {\n",
       "        vertical-align: middle;\n",
       "    }\n",
       "\n",
       "    .dataframe tbody tr th {\n",
       "        vertical-align: top;\n",
       "    }\n",
       "\n",
       "    .dataframe thead th {\n",
       "        text-align: right;\n",
       "    }\n",
       "</style>\n",
       "<table border=\"1\" class=\"dataframe\">\n",
       "  <thead>\n",
       "    <tr style=\"text-align: right;\">\n",
       "      <th></th>\n",
       "      <th>访视</th>\n",
       "      <th>受试者编号</th>\n",
       "      <th>检查日期</th>\n",
       "      <th>红细胞</th>\n",
       "      <th>血红蛋白</th>\n",
       "      <th>白细胞</th>\n",
       "      <th>中性粒细胞计数</th>\n",
       "      <th>血小板</th>\n",
       "      <th>红细胞压积</th>\n",
       "    </tr>\n",
       "  </thead>\n",
       "  <tbody>\n",
       "    <tr>\n",
       "      <th>0</th>\n",
       "      <td>入院检查</td>\n",
       "      <td>90001_a</td>\n",
       "      <td>2018-03-31</td>\n",
       "      <td>4.38</td>\n",
       "      <td>127.0</td>\n",
       "      <td>10.60</td>\n",
       "      <td>75.4</td>\n",
       "      <td>315.0</td>\n",
       "      <td>37.2</td>\n",
       "    </tr>\n",
       "    <tr>\n",
       "      <th>1</th>\n",
       "      <td>入院检查</td>\n",
       "      <td>90003_a</td>\n",
       "      <td>2018-01-31</td>\n",
       "      <td>4.70</td>\n",
       "      <td>133.0</td>\n",
       "      <td>1.80</td>\n",
       "      <td>87.5</td>\n",
       "      <td>136.0</td>\n",
       "      <td>38.7</td>\n",
       "    </tr>\n",
       "    <tr>\n",
       "      <th>2</th>\n",
       "      <td>入院检查</td>\n",
       "      <td>90004_a</td>\n",
       "      <td>2018-01-26</td>\n",
       "      <td>2.99</td>\n",
       "      <td>97.0</td>\n",
       "      <td>6.20</td>\n",
       "      <td>59.9</td>\n",
       "      <td>226.0</td>\n",
       "      <td>29.0</td>\n",
       "    </tr>\n",
       "    <tr>\n",
       "      <th>3</th>\n",
       "      <td>入院检查</td>\n",
       "      <td>90005_a</td>\n",
       "      <td>2018-02-08</td>\n",
       "      <td>3.26</td>\n",
       "      <td>104.0</td>\n",
       "      <td>14.21</td>\n",
       "      <td>80.5</td>\n",
       "      <td>243.0</td>\n",
       "      <td>30.5</td>\n",
       "    </tr>\n",
       "    <tr>\n",
       "      <th>4</th>\n",
       "      <td>入院检查</td>\n",
       "      <td>90006_a</td>\n",
       "      <td>2018-02-12</td>\n",
       "      <td>4.36</td>\n",
       "      <td>125.0</td>\n",
       "      <td>8.00</td>\n",
       "      <td>58.5</td>\n",
       "      <td>260.0</td>\n",
       "      <td>37.7</td>\n",
       "    </tr>\n",
       "  </tbody>\n",
       "</table>\n",
       "</div>"
      ],
      "text/plain": [
       "     访视    受试者编号        检查日期   红细胞   血红蛋白    白细胞  中性粒细胞计数    血小板  红细胞压积\n",
       "0  入院检查  90001_a  2018-03-31  4.38  127.0  10.60     75.4  315.0   37.2\n",
       "1  入院检查  90003_a  2018-01-31  4.70  133.0   1.80     87.5  136.0   38.7\n",
       "2  入院检查  90004_a  2018-01-26  2.99   97.0   6.20     59.9  226.0   29.0\n",
       "3  入院检查  90005_a  2018-02-08  3.26  104.0  14.21     80.5  243.0   30.5\n",
       "4  入院检查  90006_a  2018-02-12  4.36  125.0   8.00     58.5  260.0   37.7"
      ]
     },
     "execution_count": 56,
     "metadata": {},
     "output_type": "execute_result"
    }
   ],
   "source": [
    "df_血常规_1_inp.head()"
   ]
  },
  {
   "cell_type": "code",
   "execution_count": 57,
   "metadata": {},
   "outputs": [
    {
     "data": {
      "text/plain": [
       "(535, 9)"
      ]
     },
     "execution_count": 57,
     "metadata": {},
     "output_type": "execute_result"
    }
   ],
   "source": [
    "df_血常规_1_oup.shape"
   ]
  },
  {
   "cell_type": "code",
   "execution_count": 58,
   "metadata": {
    "scrolled": true
   },
   "outputs": [
    {
     "data": {
      "text/html": [
       "<div>\n",
       "<style scoped>\n",
       "    .dataframe tbody tr th:only-of-type {\n",
       "        vertical-align: middle;\n",
       "    }\n",
       "\n",
       "    .dataframe tbody tr th {\n",
       "        vertical-align: top;\n",
       "    }\n",
       "\n",
       "    .dataframe thead th {\n",
       "        text-align: right;\n",
       "    }\n",
       "</style>\n",
       "<table border=\"1\" class=\"dataframe\">\n",
       "  <thead>\n",
       "    <tr style=\"text-align: right;\">\n",
       "      <th></th>\n",
       "      <th>访视</th>\n",
       "      <th>受试者编号</th>\n",
       "      <th>检查日期</th>\n",
       "      <th>红细胞</th>\n",
       "      <th>血红蛋白</th>\n",
       "      <th>白细胞</th>\n",
       "      <th>中性粒细胞计数</th>\n",
       "      <th>血小板</th>\n",
       "      <th>红细胞压积</th>\n",
       "    </tr>\n",
       "  </thead>\n",
       "  <tbody>\n",
       "    <tr>\n",
       "      <th>0</th>\n",
       "      <td>出院前检查</td>\n",
       "      <td>90001_a</td>\n",
       "      <td>2018-04-10</td>\n",
       "      <td>3.85</td>\n",
       "      <td>111.0</td>\n",
       "      <td>15.0</td>\n",
       "      <td>75.0</td>\n",
       "      <td>337.0</td>\n",
       "      <td>32.5</td>\n",
       "    </tr>\n",
       "    <tr>\n",
       "      <th>1</th>\n",
       "      <td>出院前检查</td>\n",
       "      <td>90003_a</td>\n",
       "      <td>NaN</td>\n",
       "      <td>NaN</td>\n",
       "      <td>NaN</td>\n",
       "      <td>NaN</td>\n",
       "      <td>NaN</td>\n",
       "      <td>NaN</td>\n",
       "      <td>NaN</td>\n",
       "    </tr>\n",
       "    <tr>\n",
       "      <th>2</th>\n",
       "      <td>出院前检查</td>\n",
       "      <td>90004_a</td>\n",
       "      <td>NaN</td>\n",
       "      <td>NaN</td>\n",
       "      <td>NaN</td>\n",
       "      <td>NaN</td>\n",
       "      <td>NaN</td>\n",
       "      <td>NaN</td>\n",
       "      <td>NaN</td>\n",
       "    </tr>\n",
       "    <tr>\n",
       "      <th>3</th>\n",
       "      <td>出院前检查</td>\n",
       "      <td>90005_a</td>\n",
       "      <td>2018-02-13</td>\n",
       "      <td>3.11</td>\n",
       "      <td>103.0</td>\n",
       "      <td>13.3</td>\n",
       "      <td>67.7</td>\n",
       "      <td>194.0</td>\n",
       "      <td>29.1</td>\n",
       "    </tr>\n",
       "    <tr>\n",
       "      <th>4</th>\n",
       "      <td>出院前检查</td>\n",
       "      <td>90006_a</td>\n",
       "      <td>2018-02-19</td>\n",
       "      <td>4.10</td>\n",
       "      <td>120.0</td>\n",
       "      <td>9.6</td>\n",
       "      <td>73.1</td>\n",
       "      <td>256.0</td>\n",
       "      <td>35.2</td>\n",
       "    </tr>\n",
       "  </tbody>\n",
       "</table>\n",
       "</div>"
      ],
      "text/plain": [
       "      访视    受试者编号        检查日期   红细胞   血红蛋白   白细胞  中性粒细胞计数    血小板  红细胞压积\n",
       "0  出院前检查  90001_a  2018-04-10  3.85  111.0  15.0     75.0  337.0   32.5\n",
       "1  出院前检查  90003_a         NaN   NaN    NaN   NaN      NaN    NaN    NaN\n",
       "2  出院前检查  90004_a         NaN   NaN    NaN   NaN      NaN    NaN    NaN\n",
       "3  出院前检查  90005_a  2018-02-13  3.11  103.0  13.3     67.7  194.0   29.1\n",
       "4  出院前检查  90006_a  2018-02-19  4.10  120.0   9.6     73.1  256.0   35.2"
      ]
     },
     "execution_count": 58,
     "metadata": {},
     "output_type": "execute_result"
    }
   ],
   "source": [
    "df_血常规_1_oup.head()"
   ]
  },
  {
   "cell_type": "code",
   "execution_count": 59,
   "metadata": {},
   "outputs": [],
   "source": [
    "df_血常规_1_inp.to_excel(project_path+'/data/processed_data/检测数据/血常规/df_血常规_其他科_入院记录.xlsx')\n",
    "df_血常规_1_oup.to_excel(project_path+'/data/processed_data/检测数据/血常规/df_血常规_其他科_出院记录.xlsx')"
   ]
  },
  {
   "cell_type": "markdown",
   "metadata": {},
   "source": [
    "\n",
    "#### 心内科"
   ]
  },
  {
   "cell_type": "code",
   "execution_count": 60,
   "metadata": {},
   "outputs": [],
   "source": [
    "df_血常规_2 = pd.read_excel(project_path+'/data/raw_data/导出全部CRF表数据-心内科1021.xlsx',\n",
    "                            sheet_name='LBR_血常规',\n",
    "                           header=1,)  # 指定第2行作为标题行\n",
    "#                            skiprows=[1,1,1])  # 跳过第几行)"
   ]
  },
  {
   "cell_type": "code",
   "execution_count": 61,
   "metadata": {},
   "outputs": [],
   "source": [
    "# 标记受试者编号\n",
    "df_血常规_2['受试者编号']=df_血常规_2['受试者编号'].apply(lambda x: str(x)+'_b')"
   ]
  },
  {
   "cell_type": "code",
   "execution_count": 62,
   "metadata": {},
   "outputs": [
    {
     "data": {
      "text/plain": [
       "Index(['方案号', '中心标识', '中心名称', '受试者编号', '访视', '检查日期', '红细胞', '红细胞-临床意义',\n",
       "       '红细胞-临床意义_描述', '红细胞-异常请描述', '血红蛋白', '血红蛋白-临床意义', '血红蛋白-临床意义_描述',\n",
       "       '血红蛋白-异常请描述', '白细胞', '白细胞-临床意义', '白细胞-临床意义_描述', '白细胞-异常请描述', '中性粒细胞计数',\n",
       "       '中性粒细胞计数-临床意义', '中性粒细胞计数-临床意义_描述', '中性粒细胞计数-异常请描述', '血小板', '血小板-临床意义',\n",
       "       '血小板-临床意义_描述', '血小板-异常请描述', '红细胞压积', '红细胞压积-临床意义', '红细胞压积-临床意义_描述',\n",
       "       '红细胞压积-异常请描述', '原始录入日期', '最后修改日期'],\n",
       "      dtype='object')"
      ]
     },
     "execution_count": 62,
     "metadata": {},
     "output_type": "execute_result"
    }
   ],
   "source": [
    "df_血常规_2.columns"
   ]
  },
  {
   "cell_type": "code",
   "execution_count": 63,
   "metadata": {},
   "outputs": [],
   "source": [
    "# 提取有效字段\n",
    "df_血常规_2=df_血常规_2[['访视','受试者编号','检查日期','红细胞','血红蛋白','白细胞','中性粒细胞计数','血小板','红细胞压积']]"
   ]
  },
  {
   "cell_type": "code",
   "execution_count": 64,
   "metadata": {},
   "outputs": [
    {
     "data": {
      "text/plain": [
       "(199, 9)"
      ]
     },
     "execution_count": 64,
     "metadata": {},
     "output_type": "execute_result"
    }
   ],
   "source": [
    "df_血常规_2.shape"
   ]
  },
  {
   "cell_type": "code",
   "execution_count": 65,
   "metadata": {},
   "outputs": [
    {
     "data": {
      "text/html": [
       "<div>\n",
       "<style scoped>\n",
       "    .dataframe tbody tr th:only-of-type {\n",
       "        vertical-align: middle;\n",
       "    }\n",
       "\n",
       "    .dataframe tbody tr th {\n",
       "        vertical-align: top;\n",
       "    }\n",
       "\n",
       "    .dataframe thead th {\n",
       "        text-align: right;\n",
       "    }\n",
       "</style>\n",
       "<table border=\"1\" class=\"dataframe\">\n",
       "  <thead>\n",
       "    <tr style=\"text-align: right;\">\n",
       "      <th></th>\n",
       "      <th>访视</th>\n",
       "      <th>受试者编号</th>\n",
       "      <th>检查日期</th>\n",
       "      <th>红细胞</th>\n",
       "      <th>血红蛋白</th>\n",
       "      <th>白细胞</th>\n",
       "      <th>中性粒细胞计数</th>\n",
       "      <th>血小板</th>\n",
       "      <th>红细胞压积</th>\n",
       "    </tr>\n",
       "  </thead>\n",
       "  <tbody>\n",
       "    <tr>\n",
       "      <th>0</th>\n",
       "      <td>入院检查</td>\n",
       "      <td>90001_b</td>\n",
       "      <td>2018-01-26</td>\n",
       "      <td>2.99</td>\n",
       "      <td>97.0</td>\n",
       "      <td>6.20</td>\n",
       "      <td>59.9</td>\n",
       "      <td>226.0</td>\n",
       "      <td>29.00</td>\n",
       "    </tr>\n",
       "    <tr>\n",
       "      <th>1</th>\n",
       "      <td>出院前检查</td>\n",
       "      <td>90001_b</td>\n",
       "      <td>NaN</td>\n",
       "      <td>NaN</td>\n",
       "      <td>NaN</td>\n",
       "      <td>NaN</td>\n",
       "      <td>NaN</td>\n",
       "      <td>NaN</td>\n",
       "      <td>NaN</td>\n",
       "    </tr>\n",
       "    <tr>\n",
       "      <th>2</th>\n",
       "      <td>入院检查</td>\n",
       "      <td>90002_b</td>\n",
       "      <td>2019-04-24</td>\n",
       "      <td>4.09</td>\n",
       "      <td>116.0</td>\n",
       "      <td>9.84</td>\n",
       "      <td>NaN</td>\n",
       "      <td>189.0</td>\n",
       "      <td>0.21</td>\n",
       "    </tr>\n",
       "    <tr>\n",
       "      <th>3</th>\n",
       "      <td>出院前检查</td>\n",
       "      <td>90002_b</td>\n",
       "      <td>NaN</td>\n",
       "      <td>NaN</td>\n",
       "      <td>NaN</td>\n",
       "      <td>NaN</td>\n",
       "      <td>NaN</td>\n",
       "      <td>NaN</td>\n",
       "      <td>NaN</td>\n",
       "    </tr>\n",
       "    <tr>\n",
       "      <th>4</th>\n",
       "      <td>入院检查</td>\n",
       "      <td>90003_b</td>\n",
       "      <td>2019-05-25</td>\n",
       "      <td>4.75</td>\n",
       "      <td>139.0</td>\n",
       "      <td>7.90</td>\n",
       "      <td>70.0</td>\n",
       "      <td>290.0</td>\n",
       "      <td>41.30</td>\n",
       "    </tr>\n",
       "  </tbody>\n",
       "</table>\n",
       "</div>"
      ],
      "text/plain": [
       "      访视    受试者编号        检查日期   红细胞   血红蛋白   白细胞  中性粒细胞计数    血小板  红细胞压积\n",
       "0   入院检查  90001_b  2018-01-26  2.99   97.0  6.20     59.9  226.0  29.00\n",
       "1  出院前检查  90001_b         NaN   NaN    NaN   NaN      NaN    NaN    NaN\n",
       "2   入院检查  90002_b  2019-04-24  4.09  116.0  9.84      NaN  189.0   0.21\n",
       "3  出院前检查  90002_b         NaN   NaN    NaN   NaN      NaN    NaN    NaN\n",
       "4   入院检查  90003_b  2019-05-25  4.75  139.0  7.90     70.0  290.0  41.30"
      ]
     },
     "execution_count": 65,
     "metadata": {},
     "output_type": "execute_result"
    }
   ],
   "source": [
    "df_血常规_2.head()"
   ]
  },
  {
   "cell_type": "code",
   "execution_count": 66,
   "metadata": {},
   "outputs": [],
   "source": [
    "# 出入院血常规检测\n",
    "df_血常规_2_inp=df_血常规_2[df_血常规_2['访视'].str.contains('入院检查')]\n",
    "df_血常规_2_inp=df_血常规_2_inp.reset_index(drop=True)\n",
    "df_血常规_2_oup=df_血常规_2[df_血常规_2['访视'].str.contains('出院前检查')]\n",
    "df_血常规_2_oup=df_血常规_2_oup.reset_index(drop=True)"
   ]
  },
  {
   "cell_type": "code",
   "execution_count": 67,
   "metadata": {},
   "outputs": [
    {
     "data": {
      "text/plain": [
       "(104, 9)"
      ]
     },
     "execution_count": 67,
     "metadata": {},
     "output_type": "execute_result"
    }
   ],
   "source": [
    "df_血常规_2_inp.shape"
   ]
  },
  {
   "cell_type": "code",
   "execution_count": 68,
   "metadata": {},
   "outputs": [
    {
     "data": {
      "text/html": [
       "<div>\n",
       "<style scoped>\n",
       "    .dataframe tbody tr th:only-of-type {\n",
       "        vertical-align: middle;\n",
       "    }\n",
       "\n",
       "    .dataframe tbody tr th {\n",
       "        vertical-align: top;\n",
       "    }\n",
       "\n",
       "    .dataframe thead th {\n",
       "        text-align: right;\n",
       "    }\n",
       "</style>\n",
       "<table border=\"1\" class=\"dataframe\">\n",
       "  <thead>\n",
       "    <tr style=\"text-align: right;\">\n",
       "      <th></th>\n",
       "      <th>访视</th>\n",
       "      <th>受试者编号</th>\n",
       "      <th>检查日期</th>\n",
       "      <th>红细胞</th>\n",
       "      <th>血红蛋白</th>\n",
       "      <th>白细胞</th>\n",
       "      <th>中性粒细胞计数</th>\n",
       "      <th>血小板</th>\n",
       "      <th>红细胞压积</th>\n",
       "    </tr>\n",
       "  </thead>\n",
       "  <tbody>\n",
       "    <tr>\n",
       "      <th>0</th>\n",
       "      <td>入院检查</td>\n",
       "      <td>90001_b</td>\n",
       "      <td>2018-01-26</td>\n",
       "      <td>2.99</td>\n",
       "      <td>97.0</td>\n",
       "      <td>6.20</td>\n",
       "      <td>59.90</td>\n",
       "      <td>226.0</td>\n",
       "      <td>29.00</td>\n",
       "    </tr>\n",
       "    <tr>\n",
       "      <th>1</th>\n",
       "      <td>入院检查</td>\n",
       "      <td>90002_b</td>\n",
       "      <td>2019-04-24</td>\n",
       "      <td>4.09</td>\n",
       "      <td>116.0</td>\n",
       "      <td>9.84</td>\n",
       "      <td>NaN</td>\n",
       "      <td>189.0</td>\n",
       "      <td>0.21</td>\n",
       "    </tr>\n",
       "    <tr>\n",
       "      <th>2</th>\n",
       "      <td>入院检查</td>\n",
       "      <td>90003_b</td>\n",
       "      <td>2019-05-25</td>\n",
       "      <td>4.75</td>\n",
       "      <td>139.0</td>\n",
       "      <td>7.90</td>\n",
       "      <td>70.00</td>\n",
       "      <td>290.0</td>\n",
       "      <td>41.30</td>\n",
       "    </tr>\n",
       "    <tr>\n",
       "      <th>3</th>\n",
       "      <td>入院检查</td>\n",
       "      <td>90004_b</td>\n",
       "      <td>2019-04-01</td>\n",
       "      <td>5.08</td>\n",
       "      <td>159.0</td>\n",
       "      <td>9.40</td>\n",
       "      <td>89.30</td>\n",
       "      <td>258.0</td>\n",
       "      <td>46.50</td>\n",
       "    </tr>\n",
       "    <tr>\n",
       "      <th>4</th>\n",
       "      <td>入院检查</td>\n",
       "      <td>90005_b</td>\n",
       "      <td>2019-05-18</td>\n",
       "      <td>4.07</td>\n",
       "      <td>113.0</td>\n",
       "      <td>11.92</td>\n",
       "      <td>10.92</td>\n",
       "      <td>362.0</td>\n",
       "      <td>37.40</td>\n",
       "    </tr>\n",
       "  </tbody>\n",
       "</table>\n",
       "</div>"
      ],
      "text/plain": [
       "     访视    受试者编号        检查日期   红细胞   血红蛋白    白细胞  中性粒细胞计数    血小板  红细胞压积\n",
       "0  入院检查  90001_b  2018-01-26  2.99   97.0   6.20    59.90  226.0  29.00\n",
       "1  入院检查  90002_b  2019-04-24  4.09  116.0   9.84      NaN  189.0   0.21\n",
       "2  入院检查  90003_b  2019-05-25  4.75  139.0   7.90    70.00  290.0  41.30\n",
       "3  入院检查  90004_b  2019-04-01  5.08  159.0   9.40    89.30  258.0  46.50\n",
       "4  入院检查  90005_b  2019-05-18  4.07  113.0  11.92    10.92  362.0  37.40"
      ]
     },
     "execution_count": 68,
     "metadata": {},
     "output_type": "execute_result"
    }
   ],
   "source": [
    "df_血常规_2_inp.head()"
   ]
  },
  {
   "cell_type": "code",
   "execution_count": 69,
   "metadata": {},
   "outputs": [
    {
     "data": {
      "text/plain": [
       "(95, 9)"
      ]
     },
     "execution_count": 69,
     "metadata": {},
     "output_type": "execute_result"
    }
   ],
   "source": [
    "df_血常规_2_oup.shape"
   ]
  },
  {
   "cell_type": "code",
   "execution_count": 70,
   "metadata": {},
   "outputs": [
    {
     "data": {
      "text/html": [
       "<div>\n",
       "<style scoped>\n",
       "    .dataframe tbody tr th:only-of-type {\n",
       "        vertical-align: middle;\n",
       "    }\n",
       "\n",
       "    .dataframe tbody tr th {\n",
       "        vertical-align: top;\n",
       "    }\n",
       "\n",
       "    .dataframe thead th {\n",
       "        text-align: right;\n",
       "    }\n",
       "</style>\n",
       "<table border=\"1\" class=\"dataframe\">\n",
       "  <thead>\n",
       "    <tr style=\"text-align: right;\">\n",
       "      <th></th>\n",
       "      <th>访视</th>\n",
       "      <th>受试者编号</th>\n",
       "      <th>检查日期</th>\n",
       "      <th>红细胞</th>\n",
       "      <th>血红蛋白</th>\n",
       "      <th>白细胞</th>\n",
       "      <th>中性粒细胞计数</th>\n",
       "      <th>血小板</th>\n",
       "      <th>红细胞压积</th>\n",
       "    </tr>\n",
       "  </thead>\n",
       "  <tbody>\n",
       "    <tr>\n",
       "      <th>0</th>\n",
       "      <td>出院前检查</td>\n",
       "      <td>90001_b</td>\n",
       "      <td>NaN</td>\n",
       "      <td>NaN</td>\n",
       "      <td>NaN</td>\n",
       "      <td>NaN</td>\n",
       "      <td>NaN</td>\n",
       "      <td>NaN</td>\n",
       "      <td>NaN</td>\n",
       "    </tr>\n",
       "    <tr>\n",
       "      <th>1</th>\n",
       "      <td>出院前检查</td>\n",
       "      <td>90002_b</td>\n",
       "      <td>NaN</td>\n",
       "      <td>NaN</td>\n",
       "      <td>NaN</td>\n",
       "      <td>NaN</td>\n",
       "      <td>NaN</td>\n",
       "      <td>NaN</td>\n",
       "      <td>NaN</td>\n",
       "    </tr>\n",
       "    <tr>\n",
       "      <th>2</th>\n",
       "      <td>出院前检查</td>\n",
       "      <td>90003_b</td>\n",
       "      <td>NaN</td>\n",
       "      <td>NaN</td>\n",
       "      <td>NaN</td>\n",
       "      <td>NaN</td>\n",
       "      <td>NaN</td>\n",
       "      <td>NaN</td>\n",
       "      <td>NaN</td>\n",
       "    </tr>\n",
       "    <tr>\n",
       "      <th>3</th>\n",
       "      <td>出院前检查</td>\n",
       "      <td>90004_b</td>\n",
       "      <td>2019-04-03</td>\n",
       "      <td>4.38</td>\n",
       "      <td>141.0</td>\n",
       "      <td>5.20</td>\n",
       "      <td>76.5</td>\n",
       "      <td>203.0</td>\n",
       "      <td>41.20</td>\n",
       "    </tr>\n",
       "    <tr>\n",
       "      <th>4</th>\n",
       "      <td>出院前检查</td>\n",
       "      <td>90005_b</td>\n",
       "      <td>2019-05-19</td>\n",
       "      <td>4.12</td>\n",
       "      <td>120.0</td>\n",
       "      <td>16.02</td>\n",
       "      <td>93.3</td>\n",
       "      <td>470.0</td>\n",
       "      <td>0.49</td>\n",
       "    </tr>\n",
       "  </tbody>\n",
       "</table>\n",
       "</div>"
      ],
      "text/plain": [
       "      访视    受试者编号        检查日期   红细胞   血红蛋白    白细胞  中性粒细胞计数    血小板  红细胞压积\n",
       "0  出院前检查  90001_b         NaN   NaN    NaN    NaN      NaN    NaN    NaN\n",
       "1  出院前检查  90002_b         NaN   NaN    NaN    NaN      NaN    NaN    NaN\n",
       "2  出院前检查  90003_b         NaN   NaN    NaN    NaN      NaN    NaN    NaN\n",
       "3  出院前检查  90004_b  2019-04-03  4.38  141.0   5.20     76.5  203.0  41.20\n",
       "4  出院前检查  90005_b  2019-05-19  4.12  120.0  16.02     93.3  470.0   0.49"
      ]
     },
     "execution_count": 70,
     "metadata": {},
     "output_type": "execute_result"
    }
   ],
   "source": [
    "df_血常规_2_oup.head()"
   ]
  },
  {
   "cell_type": "code",
   "execution_count": 71,
   "metadata": {},
   "outputs": [],
   "source": [
    "df_血常规_2_inp.to_excel(project_path+'/data/processed_data/检测数据/血常规/df_血常规_心内科_入院记录.xlsx')\n",
    "df_血常规_2_oup.to_excel(project_path+'/data/processed_data/检测数据/血常规/df_血常规_心内科_出院记录.xlsx')"
   ]
  },
  {
   "cell_type": "markdown",
   "metadata": {},
   "source": [
    "#### 合并血常规"
   ]
  },
  {
   "cell_type": "code",
   "execution_count": 72,
   "metadata": {},
   "outputs": [],
   "source": [
    "for i in df_血常规_1_inp.columns[3:]:\n",
    "    df_血常规_1_inp.rename(columns={i:i + '_入院'},inplace=True)\n",
    "for i in df_血常规_2_inp.columns[3:]:\n",
    "    df_血常规_2_inp.rename(columns={i:i+'_入院'},inplace=True)  "
   ]
  },
  {
   "cell_type": "code",
   "execution_count": 73,
   "metadata": {},
   "outputs": [],
   "source": [
    "df_血常规_入院=pd.concat([df_血常规_1_inp,df_血常规_2_inp],axis=0)"
   ]
  },
  {
   "cell_type": "code",
   "execution_count": 74,
   "metadata": {},
   "outputs": [
    {
     "data": {
      "text/html": [
       "<div>\n",
       "<style scoped>\n",
       "    .dataframe tbody tr th:only-of-type {\n",
       "        vertical-align: middle;\n",
       "    }\n",
       "\n",
       "    .dataframe tbody tr th {\n",
       "        vertical-align: top;\n",
       "    }\n",
       "\n",
       "    .dataframe thead th {\n",
       "        text-align: right;\n",
       "    }\n",
       "</style>\n",
       "<table border=\"1\" class=\"dataframe\">\n",
       "  <thead>\n",
       "    <tr style=\"text-align: right;\">\n",
       "      <th></th>\n",
       "      <th>访视</th>\n",
       "      <th>受试者编号</th>\n",
       "      <th>检查日期</th>\n",
       "      <th>红细胞_入院</th>\n",
       "      <th>血红蛋白_入院</th>\n",
       "      <th>白细胞_入院</th>\n",
       "      <th>中性粒细胞计数_入院</th>\n",
       "      <th>血小板_入院</th>\n",
       "      <th>红细胞压积_入院</th>\n",
       "    </tr>\n",
       "  </thead>\n",
       "  <tbody>\n",
       "    <tr>\n",
       "      <th>0</th>\n",
       "      <td>入院检查</td>\n",
       "      <td>90001_a</td>\n",
       "      <td>2018-03-31</td>\n",
       "      <td>4.38</td>\n",
       "      <td>127.0</td>\n",
       "      <td>10.60</td>\n",
       "      <td>75.4</td>\n",
       "      <td>315.0</td>\n",
       "      <td>37.2</td>\n",
       "    </tr>\n",
       "    <tr>\n",
       "      <th>1</th>\n",
       "      <td>入院检查</td>\n",
       "      <td>90003_a</td>\n",
       "      <td>2018-01-31</td>\n",
       "      <td>4.70</td>\n",
       "      <td>133.0</td>\n",
       "      <td>1.80</td>\n",
       "      <td>87.5</td>\n",
       "      <td>136.0</td>\n",
       "      <td>38.7</td>\n",
       "    </tr>\n",
       "    <tr>\n",
       "      <th>2</th>\n",
       "      <td>入院检查</td>\n",
       "      <td>90004_a</td>\n",
       "      <td>2018-01-26</td>\n",
       "      <td>2.99</td>\n",
       "      <td>97.0</td>\n",
       "      <td>6.20</td>\n",
       "      <td>59.9</td>\n",
       "      <td>226.0</td>\n",
       "      <td>29.0</td>\n",
       "    </tr>\n",
       "    <tr>\n",
       "      <th>3</th>\n",
       "      <td>入院检查</td>\n",
       "      <td>90005_a</td>\n",
       "      <td>2018-02-08</td>\n",
       "      <td>3.26</td>\n",
       "      <td>104.0</td>\n",
       "      <td>14.21</td>\n",
       "      <td>80.5</td>\n",
       "      <td>243.0</td>\n",
       "      <td>30.5</td>\n",
       "    </tr>\n",
       "    <tr>\n",
       "      <th>4</th>\n",
       "      <td>入院检查</td>\n",
       "      <td>90006_a</td>\n",
       "      <td>2018-02-12</td>\n",
       "      <td>4.36</td>\n",
       "      <td>125.0</td>\n",
       "      <td>8.00</td>\n",
       "      <td>58.5</td>\n",
       "      <td>260.0</td>\n",
       "      <td>37.7</td>\n",
       "    </tr>\n",
       "  </tbody>\n",
       "</table>\n",
       "</div>"
      ],
      "text/plain": [
       "     访视    受试者编号        检查日期  红细胞_入院  血红蛋白_入院  白细胞_入院  中性粒细胞计数_入院  血小板_入院  \\\n",
       "0  入院检查  90001_a  2018-03-31    4.38    127.0   10.60        75.4   315.0   \n",
       "1  入院检查  90003_a  2018-01-31    4.70    133.0    1.80        87.5   136.0   \n",
       "2  入院检查  90004_a  2018-01-26    2.99     97.0    6.20        59.9   226.0   \n",
       "3  入院检查  90005_a  2018-02-08    3.26    104.0   14.21        80.5   243.0   \n",
       "4  入院检查  90006_a  2018-02-12    4.36    125.0    8.00        58.5   260.0   \n",
       "\n",
       "   红细胞压积_入院  \n",
       "0      37.2  \n",
       "1      38.7  \n",
       "2      29.0  \n",
       "3      30.5  \n",
       "4      37.7  "
      ]
     },
     "execution_count": 74,
     "metadata": {},
     "output_type": "execute_result"
    }
   ],
   "source": [
    "df_血常规_入院.head()"
   ]
  },
  {
   "cell_type": "code",
   "execution_count": 75,
   "metadata": {},
   "outputs": [],
   "source": [
    "df_血常规_入院.to_excel(project_path+'/data/processed_data/检测数据/df_血常规_入院.xlsx')"
   ]
  },
  {
   "cell_type": "code",
   "execution_count": 76,
   "metadata": {},
   "outputs": [],
   "source": [
    "for i in df_血常规_1_oup.columns[3:]:\n",
    "    df_血常规_1_oup.rename(columns={i:i + '_出院'},inplace=True)\n",
    "for i in df_血常规_2_oup.columns[3:]:\n",
    "    df_血常规_2_oup.rename(columns={i:i+'_出院'},inplace=True)  "
   ]
  },
  {
   "cell_type": "code",
   "execution_count": 77,
   "metadata": {},
   "outputs": [],
   "source": [
    "df_血常规_出院=pd.concat([df_血常规_1_oup,df_血常规_2_oup],axis=0)"
   ]
  },
  {
   "cell_type": "code",
   "execution_count": 78,
   "metadata": {},
   "outputs": [
    {
     "data": {
      "text/html": [
       "<div>\n",
       "<style scoped>\n",
       "    .dataframe tbody tr th:only-of-type {\n",
       "        vertical-align: middle;\n",
       "    }\n",
       "\n",
       "    .dataframe tbody tr th {\n",
       "        vertical-align: top;\n",
       "    }\n",
       "\n",
       "    .dataframe thead th {\n",
       "        text-align: right;\n",
       "    }\n",
       "</style>\n",
       "<table border=\"1\" class=\"dataframe\">\n",
       "  <thead>\n",
       "    <tr style=\"text-align: right;\">\n",
       "      <th></th>\n",
       "      <th>访视</th>\n",
       "      <th>受试者编号</th>\n",
       "      <th>检查日期</th>\n",
       "      <th>红细胞_出院</th>\n",
       "      <th>血红蛋白_出院</th>\n",
       "      <th>白细胞_出院</th>\n",
       "      <th>中性粒细胞计数_出院</th>\n",
       "      <th>血小板_出院</th>\n",
       "      <th>红细胞压积_出院</th>\n",
       "    </tr>\n",
       "  </thead>\n",
       "  <tbody>\n",
       "    <tr>\n",
       "      <th>0</th>\n",
       "      <td>出院前检查</td>\n",
       "      <td>90001_a</td>\n",
       "      <td>2018-04-10</td>\n",
       "      <td>3.85</td>\n",
       "      <td>111.0</td>\n",
       "      <td>15.0</td>\n",
       "      <td>75.0</td>\n",
       "      <td>337.0</td>\n",
       "      <td>32.5</td>\n",
       "    </tr>\n",
       "    <tr>\n",
       "      <th>1</th>\n",
       "      <td>出院前检查</td>\n",
       "      <td>90003_a</td>\n",
       "      <td>NaN</td>\n",
       "      <td>NaN</td>\n",
       "      <td>NaN</td>\n",
       "      <td>NaN</td>\n",
       "      <td>NaN</td>\n",
       "      <td>NaN</td>\n",
       "      <td>NaN</td>\n",
       "    </tr>\n",
       "    <tr>\n",
       "      <th>2</th>\n",
       "      <td>出院前检查</td>\n",
       "      <td>90004_a</td>\n",
       "      <td>NaN</td>\n",
       "      <td>NaN</td>\n",
       "      <td>NaN</td>\n",
       "      <td>NaN</td>\n",
       "      <td>NaN</td>\n",
       "      <td>NaN</td>\n",
       "      <td>NaN</td>\n",
       "    </tr>\n",
       "    <tr>\n",
       "      <th>3</th>\n",
       "      <td>出院前检查</td>\n",
       "      <td>90005_a</td>\n",
       "      <td>2018-02-13</td>\n",
       "      <td>3.11</td>\n",
       "      <td>103.0</td>\n",
       "      <td>13.3</td>\n",
       "      <td>67.7</td>\n",
       "      <td>194.0</td>\n",
       "      <td>29.1</td>\n",
       "    </tr>\n",
       "    <tr>\n",
       "      <th>4</th>\n",
       "      <td>出院前检查</td>\n",
       "      <td>90006_a</td>\n",
       "      <td>2018-02-19</td>\n",
       "      <td>4.10</td>\n",
       "      <td>120.0</td>\n",
       "      <td>9.6</td>\n",
       "      <td>73.1</td>\n",
       "      <td>256.0</td>\n",
       "      <td>35.2</td>\n",
       "    </tr>\n",
       "  </tbody>\n",
       "</table>\n",
       "</div>"
      ],
      "text/plain": [
       "      访视    受试者编号        检查日期  红细胞_出院  血红蛋白_出院  白细胞_出院  中性粒细胞计数_出院  血小板_出院  \\\n",
       "0  出院前检查  90001_a  2018-04-10    3.85    111.0    15.0        75.0   337.0   \n",
       "1  出院前检查  90003_a         NaN     NaN      NaN     NaN         NaN     NaN   \n",
       "2  出院前检查  90004_a         NaN     NaN      NaN     NaN         NaN     NaN   \n",
       "3  出院前检查  90005_a  2018-02-13    3.11    103.0    13.3        67.7   194.0   \n",
       "4  出院前检查  90006_a  2018-02-19    4.10    120.0     9.6        73.1   256.0   \n",
       "\n",
       "   红细胞压积_出院  \n",
       "0      32.5  \n",
       "1       NaN  \n",
       "2       NaN  \n",
       "3      29.1  \n",
       "4      35.2  "
      ]
     },
     "execution_count": 78,
     "metadata": {},
     "output_type": "execute_result"
    }
   ],
   "source": [
    "df_血常规_出院.head()"
   ]
  },
  {
   "cell_type": "code",
   "execution_count": 79,
   "metadata": {},
   "outputs": [],
   "source": [
    "df_血常规_出院.to_excel(project_path+'/data/processed_data/检测数据/df_血常规_出院.xlsx')"
   ]
  },
  {
   "cell_type": "markdown",
   "metadata": {},
   "source": [
    "### 尿常规"
   ]
  },
  {
   "cell_type": "markdown",
   "metadata": {},
   "source": [
    "#### 其他科"
   ]
  },
  {
   "cell_type": "code",
   "execution_count": 80,
   "metadata": {},
   "outputs": [],
   "source": [
    "df_尿常规_1 = pd.read_excel(project_path+'/data/raw_data/导出全部CRF表数据-其他科1021.xlsx',\n",
    "                            sheet_name='LBU_尿常规',\n",
    "                           header=1,)  # 指定第2行作为标题行\n",
    "#                            skiprows=[1,1,1])  # 跳过第1行"
   ]
  },
  {
   "cell_type": "code",
   "execution_count": 81,
   "metadata": {},
   "outputs": [],
   "source": [
    "# 标记受试者编号\n",
    "df_尿常规_1['受试者编号']=df_尿常规_1['受试者编号'].apply(lambda x: str(x)+'_a')"
   ]
  },
  {
   "cell_type": "code",
   "execution_count": 82,
   "metadata": {},
   "outputs": [
    {
     "data": {
      "text/plain": [
       "Index(['方案号', '中心标识', '中心名称', '受试者编号', '访视', '检查日期', '尿蛋白（PRO）',\n",
       "       '尿蛋白（PRO）-临床意义', '尿蛋白（PRO）-临床意义_描述', '尿蛋白（PRO）-异常请描述', '尿白细胞（LEU）',\n",
       "       '尿白细胞（LEU）-临床意义', '尿白细胞（LEU）-临床意义_描述', '尿白细胞（LEU）-异常请描述', '尿红细胞（ERY）',\n",
       "       '尿红细胞（ERY）-临床意义', '尿红细胞（ERY）-临床意义_描述', '尿红细胞（ERY）-异常请描述', '原始录入日期',\n",
       "       '最后修改日期'],\n",
       "      dtype='object')"
      ]
     },
     "execution_count": 82,
     "metadata": {},
     "output_type": "execute_result"
    }
   ],
   "source": [
    "df_尿常规_1.columns"
   ]
  },
  {
   "cell_type": "code",
   "execution_count": 83,
   "metadata": {},
   "outputs": [],
   "source": [
    "# 提取有效字段\n",
    "df_尿常规_1=df_尿常规_1[['访视','受试者编号','检查日期','尿蛋白（PRO）','尿白细胞（LEU）','尿红细胞（ERY）']]"
   ]
  },
  {
   "cell_type": "code",
   "execution_count": 84,
   "metadata": {},
   "outputs": [
    {
     "data": {
      "text/plain": [
       "(1167, 6)"
      ]
     },
     "execution_count": 84,
     "metadata": {},
     "output_type": "execute_result"
    }
   ],
   "source": [
    "df_尿常规_1.shape"
   ]
  },
  {
   "cell_type": "code",
   "execution_count": 85,
   "metadata": {},
   "outputs": [
    {
     "data": {
      "text/html": [
       "<div>\n",
       "<style scoped>\n",
       "    .dataframe tbody tr th:only-of-type {\n",
       "        vertical-align: middle;\n",
       "    }\n",
       "\n",
       "    .dataframe tbody tr th {\n",
       "        vertical-align: top;\n",
       "    }\n",
       "\n",
       "    .dataframe thead th {\n",
       "        text-align: right;\n",
       "    }\n",
       "</style>\n",
       "<table border=\"1\" class=\"dataframe\">\n",
       "  <thead>\n",
       "    <tr style=\"text-align: right;\">\n",
       "      <th></th>\n",
       "      <th>访视</th>\n",
       "      <th>受试者编号</th>\n",
       "      <th>检查日期</th>\n",
       "      <th>尿蛋白（PRO）</th>\n",
       "      <th>尿白细胞（LEU）</th>\n",
       "      <th>尿红细胞（ERY）</th>\n",
       "    </tr>\n",
       "  </thead>\n",
       "  <tbody>\n",
       "    <tr>\n",
       "      <th>0</th>\n",
       "      <td>入院检查</td>\n",
       "      <td>90001_a</td>\n",
       "      <td>2018-03-31</td>\n",
       "      <td>25</td>\n",
       "      <td>5-8</td>\n",
       "      <td>0</td>\n",
       "    </tr>\n",
       "    <tr>\n",
       "      <th>1</th>\n",
       "      <td>出院前检查</td>\n",
       "      <td>90001_a</td>\n",
       "      <td>NaN</td>\n",
       "      <td>NaN</td>\n",
       "      <td>NaN</td>\n",
       "      <td>NaN</td>\n",
       "    </tr>\n",
       "    <tr>\n",
       "      <th>2</th>\n",
       "      <td>入院检查</td>\n",
       "      <td>90003_a</td>\n",
       "      <td>NaN</td>\n",
       "      <td>NaN</td>\n",
       "      <td>NaN</td>\n",
       "      <td>NaN</td>\n",
       "    </tr>\n",
       "    <tr>\n",
       "      <th>3</th>\n",
       "      <td>出院前检查</td>\n",
       "      <td>90003_a</td>\n",
       "      <td>NaN</td>\n",
       "      <td>NaN</td>\n",
       "      <td>NaN</td>\n",
       "      <td>NaN</td>\n",
       "    </tr>\n",
       "    <tr>\n",
       "      <th>4</th>\n",
       "      <td>入院检查</td>\n",
       "      <td>90004_a</td>\n",
       "      <td>NaN</td>\n",
       "      <td>NaN</td>\n",
       "      <td>NaN</td>\n",
       "      <td>NaN</td>\n",
       "    </tr>\n",
       "  </tbody>\n",
       "</table>\n",
       "</div>"
      ],
      "text/plain": [
       "      访视    受试者编号        检查日期 尿蛋白（PRO） 尿白细胞（LEU） 尿红细胞（ERY）\n",
       "0   入院检查  90001_a  2018-03-31       25       5-8         0\n",
       "1  出院前检查  90001_a         NaN      NaN       NaN       NaN\n",
       "2   入院检查  90003_a         NaN      NaN       NaN       NaN\n",
       "3  出院前检查  90003_a         NaN      NaN       NaN       NaN\n",
       "4   入院检查  90004_a         NaN      NaN       NaN       NaN"
      ]
     },
     "execution_count": 85,
     "metadata": {},
     "output_type": "execute_result"
    }
   ],
   "source": [
    "df_尿常规_1.head()"
   ]
  },
  {
   "cell_type": "code",
   "execution_count": 86,
   "metadata": {},
   "outputs": [],
   "source": [
    "# 出入院血常规检测\n",
    "df_尿常规_1_inp=df_尿常规_1[df_尿常规_1['访视'].str.contains('入院检查')]\n",
    "df_尿常规_1_inp=df_尿常规_1_inp.reset_index(drop=True)\n",
    "df_尿常规_1_oup=df_尿常规_1[df_尿常规_1['访视'].str.contains('出院前检查')]\n",
    "df_尿常规_1_oup=df_尿常规_1_oup.reset_index(drop=True)"
   ]
  },
  {
   "cell_type": "code",
   "execution_count": 87,
   "metadata": {},
   "outputs": [
    {
     "data": {
      "text/plain": [
       "(637, 6)"
      ]
     },
     "execution_count": 87,
     "metadata": {},
     "output_type": "execute_result"
    }
   ],
   "source": [
    "df_尿常规_1_inp.shape"
   ]
  },
  {
   "cell_type": "code",
   "execution_count": 88,
   "metadata": {},
   "outputs": [
    {
     "data": {
      "text/html": [
       "<div>\n",
       "<style scoped>\n",
       "    .dataframe tbody tr th:only-of-type {\n",
       "        vertical-align: middle;\n",
       "    }\n",
       "\n",
       "    .dataframe tbody tr th {\n",
       "        vertical-align: top;\n",
       "    }\n",
       "\n",
       "    .dataframe thead th {\n",
       "        text-align: right;\n",
       "    }\n",
       "</style>\n",
       "<table border=\"1\" class=\"dataframe\">\n",
       "  <thead>\n",
       "    <tr style=\"text-align: right;\">\n",
       "      <th></th>\n",
       "      <th>访视</th>\n",
       "      <th>受试者编号</th>\n",
       "      <th>检查日期</th>\n",
       "      <th>尿蛋白（PRO）</th>\n",
       "      <th>尿白细胞（LEU）</th>\n",
       "      <th>尿红细胞（ERY）</th>\n",
       "    </tr>\n",
       "  </thead>\n",
       "  <tbody>\n",
       "    <tr>\n",
       "      <th>0</th>\n",
       "      <td>入院检查</td>\n",
       "      <td>90001_a</td>\n",
       "      <td>2018-03-31</td>\n",
       "      <td>25</td>\n",
       "      <td>5-8</td>\n",
       "      <td>0</td>\n",
       "    </tr>\n",
       "    <tr>\n",
       "      <th>1</th>\n",
       "      <td>入院检查</td>\n",
       "      <td>90003_a</td>\n",
       "      <td>NaN</td>\n",
       "      <td>NaN</td>\n",
       "      <td>NaN</td>\n",
       "      <td>NaN</td>\n",
       "    </tr>\n",
       "    <tr>\n",
       "      <th>2</th>\n",
       "      <td>入院检查</td>\n",
       "      <td>90004_a</td>\n",
       "      <td>NaN</td>\n",
       "      <td>NaN</td>\n",
       "      <td>NaN</td>\n",
       "      <td>NaN</td>\n",
       "    </tr>\n",
       "    <tr>\n",
       "      <th>3</th>\n",
       "      <td>入院检查</td>\n",
       "      <td>90005_a</td>\n",
       "      <td>NaN</td>\n",
       "      <td>NaN</td>\n",
       "      <td>NaN</td>\n",
       "      <td>NaN</td>\n",
       "    </tr>\n",
       "    <tr>\n",
       "      <th>4</th>\n",
       "      <td>入院检查</td>\n",
       "      <td>90006_a</td>\n",
       "      <td>2018-02-12</td>\n",
       "      <td>阴性</td>\n",
       "      <td>阴性</td>\n",
       "      <td>10</td>\n",
       "    </tr>\n",
       "  </tbody>\n",
       "</table>\n",
       "</div>"
      ],
      "text/plain": [
       "     访视    受试者编号        检查日期 尿蛋白（PRO） 尿白细胞（LEU） 尿红细胞（ERY）\n",
       "0  入院检查  90001_a  2018-03-31       25       5-8         0\n",
       "1  入院检查  90003_a         NaN      NaN       NaN       NaN\n",
       "2  入院检查  90004_a         NaN      NaN       NaN       NaN\n",
       "3  入院检查  90005_a         NaN      NaN       NaN       NaN\n",
       "4  入院检查  90006_a  2018-02-12       阴性        阴性        10"
      ]
     },
     "execution_count": 88,
     "metadata": {},
     "output_type": "execute_result"
    }
   ],
   "source": [
    "df_尿常规_1_inp.head()"
   ]
  },
  {
   "cell_type": "code",
   "execution_count": 89,
   "metadata": {},
   "outputs": [
    {
     "data": {
      "text/plain": [
       "(530, 6)"
      ]
     },
     "execution_count": 89,
     "metadata": {},
     "output_type": "execute_result"
    }
   ],
   "source": [
    "df_尿常规_1_oup.shape"
   ]
  },
  {
   "cell_type": "code",
   "execution_count": 90,
   "metadata": {},
   "outputs": [
    {
     "data": {
      "text/html": [
       "<div>\n",
       "<style scoped>\n",
       "    .dataframe tbody tr th:only-of-type {\n",
       "        vertical-align: middle;\n",
       "    }\n",
       "\n",
       "    .dataframe tbody tr th {\n",
       "        vertical-align: top;\n",
       "    }\n",
       "\n",
       "    .dataframe thead th {\n",
       "        text-align: right;\n",
       "    }\n",
       "</style>\n",
       "<table border=\"1\" class=\"dataframe\">\n",
       "  <thead>\n",
       "    <tr style=\"text-align: right;\">\n",
       "      <th></th>\n",
       "      <th>访视</th>\n",
       "      <th>受试者编号</th>\n",
       "      <th>检查日期</th>\n",
       "      <th>尿蛋白（PRO）</th>\n",
       "      <th>尿白细胞（LEU）</th>\n",
       "      <th>尿红细胞（ERY）</th>\n",
       "    </tr>\n",
       "  </thead>\n",
       "  <tbody>\n",
       "    <tr>\n",
       "      <th>0</th>\n",
       "      <td>出院前检查</td>\n",
       "      <td>90001_a</td>\n",
       "      <td>NaN</td>\n",
       "      <td>NaN</td>\n",
       "      <td>NaN</td>\n",
       "      <td>NaN</td>\n",
       "    </tr>\n",
       "    <tr>\n",
       "      <th>1</th>\n",
       "      <td>出院前检查</td>\n",
       "      <td>90003_a</td>\n",
       "      <td>NaN</td>\n",
       "      <td>NaN</td>\n",
       "      <td>NaN</td>\n",
       "      <td>NaN</td>\n",
       "    </tr>\n",
       "    <tr>\n",
       "      <th>2</th>\n",
       "      <td>出院前检查</td>\n",
       "      <td>90004_a</td>\n",
       "      <td>NaN</td>\n",
       "      <td>NaN</td>\n",
       "      <td>NaN</td>\n",
       "      <td>NaN</td>\n",
       "    </tr>\n",
       "    <tr>\n",
       "      <th>3</th>\n",
       "      <td>出院前检查</td>\n",
       "      <td>90005_a</td>\n",
       "      <td>NaN</td>\n",
       "      <td>NaN</td>\n",
       "      <td>NaN</td>\n",
       "      <td>NaN</td>\n",
       "    </tr>\n",
       "    <tr>\n",
       "      <th>4</th>\n",
       "      <td>出院前检查</td>\n",
       "      <td>90006_a</td>\n",
       "      <td>NaN</td>\n",
       "      <td>NaN</td>\n",
       "      <td>NaN</td>\n",
       "      <td>NaN</td>\n",
       "    </tr>\n",
       "  </tbody>\n",
       "</table>\n",
       "</div>"
      ],
      "text/plain": [
       "      访视    受试者编号 检查日期 尿蛋白（PRO） 尿白细胞（LEU） 尿红细胞（ERY）\n",
       "0  出院前检查  90001_a  NaN      NaN       NaN       NaN\n",
       "1  出院前检查  90003_a  NaN      NaN       NaN       NaN\n",
       "2  出院前检查  90004_a  NaN      NaN       NaN       NaN\n",
       "3  出院前检查  90005_a  NaN      NaN       NaN       NaN\n",
       "4  出院前检查  90006_a  NaN      NaN       NaN       NaN"
      ]
     },
     "execution_count": 90,
     "metadata": {},
     "output_type": "execute_result"
    }
   ],
   "source": [
    "df_尿常规_1_oup.head()"
   ]
  },
  {
   "cell_type": "code",
   "execution_count": 91,
   "metadata": {},
   "outputs": [],
   "source": [
    "df_尿常规_1_inp.to_excel(project_path+'/data/processed_data/检测数据/尿常规/df_尿常规_其他科_入院记录.xlsx')\n",
    "df_尿常规_1_oup.to_excel(project_path+'/data/processed_data/检测数据/尿常规/df_尿常规_其他科_出院记录.xlsx')"
   ]
  },
  {
   "cell_type": "markdown",
   "metadata": {},
   "source": [
    "#### 心内科"
   ]
  },
  {
   "cell_type": "code",
   "execution_count": 92,
   "metadata": {},
   "outputs": [],
   "source": [
    "df_尿常规_2 = pd.read_excel(project_path+'/data/raw_data/导出全部CRF表数据-心内科1021.xlsx',\n",
    "                            sheet_name='LBU_尿常规',\n",
    "                           header=1,)  # 指定第2行作为标题行\n",
    "#                            skiprows=[1,1,1])  # 跳过第几行)"
   ]
  },
  {
   "cell_type": "code",
   "execution_count": 93,
   "metadata": {},
   "outputs": [],
   "source": [
    "# 标记受试者编号\n",
    "df_尿常规_2['受试者编号']=df_尿常规_2['受试者编号'].apply(lambda x: str(x)+'_b')"
   ]
  },
  {
   "cell_type": "code",
   "execution_count": 94,
   "metadata": {},
   "outputs": [
    {
     "data": {
      "text/plain": [
       "Index(['方案号', '中心标识', '中心名称', '受试者编号', '访视', '检查日期', '尿蛋白（PRO）',\n",
       "       '尿蛋白（PRO）-临床意义', '尿蛋白（PRO）-临床意义_描述', '尿蛋白（PRO）-异常请描述', '尿白细胞（LEU）',\n",
       "       '尿白细胞（LEU）-临床意义', '尿白细胞（LEU）-临床意义_描述', '尿白细胞（LEU）-异常请描述', '尿红细胞（ERY）',\n",
       "       '尿红细胞（ERY）-临床意义', '尿红细胞（ERY）-临床意义_描述', '尿红细胞（ERY）-异常请描述', '原始录入日期',\n",
       "       '最后修改日期'],\n",
       "      dtype='object')"
      ]
     },
     "execution_count": 94,
     "metadata": {},
     "output_type": "execute_result"
    }
   ],
   "source": [
    "df_尿常规_2.columns"
   ]
  },
  {
   "cell_type": "code",
   "execution_count": 95,
   "metadata": {},
   "outputs": [],
   "source": [
    "# 提取有效字段\n",
    "df_尿常规_2=df_尿常规_2[['访视','受试者编号','检查日期','尿蛋白（PRO）','尿白细胞（LEU）','尿红细胞（ERY）']]"
   ]
  },
  {
   "cell_type": "code",
   "execution_count": 96,
   "metadata": {},
   "outputs": [
    {
     "data": {
      "text/plain": [
       "(188, 6)"
      ]
     },
     "execution_count": 96,
     "metadata": {},
     "output_type": "execute_result"
    }
   ],
   "source": [
    "df_尿常规_2.shape"
   ]
  },
  {
   "cell_type": "code",
   "execution_count": 97,
   "metadata": {},
   "outputs": [
    {
     "data": {
      "text/html": [
       "<div>\n",
       "<style scoped>\n",
       "    .dataframe tbody tr th:only-of-type {\n",
       "        vertical-align: middle;\n",
       "    }\n",
       "\n",
       "    .dataframe tbody tr th {\n",
       "        vertical-align: top;\n",
       "    }\n",
       "\n",
       "    .dataframe thead th {\n",
       "        text-align: right;\n",
       "    }\n",
       "</style>\n",
       "<table border=\"1\" class=\"dataframe\">\n",
       "  <thead>\n",
       "    <tr style=\"text-align: right;\">\n",
       "      <th></th>\n",
       "      <th>访视</th>\n",
       "      <th>受试者编号</th>\n",
       "      <th>检查日期</th>\n",
       "      <th>尿蛋白（PRO）</th>\n",
       "      <th>尿白细胞（LEU）</th>\n",
       "      <th>尿红细胞（ERY）</th>\n",
       "    </tr>\n",
       "  </thead>\n",
       "  <tbody>\n",
       "    <tr>\n",
       "      <th>0</th>\n",
       "      <td>入院检查</td>\n",
       "      <td>90001_b</td>\n",
       "      <td>NaN</td>\n",
       "      <td>NaN</td>\n",
       "      <td>NaN</td>\n",
       "      <td>NaN</td>\n",
       "    </tr>\n",
       "    <tr>\n",
       "      <th>1</th>\n",
       "      <td>出院前检查</td>\n",
       "      <td>90001_b</td>\n",
       "      <td>NaN</td>\n",
       "      <td>NaN</td>\n",
       "      <td>NaN</td>\n",
       "      <td>NaN</td>\n",
       "    </tr>\n",
       "    <tr>\n",
       "      <th>2</th>\n",
       "      <td>入院检查</td>\n",
       "      <td>90002_b</td>\n",
       "      <td>2019-04-24</td>\n",
       "      <td>75</td>\n",
       "      <td>阴性</td>\n",
       "      <td>25</td>\n",
       "    </tr>\n",
       "    <tr>\n",
       "      <th>3</th>\n",
       "      <td>出院前检查</td>\n",
       "      <td>90002_b</td>\n",
       "      <td>NaN</td>\n",
       "      <td>NaN</td>\n",
       "      <td>NaN</td>\n",
       "      <td>NaN</td>\n",
       "    </tr>\n",
       "    <tr>\n",
       "      <th>4</th>\n",
       "      <td>入院检查</td>\n",
       "      <td>90003_b</td>\n",
       "      <td>2019-05-25</td>\n",
       "      <td>NaN</td>\n",
       "      <td>NaN</td>\n",
       "      <td>NaN</td>\n",
       "    </tr>\n",
       "  </tbody>\n",
       "</table>\n",
       "</div>"
      ],
      "text/plain": [
       "      访视    受试者编号        检查日期 尿蛋白（PRO） 尿白细胞（LEU） 尿红细胞（ERY）\n",
       "0   入院检查  90001_b         NaN      NaN       NaN       NaN\n",
       "1  出院前检查  90001_b         NaN      NaN       NaN       NaN\n",
       "2   入院检查  90002_b  2019-04-24       75        阴性        25\n",
       "3  出院前检查  90002_b         NaN      NaN       NaN       NaN\n",
       "4   入院检查  90003_b  2019-05-25      NaN       NaN       NaN"
      ]
     },
     "execution_count": 97,
     "metadata": {},
     "output_type": "execute_result"
    }
   ],
   "source": [
    "df_尿常规_2.head()"
   ]
  },
  {
   "cell_type": "code",
   "execution_count": 98,
   "metadata": {},
   "outputs": [],
   "source": [
    "# 出入院血常规检测\n",
    "df_尿常规_2_inp=df_尿常规_2[df_尿常规_2['访视'].str.contains('入院检查')]\n",
    "df_尿常规_2_inp=df_尿常规_2_inp.reset_index(drop=True)\n",
    "df_尿常规_2_oup=df_尿常规_2[df_尿常规_2['访视'].str.contains('出院前检查')]\n",
    "df_尿常规_2_oup=df_尿常规_2_oup.reset_index(drop=True)"
   ]
  },
  {
   "cell_type": "code",
   "execution_count": 99,
   "metadata": {},
   "outputs": [
    {
     "data": {
      "text/plain": [
       "(101, 6)"
      ]
     },
     "execution_count": 99,
     "metadata": {},
     "output_type": "execute_result"
    }
   ],
   "source": [
    "df_尿常规_2_inp.shape"
   ]
  },
  {
   "cell_type": "code",
   "execution_count": 100,
   "metadata": {},
   "outputs": [
    {
     "data": {
      "text/html": [
       "<div>\n",
       "<style scoped>\n",
       "    .dataframe tbody tr th:only-of-type {\n",
       "        vertical-align: middle;\n",
       "    }\n",
       "\n",
       "    .dataframe tbody tr th {\n",
       "        vertical-align: top;\n",
       "    }\n",
       "\n",
       "    .dataframe thead th {\n",
       "        text-align: right;\n",
       "    }\n",
       "</style>\n",
       "<table border=\"1\" class=\"dataframe\">\n",
       "  <thead>\n",
       "    <tr style=\"text-align: right;\">\n",
       "      <th></th>\n",
       "      <th>访视</th>\n",
       "      <th>受试者编号</th>\n",
       "      <th>检查日期</th>\n",
       "      <th>尿蛋白（PRO）</th>\n",
       "      <th>尿白细胞（LEU）</th>\n",
       "      <th>尿红细胞（ERY）</th>\n",
       "    </tr>\n",
       "  </thead>\n",
       "  <tbody>\n",
       "    <tr>\n",
       "      <th>0</th>\n",
       "      <td>入院检查</td>\n",
       "      <td>90001_b</td>\n",
       "      <td>NaN</td>\n",
       "      <td>NaN</td>\n",
       "      <td>NaN</td>\n",
       "      <td>NaN</td>\n",
       "    </tr>\n",
       "    <tr>\n",
       "      <th>1</th>\n",
       "      <td>入院检查</td>\n",
       "      <td>90002_b</td>\n",
       "      <td>2019-04-24</td>\n",
       "      <td>75</td>\n",
       "      <td>阴性</td>\n",
       "      <td>25</td>\n",
       "    </tr>\n",
       "    <tr>\n",
       "      <th>2</th>\n",
       "      <td>入院检查</td>\n",
       "      <td>90003_b</td>\n",
       "      <td>2019-05-25</td>\n",
       "      <td>NaN</td>\n",
       "      <td>NaN</td>\n",
       "      <td>NaN</td>\n",
       "    </tr>\n",
       "    <tr>\n",
       "      <th>3</th>\n",
       "      <td>入院检查</td>\n",
       "      <td>90004_b</td>\n",
       "      <td>2019-04-01</td>\n",
       "      <td>NaN</td>\n",
       "      <td>NaN</td>\n",
       "      <td>NaN</td>\n",
       "    </tr>\n",
       "    <tr>\n",
       "      <th>4</th>\n",
       "      <td>入院检查</td>\n",
       "      <td>90005_b</td>\n",
       "      <td>2019-05-18</td>\n",
       "      <td>75</td>\n",
       "      <td>NaN</td>\n",
       "      <td>1-2</td>\n",
       "    </tr>\n",
       "  </tbody>\n",
       "</table>\n",
       "</div>"
      ],
      "text/plain": [
       "     访视    受试者编号        检查日期 尿蛋白（PRO） 尿白细胞（LEU） 尿红细胞（ERY）\n",
       "0  入院检查  90001_b         NaN      NaN       NaN       NaN\n",
       "1  入院检查  90002_b  2019-04-24       75        阴性        25\n",
       "2  入院检查  90003_b  2019-05-25      NaN       NaN       NaN\n",
       "3  入院检查  90004_b  2019-04-01      NaN       NaN       NaN\n",
       "4  入院检查  90005_b  2019-05-18       75       NaN       1-2"
      ]
     },
     "execution_count": 100,
     "metadata": {},
     "output_type": "execute_result"
    }
   ],
   "source": [
    "df_尿常规_2_inp.head()"
   ]
  },
  {
   "cell_type": "code",
   "execution_count": 101,
   "metadata": {},
   "outputs": [
    {
     "data": {
      "text/plain": [
       "(87, 6)"
      ]
     },
     "execution_count": 101,
     "metadata": {},
     "output_type": "execute_result"
    }
   ],
   "source": [
    "df_尿常规_2_oup.shape"
   ]
  },
  {
   "cell_type": "code",
   "execution_count": 102,
   "metadata": {},
   "outputs": [
    {
     "data": {
      "text/html": [
       "<div>\n",
       "<style scoped>\n",
       "    .dataframe tbody tr th:only-of-type {\n",
       "        vertical-align: middle;\n",
       "    }\n",
       "\n",
       "    .dataframe tbody tr th {\n",
       "        vertical-align: top;\n",
       "    }\n",
       "\n",
       "    .dataframe thead th {\n",
       "        text-align: right;\n",
       "    }\n",
       "</style>\n",
       "<table border=\"1\" class=\"dataframe\">\n",
       "  <thead>\n",
       "    <tr style=\"text-align: right;\">\n",
       "      <th></th>\n",
       "      <th>访视</th>\n",
       "      <th>受试者编号</th>\n",
       "      <th>检查日期</th>\n",
       "      <th>尿蛋白（PRO）</th>\n",
       "      <th>尿白细胞（LEU）</th>\n",
       "      <th>尿红细胞（ERY）</th>\n",
       "    </tr>\n",
       "  </thead>\n",
       "  <tbody>\n",
       "    <tr>\n",
       "      <th>0</th>\n",
       "      <td>出院前检查</td>\n",
       "      <td>90001_b</td>\n",
       "      <td>NaN</td>\n",
       "      <td>NaN</td>\n",
       "      <td>NaN</td>\n",
       "      <td>NaN</td>\n",
       "    </tr>\n",
       "    <tr>\n",
       "      <th>1</th>\n",
       "      <td>出院前检查</td>\n",
       "      <td>90002_b</td>\n",
       "      <td>NaN</td>\n",
       "      <td>NaN</td>\n",
       "      <td>NaN</td>\n",
       "      <td>NaN</td>\n",
       "    </tr>\n",
       "    <tr>\n",
       "      <th>2</th>\n",
       "      <td>出院前检查</td>\n",
       "      <td>90003_b</td>\n",
       "      <td>NaN</td>\n",
       "      <td>NaN</td>\n",
       "      <td>NaN</td>\n",
       "      <td>NaN</td>\n",
       "    </tr>\n",
       "    <tr>\n",
       "      <th>3</th>\n",
       "      <td>出院前检查</td>\n",
       "      <td>90004_b</td>\n",
       "      <td>NaN</td>\n",
       "      <td>NaN</td>\n",
       "      <td>NaN</td>\n",
       "      <td>NaN</td>\n",
       "    </tr>\n",
       "    <tr>\n",
       "      <th>4</th>\n",
       "      <td>出院前检查</td>\n",
       "      <td>90005_b</td>\n",
       "      <td>NaN</td>\n",
       "      <td>NaN</td>\n",
       "      <td>NaN</td>\n",
       "      <td>NaN</td>\n",
       "    </tr>\n",
       "  </tbody>\n",
       "</table>\n",
       "</div>"
      ],
      "text/plain": [
       "      访视    受试者编号 检查日期 尿蛋白（PRO） 尿白细胞（LEU） 尿红细胞（ERY）\n",
       "0  出院前检查  90001_b  NaN      NaN       NaN       NaN\n",
       "1  出院前检查  90002_b  NaN      NaN       NaN       NaN\n",
       "2  出院前检查  90003_b  NaN      NaN       NaN       NaN\n",
       "3  出院前检查  90004_b  NaN      NaN       NaN       NaN\n",
       "4  出院前检查  90005_b  NaN      NaN       NaN       NaN"
      ]
     },
     "execution_count": 102,
     "metadata": {},
     "output_type": "execute_result"
    }
   ],
   "source": [
    "df_尿常规_2_oup.head()"
   ]
  },
  {
   "cell_type": "code",
   "execution_count": 103,
   "metadata": {},
   "outputs": [],
   "source": [
    "df_尿常规_2_inp.to_excel(project_path+'/data/processed_data/检测数据/尿常规/df_尿常规_心内科_入院记录.xlsx')\n",
    "df_尿常规_2_oup.to_excel(project_path+'/data/processed_data/检测数据/尿常规/df_尿常规_心内科_出院记录.xlsx')"
   ]
  },
  {
   "cell_type": "markdown",
   "metadata": {},
   "source": [
    "#### 合并尿常规"
   ]
  },
  {
   "cell_type": "code",
   "execution_count": 104,
   "metadata": {},
   "outputs": [],
   "source": [
    "# 修改列名\n",
    "for i in df_尿常规_1_inp.columns[3:]:\n",
    "    df_尿常规_1_inp.rename(columns={i:i + '_入院'},inplace=True)\n",
    "for i in df_尿常规_2_inp.columns[3:]:\n",
    "    df_尿常规_2_inp.rename(columns={i:i+'_入院'},inplace=True)  "
   ]
  },
  {
   "cell_type": "code",
   "execution_count": 105,
   "metadata": {},
   "outputs": [],
   "source": [
    "df_尿常规_入院=pd.concat([df_尿常规_1_inp,df_尿常规_2_inp],axis=0)"
   ]
  },
  {
   "cell_type": "code",
   "execution_count": 106,
   "metadata": {},
   "outputs": [
    {
     "data": {
      "text/html": [
       "<div>\n",
       "<style scoped>\n",
       "    .dataframe tbody tr th:only-of-type {\n",
       "        vertical-align: middle;\n",
       "    }\n",
       "\n",
       "    .dataframe tbody tr th {\n",
       "        vertical-align: top;\n",
       "    }\n",
       "\n",
       "    .dataframe thead th {\n",
       "        text-align: right;\n",
       "    }\n",
       "</style>\n",
       "<table border=\"1\" class=\"dataframe\">\n",
       "  <thead>\n",
       "    <tr style=\"text-align: right;\">\n",
       "      <th></th>\n",
       "      <th>访视</th>\n",
       "      <th>受试者编号</th>\n",
       "      <th>检查日期</th>\n",
       "      <th>尿蛋白（PRO）_入院</th>\n",
       "      <th>尿白细胞（LEU）_入院</th>\n",
       "      <th>尿红细胞（ERY）_入院</th>\n",
       "    </tr>\n",
       "  </thead>\n",
       "  <tbody>\n",
       "    <tr>\n",
       "      <th>0</th>\n",
       "      <td>入院检查</td>\n",
       "      <td>90001_a</td>\n",
       "      <td>2018-03-31</td>\n",
       "      <td>25</td>\n",
       "      <td>5-8</td>\n",
       "      <td>0</td>\n",
       "    </tr>\n",
       "    <tr>\n",
       "      <th>1</th>\n",
       "      <td>入院检查</td>\n",
       "      <td>90003_a</td>\n",
       "      <td>NaN</td>\n",
       "      <td>NaN</td>\n",
       "      <td>NaN</td>\n",
       "      <td>NaN</td>\n",
       "    </tr>\n",
       "    <tr>\n",
       "      <th>2</th>\n",
       "      <td>入院检查</td>\n",
       "      <td>90004_a</td>\n",
       "      <td>NaN</td>\n",
       "      <td>NaN</td>\n",
       "      <td>NaN</td>\n",
       "      <td>NaN</td>\n",
       "    </tr>\n",
       "    <tr>\n",
       "      <th>3</th>\n",
       "      <td>入院检查</td>\n",
       "      <td>90005_a</td>\n",
       "      <td>NaN</td>\n",
       "      <td>NaN</td>\n",
       "      <td>NaN</td>\n",
       "      <td>NaN</td>\n",
       "    </tr>\n",
       "    <tr>\n",
       "      <th>4</th>\n",
       "      <td>入院检查</td>\n",
       "      <td>90006_a</td>\n",
       "      <td>2018-02-12</td>\n",
       "      <td>阴性</td>\n",
       "      <td>阴性</td>\n",
       "      <td>10</td>\n",
       "    </tr>\n",
       "  </tbody>\n",
       "</table>\n",
       "</div>"
      ],
      "text/plain": [
       "     访视    受试者编号        检查日期 尿蛋白（PRO）_入院 尿白细胞（LEU）_入院 尿红细胞（ERY）_入院\n",
       "0  入院检查  90001_a  2018-03-31          25          5-8            0\n",
       "1  入院检查  90003_a         NaN         NaN          NaN          NaN\n",
       "2  入院检查  90004_a         NaN         NaN          NaN          NaN\n",
       "3  入院检查  90005_a         NaN         NaN          NaN          NaN\n",
       "4  入院检查  90006_a  2018-02-12          阴性           阴性           10"
      ]
     },
     "execution_count": 106,
     "metadata": {},
     "output_type": "execute_result"
    }
   ],
   "source": [
    "df_尿常规_入院.head()"
   ]
  },
  {
   "cell_type": "code",
   "execution_count": 107,
   "metadata": {},
   "outputs": [],
   "source": [
    "df_尿常规_入院.to_excel(project_path+'/data/processed_data/检测数据/df_尿常规_入院.xlsx')"
   ]
  },
  {
   "cell_type": "code",
   "execution_count": 108,
   "metadata": {},
   "outputs": [],
   "source": [
    "for i in df_尿常规_1_oup.columns[3:]:\n",
    "    df_尿常规_1_oup.rename(columns={i:i + '_出院'},inplace=True)\n",
    "for i in df_尿常规_2_oup.columns[3:]:\n",
    "    df_尿常规_2_oup.rename(columns={i:i+'_出院'},inplace=True)  "
   ]
  },
  {
   "cell_type": "code",
   "execution_count": 109,
   "metadata": {},
   "outputs": [],
   "source": [
    "df_尿常规_出院=pd.concat([df_尿常规_1_oup,df_尿常规_2_oup],axis=0)"
   ]
  },
  {
   "cell_type": "code",
   "execution_count": 110,
   "metadata": {},
   "outputs": [
    {
     "data": {
      "text/html": [
       "<div>\n",
       "<style scoped>\n",
       "    .dataframe tbody tr th:only-of-type {\n",
       "        vertical-align: middle;\n",
       "    }\n",
       "\n",
       "    .dataframe tbody tr th {\n",
       "        vertical-align: top;\n",
       "    }\n",
       "\n",
       "    .dataframe thead th {\n",
       "        text-align: right;\n",
       "    }\n",
       "</style>\n",
       "<table border=\"1\" class=\"dataframe\">\n",
       "  <thead>\n",
       "    <tr style=\"text-align: right;\">\n",
       "      <th></th>\n",
       "      <th>访视</th>\n",
       "      <th>受试者编号</th>\n",
       "      <th>检查日期</th>\n",
       "      <th>尿蛋白（PRO）_出院</th>\n",
       "      <th>尿白细胞（LEU）_出院</th>\n",
       "      <th>尿红细胞（ERY）_出院</th>\n",
       "    </tr>\n",
       "  </thead>\n",
       "  <tbody>\n",
       "    <tr>\n",
       "      <th>0</th>\n",
       "      <td>出院前检查</td>\n",
       "      <td>90001_a</td>\n",
       "      <td>NaN</td>\n",
       "      <td>NaN</td>\n",
       "      <td>NaN</td>\n",
       "      <td>NaN</td>\n",
       "    </tr>\n",
       "    <tr>\n",
       "      <th>1</th>\n",
       "      <td>出院前检查</td>\n",
       "      <td>90003_a</td>\n",
       "      <td>NaN</td>\n",
       "      <td>NaN</td>\n",
       "      <td>NaN</td>\n",
       "      <td>NaN</td>\n",
       "    </tr>\n",
       "    <tr>\n",
       "      <th>2</th>\n",
       "      <td>出院前检查</td>\n",
       "      <td>90004_a</td>\n",
       "      <td>NaN</td>\n",
       "      <td>NaN</td>\n",
       "      <td>NaN</td>\n",
       "      <td>NaN</td>\n",
       "    </tr>\n",
       "    <tr>\n",
       "      <th>3</th>\n",
       "      <td>出院前检查</td>\n",
       "      <td>90005_a</td>\n",
       "      <td>NaN</td>\n",
       "      <td>NaN</td>\n",
       "      <td>NaN</td>\n",
       "      <td>NaN</td>\n",
       "    </tr>\n",
       "    <tr>\n",
       "      <th>4</th>\n",
       "      <td>出院前检查</td>\n",
       "      <td>90006_a</td>\n",
       "      <td>NaN</td>\n",
       "      <td>NaN</td>\n",
       "      <td>NaN</td>\n",
       "      <td>NaN</td>\n",
       "    </tr>\n",
       "  </tbody>\n",
       "</table>\n",
       "</div>"
      ],
      "text/plain": [
       "      访视    受试者编号 检查日期 尿蛋白（PRO）_出院 尿白细胞（LEU）_出院 尿红细胞（ERY）_出院\n",
       "0  出院前检查  90001_a  NaN         NaN          NaN          NaN\n",
       "1  出院前检查  90003_a  NaN         NaN          NaN          NaN\n",
       "2  出院前检查  90004_a  NaN         NaN          NaN          NaN\n",
       "3  出院前检查  90005_a  NaN         NaN          NaN          NaN\n",
       "4  出院前检查  90006_a  NaN         NaN          NaN          NaN"
      ]
     },
     "execution_count": 110,
     "metadata": {},
     "output_type": "execute_result"
    }
   ],
   "source": [
    "df_尿常规_出院.head()"
   ]
  },
  {
   "cell_type": "code",
   "execution_count": 111,
   "metadata": {},
   "outputs": [],
   "source": [
    "df_尿常规_出院.to_excel(project_path+'/data/processed_data/检测数据/df_尿常规_出院.xlsx')"
   ]
  },
  {
   "cell_type": "markdown",
   "metadata": {},
   "source": [
    "### 血生化"
   ]
  },
  {
   "cell_type": "markdown",
   "metadata": {},
   "source": [
    "#### 其他科"
   ]
  },
  {
   "cell_type": "code",
   "execution_count": 112,
   "metadata": {},
   "outputs": [],
   "source": [
    "df_血生化_1 = pd.read_excel(project_path+'/data/raw_data/导出全部CRF表数据-其他科1021.xlsx',\n",
    "                            sheet_name='LBB_血生化',\n",
    "                           header=1,)  # 指定第2行作为标题行\n",
    "#                            skiprows=[1,1,1])  # 跳过第1行"
   ]
  },
  {
   "cell_type": "code",
   "execution_count": 113,
   "metadata": {},
   "outputs": [],
   "source": [
    "# 标记受试者编号\n",
    "df_血生化_1['受试者编号']=df_血生化_1['受试者编号'].apply(lambda x: str(x)+'_a')"
   ]
  },
  {
   "cell_type": "code",
   "execution_count": 114,
   "metadata": {},
   "outputs": [
    {
     "data": {
      "text/plain": [
       "Index(['方案号', '中心标识', '中心名称', '受试者编号', '访视', '检查日期', '总胆红素（TBil）',\n",
       "       '总胆红素（TBil）-临床意义', '总胆红素（TBil）-临床意义_描述', '总胆红素（TBil）-异常请描述',\n",
       "       '直接胆红素（DBil）', '直接胆红素（DBil）-临床意义', '直接胆红素（DBil）-临床意义_描述',\n",
       "       '直接胆红素（DBil）-异常请描述', '白蛋白', '白蛋白-临床意义', '白蛋白-临床意义_描述', '白蛋白-异常请描述',\n",
       "       '前白蛋白', '前白蛋白-临床意义', '前白蛋白-临床意义_描述', '前白蛋白-异常请描述', 'ALT', 'ALT-临床意义',\n",
       "       'ALT-临床意义_描述', 'ALT-异常请描述', 'AST', 'AST-临床意义', 'AST-临床意义_描述',\n",
       "       'AST-异常请描述', 'GGT', 'GGT-临床意义', 'GGT-临床意义_描述', 'GGT-异常请描述', 'AKP',\n",
       "       'AKP-临床意义', 'AKP-临床意义_描述', 'AKP-异常请描述', '尿素氮（BUN）', '尿素氮（BUN）-临床意义',\n",
       "       '尿素氮（BUN）-临床意义_描述', '尿素氮（BUN）-异常请描述', '肌酐（Cr）', '肌酐（Cr）-临床意义',\n",
       "       '肌酐（Cr）-临床意义_描述', '肌酐（Cr）-异常请描述', 'PT', 'PT-临床意义', 'PT-临床意义_描述',\n",
       "       'PT-异常请描述', 'INR', 'INR-临床意义', 'INR-临床意义_描述', 'INR-异常请描述', '血钠',\n",
       "       '血钠-临床意义', '血钠-临床意义_描述', '血钠-异常请描述', '血钾', '血钾-临床意义', '血钾-临床意义_描述',\n",
       "       '血钾-异常请描述', '血氯', '血氯-临床意义', '血氯-临床意义_描述', '血氯-异常请描述', '甘油三酯',\n",
       "       '甘油三酯-临床意义', '甘油三酯-临床意义_描述', '甘油三酯-异常请描述', '胆固醇', '胆固醇-临床意义',\n",
       "       '胆固醇-临床意义_描述', '胆固醇-异常请描述', '低密度脂蛋白（LDL）', '低密度脂蛋白（LDL）-临床意义',\n",
       "       '低密度脂蛋白（LDL）-临床意义_描述', '低密度脂蛋白（LDL）-异常请描述', '高密度脂蛋白胆固醇（HDLC）',\n",
       "       '高密度脂蛋白胆固醇（HDLC）-临床意义', '高密度脂蛋白胆固醇（HDLC）-临床意义_描述',\n",
       "       '高密度脂蛋白胆固醇（HDLC）-异常请描述', '原始录入日期', '最后修改日期'],\n",
       "      dtype='object')"
      ]
     },
     "execution_count": 114,
     "metadata": {},
     "output_type": "execute_result"
    }
   ],
   "source": [
    "df_血生化_1.columns"
   ]
  },
  {
   "cell_type": "code",
   "execution_count": 115,
   "metadata": {},
   "outputs": [],
   "source": [
    "# 提取有效字段\n",
    "df_血生化_1=df_血生化_1[['访视','受试者编号','检查日期','总胆红素（TBil）','直接胆红素（DBil）','白蛋白','前白蛋白',\n",
    "                  'ALT','AST','GGT','AKP','尿素氮（BUN）','肌酐（Cr）','PT','INR','血钠','血钾','血氯','甘油三酯',\n",
    "                  '胆固醇','低密度脂蛋白（LDL）','高密度脂蛋白胆固醇（HDLC）']]"
   ]
  },
  {
   "cell_type": "code",
   "execution_count": 116,
   "metadata": {},
   "outputs": [
    {
     "data": {
      "text/plain": [
       "(1173, 22)"
      ]
     },
     "execution_count": 116,
     "metadata": {},
     "output_type": "execute_result"
    }
   ],
   "source": [
    "df_血生化_1.shape"
   ]
  },
  {
   "cell_type": "code",
   "execution_count": 117,
   "metadata": {
    "scrolled": true
   },
   "outputs": [
    {
     "data": {
      "text/html": [
       "<div>\n",
       "<style scoped>\n",
       "    .dataframe tbody tr th:only-of-type {\n",
       "        vertical-align: middle;\n",
       "    }\n",
       "\n",
       "    .dataframe tbody tr th {\n",
       "        vertical-align: top;\n",
       "    }\n",
       "\n",
       "    .dataframe thead th {\n",
       "        text-align: right;\n",
       "    }\n",
       "</style>\n",
       "<table border=\"1\" class=\"dataframe\">\n",
       "  <thead>\n",
       "    <tr style=\"text-align: right;\">\n",
       "      <th></th>\n",
       "      <th>访视</th>\n",
       "      <th>受试者编号</th>\n",
       "      <th>检查日期</th>\n",
       "      <th>总胆红素（TBil）</th>\n",
       "      <th>直接胆红素（DBil）</th>\n",
       "      <th>白蛋白</th>\n",
       "      <th>前白蛋白</th>\n",
       "      <th>ALT</th>\n",
       "      <th>AST</th>\n",
       "      <th>GGT</th>\n",
       "      <th>...</th>\n",
       "      <th>肌酐（Cr）</th>\n",
       "      <th>PT</th>\n",
       "      <th>INR</th>\n",
       "      <th>血钠</th>\n",
       "      <th>血钾</th>\n",
       "      <th>血氯</th>\n",
       "      <th>甘油三酯</th>\n",
       "      <th>胆固醇</th>\n",
       "      <th>低密度脂蛋白（LDL）</th>\n",
       "      <th>高密度脂蛋白胆固醇（HDLC）</th>\n",
       "    </tr>\n",
       "  </thead>\n",
       "  <tbody>\n",
       "    <tr>\n",
       "      <th>0</th>\n",
       "      <td>入院检查</td>\n",
       "      <td>90001_a</td>\n",
       "      <td>2018-03-28</td>\n",
       "      <td>12.4</td>\n",
       "      <td>0.0</td>\n",
       "      <td>43.6</td>\n",
       "      <td>NaN</td>\n",
       "      <td>51.0</td>\n",
       "      <td>51.0</td>\n",
       "      <td>71.0</td>\n",
       "      <td>...</td>\n",
       "      <td>62.5</td>\n",
       "      <td>10.4</td>\n",
       "      <td>0.96</td>\n",
       "      <td>142.0</td>\n",
       "      <td>4.53</td>\n",
       "      <td>105.0</td>\n",
       "      <td>1.18</td>\n",
       "      <td>3.72</td>\n",
       "      <td>1.83</td>\n",
       "      <td>1.59</td>\n",
       "    </tr>\n",
       "    <tr>\n",
       "      <th>1</th>\n",
       "      <td>出院前检查</td>\n",
       "      <td>90001_a</td>\n",
       "      <td>2018-04-10</td>\n",
       "      <td>5.9</td>\n",
       "      <td>2.3</td>\n",
       "      <td>35.6</td>\n",
       "      <td>147.0</td>\n",
       "      <td>22.0</td>\n",
       "      <td>19.0</td>\n",
       "      <td>NaN</td>\n",
       "      <td>...</td>\n",
       "      <td>53.0</td>\n",
       "      <td>11.8</td>\n",
       "      <td>1.07</td>\n",
       "      <td>142.0</td>\n",
       "      <td>3.47</td>\n",
       "      <td>101.4</td>\n",
       "      <td>NaN</td>\n",
       "      <td>NaN</td>\n",
       "      <td>NaN</td>\n",
       "      <td>NaN</td>\n",
       "    </tr>\n",
       "    <tr>\n",
       "      <th>2</th>\n",
       "      <td>入院检查</td>\n",
       "      <td>90003_a</td>\n",
       "      <td>2018-01-31</td>\n",
       "      <td>12.1</td>\n",
       "      <td>0.0</td>\n",
       "      <td>27.5</td>\n",
       "      <td>NaN</td>\n",
       "      <td>83.0</td>\n",
       "      <td>100.0</td>\n",
       "      <td>43.0</td>\n",
       "      <td>...</td>\n",
       "      <td>63.2</td>\n",
       "      <td>NaN</td>\n",
       "      <td>NaN</td>\n",
       "      <td>138.0</td>\n",
       "      <td>3.40</td>\n",
       "      <td>107.0</td>\n",
       "      <td>NaN</td>\n",
       "      <td>NaN</td>\n",
       "      <td>NaN</td>\n",
       "      <td>NaN</td>\n",
       "    </tr>\n",
       "    <tr>\n",
       "      <th>3</th>\n",
       "      <td>出院前检查</td>\n",
       "      <td>90003_a</td>\n",
       "      <td>NaN</td>\n",
       "      <td>NaN</td>\n",
       "      <td>NaN</td>\n",
       "      <td>NaN</td>\n",
       "      <td>NaN</td>\n",
       "      <td>NaN</td>\n",
       "      <td>NaN</td>\n",
       "      <td>NaN</td>\n",
       "      <td>...</td>\n",
       "      <td>NaN</td>\n",
       "      <td>NaN</td>\n",
       "      <td>NaN</td>\n",
       "      <td>NaN</td>\n",
       "      <td>NaN</td>\n",
       "      <td>NaN</td>\n",
       "      <td>NaN</td>\n",
       "      <td>NaN</td>\n",
       "      <td>NaN</td>\n",
       "      <td>NaN</td>\n",
       "    </tr>\n",
       "    <tr>\n",
       "      <th>4</th>\n",
       "      <td>入院检查</td>\n",
       "      <td>90004_a</td>\n",
       "      <td>2018-01-27</td>\n",
       "      <td>4.4</td>\n",
       "      <td>2.1</td>\n",
       "      <td>25.5</td>\n",
       "      <td>253.0</td>\n",
       "      <td>9.0</td>\n",
       "      <td>17.0</td>\n",
       "      <td>33.0</td>\n",
       "      <td>...</td>\n",
       "      <td>914.4</td>\n",
       "      <td>NaN</td>\n",
       "      <td>NaN</td>\n",
       "      <td>137.0</td>\n",
       "      <td>2.70</td>\n",
       "      <td>96.0</td>\n",
       "      <td>1.05</td>\n",
       "      <td>4.84</td>\n",
       "      <td>3.12</td>\n",
       "      <td>1.28</td>\n",
       "    </tr>\n",
       "  </tbody>\n",
       "</table>\n",
       "<p>5 rows × 22 columns</p>\n",
       "</div>"
      ],
      "text/plain": [
       "      访视    受试者编号        检查日期  总胆红素（TBil）  直接胆红素（DBil）   白蛋白   前白蛋白   ALT  \\\n",
       "0   入院检查  90001_a  2018-03-28        12.4          0.0  43.6    NaN  51.0   \n",
       "1  出院前检查  90001_a  2018-04-10         5.9          2.3  35.6  147.0  22.0   \n",
       "2   入院检查  90003_a  2018-01-31        12.1          0.0  27.5    NaN  83.0   \n",
       "3  出院前检查  90003_a         NaN         NaN          NaN   NaN    NaN   NaN   \n",
       "4   入院检查  90004_a  2018-01-27         4.4          2.1  25.5  253.0   9.0   \n",
       "\n",
       "     AST   GGT  ...  肌酐（Cr）    PT   INR     血钠    血钾     血氯  甘油三酯   胆固醇  \\\n",
       "0   51.0  71.0  ...    62.5  10.4  0.96  142.0  4.53  105.0  1.18  3.72   \n",
       "1   19.0   NaN  ...    53.0  11.8  1.07  142.0  3.47  101.4   NaN   NaN   \n",
       "2  100.0  43.0  ...    63.2   NaN   NaN  138.0  3.40  107.0   NaN   NaN   \n",
       "3    NaN   NaN  ...     NaN   NaN   NaN    NaN   NaN    NaN   NaN   NaN   \n",
       "4   17.0  33.0  ...   914.4   NaN   NaN  137.0  2.70   96.0  1.05  4.84   \n",
       "\n",
       "   低密度脂蛋白（LDL）  高密度脂蛋白胆固醇（HDLC）  \n",
       "0         1.83             1.59  \n",
       "1          NaN              NaN  \n",
       "2          NaN              NaN  \n",
       "3          NaN              NaN  \n",
       "4         3.12             1.28  \n",
       "\n",
       "[5 rows x 22 columns]"
      ]
     },
     "execution_count": 117,
     "metadata": {},
     "output_type": "execute_result"
    }
   ],
   "source": [
    "df_血生化_1.head()"
   ]
  },
  {
   "cell_type": "code",
   "execution_count": 118,
   "metadata": {},
   "outputs": [],
   "source": [
    "# 出入院血常规检测\n",
    "df_血生化_1_inp=df_血生化_1[df_血生化_1['访视'].str.contains('入院检查')]\n",
    "df_血生化_1_inp=df_血生化_1_inp.reset_index(drop=True)\n",
    "df_血生化_1_oup=df_血生化_1[df_血生化_1['访视'].str.contains('出院前检查')]\n",
    "df_血生化_1_oup=df_血生化_1_oup.reset_index(drop=True)"
   ]
  },
  {
   "cell_type": "code",
   "execution_count": 119,
   "metadata": {},
   "outputs": [
    {
     "data": {
      "text/plain": [
       "(638, 22)"
      ]
     },
     "execution_count": 119,
     "metadata": {},
     "output_type": "execute_result"
    }
   ],
   "source": [
    "df_血生化_1_inp.shape"
   ]
  },
  {
   "cell_type": "code",
   "execution_count": 120,
   "metadata": {
    "scrolled": true
   },
   "outputs": [
    {
     "data": {
      "text/html": [
       "<div>\n",
       "<style scoped>\n",
       "    .dataframe tbody tr th:only-of-type {\n",
       "        vertical-align: middle;\n",
       "    }\n",
       "\n",
       "    .dataframe tbody tr th {\n",
       "        vertical-align: top;\n",
       "    }\n",
       "\n",
       "    .dataframe thead th {\n",
       "        text-align: right;\n",
       "    }\n",
       "</style>\n",
       "<table border=\"1\" class=\"dataframe\">\n",
       "  <thead>\n",
       "    <tr style=\"text-align: right;\">\n",
       "      <th></th>\n",
       "      <th>访视</th>\n",
       "      <th>受试者编号</th>\n",
       "      <th>检查日期</th>\n",
       "      <th>总胆红素（TBil）</th>\n",
       "      <th>直接胆红素（DBil）</th>\n",
       "      <th>白蛋白</th>\n",
       "      <th>前白蛋白</th>\n",
       "      <th>ALT</th>\n",
       "      <th>AST</th>\n",
       "      <th>GGT</th>\n",
       "      <th>...</th>\n",
       "      <th>肌酐（Cr）</th>\n",
       "      <th>PT</th>\n",
       "      <th>INR</th>\n",
       "      <th>血钠</th>\n",
       "      <th>血钾</th>\n",
       "      <th>血氯</th>\n",
       "      <th>甘油三酯</th>\n",
       "      <th>胆固醇</th>\n",
       "      <th>低密度脂蛋白（LDL）</th>\n",
       "      <th>高密度脂蛋白胆固醇（HDLC）</th>\n",
       "    </tr>\n",
       "  </thead>\n",
       "  <tbody>\n",
       "    <tr>\n",
       "      <th>0</th>\n",
       "      <td>入院检查</td>\n",
       "      <td>90001_a</td>\n",
       "      <td>2018-03-28</td>\n",
       "      <td>12.4</td>\n",
       "      <td>0.0</td>\n",
       "      <td>43.6</td>\n",
       "      <td>NaN</td>\n",
       "      <td>51.0</td>\n",
       "      <td>51.0</td>\n",
       "      <td>71.0</td>\n",
       "      <td>...</td>\n",
       "      <td>62.5</td>\n",
       "      <td>10.4</td>\n",
       "      <td>0.96</td>\n",
       "      <td>142.0</td>\n",
       "      <td>4.53</td>\n",
       "      <td>105.0</td>\n",
       "      <td>1.18</td>\n",
       "      <td>3.72</td>\n",
       "      <td>1.83</td>\n",
       "      <td>1.59</td>\n",
       "    </tr>\n",
       "    <tr>\n",
       "      <th>1</th>\n",
       "      <td>入院检查</td>\n",
       "      <td>90003_a</td>\n",
       "      <td>2018-01-31</td>\n",
       "      <td>12.1</td>\n",
       "      <td>0.0</td>\n",
       "      <td>27.5</td>\n",
       "      <td>NaN</td>\n",
       "      <td>83.0</td>\n",
       "      <td>100.0</td>\n",
       "      <td>43.0</td>\n",
       "      <td>...</td>\n",
       "      <td>63.2</td>\n",
       "      <td>NaN</td>\n",
       "      <td>NaN</td>\n",
       "      <td>138.0</td>\n",
       "      <td>3.40</td>\n",
       "      <td>107.0</td>\n",
       "      <td>NaN</td>\n",
       "      <td>NaN</td>\n",
       "      <td>NaN</td>\n",
       "      <td>NaN</td>\n",
       "    </tr>\n",
       "    <tr>\n",
       "      <th>2</th>\n",
       "      <td>入院检查</td>\n",
       "      <td>90004_a</td>\n",
       "      <td>2018-01-27</td>\n",
       "      <td>4.4</td>\n",
       "      <td>2.1</td>\n",
       "      <td>25.5</td>\n",
       "      <td>253.0</td>\n",
       "      <td>9.0</td>\n",
       "      <td>17.0</td>\n",
       "      <td>33.0</td>\n",
       "      <td>...</td>\n",
       "      <td>914.4</td>\n",
       "      <td>NaN</td>\n",
       "      <td>NaN</td>\n",
       "      <td>137.0</td>\n",
       "      <td>2.70</td>\n",
       "      <td>96.0</td>\n",
       "      <td>1.05</td>\n",
       "      <td>4.84</td>\n",
       "      <td>3.12</td>\n",
       "      <td>1.28</td>\n",
       "    </tr>\n",
       "    <tr>\n",
       "      <th>3</th>\n",
       "      <td>入院检查</td>\n",
       "      <td>90005_a</td>\n",
       "      <td>2018-02-07</td>\n",
       "      <td>15.3</td>\n",
       "      <td>0.0</td>\n",
       "      <td>37.7</td>\n",
       "      <td>391.0</td>\n",
       "      <td>21.0</td>\n",
       "      <td>31.0</td>\n",
       "      <td>24.0</td>\n",
       "      <td>...</td>\n",
       "      <td>1223.4</td>\n",
       "      <td>11.9</td>\n",
       "      <td>1.10</td>\n",
       "      <td>137.0</td>\n",
       "      <td>3.50</td>\n",
       "      <td>92.0</td>\n",
       "      <td>3.13</td>\n",
       "      <td>6.66</td>\n",
       "      <td>4.27</td>\n",
       "      <td>1.24</td>\n",
       "    </tr>\n",
       "    <tr>\n",
       "      <th>4</th>\n",
       "      <td>入院检查</td>\n",
       "      <td>90006_a</td>\n",
       "      <td>2018-02-12</td>\n",
       "      <td>14.2</td>\n",
       "      <td>3.2</td>\n",
       "      <td>64.2</td>\n",
       "      <td>191.0</td>\n",
       "      <td>17.0</td>\n",
       "      <td>16.0</td>\n",
       "      <td>16.0</td>\n",
       "      <td>...</td>\n",
       "      <td>54.0</td>\n",
       "      <td>NaN</td>\n",
       "      <td>NaN</td>\n",
       "      <td>140.5</td>\n",
       "      <td>4.05</td>\n",
       "      <td>106.0</td>\n",
       "      <td>4.23</td>\n",
       "      <td>6.17</td>\n",
       "      <td>4.48</td>\n",
       "      <td>1.05</td>\n",
       "    </tr>\n",
       "  </tbody>\n",
       "</table>\n",
       "<p>5 rows × 22 columns</p>\n",
       "</div>"
      ],
      "text/plain": [
       "     访视    受试者编号        检查日期  总胆红素（TBil）  直接胆红素（DBil）   白蛋白   前白蛋白   ALT  \\\n",
       "0  入院检查  90001_a  2018-03-28        12.4          0.0  43.6    NaN  51.0   \n",
       "1  入院检查  90003_a  2018-01-31        12.1          0.0  27.5    NaN  83.0   \n",
       "2  入院检查  90004_a  2018-01-27         4.4          2.1  25.5  253.0   9.0   \n",
       "3  入院检查  90005_a  2018-02-07        15.3          0.0  37.7  391.0  21.0   \n",
       "4  入院检查  90006_a  2018-02-12        14.2          3.2  64.2  191.0  17.0   \n",
       "\n",
       "     AST   GGT  ...  肌酐（Cr）    PT   INR     血钠    血钾     血氯  甘油三酯   胆固醇  \\\n",
       "0   51.0  71.0  ...    62.5  10.4  0.96  142.0  4.53  105.0  1.18  3.72   \n",
       "1  100.0  43.0  ...    63.2   NaN   NaN  138.0  3.40  107.0   NaN   NaN   \n",
       "2   17.0  33.0  ...   914.4   NaN   NaN  137.0  2.70   96.0  1.05  4.84   \n",
       "3   31.0  24.0  ...  1223.4  11.9  1.10  137.0  3.50   92.0  3.13  6.66   \n",
       "4   16.0  16.0  ...    54.0   NaN   NaN  140.5  4.05  106.0  4.23  6.17   \n",
       "\n",
       "   低密度脂蛋白（LDL）  高密度脂蛋白胆固醇（HDLC）  \n",
       "0         1.83             1.59  \n",
       "1          NaN              NaN  \n",
       "2         3.12             1.28  \n",
       "3         4.27             1.24  \n",
       "4         4.48             1.05  \n",
       "\n",
       "[5 rows x 22 columns]"
      ]
     },
     "execution_count": 120,
     "metadata": {},
     "output_type": "execute_result"
    }
   ],
   "source": [
    "df_血生化_1_inp.head()"
   ]
  },
  {
   "cell_type": "code",
   "execution_count": 121,
   "metadata": {},
   "outputs": [
    {
     "data": {
      "text/plain": [
       "(535, 22)"
      ]
     },
     "execution_count": 121,
     "metadata": {},
     "output_type": "execute_result"
    }
   ],
   "source": [
    "df_血生化_1_oup.shape"
   ]
  },
  {
   "cell_type": "code",
   "execution_count": 122,
   "metadata": {
    "scrolled": true
   },
   "outputs": [
    {
     "data": {
      "text/html": [
       "<div>\n",
       "<style scoped>\n",
       "    .dataframe tbody tr th:only-of-type {\n",
       "        vertical-align: middle;\n",
       "    }\n",
       "\n",
       "    .dataframe tbody tr th {\n",
       "        vertical-align: top;\n",
       "    }\n",
       "\n",
       "    .dataframe thead th {\n",
       "        text-align: right;\n",
       "    }\n",
       "</style>\n",
       "<table border=\"1\" class=\"dataframe\">\n",
       "  <thead>\n",
       "    <tr style=\"text-align: right;\">\n",
       "      <th></th>\n",
       "      <th>访视</th>\n",
       "      <th>受试者编号</th>\n",
       "      <th>检查日期</th>\n",
       "      <th>总胆红素（TBil）</th>\n",
       "      <th>直接胆红素（DBil）</th>\n",
       "      <th>白蛋白</th>\n",
       "      <th>前白蛋白</th>\n",
       "      <th>ALT</th>\n",
       "      <th>AST</th>\n",
       "      <th>GGT</th>\n",
       "      <th>...</th>\n",
       "      <th>肌酐（Cr）</th>\n",
       "      <th>PT</th>\n",
       "      <th>INR</th>\n",
       "      <th>血钠</th>\n",
       "      <th>血钾</th>\n",
       "      <th>血氯</th>\n",
       "      <th>甘油三酯</th>\n",
       "      <th>胆固醇</th>\n",
       "      <th>低密度脂蛋白（LDL）</th>\n",
       "      <th>高密度脂蛋白胆固醇（HDLC）</th>\n",
       "    </tr>\n",
       "  </thead>\n",
       "  <tbody>\n",
       "    <tr>\n",
       "      <th>0</th>\n",
       "      <td>出院前检查</td>\n",
       "      <td>90001_a</td>\n",
       "      <td>2018-04-10</td>\n",
       "      <td>5.9</td>\n",
       "      <td>2.3</td>\n",
       "      <td>35.6</td>\n",
       "      <td>147.0</td>\n",
       "      <td>22.0</td>\n",
       "      <td>19.0</td>\n",
       "      <td>NaN</td>\n",
       "      <td>...</td>\n",
       "      <td>53.0</td>\n",
       "      <td>11.8</td>\n",
       "      <td>1.07</td>\n",
       "      <td>142.0</td>\n",
       "      <td>3.47</td>\n",
       "      <td>101.4</td>\n",
       "      <td>NaN</td>\n",
       "      <td>NaN</td>\n",
       "      <td>NaN</td>\n",
       "      <td>NaN</td>\n",
       "    </tr>\n",
       "    <tr>\n",
       "      <th>1</th>\n",
       "      <td>出院前检查</td>\n",
       "      <td>90003_a</td>\n",
       "      <td>NaN</td>\n",
       "      <td>NaN</td>\n",
       "      <td>NaN</td>\n",
       "      <td>NaN</td>\n",
       "      <td>NaN</td>\n",
       "      <td>NaN</td>\n",
       "      <td>NaN</td>\n",
       "      <td>NaN</td>\n",
       "      <td>...</td>\n",
       "      <td>NaN</td>\n",
       "      <td>NaN</td>\n",
       "      <td>NaN</td>\n",
       "      <td>NaN</td>\n",
       "      <td>NaN</td>\n",
       "      <td>NaN</td>\n",
       "      <td>NaN</td>\n",
       "      <td>NaN</td>\n",
       "      <td>NaN</td>\n",
       "      <td>NaN</td>\n",
       "    </tr>\n",
       "    <tr>\n",
       "      <th>2</th>\n",
       "      <td>出院前检查</td>\n",
       "      <td>90004_a</td>\n",
       "      <td>NaN</td>\n",
       "      <td>NaN</td>\n",
       "      <td>NaN</td>\n",
       "      <td>NaN</td>\n",
       "      <td>NaN</td>\n",
       "      <td>NaN</td>\n",
       "      <td>NaN</td>\n",
       "      <td>NaN</td>\n",
       "      <td>...</td>\n",
       "      <td>NaN</td>\n",
       "      <td>NaN</td>\n",
       "      <td>NaN</td>\n",
       "      <td>NaN</td>\n",
       "      <td>NaN</td>\n",
       "      <td>NaN</td>\n",
       "      <td>NaN</td>\n",
       "      <td>NaN</td>\n",
       "      <td>NaN</td>\n",
       "      <td>NaN</td>\n",
       "    </tr>\n",
       "    <tr>\n",
       "      <th>3</th>\n",
       "      <td>出院前检查</td>\n",
       "      <td>90005_a</td>\n",
       "      <td>2018-02-13</td>\n",
       "      <td>5.3</td>\n",
       "      <td>2.9</td>\n",
       "      <td>35.2</td>\n",
       "      <td>391.0</td>\n",
       "      <td>21.0</td>\n",
       "      <td>31.0</td>\n",
       "      <td>24.0</td>\n",
       "      <td>...</td>\n",
       "      <td>1095.0</td>\n",
       "      <td>NaN</td>\n",
       "      <td>NaN</td>\n",
       "      <td>136.9</td>\n",
       "      <td>2.92</td>\n",
       "      <td>93.0</td>\n",
       "      <td>NaN</td>\n",
       "      <td>NaN</td>\n",
       "      <td>NaN</td>\n",
       "      <td>NaN</td>\n",
       "    </tr>\n",
       "    <tr>\n",
       "      <th>4</th>\n",
       "      <td>出院前检查</td>\n",
       "      <td>90006_a</td>\n",
       "      <td>2018-02-19</td>\n",
       "      <td>17.7</td>\n",
       "      <td>5.1</td>\n",
       "      <td>40.8</td>\n",
       "      <td>173.0</td>\n",
       "      <td>25.0</td>\n",
       "      <td>19.0</td>\n",
       "      <td>17.0</td>\n",
       "      <td>...</td>\n",
       "      <td>55.0</td>\n",
       "      <td>NaN</td>\n",
       "      <td>NaN</td>\n",
       "      <td>NaN</td>\n",
       "      <td>NaN</td>\n",
       "      <td>NaN</td>\n",
       "      <td>NaN</td>\n",
       "      <td>NaN</td>\n",
       "      <td>NaN</td>\n",
       "      <td>NaN</td>\n",
       "    </tr>\n",
       "  </tbody>\n",
       "</table>\n",
       "<p>5 rows × 22 columns</p>\n",
       "</div>"
      ],
      "text/plain": [
       "      访视    受试者编号        检查日期  总胆红素（TBil）  直接胆红素（DBil）   白蛋白   前白蛋白   ALT  \\\n",
       "0  出院前检查  90001_a  2018-04-10         5.9          2.3  35.6  147.0  22.0   \n",
       "1  出院前检查  90003_a         NaN         NaN          NaN   NaN    NaN   NaN   \n",
       "2  出院前检查  90004_a         NaN         NaN          NaN   NaN    NaN   NaN   \n",
       "3  出院前检查  90005_a  2018-02-13         5.3          2.9  35.2  391.0  21.0   \n",
       "4  出院前检查  90006_a  2018-02-19        17.7          5.1  40.8  173.0  25.0   \n",
       "\n",
       "    AST   GGT  ...  肌酐（Cr）    PT   INR     血钠    血钾     血氯  甘油三酯  胆固醇  \\\n",
       "0  19.0   NaN  ...    53.0  11.8  1.07  142.0  3.47  101.4   NaN  NaN   \n",
       "1   NaN   NaN  ...     NaN   NaN   NaN    NaN   NaN    NaN   NaN  NaN   \n",
       "2   NaN   NaN  ...     NaN   NaN   NaN    NaN   NaN    NaN   NaN  NaN   \n",
       "3  31.0  24.0  ...  1095.0   NaN   NaN  136.9  2.92   93.0   NaN  NaN   \n",
       "4  19.0  17.0  ...    55.0   NaN   NaN    NaN   NaN    NaN   NaN  NaN   \n",
       "\n",
       "   低密度脂蛋白（LDL）  高密度脂蛋白胆固醇（HDLC）  \n",
       "0          NaN              NaN  \n",
       "1          NaN              NaN  \n",
       "2          NaN              NaN  \n",
       "3          NaN              NaN  \n",
       "4          NaN              NaN  \n",
       "\n",
       "[5 rows x 22 columns]"
      ]
     },
     "execution_count": 122,
     "metadata": {},
     "output_type": "execute_result"
    }
   ],
   "source": [
    "df_血生化_1_oup.head()"
   ]
  },
  {
   "cell_type": "code",
   "execution_count": 123,
   "metadata": {},
   "outputs": [],
   "source": [
    "df_血生化_1_inp.to_excel(project_path+'/data/processed_data/检测数据/血生化/df_血生化_其他科_入院记录.xlsx')\n",
    "df_血生化_1_oup.to_excel(project_path+'/data/processed_data/检测数据/血生化/df_血生化_其他科_出院记录.xlsx')"
   ]
  },
  {
   "cell_type": "markdown",
   "metadata": {},
   "source": [
    "#### 心内科"
   ]
  },
  {
   "cell_type": "code",
   "execution_count": 124,
   "metadata": {},
   "outputs": [],
   "source": [
    "df_血生化_2 = pd.read_excel(project_path+'/data/raw_data/导出全部CRF表数据-心内科1021.xlsx',\n",
    "                            sheet_name='LBB_血生化',\n",
    "                           header=1,)  # 指定第2行作为标题行\n",
    "#                            skiprows=[1,1,1])  # 跳过第几行)"
   ]
  },
  {
   "cell_type": "code",
   "execution_count": 125,
   "metadata": {},
   "outputs": [],
   "source": [
    "# 标记受试者编号\n",
    "df_血生化_2['受试者编号']=df_血生化_2['受试者编号'].apply(lambda x: str(x)+'_b')"
   ]
  },
  {
   "cell_type": "code",
   "execution_count": 126,
   "metadata": {},
   "outputs": [
    {
     "data": {
      "text/plain": [
       "Index(['方案号', '中心标识', '中心名称', '受试者编号', '访视', '检查日期', '白蛋白', '白蛋白-临床意义',\n",
       "       '白蛋白-临床意义_描述', '白蛋白-异常请描述', 'ALT', 'ALT-临床意义', 'ALT-临床意义_描述',\n",
       "       'ALT-异常请描述', 'AST', 'AST-临床意义', 'AST-临床意义_描述', 'AST-异常请描述', 'HCY',\n",
       "       'HCY-临床意义', 'HCY-临床意义_描述', 'HCY-异常请描述', '尿素氮（BUN）', '尿素氮（BUN）-临床意义',\n",
       "       '尿素氮（BUN）-临床意义_描述', '尿素氮（BUN）-异常请描述', '肌酐（Cr）', '肌酐（Cr）-临床意义',\n",
       "       '肌酐（Cr）-临床意义_描述', '肌酐（Cr）-异常请描述', '血钠', '血钠-临床意义', '血钠-临床意义_描述',\n",
       "       '血钠-异常请描述', '血钾', '血钾-临床意义', '血钾-临床意义_描述', '血钾-异常请描述', '血氯', '血氯-临床意义',\n",
       "       '血氯-临床意义_描述', '血氯-异常请描述', '甘油三酯', '甘油三酯-临床意义', '甘油三酯-临床意义_描述',\n",
       "       '甘油三酯-异常请描述', '胆固醇', '胆固醇-临床意义', '胆固醇-临床意义_描述', '胆固醇-异常请描述',\n",
       "       '低密度脂蛋白（LDL）', '低密度脂蛋白（LDL）-临床意义', '低密度脂蛋白（LDL）-临床意义_描述',\n",
       "       '低密度脂蛋白（LDL）-异常请描述', '高密度脂蛋白胆固醇（HDLC）', '高密度脂蛋白胆固醇（HDLC）-临床意义',\n",
       "       '高密度脂蛋白胆固醇（HDLC）-临床意义_描述', '高密度脂蛋白胆固醇（HDLC）-异常请描述', 'NT-pro BNP',\n",
       "       'NT-pro BNP-临床意义', 'NT-pro BNP-临床意义_描述', 'NT-pro BNP-异常请描述', '肌钙蛋白',\n",
       "       '肌钙蛋白-临床意义', '肌钙蛋白-临床意义_描述', '肌钙蛋白-异常请描述', 'CK-MB', 'CK-MB-临床意义',\n",
       "       'CK-MB-临床意义_描述', 'CK-MB-异常请描述', '原始录入日期', '最后修改日期'],\n",
       "      dtype='object')"
      ]
     },
     "execution_count": 126,
     "metadata": {},
     "output_type": "execute_result"
    }
   ],
   "source": [
    "df_血生化_2.columns"
   ]
  },
  {
   "cell_type": "code",
   "execution_count": 127,
   "metadata": {},
   "outputs": [],
   "source": [
    "# 提取有效字段\n",
    "df_血生化_2=df_血生化_2[['访视','受试者编号','检查日期','白蛋白','HCY','NT-pro BNP','肌钙蛋白','CK-MB',\n",
    "                  'ALT','AST','尿素氮（BUN）','肌酐（Cr）','血钠','血钾','血氯','甘油三酯',\n",
    "                  '胆固醇','低密度脂蛋白（LDL）','高密度脂蛋白胆固醇（HDLC）']]"
   ]
  },
  {
   "cell_type": "code",
   "execution_count": 128,
   "metadata": {},
   "outputs": [
    {
     "data": {
      "text/plain": [
       "(194, 19)"
      ]
     },
     "execution_count": 128,
     "metadata": {},
     "output_type": "execute_result"
    }
   ],
   "source": [
    "df_血生化_2.shape"
   ]
  },
  {
   "cell_type": "code",
   "execution_count": 129,
   "metadata": {},
   "outputs": [
    {
     "data": {
      "text/html": [
       "<div>\n",
       "<style scoped>\n",
       "    .dataframe tbody tr th:only-of-type {\n",
       "        vertical-align: middle;\n",
       "    }\n",
       "\n",
       "    .dataframe tbody tr th {\n",
       "        vertical-align: top;\n",
       "    }\n",
       "\n",
       "    .dataframe thead th {\n",
       "        text-align: right;\n",
       "    }\n",
       "</style>\n",
       "<table border=\"1\" class=\"dataframe\">\n",
       "  <thead>\n",
       "    <tr style=\"text-align: right;\">\n",
       "      <th></th>\n",
       "      <th>访视</th>\n",
       "      <th>受试者编号</th>\n",
       "      <th>检查日期</th>\n",
       "      <th>白蛋白</th>\n",
       "      <th>HCY</th>\n",
       "      <th>NT-pro BNP</th>\n",
       "      <th>肌钙蛋白</th>\n",
       "      <th>CK-MB</th>\n",
       "      <th>ALT</th>\n",
       "      <th>AST</th>\n",
       "      <th>尿素氮（BUN）</th>\n",
       "      <th>肌酐（Cr）</th>\n",
       "      <th>血钠</th>\n",
       "      <th>血钾</th>\n",
       "      <th>血氯</th>\n",
       "      <th>甘油三酯</th>\n",
       "      <th>胆固醇</th>\n",
       "      <th>低密度脂蛋白（LDL）</th>\n",
       "      <th>高密度脂蛋白胆固醇（HDLC）</th>\n",
       "    </tr>\n",
       "  </thead>\n",
       "  <tbody>\n",
       "    <tr>\n",
       "      <th>0</th>\n",
       "      <td>入院检查</td>\n",
       "      <td>90001_b</td>\n",
       "      <td>NaN</td>\n",
       "      <td>NaN</td>\n",
       "      <td>NaN</td>\n",
       "      <td>NaN</td>\n",
       "      <td>NaN</td>\n",
       "      <td>NaN</td>\n",
       "      <td>NaN</td>\n",
       "      <td>NaN</td>\n",
       "      <td>NaN</td>\n",
       "      <td>NaN</td>\n",
       "      <td>NaN</td>\n",
       "      <td>NaN</td>\n",
       "      <td>NaN</td>\n",
       "      <td>NaN</td>\n",
       "      <td>NaN</td>\n",
       "      <td>NaN</td>\n",
       "      <td>NaN</td>\n",
       "    </tr>\n",
       "    <tr>\n",
       "      <th>1</th>\n",
       "      <td>出院前检查</td>\n",
       "      <td>90001_b</td>\n",
       "      <td>NaN</td>\n",
       "      <td>NaN</td>\n",
       "      <td>NaN</td>\n",
       "      <td>NaN</td>\n",
       "      <td>NaN</td>\n",
       "      <td>NaN</td>\n",
       "      <td>NaN</td>\n",
       "      <td>NaN</td>\n",
       "      <td>NaN</td>\n",
       "      <td>NaN</td>\n",
       "      <td>NaN</td>\n",
       "      <td>NaN</td>\n",
       "      <td>NaN</td>\n",
       "      <td>NaN</td>\n",
       "      <td>NaN</td>\n",
       "      <td>NaN</td>\n",
       "      <td>NaN</td>\n",
       "    </tr>\n",
       "    <tr>\n",
       "      <th>2</th>\n",
       "      <td>入院检查</td>\n",
       "      <td>90002_b</td>\n",
       "      <td>2019-04-24</td>\n",
       "      <td>38.1</td>\n",
       "      <td>NaN</td>\n",
       "      <td>NaN</td>\n",
       "      <td>NaN</td>\n",
       "      <td>NaN</td>\n",
       "      <td>45.0</td>\n",
       "      <td>141.0</td>\n",
       "      <td>10.1</td>\n",
       "      <td>80.0</td>\n",
       "      <td>139.0</td>\n",
       "      <td>4.30</td>\n",
       "      <td>103.0</td>\n",
       "      <td>0.25</td>\n",
       "      <td>4.65</td>\n",
       "      <td>287.00</td>\n",
       "      <td>1.55</td>\n",
       "    </tr>\n",
       "    <tr>\n",
       "      <th>3</th>\n",
       "      <td>出院前检查</td>\n",
       "      <td>90002_b</td>\n",
       "      <td>NaN</td>\n",
       "      <td>NaN</td>\n",
       "      <td>NaN</td>\n",
       "      <td>NaN</td>\n",
       "      <td>NaN</td>\n",
       "      <td>NaN</td>\n",
       "      <td>NaN</td>\n",
       "      <td>NaN</td>\n",
       "      <td>NaN</td>\n",
       "      <td>NaN</td>\n",
       "      <td>NaN</td>\n",
       "      <td>NaN</td>\n",
       "      <td>NaN</td>\n",
       "      <td>NaN</td>\n",
       "      <td>NaN</td>\n",
       "      <td>NaN</td>\n",
       "      <td>NaN</td>\n",
       "    </tr>\n",
       "    <tr>\n",
       "      <th>4</th>\n",
       "      <td>入院检查</td>\n",
       "      <td>90003_b</td>\n",
       "      <td>2019-05-25</td>\n",
       "      <td>41.2</td>\n",
       "      <td>NaN</td>\n",
       "      <td>NaN</td>\n",
       "      <td>NaN</td>\n",
       "      <td>NaN</td>\n",
       "      <td>27.0</td>\n",
       "      <td>67.0</td>\n",
       "      <td>3.6</td>\n",
       "      <td>78.0</td>\n",
       "      <td>140.3</td>\n",
       "      <td>4.19</td>\n",
       "      <td>103.0</td>\n",
       "      <td>2.12</td>\n",
       "      <td>5.16</td>\n",
       "      <td>3.45</td>\n",
       "      <td>1.20</td>\n",
       "    </tr>\n",
       "  </tbody>\n",
       "</table>\n",
       "</div>"
      ],
      "text/plain": [
       "      访视    受试者编号        检查日期   白蛋白  HCY  NT-pro BNP  肌钙蛋白  CK-MB   ALT  \\\n",
       "0   入院检查  90001_b         NaN   NaN  NaN         NaN   NaN    NaN   NaN   \n",
       "1  出院前检查  90001_b         NaN   NaN  NaN         NaN   NaN    NaN   NaN   \n",
       "2   入院检查  90002_b  2019-04-24  38.1  NaN         NaN   NaN    NaN  45.0   \n",
       "3  出院前检查  90002_b         NaN   NaN  NaN         NaN   NaN    NaN   NaN   \n",
       "4   入院检查  90003_b  2019-05-25  41.2  NaN         NaN   NaN    NaN  27.0   \n",
       "\n",
       "     AST  尿素氮（BUN）  肌酐（Cr）     血钠    血钾     血氯  甘油三酯   胆固醇  低密度脂蛋白（LDL）  \\\n",
       "0    NaN       NaN     NaN    NaN   NaN    NaN   NaN   NaN          NaN   \n",
       "1    NaN       NaN     NaN    NaN   NaN    NaN   NaN   NaN          NaN   \n",
       "2  141.0      10.1    80.0  139.0  4.30  103.0  0.25  4.65       287.00   \n",
       "3    NaN       NaN     NaN    NaN   NaN    NaN   NaN   NaN          NaN   \n",
       "4   67.0       3.6    78.0  140.3  4.19  103.0  2.12  5.16         3.45   \n",
       "\n",
       "   高密度脂蛋白胆固醇（HDLC）  \n",
       "0              NaN  \n",
       "1              NaN  \n",
       "2             1.55  \n",
       "3              NaN  \n",
       "4             1.20  "
      ]
     },
     "execution_count": 129,
     "metadata": {},
     "output_type": "execute_result"
    }
   ],
   "source": [
    "df_血生化_2.head()"
   ]
  },
  {
   "cell_type": "code",
   "execution_count": 130,
   "metadata": {},
   "outputs": [],
   "source": [
    "# 出入院血常规检测\n",
    "df_血生化_2_inp=df_血生化_2[df_血生化_2['访视'].str.contains('入院检查')]\n",
    "df_血生化_2_inp=df_血生化_2_inp.reset_index(drop=True)\n",
    "df_血生化_2_oup=df_血生化_2[df_血生化_2['访视'].str.contains('出院前检查')]\n",
    "df_血生化_2_oup=df_血生化_2_oup.reset_index(drop=True)"
   ]
  },
  {
   "cell_type": "code",
   "execution_count": 131,
   "metadata": {},
   "outputs": [
    {
     "data": {
      "text/plain": [
       "(103, 19)"
      ]
     },
     "execution_count": 131,
     "metadata": {},
     "output_type": "execute_result"
    }
   ],
   "source": [
    "df_血生化_2_inp.shape"
   ]
  },
  {
   "cell_type": "code",
   "execution_count": 132,
   "metadata": {
    "scrolled": true
   },
   "outputs": [
    {
     "data": {
      "text/html": [
       "<div>\n",
       "<style scoped>\n",
       "    .dataframe tbody tr th:only-of-type {\n",
       "        vertical-align: middle;\n",
       "    }\n",
       "\n",
       "    .dataframe tbody tr th {\n",
       "        vertical-align: top;\n",
       "    }\n",
       "\n",
       "    .dataframe thead th {\n",
       "        text-align: right;\n",
       "    }\n",
       "</style>\n",
       "<table border=\"1\" class=\"dataframe\">\n",
       "  <thead>\n",
       "    <tr style=\"text-align: right;\">\n",
       "      <th></th>\n",
       "      <th>访视</th>\n",
       "      <th>受试者编号</th>\n",
       "      <th>检查日期</th>\n",
       "      <th>白蛋白</th>\n",
       "      <th>HCY</th>\n",
       "      <th>NT-pro BNP</th>\n",
       "      <th>肌钙蛋白</th>\n",
       "      <th>CK-MB</th>\n",
       "      <th>ALT</th>\n",
       "      <th>AST</th>\n",
       "      <th>尿素氮（BUN）</th>\n",
       "      <th>肌酐（Cr）</th>\n",
       "      <th>血钠</th>\n",
       "      <th>血钾</th>\n",
       "      <th>血氯</th>\n",
       "      <th>甘油三酯</th>\n",
       "      <th>胆固醇</th>\n",
       "      <th>低密度脂蛋白（LDL）</th>\n",
       "      <th>高密度脂蛋白胆固醇（HDLC）</th>\n",
       "    </tr>\n",
       "  </thead>\n",
       "  <tbody>\n",
       "    <tr>\n",
       "      <th>0</th>\n",
       "      <td>入院检查</td>\n",
       "      <td>90001_b</td>\n",
       "      <td>NaN</td>\n",
       "      <td>NaN</td>\n",
       "      <td>NaN</td>\n",
       "      <td>NaN</td>\n",
       "      <td>NaN</td>\n",
       "      <td>NaN</td>\n",
       "      <td>NaN</td>\n",
       "      <td>NaN</td>\n",
       "      <td>NaN</td>\n",
       "      <td>NaN</td>\n",
       "      <td>NaN</td>\n",
       "      <td>NaN</td>\n",
       "      <td>NaN</td>\n",
       "      <td>NaN</td>\n",
       "      <td>NaN</td>\n",
       "      <td>NaN</td>\n",
       "      <td>NaN</td>\n",
       "    </tr>\n",
       "    <tr>\n",
       "      <th>1</th>\n",
       "      <td>入院检查</td>\n",
       "      <td>90002_b</td>\n",
       "      <td>2019-04-24</td>\n",
       "      <td>38.1</td>\n",
       "      <td>NaN</td>\n",
       "      <td>NaN</td>\n",
       "      <td>NaN</td>\n",
       "      <td>NaN</td>\n",
       "      <td>45.0</td>\n",
       "      <td>141.0</td>\n",
       "      <td>10.10</td>\n",
       "      <td>80.0</td>\n",
       "      <td>139.0</td>\n",
       "      <td>4.30</td>\n",
       "      <td>103.0</td>\n",
       "      <td>0.25</td>\n",
       "      <td>4.65</td>\n",
       "      <td>287.00</td>\n",
       "      <td>1.55</td>\n",
       "    </tr>\n",
       "    <tr>\n",
       "      <th>2</th>\n",
       "      <td>入院检查</td>\n",
       "      <td>90003_b</td>\n",
       "      <td>2019-05-25</td>\n",
       "      <td>41.2</td>\n",
       "      <td>NaN</td>\n",
       "      <td>NaN</td>\n",
       "      <td>NaN</td>\n",
       "      <td>NaN</td>\n",
       "      <td>27.0</td>\n",
       "      <td>67.0</td>\n",
       "      <td>3.60</td>\n",
       "      <td>78.0</td>\n",
       "      <td>140.3</td>\n",
       "      <td>4.19</td>\n",
       "      <td>103.0</td>\n",
       "      <td>2.12</td>\n",
       "      <td>5.16</td>\n",
       "      <td>3.45</td>\n",
       "      <td>1.20</td>\n",
       "    </tr>\n",
       "    <tr>\n",
       "      <th>3</th>\n",
       "      <td>入院检查</td>\n",
       "      <td>90004_b</td>\n",
       "      <td>2019-04-01</td>\n",
       "      <td>43.1</td>\n",
       "      <td>NaN</td>\n",
       "      <td>NaN</td>\n",
       "      <td>NaN</td>\n",
       "      <td>NaN</td>\n",
       "      <td>28.0</td>\n",
       "      <td>26.0</td>\n",
       "      <td>5.33</td>\n",
       "      <td>78.0</td>\n",
       "      <td>133.0</td>\n",
       "      <td>4.60</td>\n",
       "      <td>97.0</td>\n",
       "      <td>0.90</td>\n",
       "      <td>NaN</td>\n",
       "      <td>2.91</td>\n",
       "      <td>1.29</td>\n",
       "    </tr>\n",
       "    <tr>\n",
       "      <th>4</th>\n",
       "      <td>入院检查</td>\n",
       "      <td>90005_b</td>\n",
       "      <td>2019-05-18</td>\n",
       "      <td>27.9</td>\n",
       "      <td>NaN</td>\n",
       "      <td>NaN</td>\n",
       "      <td>NaN</td>\n",
       "      <td>NaN</td>\n",
       "      <td>7.0</td>\n",
       "      <td>20.0</td>\n",
       "      <td>6.63</td>\n",
       "      <td>59.0</td>\n",
       "      <td>136.8</td>\n",
       "      <td>4.60</td>\n",
       "      <td>85.0</td>\n",
       "      <td>0.02</td>\n",
       "      <td>4.01</td>\n",
       "      <td>2.08</td>\n",
       "      <td>1.44</td>\n",
       "    </tr>\n",
       "  </tbody>\n",
       "</table>\n",
       "</div>"
      ],
      "text/plain": [
       "     访视    受试者编号        检查日期   白蛋白  HCY  NT-pro BNP  肌钙蛋白  CK-MB   ALT    AST  \\\n",
       "0  入院检查  90001_b         NaN   NaN  NaN         NaN   NaN    NaN   NaN    NaN   \n",
       "1  入院检查  90002_b  2019-04-24  38.1  NaN         NaN   NaN    NaN  45.0  141.0   \n",
       "2  入院检查  90003_b  2019-05-25  41.2  NaN         NaN   NaN    NaN  27.0   67.0   \n",
       "3  入院检查  90004_b  2019-04-01  43.1  NaN         NaN   NaN    NaN  28.0   26.0   \n",
       "4  入院检查  90005_b  2019-05-18  27.9  NaN         NaN   NaN    NaN   7.0   20.0   \n",
       "\n",
       "   尿素氮（BUN）  肌酐（Cr）     血钠    血钾     血氯  甘油三酯   胆固醇  低密度脂蛋白（LDL）  \\\n",
       "0       NaN     NaN    NaN   NaN    NaN   NaN   NaN          NaN   \n",
       "1     10.10    80.0  139.0  4.30  103.0  0.25  4.65       287.00   \n",
       "2      3.60    78.0  140.3  4.19  103.0  2.12  5.16         3.45   \n",
       "3      5.33    78.0  133.0  4.60   97.0  0.90   NaN         2.91   \n",
       "4      6.63    59.0  136.8  4.60   85.0  0.02  4.01         2.08   \n",
       "\n",
       "   高密度脂蛋白胆固醇（HDLC）  \n",
       "0              NaN  \n",
       "1             1.55  \n",
       "2             1.20  \n",
       "3             1.29  \n",
       "4             1.44  "
      ]
     },
     "execution_count": 132,
     "metadata": {},
     "output_type": "execute_result"
    }
   ],
   "source": [
    "df_血生化_2_inp.head()"
   ]
  },
  {
   "cell_type": "code",
   "execution_count": 133,
   "metadata": {},
   "outputs": [
    {
     "data": {
      "text/plain": [
       "(91, 19)"
      ]
     },
     "execution_count": 133,
     "metadata": {},
     "output_type": "execute_result"
    }
   ],
   "source": [
    "df_血生化_2_oup.shape"
   ]
  },
  {
   "cell_type": "code",
   "execution_count": 134,
   "metadata": {
    "scrolled": true
   },
   "outputs": [
    {
     "data": {
      "text/html": [
       "<div>\n",
       "<style scoped>\n",
       "    .dataframe tbody tr th:only-of-type {\n",
       "        vertical-align: middle;\n",
       "    }\n",
       "\n",
       "    .dataframe tbody tr th {\n",
       "        vertical-align: top;\n",
       "    }\n",
       "\n",
       "    .dataframe thead th {\n",
       "        text-align: right;\n",
       "    }\n",
       "</style>\n",
       "<table border=\"1\" class=\"dataframe\">\n",
       "  <thead>\n",
       "    <tr style=\"text-align: right;\">\n",
       "      <th></th>\n",
       "      <th>访视</th>\n",
       "      <th>受试者编号</th>\n",
       "      <th>检查日期</th>\n",
       "      <th>白蛋白</th>\n",
       "      <th>HCY</th>\n",
       "      <th>NT-pro BNP</th>\n",
       "      <th>肌钙蛋白</th>\n",
       "      <th>CK-MB</th>\n",
       "      <th>ALT</th>\n",
       "      <th>AST</th>\n",
       "      <th>尿素氮（BUN）</th>\n",
       "      <th>肌酐（Cr）</th>\n",
       "      <th>血钠</th>\n",
       "      <th>血钾</th>\n",
       "      <th>血氯</th>\n",
       "      <th>甘油三酯</th>\n",
       "      <th>胆固醇</th>\n",
       "      <th>低密度脂蛋白（LDL）</th>\n",
       "      <th>高密度脂蛋白胆固醇（HDLC）</th>\n",
       "    </tr>\n",
       "  </thead>\n",
       "  <tbody>\n",
       "    <tr>\n",
       "      <th>0</th>\n",
       "      <td>出院前检查</td>\n",
       "      <td>90001_b</td>\n",
       "      <td>NaN</td>\n",
       "      <td>NaN</td>\n",
       "      <td>NaN</td>\n",
       "      <td>NaN</td>\n",
       "      <td>NaN</td>\n",
       "      <td>NaN</td>\n",
       "      <td>NaN</td>\n",
       "      <td>NaN</td>\n",
       "      <td>NaN</td>\n",
       "      <td>NaN</td>\n",
       "      <td>NaN</td>\n",
       "      <td>NaN</td>\n",
       "      <td>NaN</td>\n",
       "      <td>NaN</td>\n",
       "      <td>NaN</td>\n",
       "      <td>NaN</td>\n",
       "      <td>NaN</td>\n",
       "    </tr>\n",
       "    <tr>\n",
       "      <th>1</th>\n",
       "      <td>出院前检查</td>\n",
       "      <td>90002_b</td>\n",
       "      <td>NaN</td>\n",
       "      <td>NaN</td>\n",
       "      <td>NaN</td>\n",
       "      <td>NaN</td>\n",
       "      <td>NaN</td>\n",
       "      <td>NaN</td>\n",
       "      <td>NaN</td>\n",
       "      <td>NaN</td>\n",
       "      <td>NaN</td>\n",
       "      <td>NaN</td>\n",
       "      <td>NaN</td>\n",
       "      <td>NaN</td>\n",
       "      <td>NaN</td>\n",
       "      <td>NaN</td>\n",
       "      <td>NaN</td>\n",
       "      <td>NaN</td>\n",
       "      <td>NaN</td>\n",
       "    </tr>\n",
       "    <tr>\n",
       "      <th>2</th>\n",
       "      <td>出院前检查</td>\n",
       "      <td>90003_b</td>\n",
       "      <td>NaN</td>\n",
       "      <td>NaN</td>\n",
       "      <td>NaN</td>\n",
       "      <td>NaN</td>\n",
       "      <td>NaN</td>\n",
       "      <td>NaN</td>\n",
       "      <td>NaN</td>\n",
       "      <td>NaN</td>\n",
       "      <td>NaN</td>\n",
       "      <td>NaN</td>\n",
       "      <td>NaN</td>\n",
       "      <td>NaN</td>\n",
       "      <td>NaN</td>\n",
       "      <td>NaN</td>\n",
       "      <td>NaN</td>\n",
       "      <td>NaN</td>\n",
       "      <td>NaN</td>\n",
       "    </tr>\n",
       "    <tr>\n",
       "      <th>3</th>\n",
       "      <td>出院前检查</td>\n",
       "      <td>90004_b</td>\n",
       "      <td>NaN</td>\n",
       "      <td>NaN</td>\n",
       "      <td>NaN</td>\n",
       "      <td>NaN</td>\n",
       "      <td>NaN</td>\n",
       "      <td>NaN</td>\n",
       "      <td>NaN</td>\n",
       "      <td>NaN</td>\n",
       "      <td>NaN</td>\n",
       "      <td>NaN</td>\n",
       "      <td>NaN</td>\n",
       "      <td>NaN</td>\n",
       "      <td>NaN</td>\n",
       "      <td>NaN</td>\n",
       "      <td>NaN</td>\n",
       "      <td>NaN</td>\n",
       "      <td>NaN</td>\n",
       "    </tr>\n",
       "    <tr>\n",
       "      <th>4</th>\n",
       "      <td>出院前检查</td>\n",
       "      <td>90005_b</td>\n",
       "      <td>NaN</td>\n",
       "      <td>NaN</td>\n",
       "      <td>NaN</td>\n",
       "      <td>NaN</td>\n",
       "      <td>NaN</td>\n",
       "      <td>NaN</td>\n",
       "      <td>NaN</td>\n",
       "      <td>NaN</td>\n",
       "      <td>NaN</td>\n",
       "      <td>NaN</td>\n",
       "      <td>NaN</td>\n",
       "      <td>NaN</td>\n",
       "      <td>NaN</td>\n",
       "      <td>NaN</td>\n",
       "      <td>NaN</td>\n",
       "      <td>NaN</td>\n",
       "      <td>NaN</td>\n",
       "    </tr>\n",
       "  </tbody>\n",
       "</table>\n",
       "</div>"
      ],
      "text/plain": [
       "      访视    受试者编号 检查日期  白蛋白  HCY  NT-pro BNP  肌钙蛋白  CK-MB  ALT  AST  尿素氮（BUN）  \\\n",
       "0  出院前检查  90001_b  NaN  NaN  NaN         NaN   NaN    NaN  NaN  NaN       NaN   \n",
       "1  出院前检查  90002_b  NaN  NaN  NaN         NaN   NaN    NaN  NaN  NaN       NaN   \n",
       "2  出院前检查  90003_b  NaN  NaN  NaN         NaN   NaN    NaN  NaN  NaN       NaN   \n",
       "3  出院前检查  90004_b  NaN  NaN  NaN         NaN   NaN    NaN  NaN  NaN       NaN   \n",
       "4  出院前检查  90005_b  NaN  NaN  NaN         NaN   NaN    NaN  NaN  NaN       NaN   \n",
       "\n",
       "   肌酐（Cr）  血钠  血钾  血氯  甘油三酯  胆固醇  低密度脂蛋白（LDL）  高密度脂蛋白胆固醇（HDLC）  \n",
       "0     NaN NaN NaN NaN   NaN  NaN          NaN              NaN  \n",
       "1     NaN NaN NaN NaN   NaN  NaN          NaN              NaN  \n",
       "2     NaN NaN NaN NaN   NaN  NaN          NaN              NaN  \n",
       "3     NaN NaN NaN NaN   NaN  NaN          NaN              NaN  \n",
       "4     NaN NaN NaN NaN   NaN  NaN          NaN              NaN  "
      ]
     },
     "execution_count": 134,
     "metadata": {},
     "output_type": "execute_result"
    }
   ],
   "source": [
    "df_血生化_2_oup.head()"
   ]
  },
  {
   "cell_type": "code",
   "execution_count": 135,
   "metadata": {},
   "outputs": [],
   "source": [
    "df_血生化_2_inp.to_excel(project_path+'/data/processed_data/检测数据/血生化/df_血生化_心内科_入院记录.xlsx')\n",
    "df_血生化_2_oup.to_excel(project_path+'/data/processed_data/检测数据/血生化/df_血生化_心内科_出院记录.xlsx')"
   ]
  },
  {
   "cell_type": "markdown",
   "metadata": {},
   "source": [
    "#### 合并血生化"
   ]
  },
  {
   "cell_type": "code",
   "execution_count": 136,
   "metadata": {},
   "outputs": [],
   "source": [
    "# 修改列名\n",
    "for i in df_血生化_1_inp.columns[3:]:\n",
    "    df_血生化_1_inp.rename(columns={i:i + '_入院'},inplace=True)\n",
    "for i in df_血生化_2_inp.columns[3:]:\n",
    "    df_血生化_2_inp.rename(columns={i:i+'_入院'},inplace=True)  "
   ]
  },
  {
   "cell_type": "code",
   "execution_count": 137,
   "metadata": {},
   "outputs": [],
   "source": [
    "df_血生化_入院=pd.concat([df_血生化_1_inp,df_血生化_2_inp],axis=0)"
   ]
  },
  {
   "cell_type": "code",
   "execution_count": 138,
   "metadata": {
    "scrolled": true
   },
   "outputs": [
    {
     "data": {
      "text/html": [
       "<div>\n",
       "<style scoped>\n",
       "    .dataframe tbody tr th:only-of-type {\n",
       "        vertical-align: middle;\n",
       "    }\n",
       "\n",
       "    .dataframe tbody tr th {\n",
       "        vertical-align: top;\n",
       "    }\n",
       "\n",
       "    .dataframe thead th {\n",
       "        text-align: right;\n",
       "    }\n",
       "</style>\n",
       "<table border=\"1\" class=\"dataframe\">\n",
       "  <thead>\n",
       "    <tr style=\"text-align: right;\">\n",
       "      <th></th>\n",
       "      <th>访视</th>\n",
       "      <th>受试者编号</th>\n",
       "      <th>检查日期</th>\n",
       "      <th>总胆红素（TBil）_入院</th>\n",
       "      <th>直接胆红素（DBil）_入院</th>\n",
       "      <th>白蛋白_入院</th>\n",
       "      <th>前白蛋白_入院</th>\n",
       "      <th>ALT_入院</th>\n",
       "      <th>AST_入院</th>\n",
       "      <th>GGT_入院</th>\n",
       "      <th>...</th>\n",
       "      <th>血钾_入院</th>\n",
       "      <th>血氯_入院</th>\n",
       "      <th>甘油三酯_入院</th>\n",
       "      <th>胆固醇_入院</th>\n",
       "      <th>低密度脂蛋白（LDL）_入院</th>\n",
       "      <th>高密度脂蛋白胆固醇（HDLC）_入院</th>\n",
       "      <th>HCY_入院</th>\n",
       "      <th>NT-pro BNP_入院</th>\n",
       "      <th>肌钙蛋白_入院</th>\n",
       "      <th>CK-MB_入院</th>\n",
       "    </tr>\n",
       "  </thead>\n",
       "  <tbody>\n",
       "    <tr>\n",
       "      <th>0</th>\n",
       "      <td>入院检查</td>\n",
       "      <td>90001_a</td>\n",
       "      <td>2018-03-28</td>\n",
       "      <td>12.4</td>\n",
       "      <td>0.0</td>\n",
       "      <td>43.6</td>\n",
       "      <td>NaN</td>\n",
       "      <td>51.0</td>\n",
       "      <td>51.0</td>\n",
       "      <td>71.0</td>\n",
       "      <td>...</td>\n",
       "      <td>4.53</td>\n",
       "      <td>105.0</td>\n",
       "      <td>1.18</td>\n",
       "      <td>3.72</td>\n",
       "      <td>1.83</td>\n",
       "      <td>1.59</td>\n",
       "      <td>NaN</td>\n",
       "      <td>NaN</td>\n",
       "      <td>NaN</td>\n",
       "      <td>NaN</td>\n",
       "    </tr>\n",
       "    <tr>\n",
       "      <th>1</th>\n",
       "      <td>入院检查</td>\n",
       "      <td>90003_a</td>\n",
       "      <td>2018-01-31</td>\n",
       "      <td>12.1</td>\n",
       "      <td>0.0</td>\n",
       "      <td>27.5</td>\n",
       "      <td>NaN</td>\n",
       "      <td>83.0</td>\n",
       "      <td>100.0</td>\n",
       "      <td>43.0</td>\n",
       "      <td>...</td>\n",
       "      <td>3.40</td>\n",
       "      <td>107.0</td>\n",
       "      <td>NaN</td>\n",
       "      <td>NaN</td>\n",
       "      <td>NaN</td>\n",
       "      <td>NaN</td>\n",
       "      <td>NaN</td>\n",
       "      <td>NaN</td>\n",
       "      <td>NaN</td>\n",
       "      <td>NaN</td>\n",
       "    </tr>\n",
       "    <tr>\n",
       "      <th>2</th>\n",
       "      <td>入院检查</td>\n",
       "      <td>90004_a</td>\n",
       "      <td>2018-01-27</td>\n",
       "      <td>4.4</td>\n",
       "      <td>2.1</td>\n",
       "      <td>25.5</td>\n",
       "      <td>253.0</td>\n",
       "      <td>9.0</td>\n",
       "      <td>17.0</td>\n",
       "      <td>33.0</td>\n",
       "      <td>...</td>\n",
       "      <td>2.70</td>\n",
       "      <td>96.0</td>\n",
       "      <td>1.05</td>\n",
       "      <td>4.84</td>\n",
       "      <td>3.12</td>\n",
       "      <td>1.28</td>\n",
       "      <td>NaN</td>\n",
       "      <td>NaN</td>\n",
       "      <td>NaN</td>\n",
       "      <td>NaN</td>\n",
       "    </tr>\n",
       "    <tr>\n",
       "      <th>3</th>\n",
       "      <td>入院检查</td>\n",
       "      <td>90005_a</td>\n",
       "      <td>2018-02-07</td>\n",
       "      <td>15.3</td>\n",
       "      <td>0.0</td>\n",
       "      <td>37.7</td>\n",
       "      <td>391.0</td>\n",
       "      <td>21.0</td>\n",
       "      <td>31.0</td>\n",
       "      <td>24.0</td>\n",
       "      <td>...</td>\n",
       "      <td>3.50</td>\n",
       "      <td>92.0</td>\n",
       "      <td>3.13</td>\n",
       "      <td>6.66</td>\n",
       "      <td>4.27</td>\n",
       "      <td>1.24</td>\n",
       "      <td>NaN</td>\n",
       "      <td>NaN</td>\n",
       "      <td>NaN</td>\n",
       "      <td>NaN</td>\n",
       "    </tr>\n",
       "    <tr>\n",
       "      <th>4</th>\n",
       "      <td>入院检查</td>\n",
       "      <td>90006_a</td>\n",
       "      <td>2018-02-12</td>\n",
       "      <td>14.2</td>\n",
       "      <td>3.2</td>\n",
       "      <td>64.2</td>\n",
       "      <td>191.0</td>\n",
       "      <td>17.0</td>\n",
       "      <td>16.0</td>\n",
       "      <td>16.0</td>\n",
       "      <td>...</td>\n",
       "      <td>4.05</td>\n",
       "      <td>106.0</td>\n",
       "      <td>4.23</td>\n",
       "      <td>6.17</td>\n",
       "      <td>4.48</td>\n",
       "      <td>1.05</td>\n",
       "      <td>NaN</td>\n",
       "      <td>NaN</td>\n",
       "      <td>NaN</td>\n",
       "      <td>NaN</td>\n",
       "    </tr>\n",
       "  </tbody>\n",
       "</table>\n",
       "<p>5 rows × 26 columns</p>\n",
       "</div>"
      ],
      "text/plain": [
       "     访视    受试者编号        检查日期  总胆红素（TBil）_入院  直接胆红素（DBil）_入院  白蛋白_入院  前白蛋白_入院  \\\n",
       "0  入院检查  90001_a  2018-03-28           12.4             0.0    43.6      NaN   \n",
       "1  入院检查  90003_a  2018-01-31           12.1             0.0    27.5      NaN   \n",
       "2  入院检查  90004_a  2018-01-27            4.4             2.1    25.5    253.0   \n",
       "3  入院检查  90005_a  2018-02-07           15.3             0.0    37.7    391.0   \n",
       "4  入院检查  90006_a  2018-02-12           14.2             3.2    64.2    191.0   \n",
       "\n",
       "   ALT_入院  AST_入院  GGT_入院  ...  血钾_入院  血氯_入院  甘油三酯_入院  胆固醇_入院  低密度脂蛋白（LDL）_入院  \\\n",
       "0    51.0    51.0    71.0  ...   4.53  105.0     1.18    3.72            1.83   \n",
       "1    83.0   100.0    43.0  ...   3.40  107.0      NaN     NaN             NaN   \n",
       "2     9.0    17.0    33.0  ...   2.70   96.0     1.05    4.84            3.12   \n",
       "3    21.0    31.0    24.0  ...   3.50   92.0     3.13    6.66            4.27   \n",
       "4    17.0    16.0    16.0  ...   4.05  106.0     4.23    6.17            4.48   \n",
       "\n",
       "   高密度脂蛋白胆固醇（HDLC）_入院  HCY_入院  NT-pro BNP_入院  肌钙蛋白_入院  CK-MB_入院  \n",
       "0                1.59     NaN            NaN      NaN       NaN  \n",
       "1                 NaN     NaN            NaN      NaN       NaN  \n",
       "2                1.28     NaN            NaN      NaN       NaN  \n",
       "3                1.24     NaN            NaN      NaN       NaN  \n",
       "4                1.05     NaN            NaN      NaN       NaN  \n",
       "\n",
       "[5 rows x 26 columns]"
      ]
     },
     "execution_count": 138,
     "metadata": {},
     "output_type": "execute_result"
    }
   ],
   "source": [
    "df_血生化_入院.head()"
   ]
  },
  {
   "cell_type": "code",
   "execution_count": 139,
   "metadata": {},
   "outputs": [],
   "source": [
    "df_血生化_入院.to_excel(project_path+'/data/processed_data/检测数据/df_血生化_入院.xlsx')"
   ]
  },
  {
   "cell_type": "code",
   "execution_count": 140,
   "metadata": {},
   "outputs": [],
   "source": [
    "# 修改列名\n",
    "for i in df_血生化_1_oup.columns[3:]:\n",
    "    df_血生化_1_oup.rename(columns={i:i + '_出院'},inplace=True)\n",
    "for i in df_血生化_2_oup.columns[3:]:\n",
    "    df_血生化_2_oup.rename(columns={i:i+'_出院'},inplace=True)  "
   ]
  },
  {
   "cell_type": "code",
   "execution_count": 141,
   "metadata": {},
   "outputs": [],
   "source": [
    "df_血生化_出院=pd.concat([df_血生化_1_oup,df_血生化_2_oup],axis=0)"
   ]
  },
  {
   "cell_type": "code",
   "execution_count": 142,
   "metadata": {
    "scrolled": true
   },
   "outputs": [
    {
     "data": {
      "text/html": [
       "<div>\n",
       "<style scoped>\n",
       "    .dataframe tbody tr th:only-of-type {\n",
       "        vertical-align: middle;\n",
       "    }\n",
       "\n",
       "    .dataframe tbody tr th {\n",
       "        vertical-align: top;\n",
       "    }\n",
       "\n",
       "    .dataframe thead th {\n",
       "        text-align: right;\n",
       "    }\n",
       "</style>\n",
       "<table border=\"1\" class=\"dataframe\">\n",
       "  <thead>\n",
       "    <tr style=\"text-align: right;\">\n",
       "      <th></th>\n",
       "      <th>访视</th>\n",
       "      <th>受试者编号</th>\n",
       "      <th>检查日期</th>\n",
       "      <th>总胆红素（TBil）_出院</th>\n",
       "      <th>直接胆红素（DBil）_出院</th>\n",
       "      <th>白蛋白_出院</th>\n",
       "      <th>前白蛋白_出院</th>\n",
       "      <th>ALT_出院</th>\n",
       "      <th>AST_出院</th>\n",
       "      <th>GGT_出院</th>\n",
       "      <th>...</th>\n",
       "      <th>血钾_出院</th>\n",
       "      <th>血氯_出院</th>\n",
       "      <th>甘油三酯_出院</th>\n",
       "      <th>胆固醇_出院</th>\n",
       "      <th>低密度脂蛋白（LDL）_出院</th>\n",
       "      <th>高密度脂蛋白胆固醇（HDLC）_出院</th>\n",
       "      <th>HCY_出院</th>\n",
       "      <th>NT-pro BNP_出院</th>\n",
       "      <th>肌钙蛋白_出院</th>\n",
       "      <th>CK-MB_出院</th>\n",
       "    </tr>\n",
       "  </thead>\n",
       "  <tbody>\n",
       "    <tr>\n",
       "      <th>0</th>\n",
       "      <td>出院前检查</td>\n",
       "      <td>90001_a</td>\n",
       "      <td>2018-04-10</td>\n",
       "      <td>5.9</td>\n",
       "      <td>2.3</td>\n",
       "      <td>35.6</td>\n",
       "      <td>147.0</td>\n",
       "      <td>22.0</td>\n",
       "      <td>19.0</td>\n",
       "      <td>NaN</td>\n",
       "      <td>...</td>\n",
       "      <td>3.47</td>\n",
       "      <td>101.4</td>\n",
       "      <td>NaN</td>\n",
       "      <td>NaN</td>\n",
       "      <td>NaN</td>\n",
       "      <td>NaN</td>\n",
       "      <td>NaN</td>\n",
       "      <td>NaN</td>\n",
       "      <td>NaN</td>\n",
       "      <td>NaN</td>\n",
       "    </tr>\n",
       "    <tr>\n",
       "      <th>1</th>\n",
       "      <td>出院前检查</td>\n",
       "      <td>90003_a</td>\n",
       "      <td>NaN</td>\n",
       "      <td>NaN</td>\n",
       "      <td>NaN</td>\n",
       "      <td>NaN</td>\n",
       "      <td>NaN</td>\n",
       "      <td>NaN</td>\n",
       "      <td>NaN</td>\n",
       "      <td>NaN</td>\n",
       "      <td>...</td>\n",
       "      <td>NaN</td>\n",
       "      <td>NaN</td>\n",
       "      <td>NaN</td>\n",
       "      <td>NaN</td>\n",
       "      <td>NaN</td>\n",
       "      <td>NaN</td>\n",
       "      <td>NaN</td>\n",
       "      <td>NaN</td>\n",
       "      <td>NaN</td>\n",
       "      <td>NaN</td>\n",
       "    </tr>\n",
       "    <tr>\n",
       "      <th>2</th>\n",
       "      <td>出院前检查</td>\n",
       "      <td>90004_a</td>\n",
       "      <td>NaN</td>\n",
       "      <td>NaN</td>\n",
       "      <td>NaN</td>\n",
       "      <td>NaN</td>\n",
       "      <td>NaN</td>\n",
       "      <td>NaN</td>\n",
       "      <td>NaN</td>\n",
       "      <td>NaN</td>\n",
       "      <td>...</td>\n",
       "      <td>NaN</td>\n",
       "      <td>NaN</td>\n",
       "      <td>NaN</td>\n",
       "      <td>NaN</td>\n",
       "      <td>NaN</td>\n",
       "      <td>NaN</td>\n",
       "      <td>NaN</td>\n",
       "      <td>NaN</td>\n",
       "      <td>NaN</td>\n",
       "      <td>NaN</td>\n",
       "    </tr>\n",
       "    <tr>\n",
       "      <th>3</th>\n",
       "      <td>出院前检查</td>\n",
       "      <td>90005_a</td>\n",
       "      <td>2018-02-13</td>\n",
       "      <td>5.3</td>\n",
       "      <td>2.9</td>\n",
       "      <td>35.2</td>\n",
       "      <td>391.0</td>\n",
       "      <td>21.0</td>\n",
       "      <td>31.0</td>\n",
       "      <td>24.0</td>\n",
       "      <td>...</td>\n",
       "      <td>2.92</td>\n",
       "      <td>93.0</td>\n",
       "      <td>NaN</td>\n",
       "      <td>NaN</td>\n",
       "      <td>NaN</td>\n",
       "      <td>NaN</td>\n",
       "      <td>NaN</td>\n",
       "      <td>NaN</td>\n",
       "      <td>NaN</td>\n",
       "      <td>NaN</td>\n",
       "    </tr>\n",
       "    <tr>\n",
       "      <th>4</th>\n",
       "      <td>出院前检查</td>\n",
       "      <td>90006_a</td>\n",
       "      <td>2018-02-19</td>\n",
       "      <td>17.7</td>\n",
       "      <td>5.1</td>\n",
       "      <td>40.8</td>\n",
       "      <td>173.0</td>\n",
       "      <td>25.0</td>\n",
       "      <td>19.0</td>\n",
       "      <td>17.0</td>\n",
       "      <td>...</td>\n",
       "      <td>NaN</td>\n",
       "      <td>NaN</td>\n",
       "      <td>NaN</td>\n",
       "      <td>NaN</td>\n",
       "      <td>NaN</td>\n",
       "      <td>NaN</td>\n",
       "      <td>NaN</td>\n",
       "      <td>NaN</td>\n",
       "      <td>NaN</td>\n",
       "      <td>NaN</td>\n",
       "    </tr>\n",
       "  </tbody>\n",
       "</table>\n",
       "<p>5 rows × 26 columns</p>\n",
       "</div>"
      ],
      "text/plain": [
       "      访视    受试者编号        检查日期  总胆红素（TBil）_出院  直接胆红素（DBil）_出院  白蛋白_出院  前白蛋白_出院  \\\n",
       "0  出院前检查  90001_a  2018-04-10            5.9             2.3    35.6    147.0   \n",
       "1  出院前检查  90003_a         NaN            NaN             NaN     NaN      NaN   \n",
       "2  出院前检查  90004_a         NaN            NaN             NaN     NaN      NaN   \n",
       "3  出院前检查  90005_a  2018-02-13            5.3             2.9    35.2    391.0   \n",
       "4  出院前检查  90006_a  2018-02-19           17.7             5.1    40.8    173.0   \n",
       "\n",
       "   ALT_出院  AST_出院  GGT_出院  ...  血钾_出院  血氯_出院  甘油三酯_出院  胆固醇_出院  低密度脂蛋白（LDL）_出院  \\\n",
       "0    22.0    19.0     NaN  ...   3.47  101.4      NaN     NaN             NaN   \n",
       "1     NaN     NaN     NaN  ...    NaN    NaN      NaN     NaN             NaN   \n",
       "2     NaN     NaN     NaN  ...    NaN    NaN      NaN     NaN             NaN   \n",
       "3    21.0    31.0    24.0  ...   2.92   93.0      NaN     NaN             NaN   \n",
       "4    25.0    19.0    17.0  ...    NaN    NaN      NaN     NaN             NaN   \n",
       "\n",
       "   高密度脂蛋白胆固醇（HDLC）_出院  HCY_出院  NT-pro BNP_出院  肌钙蛋白_出院  CK-MB_出院  \n",
       "0                 NaN     NaN            NaN      NaN       NaN  \n",
       "1                 NaN     NaN            NaN      NaN       NaN  \n",
       "2                 NaN     NaN            NaN      NaN       NaN  \n",
       "3                 NaN     NaN            NaN      NaN       NaN  \n",
       "4                 NaN     NaN            NaN      NaN       NaN  \n",
       "\n",
       "[5 rows x 26 columns]"
      ]
     },
     "execution_count": 142,
     "metadata": {},
     "output_type": "execute_result"
    }
   ],
   "source": [
    "df_血生化_出院.head()"
   ]
  },
  {
   "cell_type": "code",
   "execution_count": 143,
   "metadata": {},
   "outputs": [],
   "source": [
    "df_血生化_出院.to_excel(project_path+'/data/processed_data/检测数据/df_血生化_出院.xlsx')"
   ]
  },
  {
   "cell_type": "markdown",
   "metadata": {},
   "source": [
    "### 凝血"
   ]
  },
  {
   "cell_type": "markdown",
   "metadata": {},
   "source": [
    "#### 其他科"
   ]
  },
  {
   "cell_type": "code",
   "execution_count": 144,
   "metadata": {},
   "outputs": [],
   "source": [
    "df_凝血_1 = pd.read_excel(project_path+'/data/raw_data/导出全部CRF表数据-其他科1021.xlsx',\n",
    "                            sheet_name='LBC_凝血功能',\n",
    "                           header=1,)  # 指定第2行作为标题行\n",
    "#                            skiprows=[1,1,1])  # 跳过第1行"
   ]
  },
  {
   "cell_type": "code",
   "execution_count": 145,
   "metadata": {},
   "outputs": [],
   "source": [
    "# 标记受试者编号\n",
    "df_凝血_1['受试者编号']=df_凝血_1['受试者编号'].apply(lambda x: str(x)+'_a')"
   ]
  },
  {
   "cell_type": "code",
   "execution_count": 146,
   "metadata": {},
   "outputs": [
    {
     "data": {
      "text/plain": [
       "Index(['方案号', '中心标识', '中心名称', '受试者编号', '访视', '检查日期', 'PT', 'PT-临床意义',\n",
       "       'PT-临床意义_描述', 'PT-异常请描述', 'INR', 'INR-临床意义', 'INR-临床意义_描述', 'INR-异常请描述',\n",
       "       'APTT', 'APTT-临床意义', 'APTT-临床意义_描述', 'APTT-异常请描述', '原始录入日期', '最后修改日期'],\n",
       "      dtype='object')"
      ]
     },
     "execution_count": 146,
     "metadata": {},
     "output_type": "execute_result"
    }
   ],
   "source": [
    "df_凝血_1.columns"
   ]
  },
  {
   "cell_type": "code",
   "execution_count": 147,
   "metadata": {},
   "outputs": [],
   "source": [
    "# 提取有效字段\n",
    "df_凝血_1=df_凝血_1[['访视','受试者编号','检查日期','PT','INR','APTT']]"
   ]
  },
  {
   "cell_type": "code",
   "execution_count": 148,
   "metadata": {},
   "outputs": [
    {
     "data": {
      "text/plain": [
       "(1167, 6)"
      ]
     },
     "execution_count": 148,
     "metadata": {},
     "output_type": "execute_result"
    }
   ],
   "source": [
    "df_凝血_1.shape"
   ]
  },
  {
   "cell_type": "code",
   "execution_count": 149,
   "metadata": {},
   "outputs": [
    {
     "data": {
      "text/html": [
       "<div>\n",
       "<style scoped>\n",
       "    .dataframe tbody tr th:only-of-type {\n",
       "        vertical-align: middle;\n",
       "    }\n",
       "\n",
       "    .dataframe tbody tr th {\n",
       "        vertical-align: top;\n",
       "    }\n",
       "\n",
       "    .dataframe thead th {\n",
       "        text-align: right;\n",
       "    }\n",
       "</style>\n",
       "<table border=\"1\" class=\"dataframe\">\n",
       "  <thead>\n",
       "    <tr style=\"text-align: right;\">\n",
       "      <th></th>\n",
       "      <th>访视</th>\n",
       "      <th>受试者编号</th>\n",
       "      <th>检查日期</th>\n",
       "      <th>PT</th>\n",
       "      <th>INR</th>\n",
       "      <th>APTT</th>\n",
       "    </tr>\n",
       "  </thead>\n",
       "  <tbody>\n",
       "    <tr>\n",
       "      <th>0</th>\n",
       "      <td>入院检查</td>\n",
       "      <td>90001_a</td>\n",
       "      <td>2018-03-28</td>\n",
       "      <td>10.4</td>\n",
       "      <td>0.96</td>\n",
       "      <td>28.0</td>\n",
       "    </tr>\n",
       "    <tr>\n",
       "      <th>1</th>\n",
       "      <td>出院前检查</td>\n",
       "      <td>90001_a</td>\n",
       "      <td>2018-04-10</td>\n",
       "      <td>11.8</td>\n",
       "      <td>1.07</td>\n",
       "      <td>28.3</td>\n",
       "    </tr>\n",
       "    <tr>\n",
       "      <th>2</th>\n",
       "      <td>入院检查</td>\n",
       "      <td>90003_a</td>\n",
       "      <td>2018-01-31</td>\n",
       "      <td>17.6</td>\n",
       "      <td>1.63</td>\n",
       "      <td>42.0</td>\n",
       "    </tr>\n",
       "    <tr>\n",
       "      <th>3</th>\n",
       "      <td>出院前检查</td>\n",
       "      <td>90003_a</td>\n",
       "      <td>NaN</td>\n",
       "      <td>NaN</td>\n",
       "      <td>NaN</td>\n",
       "      <td>NaN</td>\n",
       "    </tr>\n",
       "    <tr>\n",
       "      <th>4</th>\n",
       "      <td>入院检查</td>\n",
       "      <td>90004_a</td>\n",
       "      <td>NaN</td>\n",
       "      <td>NaN</td>\n",
       "      <td>NaN</td>\n",
       "      <td>NaN</td>\n",
       "    </tr>\n",
       "  </tbody>\n",
       "</table>\n",
       "</div>"
      ],
      "text/plain": [
       "      访视    受试者编号        检查日期    PT   INR  APTT\n",
       "0   入院检查  90001_a  2018-03-28  10.4  0.96  28.0\n",
       "1  出院前检查  90001_a  2018-04-10  11.8  1.07  28.3\n",
       "2   入院检查  90003_a  2018-01-31  17.6  1.63  42.0\n",
       "3  出院前检查  90003_a         NaN   NaN   NaN   NaN\n",
       "4   入院检查  90004_a         NaN   NaN   NaN   NaN"
      ]
     },
     "execution_count": 149,
     "metadata": {},
     "output_type": "execute_result"
    }
   ],
   "source": [
    "df_凝血_1.head()"
   ]
  },
  {
   "cell_type": "code",
   "execution_count": 150,
   "metadata": {},
   "outputs": [],
   "source": [
    "# 出入院血常规检测\n",
    "df_凝血_1_inp=df_凝血_1[df_凝血_1['访视'].str.contains('入院检查')]\n",
    "df_凝血_1_inp=df_凝血_1_inp.reset_index(drop=True)\n",
    "df_凝血_1_oup=df_凝血_1[df_凝血_1['访视'].str.contains('出院前检查')]\n",
    "df_凝血_1_oup=df_凝血_1_oup.reset_index(drop=True)"
   ]
  },
  {
   "cell_type": "code",
   "execution_count": 151,
   "metadata": {},
   "outputs": [
    {
     "data": {
      "text/plain": [
       "(638, 6)"
      ]
     },
     "execution_count": 151,
     "metadata": {},
     "output_type": "execute_result"
    }
   ],
   "source": [
    "df_凝血_1_inp.shape"
   ]
  },
  {
   "cell_type": "code",
   "execution_count": 152,
   "metadata": {},
   "outputs": [
    {
     "data": {
      "text/html": [
       "<div>\n",
       "<style scoped>\n",
       "    .dataframe tbody tr th:only-of-type {\n",
       "        vertical-align: middle;\n",
       "    }\n",
       "\n",
       "    .dataframe tbody tr th {\n",
       "        vertical-align: top;\n",
       "    }\n",
       "\n",
       "    .dataframe thead th {\n",
       "        text-align: right;\n",
       "    }\n",
       "</style>\n",
       "<table border=\"1\" class=\"dataframe\">\n",
       "  <thead>\n",
       "    <tr style=\"text-align: right;\">\n",
       "      <th></th>\n",
       "      <th>访视</th>\n",
       "      <th>受试者编号</th>\n",
       "      <th>检查日期</th>\n",
       "      <th>PT</th>\n",
       "      <th>INR</th>\n",
       "      <th>APTT</th>\n",
       "    </tr>\n",
       "  </thead>\n",
       "  <tbody>\n",
       "    <tr>\n",
       "      <th>0</th>\n",
       "      <td>入院检查</td>\n",
       "      <td>90001_a</td>\n",
       "      <td>2018-03-28</td>\n",
       "      <td>10.4</td>\n",
       "      <td>0.96</td>\n",
       "      <td>28.0</td>\n",
       "    </tr>\n",
       "    <tr>\n",
       "      <th>1</th>\n",
       "      <td>入院检查</td>\n",
       "      <td>90003_a</td>\n",
       "      <td>2018-01-31</td>\n",
       "      <td>17.6</td>\n",
       "      <td>1.63</td>\n",
       "      <td>42.0</td>\n",
       "    </tr>\n",
       "    <tr>\n",
       "      <th>2</th>\n",
       "      <td>入院检查</td>\n",
       "      <td>90004_a</td>\n",
       "      <td>NaN</td>\n",
       "      <td>NaN</td>\n",
       "      <td>NaN</td>\n",
       "      <td>NaN</td>\n",
       "    </tr>\n",
       "    <tr>\n",
       "      <th>3</th>\n",
       "      <td>入院检查</td>\n",
       "      <td>90005_a</td>\n",
       "      <td>2018-02-07</td>\n",
       "      <td>11.9</td>\n",
       "      <td>1.10</td>\n",
       "      <td>27.7</td>\n",
       "    </tr>\n",
       "    <tr>\n",
       "      <th>4</th>\n",
       "      <td>入院检查</td>\n",
       "      <td>90006_a</td>\n",
       "      <td>NaN</td>\n",
       "      <td>NaN</td>\n",
       "      <td>NaN</td>\n",
       "      <td>NaN</td>\n",
       "    </tr>\n",
       "  </tbody>\n",
       "</table>\n",
       "</div>"
      ],
      "text/plain": [
       "     访视    受试者编号        检查日期    PT   INR  APTT\n",
       "0  入院检查  90001_a  2018-03-28  10.4  0.96  28.0\n",
       "1  入院检查  90003_a  2018-01-31  17.6  1.63  42.0\n",
       "2  入院检查  90004_a         NaN   NaN   NaN   NaN\n",
       "3  入院检查  90005_a  2018-02-07  11.9  1.10  27.7\n",
       "4  入院检查  90006_a         NaN   NaN   NaN   NaN"
      ]
     },
     "execution_count": 152,
     "metadata": {},
     "output_type": "execute_result"
    }
   ],
   "source": [
    "df_凝血_1_inp.head()"
   ]
  },
  {
   "cell_type": "code",
   "execution_count": 153,
   "metadata": {},
   "outputs": [
    {
     "data": {
      "text/plain": [
       "(529, 6)"
      ]
     },
     "execution_count": 153,
     "metadata": {},
     "output_type": "execute_result"
    }
   ],
   "source": [
    "df_凝血_1_oup.shape"
   ]
  },
  {
   "cell_type": "code",
   "execution_count": 154,
   "metadata": {},
   "outputs": [
    {
     "data": {
      "text/html": [
       "<div>\n",
       "<style scoped>\n",
       "    .dataframe tbody tr th:only-of-type {\n",
       "        vertical-align: middle;\n",
       "    }\n",
       "\n",
       "    .dataframe tbody tr th {\n",
       "        vertical-align: top;\n",
       "    }\n",
       "\n",
       "    .dataframe thead th {\n",
       "        text-align: right;\n",
       "    }\n",
       "</style>\n",
       "<table border=\"1\" class=\"dataframe\">\n",
       "  <thead>\n",
       "    <tr style=\"text-align: right;\">\n",
       "      <th></th>\n",
       "      <th>访视</th>\n",
       "      <th>受试者编号</th>\n",
       "      <th>检查日期</th>\n",
       "      <th>PT</th>\n",
       "      <th>INR</th>\n",
       "      <th>APTT</th>\n",
       "    </tr>\n",
       "  </thead>\n",
       "  <tbody>\n",
       "    <tr>\n",
       "      <th>0</th>\n",
       "      <td>出院前检查</td>\n",
       "      <td>90001_a</td>\n",
       "      <td>2018-04-10</td>\n",
       "      <td>11.8</td>\n",
       "      <td>1.07</td>\n",
       "      <td>28.3</td>\n",
       "    </tr>\n",
       "    <tr>\n",
       "      <th>1</th>\n",
       "      <td>出院前检查</td>\n",
       "      <td>90003_a</td>\n",
       "      <td>NaN</td>\n",
       "      <td>NaN</td>\n",
       "      <td>NaN</td>\n",
       "      <td>NaN</td>\n",
       "    </tr>\n",
       "    <tr>\n",
       "      <th>2</th>\n",
       "      <td>出院前检查</td>\n",
       "      <td>90004_a</td>\n",
       "      <td>NaN</td>\n",
       "      <td>NaN</td>\n",
       "      <td>NaN</td>\n",
       "      <td>NaN</td>\n",
       "    </tr>\n",
       "    <tr>\n",
       "      <th>3</th>\n",
       "      <td>出院前检查</td>\n",
       "      <td>90005_a</td>\n",
       "      <td>NaN</td>\n",
       "      <td>NaN</td>\n",
       "      <td>NaN</td>\n",
       "      <td>NaN</td>\n",
       "    </tr>\n",
       "    <tr>\n",
       "      <th>4</th>\n",
       "      <td>出院前检查</td>\n",
       "      <td>90006_a</td>\n",
       "      <td>2018-02-19</td>\n",
       "      <td>10.7</td>\n",
       "      <td>0.99</td>\n",
       "      <td>31.9</td>\n",
       "    </tr>\n",
       "  </tbody>\n",
       "</table>\n",
       "</div>"
      ],
      "text/plain": [
       "      访视    受试者编号        检查日期    PT   INR  APTT\n",
       "0  出院前检查  90001_a  2018-04-10  11.8  1.07  28.3\n",
       "1  出院前检查  90003_a         NaN   NaN   NaN   NaN\n",
       "2  出院前检查  90004_a         NaN   NaN   NaN   NaN\n",
       "3  出院前检查  90005_a         NaN   NaN   NaN   NaN\n",
       "4  出院前检查  90006_a  2018-02-19  10.7  0.99  31.9"
      ]
     },
     "execution_count": 154,
     "metadata": {},
     "output_type": "execute_result"
    }
   ],
   "source": [
    "df_凝血_1_oup.head()"
   ]
  },
  {
   "cell_type": "code",
   "execution_count": 155,
   "metadata": {},
   "outputs": [],
   "source": [
    "df_凝血_1_inp.to_excel(project_path+'/data/processed_data/检测数据/凝血/df_凝血_其他科_入院记录.xlsx')\n",
    "df_凝血_1_oup.to_excel(project_path+'/data/processed_data/检测数据/凝血/df_凝血_其他科_出院记录.xlsx')"
   ]
  },
  {
   "cell_type": "markdown",
   "metadata": {},
   "source": [
    "#### 心内科"
   ]
  },
  {
   "cell_type": "code",
   "execution_count": 156,
   "metadata": {},
   "outputs": [],
   "source": [
    "df_凝血_2 = pd.read_excel(project_path+'/data/raw_data/导出全部CRF表数据-心内科1021.xlsx',\n",
    "                            sheet_name='LBC_凝血功能',\n",
    "                           header=1,)  # 指定第2行作为标题行\n",
    "#                            skiprows=[1,1,1])  # 跳过第几行)"
   ]
  },
  {
   "cell_type": "code",
   "execution_count": 157,
   "metadata": {},
   "outputs": [],
   "source": [
    "# 标记受试者编号\n",
    "df_凝血_2['受试者编号']=df_凝血_2['受试者编号'].apply(lambda x: str(x)+'_b')"
   ]
  },
  {
   "cell_type": "code",
   "execution_count": 158,
   "metadata": {},
   "outputs": [
    {
     "data": {
      "text/plain": [
       "Index(['方案号', '中心标识', '中心名称', '受试者编号', '访视', '检查日期', 'PT', 'PT-临床意义',\n",
       "       'PT-临床意义_描述', 'PT-异常请描述', 'INR', 'INR-临床意义', 'INR-临床意义_描述', 'INR-异常请描述',\n",
       "       'APTT', 'APTT-临床意义', 'APTT-临床意义_描述', 'APTT-异常请描述', '原始录入日期', '最后修改日期'],\n",
       "      dtype='object')"
      ]
     },
     "execution_count": 158,
     "metadata": {},
     "output_type": "execute_result"
    }
   ],
   "source": [
    "df_凝血_2.columns"
   ]
  },
  {
   "cell_type": "code",
   "execution_count": 159,
   "metadata": {},
   "outputs": [],
   "source": [
    "# 提取有效字段\n",
    "df_凝血_2=df_凝血_2[['访视','受试者编号','检查日期','PT','INR','APTT']]"
   ]
  },
  {
   "cell_type": "code",
   "execution_count": 160,
   "metadata": {},
   "outputs": [
    {
     "data": {
      "text/plain": [
       "(191, 6)"
      ]
     },
     "execution_count": 160,
     "metadata": {},
     "output_type": "execute_result"
    }
   ],
   "source": [
    "df_凝血_2.shape"
   ]
  },
  {
   "cell_type": "code",
   "execution_count": 161,
   "metadata": {},
   "outputs": [
    {
     "data": {
      "text/html": [
       "<div>\n",
       "<style scoped>\n",
       "    .dataframe tbody tr th:only-of-type {\n",
       "        vertical-align: middle;\n",
       "    }\n",
       "\n",
       "    .dataframe tbody tr th {\n",
       "        vertical-align: top;\n",
       "    }\n",
       "\n",
       "    .dataframe thead th {\n",
       "        text-align: right;\n",
       "    }\n",
       "</style>\n",
       "<table border=\"1\" class=\"dataframe\">\n",
       "  <thead>\n",
       "    <tr style=\"text-align: right;\">\n",
       "      <th></th>\n",
       "      <th>访视</th>\n",
       "      <th>受试者编号</th>\n",
       "      <th>检查日期</th>\n",
       "      <th>PT</th>\n",
       "      <th>INR</th>\n",
       "      <th>APTT</th>\n",
       "    </tr>\n",
       "  </thead>\n",
       "  <tbody>\n",
       "    <tr>\n",
       "      <th>0</th>\n",
       "      <td>入院检查</td>\n",
       "      <td>90001_b</td>\n",
       "      <td>NaN</td>\n",
       "      <td>NaN</td>\n",
       "      <td>NaN</td>\n",
       "      <td>NaN</td>\n",
       "    </tr>\n",
       "    <tr>\n",
       "      <th>1</th>\n",
       "      <td>出院前检查</td>\n",
       "      <td>90001_b</td>\n",
       "      <td>NaN</td>\n",
       "      <td>NaN</td>\n",
       "      <td>NaN</td>\n",
       "      <td>NaN</td>\n",
       "    </tr>\n",
       "    <tr>\n",
       "      <th>2</th>\n",
       "      <td>入院检查</td>\n",
       "      <td>90002_b</td>\n",
       "      <td>2019-04-26</td>\n",
       "      <td>14.9</td>\n",
       "      <td>1.09</td>\n",
       "      <td>29.9</td>\n",
       "    </tr>\n",
       "    <tr>\n",
       "      <th>3</th>\n",
       "      <td>出院前检查</td>\n",
       "      <td>90002_b</td>\n",
       "      <td>NaN</td>\n",
       "      <td>NaN</td>\n",
       "      <td>NaN</td>\n",
       "      <td>NaN</td>\n",
       "    </tr>\n",
       "    <tr>\n",
       "      <th>4</th>\n",
       "      <td>入院检查</td>\n",
       "      <td>90003_b</td>\n",
       "      <td>2019-05-25</td>\n",
       "      <td>11.8</td>\n",
       "      <td>1.09</td>\n",
       "      <td>33.6</td>\n",
       "    </tr>\n",
       "  </tbody>\n",
       "</table>\n",
       "</div>"
      ],
      "text/plain": [
       "      访视    受试者编号        检查日期    PT   INR  APTT\n",
       "0   入院检查  90001_b         NaN   NaN   NaN   NaN\n",
       "1  出院前检查  90001_b         NaN   NaN   NaN   NaN\n",
       "2   入院检查  90002_b  2019-04-26  14.9  1.09  29.9\n",
       "3  出院前检查  90002_b         NaN   NaN   NaN   NaN\n",
       "4   入院检查  90003_b  2019-05-25  11.8  1.09  33.6"
      ]
     },
     "execution_count": 161,
     "metadata": {},
     "output_type": "execute_result"
    }
   ],
   "source": [
    "df_凝血_2.head()"
   ]
  },
  {
   "cell_type": "code",
   "execution_count": 162,
   "metadata": {},
   "outputs": [],
   "source": [
    "# 出入院血常规检测\n",
    "df_凝血_2_inp=df_凝血_2[df_凝血_2['访视'].str.contains('入院检查')]\n",
    "df_凝血_2_inp=df_凝血_2_inp.reset_index(drop=True)\n",
    "df_凝血_2_oup=df_凝血_2[df_凝血_2['访视'].str.contains('出院前检查')]\n",
    "df_凝血_2_oup=df_凝血_2_oup.reset_index(drop=True)"
   ]
  },
  {
   "cell_type": "code",
   "execution_count": 163,
   "metadata": {},
   "outputs": [
    {
     "data": {
      "text/plain": [
       "(103, 6)"
      ]
     },
     "execution_count": 163,
     "metadata": {},
     "output_type": "execute_result"
    }
   ],
   "source": [
    "df_凝血_2_inp.shape"
   ]
  },
  {
   "cell_type": "code",
   "execution_count": 164,
   "metadata": {},
   "outputs": [
    {
     "data": {
      "text/html": [
       "<div>\n",
       "<style scoped>\n",
       "    .dataframe tbody tr th:only-of-type {\n",
       "        vertical-align: middle;\n",
       "    }\n",
       "\n",
       "    .dataframe tbody tr th {\n",
       "        vertical-align: top;\n",
       "    }\n",
       "\n",
       "    .dataframe thead th {\n",
       "        text-align: right;\n",
       "    }\n",
       "</style>\n",
       "<table border=\"1\" class=\"dataframe\">\n",
       "  <thead>\n",
       "    <tr style=\"text-align: right;\">\n",
       "      <th></th>\n",
       "      <th>访视</th>\n",
       "      <th>受试者编号</th>\n",
       "      <th>检查日期</th>\n",
       "      <th>PT</th>\n",
       "      <th>INR</th>\n",
       "      <th>APTT</th>\n",
       "    </tr>\n",
       "  </thead>\n",
       "  <tbody>\n",
       "    <tr>\n",
       "      <th>0</th>\n",
       "      <td>入院检查</td>\n",
       "      <td>90001_b</td>\n",
       "      <td>NaN</td>\n",
       "      <td>NaN</td>\n",
       "      <td>NaN</td>\n",
       "      <td>NaN</td>\n",
       "    </tr>\n",
       "    <tr>\n",
       "      <th>1</th>\n",
       "      <td>入院检查</td>\n",
       "      <td>90002_b</td>\n",
       "      <td>2019-04-26</td>\n",
       "      <td>14.9</td>\n",
       "      <td>1.09</td>\n",
       "      <td>29.9</td>\n",
       "    </tr>\n",
       "    <tr>\n",
       "      <th>2</th>\n",
       "      <td>入院检查</td>\n",
       "      <td>90003_b</td>\n",
       "      <td>2019-05-25</td>\n",
       "      <td>11.8</td>\n",
       "      <td>1.09</td>\n",
       "      <td>33.6</td>\n",
       "    </tr>\n",
       "    <tr>\n",
       "      <th>3</th>\n",
       "      <td>入院检查</td>\n",
       "      <td>90004_b</td>\n",
       "      <td>2019-04-01</td>\n",
       "      <td>13.8</td>\n",
       "      <td>0.95</td>\n",
       "      <td>29.7</td>\n",
       "    </tr>\n",
       "    <tr>\n",
       "      <th>4</th>\n",
       "      <td>入院检查</td>\n",
       "      <td>90005_b</td>\n",
       "      <td>2019-05-18</td>\n",
       "      <td>12.8</td>\n",
       "      <td>1.10</td>\n",
       "      <td>31.2</td>\n",
       "    </tr>\n",
       "  </tbody>\n",
       "</table>\n",
       "</div>"
      ],
      "text/plain": [
       "     访视    受试者编号        检查日期    PT   INR  APTT\n",
       "0  入院检查  90001_b         NaN   NaN   NaN   NaN\n",
       "1  入院检查  90002_b  2019-04-26  14.9  1.09  29.9\n",
       "2  入院检查  90003_b  2019-05-25  11.8  1.09  33.6\n",
       "3  入院检查  90004_b  2019-04-01  13.8  0.95  29.7\n",
       "4  入院检查  90005_b  2019-05-18  12.8  1.10  31.2"
      ]
     },
     "execution_count": 164,
     "metadata": {},
     "output_type": "execute_result"
    }
   ],
   "source": [
    "df_凝血_2_inp.head()"
   ]
  },
  {
   "cell_type": "code",
   "execution_count": 165,
   "metadata": {},
   "outputs": [
    {
     "data": {
      "text/plain": [
       "(88, 6)"
      ]
     },
     "execution_count": 165,
     "metadata": {},
     "output_type": "execute_result"
    }
   ],
   "source": [
    "df_凝血_2_oup.shape"
   ]
  },
  {
   "cell_type": "code",
   "execution_count": 166,
   "metadata": {},
   "outputs": [
    {
     "data": {
      "text/html": [
       "<div>\n",
       "<style scoped>\n",
       "    .dataframe tbody tr th:only-of-type {\n",
       "        vertical-align: middle;\n",
       "    }\n",
       "\n",
       "    .dataframe tbody tr th {\n",
       "        vertical-align: top;\n",
       "    }\n",
       "\n",
       "    .dataframe thead th {\n",
       "        text-align: right;\n",
       "    }\n",
       "</style>\n",
       "<table border=\"1\" class=\"dataframe\">\n",
       "  <thead>\n",
       "    <tr style=\"text-align: right;\">\n",
       "      <th></th>\n",
       "      <th>访视</th>\n",
       "      <th>受试者编号</th>\n",
       "      <th>检查日期</th>\n",
       "      <th>PT</th>\n",
       "      <th>INR</th>\n",
       "      <th>APTT</th>\n",
       "    </tr>\n",
       "  </thead>\n",
       "  <tbody>\n",
       "    <tr>\n",
       "      <th>0</th>\n",
       "      <td>出院前检查</td>\n",
       "      <td>90001_b</td>\n",
       "      <td>NaN</td>\n",
       "      <td>NaN</td>\n",
       "      <td>NaN</td>\n",
       "      <td>NaN</td>\n",
       "    </tr>\n",
       "    <tr>\n",
       "      <th>1</th>\n",
       "      <td>出院前检查</td>\n",
       "      <td>90002_b</td>\n",
       "      <td>NaN</td>\n",
       "      <td>NaN</td>\n",
       "      <td>NaN</td>\n",
       "      <td>NaN</td>\n",
       "    </tr>\n",
       "    <tr>\n",
       "      <th>2</th>\n",
       "      <td>出院前检查</td>\n",
       "      <td>90003_b</td>\n",
       "      <td>2019-05-28</td>\n",
       "      <td>12.3</td>\n",
       "      <td>1.05</td>\n",
       "      <td>33.3</td>\n",
       "    </tr>\n",
       "    <tr>\n",
       "      <th>3</th>\n",
       "      <td>出院前检查</td>\n",
       "      <td>90004_b</td>\n",
       "      <td>NaN</td>\n",
       "      <td>NaN</td>\n",
       "      <td>NaN</td>\n",
       "      <td>NaN</td>\n",
       "    </tr>\n",
       "    <tr>\n",
       "      <th>4</th>\n",
       "      <td>出院前检查</td>\n",
       "      <td>90005_b</td>\n",
       "      <td>NaN</td>\n",
       "      <td>NaN</td>\n",
       "      <td>NaN</td>\n",
       "      <td>NaN</td>\n",
       "    </tr>\n",
       "  </tbody>\n",
       "</table>\n",
       "</div>"
      ],
      "text/plain": [
       "      访视    受试者编号        检查日期    PT   INR  APTT\n",
       "0  出院前检查  90001_b         NaN   NaN   NaN   NaN\n",
       "1  出院前检查  90002_b         NaN   NaN   NaN   NaN\n",
       "2  出院前检查  90003_b  2019-05-28  12.3  1.05  33.3\n",
       "3  出院前检查  90004_b         NaN   NaN   NaN   NaN\n",
       "4  出院前检查  90005_b         NaN   NaN   NaN   NaN"
      ]
     },
     "execution_count": 166,
     "metadata": {},
     "output_type": "execute_result"
    }
   ],
   "source": [
    "df_凝血_2_oup.head()"
   ]
  },
  {
   "cell_type": "code",
   "execution_count": 167,
   "metadata": {},
   "outputs": [],
   "source": [
    "df_凝血_2_inp.to_excel(project_path+'/data/processed_data/检测数据/凝血/df_凝血_心内科_入院记录.xlsx')\n",
    "df_凝血_2_oup.to_excel(project_path+'/data/processed_data/检测数据/凝血/df_凝血_心内科_出院记录.xlsx')"
   ]
  },
  {
   "cell_type": "markdown",
   "metadata": {},
   "source": [
    "#### 合并凝血"
   ]
  },
  {
   "cell_type": "code",
   "execution_count": 168,
   "metadata": {},
   "outputs": [],
   "source": [
    "# 修改列名\n",
    "for i in df_凝血_1_inp.columns[3:]:\n",
    "    df_凝血_1_inp.rename(columns={i:i + '_入院'},inplace=True)\n",
    "for i in df_凝血_2_inp.columns[3:]:\n",
    "    df_凝血_2_inp.rename(columns={i:i+'_入院'},inplace=True)  "
   ]
  },
  {
   "cell_type": "code",
   "execution_count": 169,
   "metadata": {},
   "outputs": [],
   "source": [
    "df_凝血_入院=pd.concat([df_凝血_1_inp,df_凝血_2_inp],axis=0)"
   ]
  },
  {
   "cell_type": "code",
   "execution_count": 170,
   "metadata": {},
   "outputs": [
    {
     "data": {
      "text/html": [
       "<div>\n",
       "<style scoped>\n",
       "    .dataframe tbody tr th:only-of-type {\n",
       "        vertical-align: middle;\n",
       "    }\n",
       "\n",
       "    .dataframe tbody tr th {\n",
       "        vertical-align: top;\n",
       "    }\n",
       "\n",
       "    .dataframe thead th {\n",
       "        text-align: right;\n",
       "    }\n",
       "</style>\n",
       "<table border=\"1\" class=\"dataframe\">\n",
       "  <thead>\n",
       "    <tr style=\"text-align: right;\">\n",
       "      <th></th>\n",
       "      <th>访视</th>\n",
       "      <th>受试者编号</th>\n",
       "      <th>检查日期</th>\n",
       "      <th>PT_入院</th>\n",
       "      <th>INR_入院</th>\n",
       "      <th>APTT_入院</th>\n",
       "    </tr>\n",
       "  </thead>\n",
       "  <tbody>\n",
       "    <tr>\n",
       "      <th>0</th>\n",
       "      <td>入院检查</td>\n",
       "      <td>90001_a</td>\n",
       "      <td>2018-03-28</td>\n",
       "      <td>10.4</td>\n",
       "      <td>0.96</td>\n",
       "      <td>28.0</td>\n",
       "    </tr>\n",
       "    <tr>\n",
       "      <th>1</th>\n",
       "      <td>入院检查</td>\n",
       "      <td>90003_a</td>\n",
       "      <td>2018-01-31</td>\n",
       "      <td>17.6</td>\n",
       "      <td>1.63</td>\n",
       "      <td>42.0</td>\n",
       "    </tr>\n",
       "    <tr>\n",
       "      <th>2</th>\n",
       "      <td>入院检查</td>\n",
       "      <td>90004_a</td>\n",
       "      <td>NaN</td>\n",
       "      <td>NaN</td>\n",
       "      <td>NaN</td>\n",
       "      <td>NaN</td>\n",
       "    </tr>\n",
       "    <tr>\n",
       "      <th>3</th>\n",
       "      <td>入院检查</td>\n",
       "      <td>90005_a</td>\n",
       "      <td>2018-02-07</td>\n",
       "      <td>11.9</td>\n",
       "      <td>1.10</td>\n",
       "      <td>27.7</td>\n",
       "    </tr>\n",
       "    <tr>\n",
       "      <th>4</th>\n",
       "      <td>入院检查</td>\n",
       "      <td>90006_a</td>\n",
       "      <td>NaN</td>\n",
       "      <td>NaN</td>\n",
       "      <td>NaN</td>\n",
       "      <td>NaN</td>\n",
       "    </tr>\n",
       "  </tbody>\n",
       "</table>\n",
       "</div>"
      ],
      "text/plain": [
       "     访视    受试者编号        检查日期  PT_入院  INR_入院  APTT_入院\n",
       "0  入院检查  90001_a  2018-03-28   10.4    0.96     28.0\n",
       "1  入院检查  90003_a  2018-01-31   17.6    1.63     42.0\n",
       "2  入院检查  90004_a         NaN    NaN     NaN      NaN\n",
       "3  入院检查  90005_a  2018-02-07   11.9    1.10     27.7\n",
       "4  入院检查  90006_a         NaN    NaN     NaN      NaN"
      ]
     },
     "execution_count": 170,
     "metadata": {},
     "output_type": "execute_result"
    }
   ],
   "source": [
    "df_凝血_入院.head()"
   ]
  },
  {
   "cell_type": "code",
   "execution_count": 171,
   "metadata": {},
   "outputs": [],
   "source": [
    "df_凝血_入院.to_excel(project_path+'/data/processed_data/检测数据/df_凝血_入院.xlsx')"
   ]
  },
  {
   "cell_type": "code",
   "execution_count": 172,
   "metadata": {},
   "outputs": [],
   "source": [
    "# 修改列名\n",
    "for i in df_凝血_1_oup.columns[3:]:\n",
    "    df_凝血_1_oup.rename(columns={i:i + '_出院'},inplace=True)\n",
    "for i in df_凝血_2_oup.columns[3:]:\n",
    "    df_凝血_2_oup.rename(columns={i:i+'_出院'},inplace=True) "
   ]
  },
  {
   "cell_type": "code",
   "execution_count": 173,
   "metadata": {},
   "outputs": [],
   "source": [
    "df_凝血_出院=pd.concat([df_凝血_1_oup,df_凝血_2_oup],axis=0)"
   ]
  },
  {
   "cell_type": "code",
   "execution_count": 174,
   "metadata": {},
   "outputs": [
    {
     "data": {
      "text/html": [
       "<div>\n",
       "<style scoped>\n",
       "    .dataframe tbody tr th:only-of-type {\n",
       "        vertical-align: middle;\n",
       "    }\n",
       "\n",
       "    .dataframe tbody tr th {\n",
       "        vertical-align: top;\n",
       "    }\n",
       "\n",
       "    .dataframe thead th {\n",
       "        text-align: right;\n",
       "    }\n",
       "</style>\n",
       "<table border=\"1\" class=\"dataframe\">\n",
       "  <thead>\n",
       "    <tr style=\"text-align: right;\">\n",
       "      <th></th>\n",
       "      <th>访视</th>\n",
       "      <th>受试者编号</th>\n",
       "      <th>检查日期</th>\n",
       "      <th>PT_出院</th>\n",
       "      <th>INR_出院</th>\n",
       "      <th>APTT_出院</th>\n",
       "    </tr>\n",
       "  </thead>\n",
       "  <tbody>\n",
       "    <tr>\n",
       "      <th>0</th>\n",
       "      <td>出院前检查</td>\n",
       "      <td>90001_a</td>\n",
       "      <td>2018-04-10</td>\n",
       "      <td>11.8</td>\n",
       "      <td>1.07</td>\n",
       "      <td>28.3</td>\n",
       "    </tr>\n",
       "    <tr>\n",
       "      <th>1</th>\n",
       "      <td>出院前检查</td>\n",
       "      <td>90003_a</td>\n",
       "      <td>NaN</td>\n",
       "      <td>NaN</td>\n",
       "      <td>NaN</td>\n",
       "      <td>NaN</td>\n",
       "    </tr>\n",
       "    <tr>\n",
       "      <th>2</th>\n",
       "      <td>出院前检查</td>\n",
       "      <td>90004_a</td>\n",
       "      <td>NaN</td>\n",
       "      <td>NaN</td>\n",
       "      <td>NaN</td>\n",
       "      <td>NaN</td>\n",
       "    </tr>\n",
       "    <tr>\n",
       "      <th>3</th>\n",
       "      <td>出院前检查</td>\n",
       "      <td>90005_a</td>\n",
       "      <td>NaN</td>\n",
       "      <td>NaN</td>\n",
       "      <td>NaN</td>\n",
       "      <td>NaN</td>\n",
       "    </tr>\n",
       "    <tr>\n",
       "      <th>4</th>\n",
       "      <td>出院前检查</td>\n",
       "      <td>90006_a</td>\n",
       "      <td>2018-02-19</td>\n",
       "      <td>10.7</td>\n",
       "      <td>0.99</td>\n",
       "      <td>31.9</td>\n",
       "    </tr>\n",
       "  </tbody>\n",
       "</table>\n",
       "</div>"
      ],
      "text/plain": [
       "      访视    受试者编号        检查日期  PT_出院  INR_出院  APTT_出院\n",
       "0  出院前检查  90001_a  2018-04-10   11.8    1.07     28.3\n",
       "1  出院前检查  90003_a         NaN    NaN     NaN      NaN\n",
       "2  出院前检查  90004_a         NaN    NaN     NaN      NaN\n",
       "3  出院前检查  90005_a         NaN    NaN     NaN      NaN\n",
       "4  出院前检查  90006_a  2018-02-19   10.7    0.99     31.9"
      ]
     },
     "execution_count": 174,
     "metadata": {},
     "output_type": "execute_result"
    }
   ],
   "source": [
    "df_凝血_出院.head()"
   ]
  },
  {
   "cell_type": "code",
   "execution_count": 325,
   "metadata": {},
   "outputs": [
    {
     "data": {
      "text/plain": [
       "(617, 4)"
      ]
     },
     "execution_count": 325,
     "metadata": {},
     "output_type": "execute_result"
    }
   ],
   "source": [
    "df_凝血_出院.shape"
   ]
  },
  {
   "cell_type": "code",
   "execution_count": 175,
   "metadata": {},
   "outputs": [],
   "source": [
    "df_凝血_出院.to_excel(project_path+'/data/processed_data/检测数据/df_凝血_出院.xlsx')"
   ]
  },
  {
   "cell_type": "markdown",
   "metadata": {},
   "source": [
    "### 合并检测数据"
   ]
  },
  {
   "cell_type": "markdown",
   "metadata": {},
   "source": [
    "#### 舍弃原有数据的检测数据"
   ]
  },
  {
   "cell_type": "code",
   "execution_count": 176,
   "metadata": {},
   "outputs": [],
   "source": [
    "df_SUP_test=df_SUP_data.iloc[:,:47]"
   ]
  },
  {
   "cell_type": "code",
   "execution_count": 177,
   "metadata": {
    "scrolled": true
   },
   "outputs": [
    {
     "data": {
      "text/plain": [
       "Index(['受试者编号', '用药天数', '日计量', 'label', '年龄', '性别', '冠心病', '肺部感染', '糖尿病',\n",
       "       '高血压', '心功能不全', '脑梗死', '头晕', '急性冠脉综合征', '房颤', '肾功能不全', '尿毒症', '脓毒血症',\n",
       "       '肺水肿', '肺气肿', '呼吸衰竭', '胸腔积液', '尿路感染', '腹膜透析', '肝功能不全', '高脂血症',\n",
       "       '冠状动脉粥样硬化', '慢性支气管炎', '胆囊结石', '早搏', '急性肾损伤', '心肌梗塞', '阿司匹林', '阿托伐他',\n",
       "       '伐他汀钙', '前列地尔', '谷胱甘肽', '纤溶酶针', '丹参多酚酸盐', '替米沙坦', '左氧氟沙星', '氨溴索针',\n",
       "       '阿伐他汀', '腺苷钴胺', '多索茶碱', '银杏内酯', '醒脑静针'],\n",
       "      dtype='object')"
      ]
     },
     "execution_count": 177,
     "metadata": {},
     "output_type": "execute_result"
    }
   ],
   "source": [
    "df_SUP_test.columns"
   ]
  },
  {
   "cell_type": "markdown",
   "metadata": {},
   "source": [
    "#### 并入血常规数据"
   ]
  },
  {
   "cell_type": "code",
   "execution_count": 178,
   "metadata": {},
   "outputs": [
    {
     "data": {
      "text/plain": [
       "Index(['访视', '受试者编号', '检查日期', '红细胞_入院', '血红蛋白_入院', '白细胞_入院', '中性粒细胞计数_入院',\n",
       "       '血小板_入院', '红细胞压积_入院'],\n",
       "      dtype='object')"
      ]
     },
     "execution_count": 178,
     "metadata": {},
     "output_type": "execute_result"
    }
   ],
   "source": [
    "df_血常规_入院.columns"
   ]
  },
  {
   "cell_type": "code",
   "execution_count": 179,
   "metadata": {},
   "outputs": [],
   "source": [
    "df_血常规_入院=df_血常规_入院[['受试者编号', '红细胞_入院', '血红蛋白_入院', '白细胞_入院', '中性粒细胞计数_入院',\n",
    "                     '血小板_入院', '红细胞压积_入院']]\n",
    "df_SUP_test_血常规=pd.merge(df_SUP_test,df_血常规_入院,on='受试者编号',how='left')"
   ]
  },
  {
   "cell_type": "code",
   "execution_count": 180,
   "metadata": {},
   "outputs": [
    {
     "data": {
      "text/html": [
       "<div>\n",
       "<style scoped>\n",
       "    .dataframe tbody tr th:only-of-type {\n",
       "        vertical-align: middle;\n",
       "    }\n",
       "\n",
       "    .dataframe tbody tr th {\n",
       "        vertical-align: top;\n",
       "    }\n",
       "\n",
       "    .dataframe thead th {\n",
       "        text-align: right;\n",
       "    }\n",
       "</style>\n",
       "<table border=\"1\" class=\"dataframe\">\n",
       "  <thead>\n",
       "    <tr style=\"text-align: right;\">\n",
       "      <th></th>\n",
       "      <th>受试者编号</th>\n",
       "      <th>用药天数</th>\n",
       "      <th>日计量</th>\n",
       "      <th>label</th>\n",
       "      <th>年龄</th>\n",
       "      <th>性别</th>\n",
       "      <th>冠心病</th>\n",
       "      <th>肺部感染</th>\n",
       "      <th>糖尿病</th>\n",
       "      <th>高血压</th>\n",
       "      <th>...</th>\n",
       "      <th>腺苷钴胺</th>\n",
       "      <th>多索茶碱</th>\n",
       "      <th>银杏内酯</th>\n",
       "      <th>醒脑静针</th>\n",
       "      <th>红细胞_入院</th>\n",
       "      <th>血红蛋白_入院</th>\n",
       "      <th>白细胞_入院</th>\n",
       "      <th>中性粒细胞计数_入院</th>\n",
       "      <th>血小板_入院</th>\n",
       "      <th>红细胞压积_入院</th>\n",
       "    </tr>\n",
       "  </thead>\n",
       "  <tbody>\n",
       "    <tr>\n",
       "      <th>0</th>\n",
       "      <td>90001_a</td>\n",
       "      <td>9.0</td>\n",
       "      <td>30.0</td>\n",
       "      <td>0</td>\n",
       "      <td>61</td>\n",
       "      <td>1</td>\n",
       "      <td>0</td>\n",
       "      <td>0</td>\n",
       "      <td>0</td>\n",
       "      <td>1</td>\n",
       "      <td>...</td>\n",
       "      <td>0</td>\n",
       "      <td>0</td>\n",
       "      <td>0</td>\n",
       "      <td>1</td>\n",
       "      <td>4.38</td>\n",
       "      <td>127.0</td>\n",
       "      <td>10.60</td>\n",
       "      <td>75.4</td>\n",
       "      <td>315.0</td>\n",
       "      <td>37.2</td>\n",
       "    </tr>\n",
       "    <tr>\n",
       "      <th>1</th>\n",
       "      <td>90003_a</td>\n",
       "      <td>6.0</td>\n",
       "      <td>40.0</td>\n",
       "      <td>1</td>\n",
       "      <td>53</td>\n",
       "      <td>0</td>\n",
       "      <td>0</td>\n",
       "      <td>0</td>\n",
       "      <td>0</td>\n",
       "      <td>1</td>\n",
       "      <td>...</td>\n",
       "      <td>0</td>\n",
       "      <td>0</td>\n",
       "      <td>0</td>\n",
       "      <td>0</td>\n",
       "      <td>4.70</td>\n",
       "      <td>133.0</td>\n",
       "      <td>1.80</td>\n",
       "      <td>87.5</td>\n",
       "      <td>136.0</td>\n",
       "      <td>38.7</td>\n",
       "    </tr>\n",
       "    <tr>\n",
       "      <th>2</th>\n",
       "      <td>90004_a</td>\n",
       "      <td>1.0</td>\n",
       "      <td>40.0</td>\n",
       "      <td>0</td>\n",
       "      <td>70</td>\n",
       "      <td>0</td>\n",
       "      <td>0</td>\n",
       "      <td>0</td>\n",
       "      <td>0</td>\n",
       "      <td>1</td>\n",
       "      <td>...</td>\n",
       "      <td>0</td>\n",
       "      <td>0</td>\n",
       "      <td>0</td>\n",
       "      <td>0</td>\n",
       "      <td>2.99</td>\n",
       "      <td>97.0</td>\n",
       "      <td>6.20</td>\n",
       "      <td>59.9</td>\n",
       "      <td>226.0</td>\n",
       "      <td>29.0</td>\n",
       "    </tr>\n",
       "    <tr>\n",
       "      <th>3</th>\n",
       "      <td>90005_a</td>\n",
       "      <td>1.0</td>\n",
       "      <td>40.0</td>\n",
       "      <td>0</td>\n",
       "      <td>70</td>\n",
       "      <td>0</td>\n",
       "      <td>0</td>\n",
       "      <td>0</td>\n",
       "      <td>0</td>\n",
       "      <td>1</td>\n",
       "      <td>...</td>\n",
       "      <td>0</td>\n",
       "      <td>0</td>\n",
       "      <td>0</td>\n",
       "      <td>0</td>\n",
       "      <td>3.26</td>\n",
       "      <td>104.0</td>\n",
       "      <td>14.21</td>\n",
       "      <td>80.5</td>\n",
       "      <td>243.0</td>\n",
       "      <td>30.5</td>\n",
       "    </tr>\n",
       "    <tr>\n",
       "      <th>4</th>\n",
       "      <td>90006_a</td>\n",
       "      <td>1.0</td>\n",
       "      <td>30.0</td>\n",
       "      <td>0</td>\n",
       "      <td>79</td>\n",
       "      <td>1</td>\n",
       "      <td>0</td>\n",
       "      <td>0</td>\n",
       "      <td>0</td>\n",
       "      <td>1</td>\n",
       "      <td>...</td>\n",
       "      <td>0</td>\n",
       "      <td>0</td>\n",
       "      <td>0</td>\n",
       "      <td>0</td>\n",
       "      <td>4.36</td>\n",
       "      <td>125.0</td>\n",
       "      <td>8.00</td>\n",
       "      <td>58.5</td>\n",
       "      <td>260.0</td>\n",
       "      <td>37.7</td>\n",
       "    </tr>\n",
       "    <tr>\n",
       "      <th>...</th>\n",
       "      <td>...</td>\n",
       "      <td>...</td>\n",
       "      <td>...</td>\n",
       "      <td>...</td>\n",
       "      <td>...</td>\n",
       "      <td>...</td>\n",
       "      <td>...</td>\n",
       "      <td>...</td>\n",
       "      <td>...</td>\n",
       "      <td>...</td>\n",
       "      <td>...</td>\n",
       "      <td>...</td>\n",
       "      <td>...</td>\n",
       "      <td>...</td>\n",
       "      <td>...</td>\n",
       "      <td>...</td>\n",
       "      <td>...</td>\n",
       "      <td>...</td>\n",
       "      <td>...</td>\n",
       "      <td>...</td>\n",
       "      <td>...</td>\n",
       "    </tr>\n",
       "    <tr>\n",
       "      <th>725</th>\n",
       "      <td>90100_b</td>\n",
       "      <td>11.0</td>\n",
       "      <td>60.0</td>\n",
       "      <td>0</td>\n",
       "      <td>85</td>\n",
       "      <td>0</td>\n",
       "      <td>1</td>\n",
       "      <td>0</td>\n",
       "      <td>1</td>\n",
       "      <td>1</td>\n",
       "      <td>...</td>\n",
       "      <td>0</td>\n",
       "      <td>0</td>\n",
       "      <td>0</td>\n",
       "      <td>0</td>\n",
       "      <td>2.55</td>\n",
       "      <td>80.0</td>\n",
       "      <td>7.70</td>\n",
       "      <td>78.6</td>\n",
       "      <td>NaN</td>\n",
       "      <td>23.4</td>\n",
       "    </tr>\n",
       "    <tr>\n",
       "      <th>726</th>\n",
       "      <td>90101_b</td>\n",
       "      <td>32.0</td>\n",
       "      <td>40.0</td>\n",
       "      <td>0</td>\n",
       "      <td>70</td>\n",
       "      <td>1</td>\n",
       "      <td>1</td>\n",
       "      <td>0</td>\n",
       "      <td>1</td>\n",
       "      <td>1</td>\n",
       "      <td>...</td>\n",
       "      <td>0</td>\n",
       "      <td>0</td>\n",
       "      <td>0</td>\n",
       "      <td>0</td>\n",
       "      <td>4.09</td>\n",
       "      <td>135.0</td>\n",
       "      <td>20.00</td>\n",
       "      <td>90.2</td>\n",
       "      <td>198.0</td>\n",
       "      <td>40.1</td>\n",
       "    </tr>\n",
       "    <tr>\n",
       "      <th>727</th>\n",
       "      <td>90102_b</td>\n",
       "      <td>2.0</td>\n",
       "      <td>30.0</td>\n",
       "      <td>0</td>\n",
       "      <td>64</td>\n",
       "      <td>0</td>\n",
       "      <td>1</td>\n",
       "      <td>0</td>\n",
       "      <td>0</td>\n",
       "      <td>0</td>\n",
       "      <td>...</td>\n",
       "      <td>0</td>\n",
       "      <td>0</td>\n",
       "      <td>0</td>\n",
       "      <td>0</td>\n",
       "      <td>3.78</td>\n",
       "      <td>117.0</td>\n",
       "      <td>6.20</td>\n",
       "      <td>3.9</td>\n",
       "      <td>180.0</td>\n",
       "      <td>34.0</td>\n",
       "    </tr>\n",
       "    <tr>\n",
       "      <th>728</th>\n",
       "      <td>90104_b</td>\n",
       "      <td>8.0</td>\n",
       "      <td>30.0</td>\n",
       "      <td>0</td>\n",
       "      <td>82</td>\n",
       "      <td>1</td>\n",
       "      <td>0</td>\n",
       "      <td>1</td>\n",
       "      <td>0</td>\n",
       "      <td>1</td>\n",
       "      <td>...</td>\n",
       "      <td>0</td>\n",
       "      <td>0</td>\n",
       "      <td>0</td>\n",
       "      <td>0</td>\n",
       "      <td>4.05</td>\n",
       "      <td>124.0</td>\n",
       "      <td>8.30</td>\n",
       "      <td>86.2</td>\n",
       "      <td>164.0</td>\n",
       "      <td>38.6</td>\n",
       "    </tr>\n",
       "    <tr>\n",
       "      <th>729</th>\n",
       "      <td>90105_b</td>\n",
       "      <td>3.0</td>\n",
       "      <td>40.0</td>\n",
       "      <td>0</td>\n",
       "      <td>73</td>\n",
       "      <td>0</td>\n",
       "      <td>0</td>\n",
       "      <td>0</td>\n",
       "      <td>0</td>\n",
       "      <td>1</td>\n",
       "      <td>...</td>\n",
       "      <td>0</td>\n",
       "      <td>0</td>\n",
       "      <td>0</td>\n",
       "      <td>0</td>\n",
       "      <td>NaN</td>\n",
       "      <td>NaN</td>\n",
       "      <td>NaN</td>\n",
       "      <td>NaN</td>\n",
       "      <td>NaN</td>\n",
       "      <td>NaN</td>\n",
       "    </tr>\n",
       "  </tbody>\n",
       "</table>\n",
       "<p>730 rows × 53 columns</p>\n",
       "</div>"
      ],
      "text/plain": [
       "       受试者编号  用药天数   日计量  label  年龄  性别  冠心病  肺部感染  糖尿病  高血压  ...  腺苷钴胺  多索茶碱  \\\n",
       "0    90001_a   9.0  30.0      0  61   1    0     0    0    1  ...     0     0   \n",
       "1    90003_a   6.0  40.0      1  53   0    0     0    0    1  ...     0     0   \n",
       "2    90004_a   1.0  40.0      0  70   0    0     0    0    1  ...     0     0   \n",
       "3    90005_a   1.0  40.0      0  70   0    0     0    0    1  ...     0     0   \n",
       "4    90006_a   1.0  30.0      0  79   1    0     0    0    1  ...     0     0   \n",
       "..       ...   ...   ...    ...  ..  ..  ...   ...  ...  ...  ...   ...   ...   \n",
       "725  90100_b  11.0  60.0      0  85   0    1     0    1    1  ...     0     0   \n",
       "726  90101_b  32.0  40.0      0  70   1    1     0    1    1  ...     0     0   \n",
       "727  90102_b   2.0  30.0      0  64   0    1     0    0    0  ...     0     0   \n",
       "728  90104_b   8.0  30.0      0  82   1    0     1    0    1  ...     0     0   \n",
       "729  90105_b   3.0  40.0      0  73   0    0     0    0    1  ...     0     0   \n",
       "\n",
       "     银杏内酯  醒脑静针  红细胞_入院  血红蛋白_入院  白细胞_入院  中性粒细胞计数_入院  血小板_入院  红细胞压积_入院  \n",
       "0       0     1    4.38    127.0   10.60        75.4   315.0      37.2  \n",
       "1       0     0    4.70    133.0    1.80        87.5   136.0      38.7  \n",
       "2       0     0    2.99     97.0    6.20        59.9   226.0      29.0  \n",
       "3       0     0    3.26    104.0   14.21        80.5   243.0      30.5  \n",
       "4       0     0    4.36    125.0    8.00        58.5   260.0      37.7  \n",
       "..    ...   ...     ...      ...     ...         ...     ...       ...  \n",
       "725     0     0    2.55     80.0    7.70        78.6     NaN      23.4  \n",
       "726     0     0    4.09    135.0   20.00        90.2   198.0      40.1  \n",
       "727     0     0    3.78    117.0    6.20         3.9   180.0      34.0  \n",
       "728     0     0    4.05    124.0    8.30        86.2   164.0      38.6  \n",
       "729     0     0     NaN      NaN     NaN         NaN     NaN       NaN  \n",
       "\n",
       "[730 rows x 53 columns]"
      ]
     },
     "execution_count": 180,
     "metadata": {},
     "output_type": "execute_result"
    }
   ],
   "source": [
    "df_SUP_test_血常规"
   ]
  },
  {
   "cell_type": "code",
   "execution_count": 181,
   "metadata": {},
   "outputs": [
    {
     "data": {
      "text/plain": [
       "Index(['访视', '受试者编号', '检查日期', '红细胞_出院', '血红蛋白_出院', '白细胞_出院', '中性粒细胞计数_出院',\n",
       "       '血小板_出院', '红细胞压积_出院'],\n",
       "      dtype='object')"
      ]
     },
     "execution_count": 181,
     "metadata": {},
     "output_type": "execute_result"
    }
   ],
   "source": [
    "df_血常规_出院.columns"
   ]
  },
  {
   "cell_type": "code",
   "execution_count": 182,
   "metadata": {},
   "outputs": [],
   "source": [
    "df_血常规_出院=df_血常规_出院[['受试者编号', '红细胞_出院', '血红蛋白_出院', '白细胞_出院', '中性粒细胞计数_出院',\n",
    "                             '血小板_出院', '红细胞压积_出院']]\n",
    "df_SUP_test_血常规=pd.merge(df_SUP_test_血常规,df_血常规_出院,on='受试者编号',how='left')"
   ]
  },
  {
   "cell_type": "code",
   "execution_count": 326,
   "metadata": {},
   "outputs": [
    {
     "data": {
      "text/plain": [
       "(730, 59)"
      ]
     },
     "execution_count": 326,
     "metadata": {},
     "output_type": "execute_result"
    }
   ],
   "source": [
    "df_SUP_test_血常规.shape"
   ]
  },
  {
   "cell_type": "markdown",
   "metadata": {},
   "source": [
    "#### 并入尿常规"
   ]
  },
  {
   "cell_type": "code",
   "execution_count": 184,
   "metadata": {},
   "outputs": [
    {
     "data": {
      "text/plain": [
       "Index(['访视', '受试者编号', '检查日期', '尿蛋白（PRO）_入院', '尿白细胞（LEU）_入院', '尿红细胞（ERY）_入院'], dtype='object')"
      ]
     },
     "execution_count": 184,
     "metadata": {},
     "output_type": "execute_result"
    }
   ],
   "source": [
    "df_尿常规_入院.columns"
   ]
  },
  {
   "cell_type": "code",
   "execution_count": 185,
   "metadata": {},
   "outputs": [],
   "source": [
    "df_尿常规_入院=df_尿常规_入院[['受试者编号', '尿蛋白（PRO）_入院', '尿白细胞（LEU）_入院', '尿红细胞（ERY）_入院']]\n",
    "df_SUP_test_尿常规=pd.merge(df_SUP_test_血常规,df_尿常规_入院,on='受试者编号',how='left')"
   ]
  },
  {
   "cell_type": "code",
   "execution_count": 186,
   "metadata": {},
   "outputs": [
    {
     "data": {
      "text/html": [
       "<div>\n",
       "<style scoped>\n",
       "    .dataframe tbody tr th:only-of-type {\n",
       "        vertical-align: middle;\n",
       "    }\n",
       "\n",
       "    .dataframe tbody tr th {\n",
       "        vertical-align: top;\n",
       "    }\n",
       "\n",
       "    .dataframe thead th {\n",
       "        text-align: right;\n",
       "    }\n",
       "</style>\n",
       "<table border=\"1\" class=\"dataframe\">\n",
       "  <thead>\n",
       "    <tr style=\"text-align: right;\">\n",
       "      <th></th>\n",
       "      <th>受试者编号</th>\n",
       "      <th>用药天数</th>\n",
       "      <th>日计量</th>\n",
       "      <th>label</th>\n",
       "      <th>年龄</th>\n",
       "      <th>性别</th>\n",
       "      <th>冠心病</th>\n",
       "      <th>肺部感染</th>\n",
       "      <th>糖尿病</th>\n",
       "      <th>高血压</th>\n",
       "      <th>...</th>\n",
       "      <th>红细胞压积_入院</th>\n",
       "      <th>红细胞_出院</th>\n",
       "      <th>血红蛋白_出院</th>\n",
       "      <th>白细胞_出院</th>\n",
       "      <th>中性粒细胞计数_出院</th>\n",
       "      <th>血小板_出院</th>\n",
       "      <th>红细胞压积_出院</th>\n",
       "      <th>尿蛋白（PRO）_入院</th>\n",
       "      <th>尿白细胞（LEU）_入院</th>\n",
       "      <th>尿红细胞（ERY）_入院</th>\n",
       "    </tr>\n",
       "  </thead>\n",
       "  <tbody>\n",
       "    <tr>\n",
       "      <th>0</th>\n",
       "      <td>90001_a</td>\n",
       "      <td>9.0</td>\n",
       "      <td>30.0</td>\n",
       "      <td>0</td>\n",
       "      <td>61</td>\n",
       "      <td>1</td>\n",
       "      <td>0</td>\n",
       "      <td>0</td>\n",
       "      <td>0</td>\n",
       "      <td>1</td>\n",
       "      <td>...</td>\n",
       "      <td>37.2</td>\n",
       "      <td>3.85</td>\n",
       "      <td>111.0</td>\n",
       "      <td>15.0</td>\n",
       "      <td>75.0</td>\n",
       "      <td>337.0</td>\n",
       "      <td>32.5</td>\n",
       "      <td>25</td>\n",
       "      <td>5-8</td>\n",
       "      <td>0</td>\n",
       "    </tr>\n",
       "    <tr>\n",
       "      <th>1</th>\n",
       "      <td>90003_a</td>\n",
       "      <td>6.0</td>\n",
       "      <td>40.0</td>\n",
       "      <td>1</td>\n",
       "      <td>53</td>\n",
       "      <td>0</td>\n",
       "      <td>0</td>\n",
       "      <td>0</td>\n",
       "      <td>0</td>\n",
       "      <td>1</td>\n",
       "      <td>...</td>\n",
       "      <td>38.7</td>\n",
       "      <td>NaN</td>\n",
       "      <td>NaN</td>\n",
       "      <td>NaN</td>\n",
       "      <td>NaN</td>\n",
       "      <td>NaN</td>\n",
       "      <td>NaN</td>\n",
       "      <td>NaN</td>\n",
       "      <td>NaN</td>\n",
       "      <td>NaN</td>\n",
       "    </tr>\n",
       "    <tr>\n",
       "      <th>2</th>\n",
       "      <td>90004_a</td>\n",
       "      <td>1.0</td>\n",
       "      <td>40.0</td>\n",
       "      <td>0</td>\n",
       "      <td>70</td>\n",
       "      <td>0</td>\n",
       "      <td>0</td>\n",
       "      <td>0</td>\n",
       "      <td>0</td>\n",
       "      <td>1</td>\n",
       "      <td>...</td>\n",
       "      <td>29.0</td>\n",
       "      <td>NaN</td>\n",
       "      <td>NaN</td>\n",
       "      <td>NaN</td>\n",
       "      <td>NaN</td>\n",
       "      <td>NaN</td>\n",
       "      <td>NaN</td>\n",
       "      <td>NaN</td>\n",
       "      <td>NaN</td>\n",
       "      <td>NaN</td>\n",
       "    </tr>\n",
       "    <tr>\n",
       "      <th>3</th>\n",
       "      <td>90005_a</td>\n",
       "      <td>1.0</td>\n",
       "      <td>40.0</td>\n",
       "      <td>0</td>\n",
       "      <td>70</td>\n",
       "      <td>0</td>\n",
       "      <td>0</td>\n",
       "      <td>0</td>\n",
       "      <td>0</td>\n",
       "      <td>1</td>\n",
       "      <td>...</td>\n",
       "      <td>30.5</td>\n",
       "      <td>3.11</td>\n",
       "      <td>103.0</td>\n",
       "      <td>13.3</td>\n",
       "      <td>67.7</td>\n",
       "      <td>194.0</td>\n",
       "      <td>29.1</td>\n",
       "      <td>NaN</td>\n",
       "      <td>NaN</td>\n",
       "      <td>NaN</td>\n",
       "    </tr>\n",
       "    <tr>\n",
       "      <th>4</th>\n",
       "      <td>90006_a</td>\n",
       "      <td>1.0</td>\n",
       "      <td>30.0</td>\n",
       "      <td>0</td>\n",
       "      <td>79</td>\n",
       "      <td>1</td>\n",
       "      <td>0</td>\n",
       "      <td>0</td>\n",
       "      <td>0</td>\n",
       "      <td>1</td>\n",
       "      <td>...</td>\n",
       "      <td>37.7</td>\n",
       "      <td>4.10</td>\n",
       "      <td>120.0</td>\n",
       "      <td>9.6</td>\n",
       "      <td>73.1</td>\n",
       "      <td>256.0</td>\n",
       "      <td>35.2</td>\n",
       "      <td>阴性</td>\n",
       "      <td>阴性</td>\n",
       "      <td>10</td>\n",
       "    </tr>\n",
       "  </tbody>\n",
       "</table>\n",
       "<p>5 rows × 62 columns</p>\n",
       "</div>"
      ],
      "text/plain": [
       "     受试者编号  用药天数   日计量  label  年龄  性别  冠心病  肺部感染  糖尿病  高血压  ...  红细胞压积_入院  \\\n",
       "0  90001_a   9.0  30.0      0  61   1    0     0    0    1  ...      37.2   \n",
       "1  90003_a   6.0  40.0      1  53   0    0     0    0    1  ...      38.7   \n",
       "2  90004_a   1.0  40.0      0  70   0    0     0    0    1  ...      29.0   \n",
       "3  90005_a   1.0  40.0      0  70   0    0     0    0    1  ...      30.5   \n",
       "4  90006_a   1.0  30.0      0  79   1    0     0    0    1  ...      37.7   \n",
       "\n",
       "   红细胞_出院  血红蛋白_出院  白细胞_出院  中性粒细胞计数_出院  血小板_出院  红细胞压积_出院  尿蛋白（PRO）_入院  \\\n",
       "0    3.85    111.0    15.0        75.0   337.0      32.5           25   \n",
       "1     NaN      NaN     NaN         NaN     NaN       NaN          NaN   \n",
       "2     NaN      NaN     NaN         NaN     NaN       NaN          NaN   \n",
       "3    3.11    103.0    13.3        67.7   194.0      29.1          NaN   \n",
       "4    4.10    120.0     9.6        73.1   256.0      35.2           阴性   \n",
       "\n",
       "   尿白细胞（LEU）_入院  尿红细胞（ERY）_入院  \n",
       "0           5-8             0  \n",
       "1           NaN           NaN  \n",
       "2           NaN           NaN  \n",
       "3           NaN           NaN  \n",
       "4            阴性            10  \n",
       "\n",
       "[5 rows x 62 columns]"
      ]
     },
     "execution_count": 186,
     "metadata": {},
     "output_type": "execute_result"
    }
   ],
   "source": [
    "df_SUP_test_尿常规.head()"
   ]
  },
  {
   "cell_type": "code",
   "execution_count": 187,
   "metadata": {},
   "outputs": [
    {
     "data": {
      "text/plain": [
       "Index(['访视', '受试者编号', '检查日期', '尿蛋白（PRO）_出院', '尿白细胞（LEU）_出院', '尿红细胞（ERY）_出院'], dtype='object')"
      ]
     },
     "execution_count": 187,
     "metadata": {},
     "output_type": "execute_result"
    }
   ],
   "source": [
    "df_尿常规_出院.columns"
   ]
  },
  {
   "cell_type": "code",
   "execution_count": 188,
   "metadata": {},
   "outputs": [],
   "source": [
    "df_尿常规_出院=df_尿常规_出院[[ '受试者编号', '尿蛋白（PRO）_出院', '尿白细胞（LEU）_出院', '尿红细胞（ERY）_出院']]\n",
    "df_SUP_test_尿常规=pd.merge(df_SUP_test_尿常规,df_尿常规_出院,on='受试者编号',how='left')"
   ]
  },
  {
   "cell_type": "code",
   "execution_count": 328,
   "metadata": {},
   "outputs": [
    {
     "data": {
      "text/plain": [
       "(730, 65)"
      ]
     },
     "execution_count": 328,
     "metadata": {},
     "output_type": "execute_result"
    }
   ],
   "source": [
    "df_SUP_test_尿常规.shape"
   ]
  },
  {
   "cell_type": "markdown",
   "metadata": {},
   "source": [
    "#### 并入血生化"
   ]
  },
  {
   "cell_type": "code",
   "execution_count": 190,
   "metadata": {},
   "outputs": [
    {
     "data": {
      "text/plain": [
       "Index(['访视', '受试者编号', '检查日期', '总胆红素（TBil）_入院', '直接胆红素（DBil）_入院', '白蛋白_入院',\n",
       "       '前白蛋白_入院', 'ALT_入院', 'AST_入院', 'GGT_入院', 'AKP_入院', '尿素氮（BUN）_入院',\n",
       "       '肌酐（Cr）_入院', 'PT_入院', 'INR_入院', '血钠_入院', '血钾_入院', '血氯_入院', '甘油三酯_入院',\n",
       "       '胆固醇_入院', '低密度脂蛋白（LDL）_入院', '高密度脂蛋白胆固醇（HDLC）_入院', 'HCY_入院',\n",
       "       'NT-pro BNP_入院', '肌钙蛋白_入院', 'CK-MB_入院'],\n",
       "      dtype='object')"
      ]
     },
     "execution_count": 190,
     "metadata": {},
     "output_type": "execute_result"
    }
   ],
   "source": [
    "df_血生化_入院.columns"
   ]
  },
  {
   "cell_type": "code",
   "execution_count": 191,
   "metadata": {},
   "outputs": [],
   "source": [
    "df_血生化_入院=df_血生化_入院[['受试者编号', '总胆红素（TBil）_入院', '直接胆红素（DBil）_入院', '白蛋白_入院',\n",
    "       '前白蛋白_入院', 'ALT_入院', 'AST_入院', 'GGT_入院', 'AKP_入院', '尿素氮（BUN）_入院',\n",
    "       '肌酐（Cr）_入院', '血钠_入院', '血钾_入院', '血氯_入院', '甘油三酯_入院',\n",
    "       '胆固醇_入院', '低密度脂蛋白（LDL）_入院', '高密度脂蛋白胆固醇（HDLC）_入院', 'HCY_入院',\n",
    "       'NT-pro BNP_入院', '肌钙蛋白_入院', 'CK-MB_入院']]\n",
    "df_SUP_test_血生化=pd.merge(df_SUP_test_尿常规,df_血生化_入院,on='受试者编号',how='left')"
   ]
  },
  {
   "cell_type": "code",
   "execution_count": 192,
   "metadata": {},
   "outputs": [
    {
     "data": {
      "text/html": [
       "<div>\n",
       "<style scoped>\n",
       "    .dataframe tbody tr th:only-of-type {\n",
       "        vertical-align: middle;\n",
       "    }\n",
       "\n",
       "    .dataframe tbody tr th {\n",
       "        vertical-align: top;\n",
       "    }\n",
       "\n",
       "    .dataframe thead th {\n",
       "        text-align: right;\n",
       "    }\n",
       "</style>\n",
       "<table border=\"1\" class=\"dataframe\">\n",
       "  <thead>\n",
       "    <tr style=\"text-align: right;\">\n",
       "      <th></th>\n",
       "      <th>受试者编号</th>\n",
       "      <th>用药天数</th>\n",
       "      <th>日计量</th>\n",
       "      <th>label</th>\n",
       "      <th>年龄</th>\n",
       "      <th>性别</th>\n",
       "      <th>冠心病</th>\n",
       "      <th>肺部感染</th>\n",
       "      <th>糖尿病</th>\n",
       "      <th>高血压</th>\n",
       "      <th>...</th>\n",
       "      <th>血钾_入院</th>\n",
       "      <th>血氯_入院</th>\n",
       "      <th>甘油三酯_入院</th>\n",
       "      <th>胆固醇_入院</th>\n",
       "      <th>低密度脂蛋白（LDL）_入院</th>\n",
       "      <th>高密度脂蛋白胆固醇（HDLC）_入院</th>\n",
       "      <th>HCY_入院</th>\n",
       "      <th>NT-pro BNP_入院</th>\n",
       "      <th>肌钙蛋白_入院</th>\n",
       "      <th>CK-MB_入院</th>\n",
       "    </tr>\n",
       "  </thead>\n",
       "  <tbody>\n",
       "    <tr>\n",
       "      <th>0</th>\n",
       "      <td>90001_a</td>\n",
       "      <td>9.0</td>\n",
       "      <td>30.0</td>\n",
       "      <td>0</td>\n",
       "      <td>61</td>\n",
       "      <td>1</td>\n",
       "      <td>0</td>\n",
       "      <td>0</td>\n",
       "      <td>0</td>\n",
       "      <td>1</td>\n",
       "      <td>...</td>\n",
       "      <td>4.53</td>\n",
       "      <td>105.0</td>\n",
       "      <td>1.18</td>\n",
       "      <td>3.72</td>\n",
       "      <td>1.83</td>\n",
       "      <td>1.59</td>\n",
       "      <td>NaN</td>\n",
       "      <td>NaN</td>\n",
       "      <td>NaN</td>\n",
       "      <td>NaN</td>\n",
       "    </tr>\n",
       "    <tr>\n",
       "      <th>1</th>\n",
       "      <td>90003_a</td>\n",
       "      <td>6.0</td>\n",
       "      <td>40.0</td>\n",
       "      <td>1</td>\n",
       "      <td>53</td>\n",
       "      <td>0</td>\n",
       "      <td>0</td>\n",
       "      <td>0</td>\n",
       "      <td>0</td>\n",
       "      <td>1</td>\n",
       "      <td>...</td>\n",
       "      <td>3.40</td>\n",
       "      <td>107.0</td>\n",
       "      <td>NaN</td>\n",
       "      <td>NaN</td>\n",
       "      <td>NaN</td>\n",
       "      <td>NaN</td>\n",
       "      <td>NaN</td>\n",
       "      <td>NaN</td>\n",
       "      <td>NaN</td>\n",
       "      <td>NaN</td>\n",
       "    </tr>\n",
       "    <tr>\n",
       "      <th>2</th>\n",
       "      <td>90004_a</td>\n",
       "      <td>1.0</td>\n",
       "      <td>40.0</td>\n",
       "      <td>0</td>\n",
       "      <td>70</td>\n",
       "      <td>0</td>\n",
       "      <td>0</td>\n",
       "      <td>0</td>\n",
       "      <td>0</td>\n",
       "      <td>1</td>\n",
       "      <td>...</td>\n",
       "      <td>2.70</td>\n",
       "      <td>96.0</td>\n",
       "      <td>1.05</td>\n",
       "      <td>4.84</td>\n",
       "      <td>3.12</td>\n",
       "      <td>1.28</td>\n",
       "      <td>NaN</td>\n",
       "      <td>NaN</td>\n",
       "      <td>NaN</td>\n",
       "      <td>NaN</td>\n",
       "    </tr>\n",
       "    <tr>\n",
       "      <th>3</th>\n",
       "      <td>90005_a</td>\n",
       "      <td>1.0</td>\n",
       "      <td>40.0</td>\n",
       "      <td>0</td>\n",
       "      <td>70</td>\n",
       "      <td>0</td>\n",
       "      <td>0</td>\n",
       "      <td>0</td>\n",
       "      <td>0</td>\n",
       "      <td>1</td>\n",
       "      <td>...</td>\n",
       "      <td>3.50</td>\n",
       "      <td>92.0</td>\n",
       "      <td>3.13</td>\n",
       "      <td>6.66</td>\n",
       "      <td>4.27</td>\n",
       "      <td>1.24</td>\n",
       "      <td>NaN</td>\n",
       "      <td>NaN</td>\n",
       "      <td>NaN</td>\n",
       "      <td>NaN</td>\n",
       "    </tr>\n",
       "    <tr>\n",
       "      <th>4</th>\n",
       "      <td>90006_a</td>\n",
       "      <td>1.0</td>\n",
       "      <td>30.0</td>\n",
       "      <td>0</td>\n",
       "      <td>79</td>\n",
       "      <td>1</td>\n",
       "      <td>0</td>\n",
       "      <td>0</td>\n",
       "      <td>0</td>\n",
       "      <td>1</td>\n",
       "      <td>...</td>\n",
       "      <td>4.05</td>\n",
       "      <td>106.0</td>\n",
       "      <td>4.23</td>\n",
       "      <td>6.17</td>\n",
       "      <td>4.48</td>\n",
       "      <td>1.05</td>\n",
       "      <td>NaN</td>\n",
       "      <td>NaN</td>\n",
       "      <td>NaN</td>\n",
       "      <td>NaN</td>\n",
       "    </tr>\n",
       "  </tbody>\n",
       "</table>\n",
       "<p>5 rows × 86 columns</p>\n",
       "</div>"
      ],
      "text/plain": [
       "     受试者编号  用药天数   日计量  label  年龄  性别  冠心病  肺部感染  糖尿病  高血压  ...  血钾_入院  血氯_入院  \\\n",
       "0  90001_a   9.0  30.0      0  61   1    0     0    0    1  ...   4.53  105.0   \n",
       "1  90003_a   6.0  40.0      1  53   0    0     0    0    1  ...   3.40  107.0   \n",
       "2  90004_a   1.0  40.0      0  70   0    0     0    0    1  ...   2.70   96.0   \n",
       "3  90005_a   1.0  40.0      0  70   0    0     0    0    1  ...   3.50   92.0   \n",
       "4  90006_a   1.0  30.0      0  79   1    0     0    0    1  ...   4.05  106.0   \n",
       "\n",
       "   甘油三酯_入院  胆固醇_入院  低密度脂蛋白（LDL）_入院  高密度脂蛋白胆固醇（HDLC）_入院  HCY_入院  NT-pro BNP_入院  \\\n",
       "0     1.18    3.72            1.83                1.59     NaN            NaN   \n",
       "1      NaN     NaN             NaN                 NaN     NaN            NaN   \n",
       "2     1.05    4.84            3.12                1.28     NaN            NaN   \n",
       "3     3.13    6.66            4.27                1.24     NaN            NaN   \n",
       "4     4.23    6.17            4.48                1.05     NaN            NaN   \n",
       "\n",
       "   肌钙蛋白_入院  CK-MB_入院  \n",
       "0      NaN       NaN  \n",
       "1      NaN       NaN  \n",
       "2      NaN       NaN  \n",
       "3      NaN       NaN  \n",
       "4      NaN       NaN  \n",
       "\n",
       "[5 rows x 86 columns]"
      ]
     },
     "execution_count": 192,
     "metadata": {},
     "output_type": "execute_result"
    }
   ],
   "source": [
    "df_SUP_test_血生化.head()"
   ]
  },
  {
   "cell_type": "code",
   "execution_count": 193,
   "metadata": {},
   "outputs": [
    {
     "data": {
      "text/plain": [
       "Index(['访视', '受试者编号', '检查日期', '总胆红素（TBil）_出院', '直接胆红素（DBil）_出院', '白蛋白_出院',\n",
       "       '前白蛋白_出院', 'ALT_出院', 'AST_出院', 'GGT_出院', 'AKP_出院', '尿素氮（BUN）_出院',\n",
       "       '肌酐（Cr）_出院', 'PT_出院', 'INR_出院', '血钠_出院', '血钾_出院', '血氯_出院', '甘油三酯_出院',\n",
       "       '胆固醇_出院', '低密度脂蛋白（LDL）_出院', '高密度脂蛋白胆固醇（HDLC）_出院', 'HCY_出院',\n",
       "       'NT-pro BNP_出院', '肌钙蛋白_出院', 'CK-MB_出院'],\n",
       "      dtype='object')"
      ]
     },
     "execution_count": 193,
     "metadata": {},
     "output_type": "execute_result"
    }
   ],
   "source": [
    "df_血生化_出院.columns"
   ]
  },
  {
   "cell_type": "code",
   "execution_count": 194,
   "metadata": {},
   "outputs": [],
   "source": [
    "df_血生化_出院=df_血生化_出院[['受试者编号', '总胆红素（TBil）_出院', '直接胆红素（DBil）_出院', '白蛋白_出院',\n",
    "       '前白蛋白_出院', 'ALT_出院', 'AST_出院', 'GGT_出院', 'AKP_出院', '尿素氮（BUN）_出院',\n",
    "       '肌酐（Cr）_出院', '血钠_出院', '血钾_出院', '血氯_出院', '甘油三酯_出院',\n",
    "       '胆固醇_出院', '低密度脂蛋白（LDL）_出院', '高密度脂蛋白胆固醇（HDLC）_出院', 'HCY_出院',\n",
    "       'NT-pro BNP_出院', '肌钙蛋白_出院', 'CK-MB_出院']]\n",
    "df_SUP_test_血生化=pd.merge(df_SUP_test_血生化,df_血生化_出院,on='受试者编号',how='left')"
   ]
  },
  {
   "cell_type": "code",
   "execution_count": 329,
   "metadata": {},
   "outputs": [
    {
     "data": {
      "text/plain": [
       "(730, 107)"
      ]
     },
     "execution_count": 329,
     "metadata": {},
     "output_type": "execute_result"
    }
   ],
   "source": [
    "df_SUP_test_血生化.shape"
   ]
  },
  {
   "cell_type": "code",
   "execution_count": 195,
   "metadata": {},
   "outputs": [
    {
     "data": {
      "text/html": [
       "<div>\n",
       "<style scoped>\n",
       "    .dataframe tbody tr th:only-of-type {\n",
       "        vertical-align: middle;\n",
       "    }\n",
       "\n",
       "    .dataframe tbody tr th {\n",
       "        vertical-align: top;\n",
       "    }\n",
       "\n",
       "    .dataframe thead th {\n",
       "        text-align: right;\n",
       "    }\n",
       "</style>\n",
       "<table border=\"1\" class=\"dataframe\">\n",
       "  <thead>\n",
       "    <tr style=\"text-align: right;\">\n",
       "      <th></th>\n",
       "      <th>受试者编号</th>\n",
       "      <th>用药天数</th>\n",
       "      <th>日计量</th>\n",
       "      <th>label</th>\n",
       "      <th>年龄</th>\n",
       "      <th>性别</th>\n",
       "      <th>冠心病</th>\n",
       "      <th>肺部感染</th>\n",
       "      <th>糖尿病</th>\n",
       "      <th>高血压</th>\n",
       "      <th>...</th>\n",
       "      <th>血钾_出院</th>\n",
       "      <th>血氯_出院</th>\n",
       "      <th>甘油三酯_出院</th>\n",
       "      <th>胆固醇_出院</th>\n",
       "      <th>低密度脂蛋白（LDL）_出院</th>\n",
       "      <th>高密度脂蛋白胆固醇（HDLC）_出院</th>\n",
       "      <th>HCY_出院</th>\n",
       "      <th>NT-pro BNP_出院</th>\n",
       "      <th>肌钙蛋白_出院</th>\n",
       "      <th>CK-MB_出院</th>\n",
       "    </tr>\n",
       "  </thead>\n",
       "  <tbody>\n",
       "    <tr>\n",
       "      <th>0</th>\n",
       "      <td>90001_a</td>\n",
       "      <td>9.0</td>\n",
       "      <td>30.0</td>\n",
       "      <td>0</td>\n",
       "      <td>61</td>\n",
       "      <td>1</td>\n",
       "      <td>0</td>\n",
       "      <td>0</td>\n",
       "      <td>0</td>\n",
       "      <td>1</td>\n",
       "      <td>...</td>\n",
       "      <td>3.47</td>\n",
       "      <td>101.4</td>\n",
       "      <td>NaN</td>\n",
       "      <td>NaN</td>\n",
       "      <td>NaN</td>\n",
       "      <td>NaN</td>\n",
       "      <td>NaN</td>\n",
       "      <td>NaN</td>\n",
       "      <td>NaN</td>\n",
       "      <td>NaN</td>\n",
       "    </tr>\n",
       "    <tr>\n",
       "      <th>1</th>\n",
       "      <td>90003_a</td>\n",
       "      <td>6.0</td>\n",
       "      <td>40.0</td>\n",
       "      <td>1</td>\n",
       "      <td>53</td>\n",
       "      <td>0</td>\n",
       "      <td>0</td>\n",
       "      <td>0</td>\n",
       "      <td>0</td>\n",
       "      <td>1</td>\n",
       "      <td>...</td>\n",
       "      <td>NaN</td>\n",
       "      <td>NaN</td>\n",
       "      <td>NaN</td>\n",
       "      <td>NaN</td>\n",
       "      <td>NaN</td>\n",
       "      <td>NaN</td>\n",
       "      <td>NaN</td>\n",
       "      <td>NaN</td>\n",
       "      <td>NaN</td>\n",
       "      <td>NaN</td>\n",
       "    </tr>\n",
       "    <tr>\n",
       "      <th>2</th>\n",
       "      <td>90004_a</td>\n",
       "      <td>1.0</td>\n",
       "      <td>40.0</td>\n",
       "      <td>0</td>\n",
       "      <td>70</td>\n",
       "      <td>0</td>\n",
       "      <td>0</td>\n",
       "      <td>0</td>\n",
       "      <td>0</td>\n",
       "      <td>1</td>\n",
       "      <td>...</td>\n",
       "      <td>NaN</td>\n",
       "      <td>NaN</td>\n",
       "      <td>NaN</td>\n",
       "      <td>NaN</td>\n",
       "      <td>NaN</td>\n",
       "      <td>NaN</td>\n",
       "      <td>NaN</td>\n",
       "      <td>NaN</td>\n",
       "      <td>NaN</td>\n",
       "      <td>NaN</td>\n",
       "    </tr>\n",
       "    <tr>\n",
       "      <th>3</th>\n",
       "      <td>90005_a</td>\n",
       "      <td>1.0</td>\n",
       "      <td>40.0</td>\n",
       "      <td>0</td>\n",
       "      <td>70</td>\n",
       "      <td>0</td>\n",
       "      <td>0</td>\n",
       "      <td>0</td>\n",
       "      <td>0</td>\n",
       "      <td>1</td>\n",
       "      <td>...</td>\n",
       "      <td>2.92</td>\n",
       "      <td>93.0</td>\n",
       "      <td>NaN</td>\n",
       "      <td>NaN</td>\n",
       "      <td>NaN</td>\n",
       "      <td>NaN</td>\n",
       "      <td>NaN</td>\n",
       "      <td>NaN</td>\n",
       "      <td>NaN</td>\n",
       "      <td>NaN</td>\n",
       "    </tr>\n",
       "    <tr>\n",
       "      <th>4</th>\n",
       "      <td>90006_a</td>\n",
       "      <td>1.0</td>\n",
       "      <td>30.0</td>\n",
       "      <td>0</td>\n",
       "      <td>79</td>\n",
       "      <td>1</td>\n",
       "      <td>0</td>\n",
       "      <td>0</td>\n",
       "      <td>0</td>\n",
       "      <td>1</td>\n",
       "      <td>...</td>\n",
       "      <td>NaN</td>\n",
       "      <td>NaN</td>\n",
       "      <td>NaN</td>\n",
       "      <td>NaN</td>\n",
       "      <td>NaN</td>\n",
       "      <td>NaN</td>\n",
       "      <td>NaN</td>\n",
       "      <td>NaN</td>\n",
       "      <td>NaN</td>\n",
       "      <td>NaN</td>\n",
       "    </tr>\n",
       "  </tbody>\n",
       "</table>\n",
       "<p>5 rows × 107 columns</p>\n",
       "</div>"
      ],
      "text/plain": [
       "     受试者编号  用药天数   日计量  label  年龄  性别  冠心病  肺部感染  糖尿病  高血压  ...  血钾_出院  血氯_出院  \\\n",
       "0  90001_a   9.0  30.0      0  61   1    0     0    0    1  ...   3.47  101.4   \n",
       "1  90003_a   6.0  40.0      1  53   0    0     0    0    1  ...    NaN    NaN   \n",
       "2  90004_a   1.0  40.0      0  70   0    0     0    0    1  ...    NaN    NaN   \n",
       "3  90005_a   1.0  40.0      0  70   0    0     0    0    1  ...   2.92   93.0   \n",
       "4  90006_a   1.0  30.0      0  79   1    0     0    0    1  ...    NaN    NaN   \n",
       "\n",
       "   甘油三酯_出院  胆固醇_出院  低密度脂蛋白（LDL）_出院  高密度脂蛋白胆固醇（HDLC）_出院  HCY_出院  NT-pro BNP_出院  \\\n",
       "0      NaN     NaN             NaN                 NaN     NaN            NaN   \n",
       "1      NaN     NaN             NaN                 NaN     NaN            NaN   \n",
       "2      NaN     NaN             NaN                 NaN     NaN            NaN   \n",
       "3      NaN     NaN             NaN                 NaN     NaN            NaN   \n",
       "4      NaN     NaN             NaN                 NaN     NaN            NaN   \n",
       "\n",
       "   肌钙蛋白_出院  CK-MB_出院  \n",
       "0      NaN       NaN  \n",
       "1      NaN       NaN  \n",
       "2      NaN       NaN  \n",
       "3      NaN       NaN  \n",
       "4      NaN       NaN  \n",
       "\n",
       "[5 rows x 107 columns]"
      ]
     },
     "execution_count": 195,
     "metadata": {},
     "output_type": "execute_result"
    }
   ],
   "source": [
    "df_SUP_test_血生化.head()"
   ]
  },
  {
   "cell_type": "markdown",
   "metadata": {},
   "source": [
    "#### 并入凝血"
   ]
  },
  {
   "cell_type": "code",
   "execution_count": 196,
   "metadata": {},
   "outputs": [
    {
     "data": {
      "text/plain": [
       "Index(['访视', '受试者编号', '检查日期', 'PT_入院', 'INR_入院', 'APTT_入院'], dtype='object')"
      ]
     },
     "execution_count": 196,
     "metadata": {},
     "output_type": "execute_result"
    }
   ],
   "source": [
    "df_凝血_入院.columns"
   ]
  },
  {
   "cell_type": "code",
   "execution_count": 197,
   "metadata": {},
   "outputs": [],
   "source": [
    "df_凝血_入院=df_凝血_入院[['受试者编号', 'PT_入院', 'INR_入院', 'APTT_入院']]\n",
    "df_SUP_test_凝血=pd.merge(df_SUP_test_血生化,df_凝血_入院,on='受试者编号',how='left')"
   ]
  },
  {
   "cell_type": "code",
   "execution_count": 198,
   "metadata": {},
   "outputs": [
    {
     "data": {
      "text/plain": [
       "Index(['访视', '受试者编号', '检查日期', 'PT_出院', 'INR_出院', 'APTT_出院'], dtype='object')"
      ]
     },
     "execution_count": 198,
     "metadata": {},
     "output_type": "execute_result"
    }
   ],
   "source": [
    "df_凝血_出院.columns"
   ]
  },
  {
   "cell_type": "code",
   "execution_count": 199,
   "metadata": {},
   "outputs": [],
   "source": [
    "df_凝血_出院=df_凝血_出院[['受试者编号', 'PT_出院', 'INR_出院', 'APTT_出院']]\n",
    "df_SUP_test_凝血=pd.merge(df_SUP_test_凝血,df_凝血_出院,on='受试者编号',how='left')"
   ]
  },
  {
   "cell_type": "code",
   "execution_count": 330,
   "metadata": {},
   "outputs": [
    {
     "data": {
      "text/plain": [
       "(726, 45)"
      ]
     },
     "execution_count": 330,
     "metadata": {},
     "output_type": "execute_result"
    }
   ],
   "source": [
    "df_SUP_test_凝血.shape"
   ]
  },
  {
   "cell_type": "code",
   "execution_count": 200,
   "metadata": {},
   "outputs": [],
   "source": [
    "df_SUP_test_凝血.to_excel(project_path+'/data/processed_data/df_1.6.5_并入检测数据.xlsx')"
   ]
  },
  {
   "cell_type": "markdown",
   "metadata": {},
   "source": [
    "#### 删除缺失超过50%的列"
   ]
  },
  {
   "cell_type": "code",
   "execution_count": 201,
   "metadata": {},
   "outputs": [
    {
     "name": "stdout",
     "output_type": "stream",
     "text": [
      "红细胞_出院\n",
      "血红蛋白_出院\n",
      "白细胞_出院\n",
      "中性粒细胞计数_出院\n",
      "血小板_出院\n",
      "红细胞压积_出院\n",
      "尿白细胞（LEU）_入院\n",
      "尿红细胞（ERY）_入院\n",
      "尿蛋白（PRO）_出院\n",
      "尿白细胞（LEU）_出院\n",
      "尿红细胞（ERY）_出院\n",
      "AKP_入院\n",
      "HCY_入院\n",
      "NT-pro BNP_入院\n",
      "肌钙蛋白_入院\n",
      "CK-MB_入院\n",
      "总胆红素（TBil）_出院\n",
      "直接胆红素（DBil）_出院\n",
      "白蛋白_出院\n",
      "前白蛋白_出院\n",
      "ALT_出院\n",
      "AST_出院\n",
      "GGT_出院\n",
      "AKP_出院\n",
      "尿素氮（BUN）_出院\n",
      "肌酐（Cr）_出院\n",
      "血钠_出院\n",
      "血钾_出院\n",
      "血氯_出院\n",
      "甘油三酯_出院\n",
      "胆固醇_出院\n",
      "低密度脂蛋白（LDL）_出院\n",
      "高密度脂蛋白胆固醇（HDLC）_出院\n",
      "HCY_出院\n",
      "NT-pro BNP_出院\n",
      "肌钙蛋白_出院\n",
      "CK-MB_出院\n",
      "PT_出院\n",
      "INR_出院\n",
      "APTT_出院\n"
     ]
    }
   ],
   "source": [
    "# 删除缺失超过50%的检测\n",
    "for i in df_SUP_test_凝血.columns:\n",
    "    x=df_SUP_test_凝血[i].isnull().sum()\n",
    "    per_x = x/df_SUP_test_凝血.shape[0]  \n",
    "    if per_x >= 0.5:\n",
    "        print(i)\n",
    "        del df_SUP_test_凝血[i]"
   ]
  },
  {
   "cell_type": "code",
   "execution_count": 207,
   "metadata": {},
   "outputs": [
    {
     "name": "stdout",
     "output_type": "stream",
     "text": [
      "285\n",
      "301\n",
      "602\n",
      "703\n"
     ]
    }
   ],
   "source": [
    "df_SUP_test_凝血=df_SUP_test_凝血.reset_index(drop=True)\n",
    "for i in range(df_SUP_test_凝血.shape[0]):\n",
    "    if df_SUP_test_凝血.loc[i].isnull().sum()/df_SUP_test_凝血.loc[i].shape[0] >= 0.5:\n",
    "        print(i)\n",
    "        df_SUP_test_凝血.drop([i],axis=0,inplace=True)"
   ]
  },
  {
   "cell_type": "code",
   "execution_count": 202,
   "metadata": {},
   "outputs": [],
   "source": [
    "df_SUP_test_凝血.to_excel(project_path+'/data/processed_data/df_1.6.6_删除缺失超过50%的列.xlsx')"
   ]
  },
  {
   "cell_type": "markdown",
   "metadata": {},
   "source": [
    "#### 删除分类不平衡数据"
   ]
  },
  {
   "cell_type": "code",
   "execution_count": 205,
   "metadata": {},
   "outputs": [
    {
     "name": "stdout",
     "output_type": "stream",
     "text": [
      "急性冠脉综合征\n",
      "肾功能不全\n",
      "尿毒症\n",
      "脓毒血症\n",
      "肺水肿\n",
      "肺气肿\n",
      "呼吸衰竭\n",
      "胸腔积液\n",
      "尿路感染\n",
      "腹膜透析\n",
      "肝功能不全\n",
      "高脂血症\n",
      "冠状动脉粥样硬化\n",
      "慢性支气管炎\n",
      "胆囊结石\n",
      "早搏\n",
      "急性肾损伤\n",
      "伐他汀钙\n",
      "谷胱甘肽\n",
      "纤溶酶针\n",
      "丹参多酚酸盐\n",
      "替米沙坦\n",
      "左氧氟沙星\n",
      "氨溴索针\n",
      "阿伐他汀\n",
      "腺苷钴胺\n",
      "多索茶碱\n",
      "醒脑静针\n"
     ]
    }
   ],
   "source": [
    "# 保护目标变量、tdm数据\n",
    "for i in df_SUP_test_凝血.columns[4:]:\n",
    "    if df_SUP_test_凝血[i].nunique() < 2:\n",
    "        del df_SUP_test_凝血[i]\n",
    "        continue\n",
    "    if df_SUP_test_凝血[i].nunique() == 2:\n",
    "        # 如果分类变量中某一变量的占比超过90%，则删除该指标\n",
    "        num_1 = df_SUP_test_凝血[i].value_counts()  # df一列中不同变量的数目\n",
    "        num_2 = num_1.div(df_SUP_test_凝血.shape[0])  # div除法，所有元素都除以相同数值\n",
    "        num_3 = num_2.max()  # 取出最大值\n",
    "        if num_3 >= 0.9:\n",
    "            print(i)\n",
    "            del df_SUP_test_凝血[i]"
   ]
  },
  {
   "cell_type": "code",
   "execution_count": 209,
   "metadata": {},
   "outputs": [],
   "source": [
    "df_SUP_test_凝血.to_excel(project_path+'/data/processed_data/df_1.6.7_删除分类不平衡列.xlsx')"
   ]
  },
  {
   "cell_type": "markdown",
   "metadata": {},
   "source": [
    "#### 数据转换"
   ]
  },
  {
   "cell_type": "code",
   "execution_count": 212,
   "metadata": {},
   "outputs": [],
   "source": [
    "# 阴性数据转化为0.1\n",
    "df_model = df_SUP_test_凝血.copy()\n",
    "df_model=df_model.reset_index(drop=True)\n",
    "\n",
    "df_model = filter_spec_character(df_model,'尿蛋白（PRO）_入院')    \n",
    "df_model['尿蛋白（PRO）_入院']=df_model['尿蛋白（PRO）_入院'].apply(lambda x: 0.1 if re.match('阴性|隐性', str(x)) else \n",
    "                                                                                np.nan if x=='nan' else x)"
   ]
  },
  {
   "cell_type": "code",
   "execution_count": 323,
   "metadata": {},
   "outputs": [
    {
     "data": {
      "text/plain": [
       "(726, 45)"
      ]
     },
     "execution_count": 323,
     "metadata": {},
     "output_type": "execute_result"
    }
   ],
   "source": [
    "df_model.shape"
   ]
  },
  {
   "cell_type": "code",
   "execution_count": 213,
   "metadata": {},
   "outputs": [],
   "source": [
    "df_model.to_excel(project_path+'/data/processed_data/df_1.6.8_数据转换.xlsx')"
   ]
  }
 ],
 "metadata": {
  "kernelspec": {
   "display_name": "Python 3",
   "language": "python",
   "name": "python3"
  },
  "language_info": {
   "codemirror_mode": {
    "name": "ipython",
    "version": 3
   },
   "file_extension": ".py",
   "mimetype": "text/x-python",
   "name": "python",
   "nbconvert_exporter": "python",
   "pygments_lexer": "ipython3",
   "version": "3.6.8"
  },
  "toc": {
   "base_numbering": 1,
   "nav_menu": {},
   "number_sections": true,
   "sideBar": true,
   "skip_h1_title": false,
   "title_cell": "Table of Contents",
   "title_sidebar": "Contents",
   "toc_cell": false,
   "toc_position": {
    "height": "calc(100% - 180px)",
    "left": "10px",
    "top": "150px",
    "width": "460.8px"
   },
   "toc_section_display": true,
   "toc_window_display": true
  },
  "varInspector": {
   "cols": {
    "lenName": 16,
    "lenType": 16,
    "lenVar": 40
   },
   "kernels_config": {
    "python": {
     "delete_cmd_postfix": "",
     "delete_cmd_prefix": "del ",
     "library": "var_list.py",
     "varRefreshCmd": "print(var_dic_list())"
    },
    "r": {
     "delete_cmd_postfix": ") ",
     "delete_cmd_prefix": "rm(",
     "library": "var_list.r",
     "varRefreshCmd": "cat(var_dic_list()) "
    }
   },
   "types_to_exclude": [
    "module",
    "function",
    "builtin_function_or_method",
    "instance",
    "_Feature"
   ],
   "window_display": false
  }
 },
 "nbformat": 4,
 "nbformat_minor": 2
}
