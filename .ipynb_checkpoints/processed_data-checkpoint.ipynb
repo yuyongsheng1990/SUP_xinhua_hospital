{
 "cells": [
  {
   "cell_type": "code",
   "execution_count": 202,
   "metadata": {},
   "outputs": [],
   "source": [
    "# _*_ coding: utf-8 _*_\n",
    "# @Time: 2021/12/24 14:15 \n",
    "# @Author: yuyongsheng\n",
    "# @Software: PyCharm\n",
    "# @Description: 新华医院生脉注射液：1. 数据处理：201907041611133032包含在其他科原始数据中，它们和心内科用的受试者编号对应不同人"
   ]
  },
  {
   "cell_type": "markdown",
   "metadata": {},
   "source": [
    "# 数据处理"
   ]
  },
  {
   "cell_type": "markdown",
   "metadata": {},
   "source": [
    "## 导入程序包"
   ]
  },
  {
   "cell_type": "code",
   "execution_count": 203,
   "metadata": {},
   "outputs": [],
   "source": [
    "# 导入程序包\n",
    "import pymysql as MySQLDB\n",
    "import pandas as pd\n",
    "import numpy as np\n",
    "\n",
    "import re\n",
    "import sys\n",
    "import os\n",
    "project_path = os.getcwd()"
   ]
  },
  {
   "cell_type": "markdown",
   "metadata": {},
   "source": [
    "## 导入预定义函数"
   ]
  },
  {
   "cell_type": "code",
   "execution_count": 204,
   "metadata": {},
   "outputs": [],
   "source": [
    "# 字符串转换为时间格式\n",
    "import datetime\n",
    "def str_to_datetime(x):\n",
    "    try:\n",
    "        a = datetime.datetime.strptime(x, \"%d/%m/%Y %H:%M:%S\")\n",
    "        return a\n",
    "    except:\n",
    "        return np.NaN"
   ]
  },
  {
   "cell_type": "code",
   "execution_count": 205,
   "metadata": {},
   "outputs": [],
   "source": [
    "# 过滤特殊字符\n",
    "def filter_spec_character(df,feature):\n",
    "    df[feature]=df[feature].apply(lambda x: re.sub('<|>|\\+|\\/','',str(x)))\n",
    "    return df"
   ]
  },
  {
   "cell_type": "code",
   "execution_count": 206,
   "metadata": {},
   "outputs": [],
   "source": [
    "# 过滤文字\n",
    "import numpy as np\n",
    "def filter_string(df,feature):\n",
    "    # 过滤文字!!!!!!!!!!!!!!!!!!!!!!!!!!!\n",
    "    df=df[df[feature].str.contains('\\d')]\n",
    "    return df"
   ]
  },
  {
   "cell_type": "code",
   "execution_count": 207,
   "metadata": {},
   "outputs": [],
   "source": [
    "# 过滤异常大值\n",
    "def filter_huge_value(df,feature):\n",
    "    # 过滤异常大值!!!!!!!!!!!!!!!!!!!!!!!!!!\n",
    "    median_value=df[feature].median()\n",
    "    if median_value == 0:\n",
    "        pass\n",
    "    else:\n",
    "        df[feature]=df[feature].apply(lambda x: np.nan if x<0 else x if float(x) <= 100 * median_value else np.nan)\n",
    "    return df"
   ]
  },
  {
   "cell_type": "markdown",
   "metadata": {},
   "source": [
    "## 提取结局终点事件"
   ]
  },
  {
   "cell_type": "code",
   "execution_count": 208,
   "metadata": {},
   "outputs": [
    {
     "data": {
      "text/plain": [
       "'\\n提取出院诊断-主要疾病转归：人数限定\\n'"
      ]
     },
     "execution_count": 208,
     "metadata": {},
     "output_type": "execute_result"
    }
   ],
   "source": [
    "'''\n",
    "提取出院诊断-主要疾病转归：人数限定\n",
    "'''"
   ]
  },
  {
   "cell_type": "code",
   "execution_count": 209,
   "metadata": {},
   "outputs": [],
   "source": [
    "# 其他科\n",
    "df_oup_diagnosis_1 = pd.read_excel(project_path+'/data/raw_data/导出全部CRF表数据-其他科1021.xlsx',\n",
    "                            sheet_name='DS_出院情况',\n",
    "                           header=1,)  # 指定第2行作为标题行\n",
    "#                            skiprows=[1,1,1])  # 跳过第1行\n",
    "\n",
    "# 标记受试者编号\n",
    "df_oup_diagnosis_1['受试者编号']=df_oup_diagnosis_1['受试者编号'].apply(lambda x: str(x)+'_a')\n",
    "\n",
    "# 提取有效字段\n",
    "df_oup_diagnosis_1=df_oup_diagnosis_1[['受试者编号','出院诊断','主要疾病转归_描述']]"
   ]
  },
  {
   "cell_type": "code",
   "execution_count": 210,
   "metadata": {},
   "outputs": [
    {
     "data": {
      "text/plain": [
       "(644, 3)"
      ]
     },
     "execution_count": 210,
     "metadata": {},
     "output_type": "execute_result"
    }
   ],
   "source": [
    "df_oup_diagnosis_1.shape"
   ]
  },
  {
   "cell_type": "code",
   "execution_count": 211,
   "metadata": {},
   "outputs": [],
   "source": [
    "# 心内科\n",
    "df_oup_diagnosis_2 = pd.read_excel(project_path+'/data/raw_data//导出全部CRF表数据-心内科1021.xlsx',\n",
    "                            sheet_name='DS_出院情况',\n",
    "                           header=1,)  # 指定第2行作为标题行\n",
    "#                            skiprows=[1,1,1])  # 跳过第1行\n",
    "\n",
    "# 标记受试者编号\n",
    "df_oup_diagnosis_2['受试者编号']=df_oup_diagnosis_2['受试者编号'].apply(lambda x: str(x)+'_b')\n",
    "# 提取有效字段\n",
    "df_oup_diagnosis_2=df_oup_diagnosis_2[['受试者编号','出院诊断','主要疾病转归_描述']]"
   ]
  },
  {
   "cell_type": "code",
   "execution_count": 212,
   "metadata": {},
   "outputs": [
    {
     "data": {
      "text/plain": [
       "(105, 3)"
      ]
     },
     "execution_count": 212,
     "metadata": {},
     "output_type": "execute_result"
    }
   ],
   "source": [
    "df_oup_diagnosis_2.shape"
   ]
  },
  {
   "cell_type": "code",
   "execution_count": 213,
   "metadata": {},
   "outputs": [],
   "source": [
    "# 合并其他科和心内科联合用药\n",
    "df_oup_diagnosis=pd.concat([df_oup_diagnosis_1,df_oup_diagnosis_2])\n",
    "df_oup_diagnosis=df_oup_diagnosis[df_oup_diagnosis['主要疾病转归_描述'].notnull()]"
   ]
  },
  {
   "cell_type": "code",
   "execution_count": 214,
   "metadata": {},
   "outputs": [
    {
     "data": {
      "text/plain": [
       "(741, 3)"
      ]
     },
     "execution_count": 214,
     "metadata": {},
     "output_type": "execute_result"
    }
   ],
   "source": [
    "df_oup_diagnosis.shape"
   ]
  },
  {
   "cell_type": "code",
   "execution_count": 215,
   "metadata": {},
   "outputs": [
    {
     "data": {
      "text/html": [
       "<div>\n",
       "<style scoped>\n",
       "    .dataframe tbody tr th:only-of-type {\n",
       "        vertical-align: middle;\n",
       "    }\n",
       "\n",
       "    .dataframe tbody tr th {\n",
       "        vertical-align: top;\n",
       "    }\n",
       "\n",
       "    .dataframe thead th {\n",
       "        text-align: right;\n",
       "    }\n",
       "</style>\n",
       "<table border=\"1\" class=\"dataframe\">\n",
       "  <thead>\n",
       "    <tr style=\"text-align: right;\">\n",
       "      <th></th>\n",
       "      <th>受试者编号</th>\n",
       "      <th>出院诊断</th>\n",
       "      <th>主要疾病转归_描述</th>\n",
       "    </tr>\n",
       "  </thead>\n",
       "  <tbody>\n",
       "    <tr>\n",
       "      <th>0</th>\n",
       "      <td>90001_a</td>\n",
       "      <td>大脑动脉狭窄脑梗死 NIHSS评分12分，高血压病（2级，很高危），2型糖尿病，脑梗死个人史...</td>\n",
       "      <td>好转</td>\n",
       "    </tr>\n",
       "    <tr>\n",
       "      <th>2</th>\n",
       "      <td>90003_a</td>\n",
       "      <td>I型呼吸衰竭 重症肺炎 肺栓塞(中低危)心功能不全 高血压病I级(高危)肝功能不全 下肢静脉...</td>\n",
       "      <td>致死</td>\n",
       "    </tr>\n",
       "    <tr>\n",
       "      <th>3</th>\n",
       "      <td>90004_a</td>\n",
       "      <td>尿毒症,慢性肾小球肾炎,腹膜透析;胸腔积液;心房颤动伴II度房室传导阻滞,心功能III-IV...</td>\n",
       "      <td>好转</td>\n",
       "    </tr>\n",
       "    <tr>\n",
       "      <th>4</th>\n",
       "      <td>90005_a</td>\n",
       "      <td>尿毒症,慢性肾小球肾炎, 腹膜透析,高血压病(3级 极高危);肺部感染,肾性贫血,甲状腺结节</td>\n",
       "      <td>好转</td>\n",
       "    </tr>\n",
       "    <tr>\n",
       "      <th>5</th>\n",
       "      <td>90006_a</td>\n",
       "      <td>急性脑梗死(NIHSS评分2分);动脉斑块形成;高血压(3级,很高危);冠状动脉粥样硬化性心...</td>\n",
       "      <td>好转</td>\n",
       "    </tr>\n",
       "  </tbody>\n",
       "</table>\n",
       "</div>"
      ],
      "text/plain": [
       "     受试者编号                                               出院诊断 主要疾病转归_描述\n",
       "0  90001_a  大脑动脉狭窄脑梗死 NIHSS评分12分，高血压病（2级，很高危），2型糖尿病，脑梗死个人史...        好转\n",
       "2  90003_a  I型呼吸衰竭 重症肺炎 肺栓塞(中低危)心功能不全 高血压病I级(高危)肝功能不全 下肢静脉...        致死\n",
       "3  90004_a  尿毒症,慢性肾小球肾炎,腹膜透析;胸腔积液;心房颤动伴II度房室传导阻滞,心功能III-IV...        好转\n",
       "4  90005_a     尿毒症,慢性肾小球肾炎, 腹膜透析,高血压病(3级 极高危);肺部感染,肾性贫血,甲状腺结节        好转\n",
       "5  90006_a  急性脑梗死(NIHSS评分2分);动脉斑块形成;高血压(3级,很高危);冠状动脉粥样硬化性心...        好转"
      ]
     },
     "execution_count": 215,
     "metadata": {},
     "output_type": "execute_result"
    }
   ],
   "source": [
    "df_oup_diagnosis.head()"
   ]
  },
  {
   "cell_type": "code",
   "execution_count": 216,
   "metadata": {},
   "outputs": [
    {
     "data": {
      "text/plain": [
       "好转    671\n",
       "致死     39\n",
       "未愈     30\n",
       "治愈      1\n",
       "Name: 主要疾病转归_描述, dtype: int64"
      ]
     },
     "execution_count": 216,
     "metadata": {},
     "output_type": "execute_result"
    }
   ],
   "source": [
    "df_oup_diagnosis['主要疾病转归_描述'].value_counts()"
   ]
  },
  {
   "cell_type": "code",
   "execution_count": 217,
   "metadata": {},
   "outputs": [],
   "source": [
    "df_oup_diagnosis['主要疾病转归_描述']=df_oup_diagnosis['主要疾病转归_描述'].apply(lambda x: 1 if re.match('致死|未愈',x) else 0)"
   ]
  },
  {
   "cell_type": "code",
   "execution_count": 218,
   "metadata": {},
   "outputs": [
    {
     "data": {
      "text/plain": [
       "0    672\n",
       "1     69\n",
       "Name: 主要疾病转归_描述, dtype: int64"
      ]
     },
     "execution_count": 218,
     "metadata": {},
     "output_type": "execute_result"
    }
   ],
   "source": [
    "df_oup_diagnosis['主要疾病转归_描述'].value_counts()"
   ]
  },
  {
   "cell_type": "code",
   "execution_count": 219,
   "metadata": {},
   "outputs": [
    {
     "data": {
      "text/html": [
       "<div>\n",
       "<style scoped>\n",
       "    .dataframe tbody tr th:only-of-type {\n",
       "        vertical-align: middle;\n",
       "    }\n",
       "\n",
       "    .dataframe tbody tr th {\n",
       "        vertical-align: top;\n",
       "    }\n",
       "\n",
       "    .dataframe thead th {\n",
       "        text-align: right;\n",
       "    }\n",
       "</style>\n",
       "<table border=\"1\" class=\"dataframe\">\n",
       "  <thead>\n",
       "    <tr style=\"text-align: right;\">\n",
       "      <th></th>\n",
       "      <th>受试者编号</th>\n",
       "      <th>出院诊断</th>\n",
       "      <th>主要疾病转归_描述</th>\n",
       "    </tr>\n",
       "  </thead>\n",
       "  <tbody>\n",
       "    <tr>\n",
       "      <th>0</th>\n",
       "      <td>90001_a</td>\n",
       "      <td>大脑动脉狭窄脑梗死 NIHSS评分12分，高血压病（2级，很高危），2型糖尿病，脑梗死个人史...</td>\n",
       "      <td>0</td>\n",
       "    </tr>\n",
       "    <tr>\n",
       "      <th>2</th>\n",
       "      <td>90003_a</td>\n",
       "      <td>I型呼吸衰竭 重症肺炎 肺栓塞(中低危)心功能不全 高血压病I级(高危)肝功能不全 下肢静脉...</td>\n",
       "      <td>1</td>\n",
       "    </tr>\n",
       "    <tr>\n",
       "      <th>3</th>\n",
       "      <td>90004_a</td>\n",
       "      <td>尿毒症,慢性肾小球肾炎,腹膜透析;胸腔积液;心房颤动伴II度房室传导阻滞,心功能III-IV...</td>\n",
       "      <td>0</td>\n",
       "    </tr>\n",
       "    <tr>\n",
       "      <th>4</th>\n",
       "      <td>90005_a</td>\n",
       "      <td>尿毒症,慢性肾小球肾炎, 腹膜透析,高血压病(3级 极高危);肺部感染,肾性贫血,甲状腺结节</td>\n",
       "      <td>0</td>\n",
       "    </tr>\n",
       "    <tr>\n",
       "      <th>5</th>\n",
       "      <td>90006_a</td>\n",
       "      <td>急性脑梗死(NIHSS评分2分);动脉斑块形成;高血压(3级,很高危);冠状动脉粥样硬化性心...</td>\n",
       "      <td>0</td>\n",
       "    </tr>\n",
       "  </tbody>\n",
       "</table>\n",
       "</div>"
      ],
      "text/plain": [
       "     受试者编号                                               出院诊断  主要疾病转归_描述\n",
       "0  90001_a  大脑动脉狭窄脑梗死 NIHSS评分12分，高血压病（2级，很高危），2型糖尿病，脑梗死个人史...          0\n",
       "2  90003_a  I型呼吸衰竭 重症肺炎 肺栓塞(中低危)心功能不全 高血压病I级(高危)肝功能不全 下肢静脉...          1\n",
       "3  90004_a  尿毒症,慢性肾小球肾炎,腹膜透析;胸腔积液;心房颤动伴II度房室传导阻滞,心功能III-IV...          0\n",
       "4  90005_a     尿毒症,慢性肾小球肾炎, 腹膜透析,高血压病(3级 极高危);肺部感染,肾性贫血,甲状腺结节          0\n",
       "5  90006_a  急性脑梗死(NIHSS评分2分);动脉斑块形成;高血压(3级,很高危);冠状动脉粥样硬化性心...          0"
      ]
     },
     "execution_count": 219,
     "metadata": {},
     "output_type": "execute_result"
    }
   ],
   "source": [
    "df_oup_diagnosis.head()"
   ]
  },
  {
   "cell_type": "code",
   "execution_count": 220,
   "metadata": {},
   "outputs": [],
   "source": [
    "df_oup_diagnosis.to_excel(project_path+'/data/processed_data/df_1.3_提取出院诊断转归数据.xlsx')"
   ]
  },
  {
   "cell_type": "markdown",
   "metadata": {},
   "source": [
    "## 提取用药信息"
   ]
  },
  {
   "cell_type": "markdown",
   "metadata": {},
   "source": [
    "### 其他科用药数据"
   ]
  },
  {
   "cell_type": "code",
   "execution_count": 221,
   "metadata": {},
   "outputs": [],
   "source": [
    "drug_data_1 = pd.read_excel(project_path+'/data/raw_data/导出全部CRF表数据-其他科1021.xlsx',\n",
    "                            sheet_name='EX_生脉注射液用药情况',\n",
    "#                            header=1,  # 指定第2行作为标题行\n",
    "                           skiprows=[1,1,1])  # 跳过第1行"
   ]
  },
  {
   "cell_type": "code",
   "execution_count": 222,
   "metadata": {},
   "outputs": [
    {
     "name": "stdout",
     "output_type": "stream",
     "text": [
      "(1107, 30)\n",
      "645\n"
     ]
    }
   ],
   "source": [
    "print(drug_data_1.shape)\n",
    "print(drug_data_1['SUBJECTID'].nunique())"
   ]
  },
  {
   "cell_type": "code",
   "execution_count": 223,
   "metadata": {},
   "outputs": [
    {
     "data": {
      "text/html": [
       "<div>\n",
       "<style scoped>\n",
       "    .dataframe tbody tr th:only-of-type {\n",
       "        vertical-align: middle;\n",
       "    }\n",
       "\n",
       "    .dataframe tbody tr th {\n",
       "        vertical-align: top;\n",
       "    }\n",
       "\n",
       "    .dataframe thead th {\n",
       "        text-align: right;\n",
       "    }\n",
       "</style>\n",
       "<table border=\"1\" class=\"dataframe\">\n",
       "  <thead>\n",
       "    <tr style=\"text-align: right;\">\n",
       "      <th></th>\n",
       "      <th>STUDYID</th>\n",
       "      <th>SITEID</th>\n",
       "      <th>SITE</th>\n",
       "      <th>SUBJECTID</th>\n",
       "      <th>VISIT</th>\n",
       "      <th>EXYN</th>\n",
       "      <th>EXYN_CHAR</th>\n",
       "      <th>EXSTDAT</th>\n",
       "      <th>EXENDAT</th>\n",
       "      <th>EXDLDAYS</th>\n",
       "      <th>...</th>\n",
       "      <th>EXDSTXTUT</th>\n",
       "      <th>EXDSTXTSD</th>\n",
       "      <th>EXDSTXTSU</th>\n",
       "      <th>EXMENS</th>\n",
       "      <th>EXMENS_CHAR</th>\n",
       "      <th>EXMENOTH</th>\n",
       "      <th>EXCOMDYN</th>\n",
       "      <th>EXCOMDYN_CHAR</th>\n",
       "      <th>ENTSTDTC</th>\n",
       "      <th>ENTENDTC</th>\n",
       "    </tr>\n",
       "  </thead>\n",
       "  <tbody>\n",
       "    <tr>\n",
       "      <th>0</th>\n",
       "      <td>SMZSY-V1.0</td>\n",
       "      <td>9</td>\n",
       "      <td>上海交通大学医学院附属新华医院</td>\n",
       "      <td>90001</td>\n",
       "      <td>生脉注射液用药情况</td>\n",
       "      <td>1.0</td>\n",
       "      <td>是</td>\n",
       "      <td>2018-04-07</td>\n",
       "      <td>2018-04-15</td>\n",
       "      <td>9.0</td>\n",
       "      <td>...</td>\n",
       "      <td>ml</td>\n",
       "      <td>NaN</td>\n",
       "      <td>NaN</td>\n",
       "      <td>99.0</td>\n",
       "      <td>其它</td>\n",
       "      <td>0.9% NS 100ml</td>\n",
       "      <td>2.0</td>\n",
       "      <td>无</td>\n",
       "      <td>2018/4/20 15:59:03</td>\n",
       "      <td>NaN</td>\n",
       "    </tr>\n",
       "    <tr>\n",
       "      <th>1</th>\n",
       "      <td>SMZSY-V1.0</td>\n",
       "      <td>9</td>\n",
       "      <td>上海交通大学医学院附属新华医院</td>\n",
       "      <td>90001</td>\n",
       "      <td>生脉注射液用药情况</td>\n",
       "      <td>2.0</td>\n",
       "      <td>否</td>\n",
       "      <td>NaN</td>\n",
       "      <td>NaN</td>\n",
       "      <td>1.0</td>\n",
       "      <td>...</td>\n",
       "      <td>NaN</td>\n",
       "      <td>NaN</td>\n",
       "      <td>NaN</td>\n",
       "      <td>NaN</td>\n",
       "      <td>NaN</td>\n",
       "      <td>NaN</td>\n",
       "      <td>NaN</td>\n",
       "      <td>NaN</td>\n",
       "      <td>2019/8/1 23:14:03</td>\n",
       "      <td>NaN</td>\n",
       "    </tr>\n",
       "    <tr>\n",
       "      <th>2</th>\n",
       "      <td>SMZSY-V1.0</td>\n",
       "      <td>9</td>\n",
       "      <td>上海交通大学医学院附属新华医院</td>\n",
       "      <td>90002</td>\n",
       "      <td>生脉注射液用药情况</td>\n",
       "      <td>2.0</td>\n",
       "      <td>否</td>\n",
       "      <td>NaN</td>\n",
       "      <td>NaN</td>\n",
       "      <td>1.0</td>\n",
       "      <td>...</td>\n",
       "      <td>NaN</td>\n",
       "      <td>NaN</td>\n",
       "      <td>NaN</td>\n",
       "      <td>NaN</td>\n",
       "      <td>NaN</td>\n",
       "      <td>NaN</td>\n",
       "      <td>NaN</td>\n",
       "      <td>NaN</td>\n",
       "      <td>2019/10/1 19:20:27</td>\n",
       "      <td>NaN</td>\n",
       "    </tr>\n",
       "    <tr>\n",
       "      <th>3</th>\n",
       "      <td>SMZSY-V1.0</td>\n",
       "      <td>9</td>\n",
       "      <td>上海交通大学医学院附属新华医院</td>\n",
       "      <td>90003</td>\n",
       "      <td>生脉注射液用药情况</td>\n",
       "      <td>1.0</td>\n",
       "      <td>是</td>\n",
       "      <td>2018-03-12</td>\n",
       "      <td>2018-03-17</td>\n",
       "      <td>6.0</td>\n",
       "      <td>...</td>\n",
       "      <td>ml</td>\n",
       "      <td>NaN</td>\n",
       "      <td>NaN</td>\n",
       "      <td>1.0</td>\n",
       "      <td>5% GS 250ml</td>\n",
       "      <td>NaN</td>\n",
       "      <td>2.0</td>\n",
       "      <td>无</td>\n",
       "      <td>2018/9/16 16:37:59</td>\n",
       "      <td>NaN</td>\n",
       "    </tr>\n",
       "    <tr>\n",
       "      <th>4</th>\n",
       "      <td>SMZSY-V1.0</td>\n",
       "      <td>9</td>\n",
       "      <td>上海交通大学医学院附属新华医院</td>\n",
       "      <td>90003</td>\n",
       "      <td>生脉注射液用药情况</td>\n",
       "      <td>2.0</td>\n",
       "      <td>否</td>\n",
       "      <td>NaN</td>\n",
       "      <td>NaN</td>\n",
       "      <td>1.0</td>\n",
       "      <td>...</td>\n",
       "      <td>NaN</td>\n",
       "      <td>NaN</td>\n",
       "      <td>NaN</td>\n",
       "      <td>NaN</td>\n",
       "      <td>NaN</td>\n",
       "      <td>NaN</td>\n",
       "      <td>NaN</td>\n",
       "      <td>NaN</td>\n",
       "      <td>2019/8/8 16:31:10</td>\n",
       "      <td>NaN</td>\n",
       "    </tr>\n",
       "  </tbody>\n",
       "</table>\n",
       "<p>5 rows × 30 columns</p>\n",
       "</div>"
      ],
      "text/plain": [
       "      STUDYID  SITEID             SITE  SUBJECTID      VISIT  EXYN EXYN_CHAR  \\\n",
       "0  SMZSY-V1.0       9  上海交通大学医学院附属新华医院      90001  生脉注射液用药情况   1.0         是   \n",
       "1  SMZSY-V1.0       9  上海交通大学医学院附属新华医院      90001  生脉注射液用药情况   2.0         否   \n",
       "2  SMZSY-V1.0       9  上海交通大学医学院附属新华医院      90002  生脉注射液用药情况   2.0         否   \n",
       "3  SMZSY-V1.0       9  上海交通大学医学院附属新华医院      90003  生脉注射液用药情况   1.0         是   \n",
       "4  SMZSY-V1.0       9  上海交通大学医学院附属新华医院      90003  生脉注射液用药情况   2.0         否   \n",
       "\n",
       "      EXSTDAT     EXENDAT  EXDLDAYS  ... EXDSTXTUT  EXDSTXTSD  EXDSTXTSU  \\\n",
       "0  2018-04-07  2018-04-15       9.0  ...        ml        NaN        NaN   \n",
       "1         NaN         NaN       1.0  ...       NaN        NaN        NaN   \n",
       "2         NaN         NaN       1.0  ...       NaN        NaN        NaN   \n",
       "3  2018-03-12  2018-03-17       6.0  ...        ml        NaN        NaN   \n",
       "4         NaN         NaN       1.0  ...       NaN        NaN        NaN   \n",
       "\n",
       "   EXMENS  EXMENS_CHAR       EXMENOTH EXCOMDYN  EXCOMDYN_CHAR  \\\n",
       "0    99.0           其它  0.9% NS 100ml      2.0              无   \n",
       "1     NaN          NaN            NaN      NaN            NaN   \n",
       "2     NaN          NaN            NaN      NaN            NaN   \n",
       "3     1.0  5% GS 250ml            NaN      2.0              无   \n",
       "4     NaN          NaN            NaN      NaN            NaN   \n",
       "\n",
       "             ENTSTDTC  ENTENDTC  \n",
       "0  2018/4/20 15:59:03       NaN  \n",
       "1   2019/8/1 23:14:03       NaN  \n",
       "2  2019/10/1 19:20:27       NaN  \n",
       "3  2018/9/16 16:37:59       NaN  \n",
       "4   2019/8/8 16:31:10       NaN  \n",
       "\n",
       "[5 rows x 30 columns]"
      ]
     },
     "execution_count": 223,
     "metadata": {},
     "output_type": "execute_result"
    }
   ],
   "source": [
    "drug_data_1.head()"
   ]
  },
  {
   "cell_type": "code",
   "execution_count": 224,
   "metadata": {},
   "outputs": [],
   "source": [
    "# 提取使用生脉注射液的数据\n",
    "drug_data_1=drug_data_1[drug_data_1['EXYN_CHAR']=='是']\n",
    "drug_data_1=drug_data_1.reset_index(drop=True)"
   ]
  },
  {
   "cell_type": "code",
   "execution_count": 225,
   "metadata": {},
   "outputs": [
    {
     "name": "stdout",
     "output_type": "stream",
     "text": [
      "(635, 30)\n",
      "635\n"
     ]
    }
   ],
   "source": [
    "print(drug_data_1.shape)\n",
    "print(drug_data_1['SUBJECTID'].nunique())"
   ]
  },
  {
   "cell_type": "code",
   "execution_count": 226,
   "metadata": {},
   "outputs": [],
   "source": [
    "# 删除用药剂量为空的数据，频次：EXDOSFRQ；单次剂量：EXDSTXT\n",
    "drug_data_1=drug_data_1[(drug_data_1['EXDOSFRQ'].notnull()) &  \n",
    "                       (drug_data_1['EXDSTXT'].notnull())]\n",
    "drug_data_1=drug_data_1.reset_index(drop=True)"
   ]
  },
  {
   "cell_type": "code",
   "execution_count": 227,
   "metadata": {},
   "outputs": [
    {
     "name": "stdout",
     "output_type": "stream",
     "text": [
      "(635, 30)\n",
      "635\n"
     ]
    }
   ],
   "source": [
    "print(drug_data_1.shape)\n",
    "print(drug_data_1['SUBJECTID'].nunique())"
   ]
  },
  {
   "cell_type": "code",
   "execution_count": 228,
   "metadata": {},
   "outputs": [],
   "source": [
    "# 提取有效字段\n",
    "drug_data_1=drug_data_1[['SUBJECTID','EXSTDAT','EXENDAT','EXDLDAYS','EXDOSFRQ','EXDSTXT']]"
   ]
  },
  {
   "cell_type": "code",
   "execution_count": 229,
   "metadata": {},
   "outputs": [],
   "source": [
    "# 标记受试者编号\n",
    "drug_data_1['SUBJECTID']=drug_data_1['SUBJECTID'].apply(lambda x: str(x)+'_a')"
   ]
  },
  {
   "cell_type": "code",
   "execution_count": 230,
   "metadata": {},
   "outputs": [
    {
     "data": {
      "text/html": [
       "<div>\n",
       "<style scoped>\n",
       "    .dataframe tbody tr th:only-of-type {\n",
       "        vertical-align: middle;\n",
       "    }\n",
       "\n",
       "    .dataframe tbody tr th {\n",
       "        vertical-align: top;\n",
       "    }\n",
       "\n",
       "    .dataframe thead th {\n",
       "        text-align: right;\n",
       "    }\n",
       "</style>\n",
       "<table border=\"1\" class=\"dataframe\">\n",
       "  <thead>\n",
       "    <tr style=\"text-align: right;\">\n",
       "      <th></th>\n",
       "      <th>SUBJECTID</th>\n",
       "      <th>EXSTDAT</th>\n",
       "      <th>EXENDAT</th>\n",
       "      <th>EXDLDAYS</th>\n",
       "      <th>EXDOSFRQ</th>\n",
       "      <th>EXDSTXT</th>\n",
       "    </tr>\n",
       "  </thead>\n",
       "  <tbody>\n",
       "    <tr>\n",
       "      <th>0</th>\n",
       "      <td>90001_a</td>\n",
       "      <td>2018-04-07</td>\n",
       "      <td>2018-04-15</td>\n",
       "      <td>9.0</td>\n",
       "      <td>1.0</td>\n",
       "      <td>30.0</td>\n",
       "    </tr>\n",
       "    <tr>\n",
       "      <th>1</th>\n",
       "      <td>90003_a</td>\n",
       "      <td>2018-03-12</td>\n",
       "      <td>2018-03-17</td>\n",
       "      <td>6.0</td>\n",
       "      <td>1.0</td>\n",
       "      <td>40.0</td>\n",
       "    </tr>\n",
       "    <tr>\n",
       "      <th>2</th>\n",
       "      <td>90004_a</td>\n",
       "      <td>2018-02-13</td>\n",
       "      <td>2018-02-13</td>\n",
       "      <td>1.0</td>\n",
       "      <td>1.0</td>\n",
       "      <td>40.0</td>\n",
       "    </tr>\n",
       "    <tr>\n",
       "      <th>3</th>\n",
       "      <td>90005_a</td>\n",
       "      <td>2018-02-09</td>\n",
       "      <td>2018-02-09</td>\n",
       "      <td>1.0</td>\n",
       "      <td>1.0</td>\n",
       "      <td>40.0</td>\n",
       "    </tr>\n",
       "    <tr>\n",
       "      <th>4</th>\n",
       "      <td>90006_a</td>\n",
       "      <td>2018-02-23</td>\n",
       "      <td>2018-02-23</td>\n",
       "      <td>1.0</td>\n",
       "      <td>1.0</td>\n",
       "      <td>30.0</td>\n",
       "    </tr>\n",
       "  </tbody>\n",
       "</table>\n",
       "</div>"
      ],
      "text/plain": [
       "  SUBJECTID     EXSTDAT     EXENDAT  EXDLDAYS  EXDOSFRQ  EXDSTXT\n",
       "0   90001_a  2018-04-07  2018-04-15       9.0       1.0     30.0\n",
       "1   90003_a  2018-03-12  2018-03-17       6.0       1.0     40.0\n",
       "2   90004_a  2018-02-13  2018-02-13       1.0       1.0     40.0\n",
       "3   90005_a  2018-02-09  2018-02-09       1.0       1.0     40.0\n",
       "4   90006_a  2018-02-23  2018-02-23       1.0       1.0     30.0"
      ]
     },
     "execution_count": 230,
     "metadata": {},
     "output_type": "execute_result"
    }
   ],
   "source": [
    "drug_data_1.head()"
   ]
  },
  {
   "cell_type": "code",
   "execution_count": 231,
   "metadata": {},
   "outputs": [],
   "source": [
    "drug_data_1.to_excel(project_path+'/data/processed_data/用药数据/其他科_drug_1.xlsx')"
   ]
  },
  {
   "cell_type": "markdown",
   "metadata": {},
   "source": [
    "### 心内科用药数据"
   ]
  },
  {
   "cell_type": "code",
   "execution_count": 232,
   "metadata": {},
   "outputs": [],
   "source": [
    "drug_data_2 = pd.read_excel(project_path+'/data/raw_data/导出全部CRF表数据-心内科1021.xlsx',\n",
    "                            sheet_name='EX_生脉注射液用药情况',\n",
    "                            #                            header=1,  # 指定第2行作为标题行\n",
    "                           skiprows=[1,1,1])  # 跳过第几行)"
   ]
  },
  {
   "cell_type": "code",
   "execution_count": 233,
   "metadata": {},
   "outputs": [
    {
     "name": "stdout",
     "output_type": "stream",
     "text": [
      "(192, 30)\n",
      "105\n"
     ]
    }
   ],
   "source": [
    "print(drug_data_2.shape)\n",
    "print(drug_data_2['SUBJECTID'].nunique())"
   ]
  },
  {
   "cell_type": "code",
   "execution_count": 234,
   "metadata": {},
   "outputs": [],
   "source": [
    "# 提取使用生脉注射液的数据\n",
    "drug_data_2=drug_data_2[drug_data_2['EXYN_CHAR']=='是']\n",
    "drug_data_2=drug_data_2.reset_index(drop=True)"
   ]
  },
  {
   "cell_type": "code",
   "execution_count": 235,
   "metadata": {},
   "outputs": [
    {
     "name": "stdout",
     "output_type": "stream",
     "text": [
      "(105, 30)\n",
      "105\n"
     ]
    }
   ],
   "source": [
    "print(drug_data_2.shape)\n",
    "print(drug_data_2['SUBJECTID'].nunique())"
   ]
  },
  {
   "cell_type": "code",
   "execution_count": 236,
   "metadata": {},
   "outputs": [],
   "source": [
    "# 删除用药剂量为空的数据\n",
    "drug_data_2=drug_data_2[(drug_data_2['EXDOSFRQ'].notnull()) &\n",
    "                       (drug_data_2['EXDSTXT'].notnull())]\n",
    "drug_data_2=drug_data_2.reset_index(drop=True)"
   ]
  },
  {
   "cell_type": "code",
   "execution_count": 237,
   "metadata": {},
   "outputs": [
    {
     "name": "stdout",
     "output_type": "stream",
     "text": [
      "(105, 30)\n",
      "105\n"
     ]
    }
   ],
   "source": [
    "print(drug_data_2.shape)\n",
    "print(drug_data_2['SUBJECTID'].nunique())"
   ]
  },
  {
   "cell_type": "code",
   "execution_count": 238,
   "metadata": {},
   "outputs": [],
   "source": [
    "# 提取有效字段\n",
    "drug_data_2=drug_data_2[['SUBJECTID','EXSTDAT','EXENDAT','EXDLDAYS','EXDOSFRQ','EXDSTXT']]"
   ]
  },
  {
   "cell_type": "code",
   "execution_count": 239,
   "metadata": {},
   "outputs": [],
   "source": [
    "# 标记受试者编号\n",
    "drug_data_2['SUBJECTID']=drug_data_2['SUBJECTID'].apply(lambda x: str(x)+'_b')"
   ]
  },
  {
   "cell_type": "code",
   "execution_count": 240,
   "metadata": {},
   "outputs": [
    {
     "data": {
      "text/html": [
       "<div>\n",
       "<style scoped>\n",
       "    .dataframe tbody tr th:only-of-type {\n",
       "        vertical-align: middle;\n",
       "    }\n",
       "\n",
       "    .dataframe tbody tr th {\n",
       "        vertical-align: top;\n",
       "    }\n",
       "\n",
       "    .dataframe thead th {\n",
       "        text-align: right;\n",
       "    }\n",
       "</style>\n",
       "<table border=\"1\" class=\"dataframe\">\n",
       "  <thead>\n",
       "    <tr style=\"text-align: right;\">\n",
       "      <th></th>\n",
       "      <th>SUBJECTID</th>\n",
       "      <th>EXSTDAT</th>\n",
       "      <th>EXENDAT</th>\n",
       "      <th>EXDLDAYS</th>\n",
       "      <th>EXDOSFRQ</th>\n",
       "      <th>EXDSTXT</th>\n",
       "    </tr>\n",
       "  </thead>\n",
       "  <tbody>\n",
       "    <tr>\n",
       "      <th>0</th>\n",
       "      <td>90001_b</td>\n",
       "      <td>2018-02-13</td>\n",
       "      <td>2018-02-13</td>\n",
       "      <td>1</td>\n",
       "      <td>1.0</td>\n",
       "      <td>40.0</td>\n",
       "    </tr>\n",
       "    <tr>\n",
       "      <th>1</th>\n",
       "      <td>90002_b</td>\n",
       "      <td>2019-04-24</td>\n",
       "      <td>2019-05-05</td>\n",
       "      <td>12</td>\n",
       "      <td>1.0</td>\n",
       "      <td>60.0</td>\n",
       "    </tr>\n",
       "    <tr>\n",
       "      <th>2</th>\n",
       "      <td>90003_b</td>\n",
       "      <td>2019-05-24</td>\n",
       "      <td>NaN</td>\n",
       "      <td>1</td>\n",
       "      <td>1.0</td>\n",
       "      <td>40.0</td>\n",
       "    </tr>\n",
       "    <tr>\n",
       "      <th>3</th>\n",
       "      <td>90004_b</td>\n",
       "      <td>2019-04-01</td>\n",
       "      <td>2019-04-03</td>\n",
       "      <td>3</td>\n",
       "      <td>1.0</td>\n",
       "      <td>60.0</td>\n",
       "    </tr>\n",
       "    <tr>\n",
       "      <th>4</th>\n",
       "      <td>90005_b</td>\n",
       "      <td>2019-05-20</td>\n",
       "      <td>2019-05-27</td>\n",
       "      <td>8</td>\n",
       "      <td>1.0</td>\n",
       "      <td>30.0</td>\n",
       "    </tr>\n",
       "  </tbody>\n",
       "</table>\n",
       "</div>"
      ],
      "text/plain": [
       "  SUBJECTID     EXSTDAT     EXENDAT  EXDLDAYS  EXDOSFRQ  EXDSTXT\n",
       "0   90001_b  2018-02-13  2018-02-13         1       1.0     40.0\n",
       "1   90002_b  2019-04-24  2019-05-05        12       1.0     60.0\n",
       "2   90003_b  2019-05-24         NaN         1       1.0     40.0\n",
       "3   90004_b  2019-04-01  2019-04-03         3       1.0     60.0\n",
       "4   90005_b  2019-05-20  2019-05-27         8       1.0     30.0"
      ]
     },
     "execution_count": 240,
     "metadata": {},
     "output_type": "execute_result"
    }
   ],
   "source": [
    "drug_data_2.head()"
   ]
  },
  {
   "cell_type": "code",
   "execution_count": 241,
   "metadata": {},
   "outputs": [],
   "source": [
    "drug_data_2.to_excel(project_path+'/data/processed_data/用药数据/心内科_drug_2.xlsx')"
   ]
  },
  {
   "cell_type": "markdown",
   "metadata": {},
   "source": [
    "### 合并用药数据"
   ]
  },
  {
   "cell_type": "code",
   "execution_count": 242,
   "metadata": {},
   "outputs": [],
   "source": [
    "# 合并其他科和心内科用药数据\n",
    "df_SUP_drug=pd.concat([drug_data_1,drug_data_2],axis=0)"
   ]
  },
  {
   "cell_type": "code",
   "execution_count": 243,
   "metadata": {},
   "outputs": [],
   "source": [
    "#计算日剂量\n",
    "df_SUP_drug['日剂量']=df_SUP_drug['EXDOSFRQ'].astype('float') * df_SUP_drug['EXDSTXT'].astype('float')"
   ]
  },
  {
   "cell_type": "code",
   "execution_count": 244,
   "metadata": {},
   "outputs": [
    {
     "name": "stdout",
     "output_type": "stream",
     "text": [
      "(740, 7)\n",
      "740\n"
     ]
    }
   ],
   "source": [
    "print(df_SUP_drug.shape)\n",
    "print(df_SUP_drug['SUBJECTID'].nunique())"
   ]
  },
  {
   "cell_type": "code",
   "execution_count": 245,
   "metadata": {},
   "outputs": [
    {
     "data": {
      "text/plain": [
       "Index(['SUBJECTID', 'EXSTDAT', 'EXENDAT', 'EXDLDAYS', 'EXDOSFRQ', 'EXDSTXT',\n",
       "       '日剂量'],\n",
       "      dtype='object')"
      ]
     },
     "execution_count": 245,
     "metadata": {},
     "output_type": "execute_result"
    }
   ],
   "source": [
    "df_SUP_drug.columns"
   ]
  },
  {
   "cell_type": "code",
   "execution_count": 246,
   "metadata": {},
   "outputs": [],
   "source": [
    "df_SUP_drug.rename(columns={'SUBJECTID':'受试者编号',\n",
    "                            'EXSTDAT':'用药开始时间',\n",
    "                            'EXENDAT':'用药结束时间',\n",
    "                            'EXDLDAYS':'用药天数'},inplace=True)\n",
    "df_SUP_drug=df_SUP_drug.reset_index(drop=True)"
   ]
  },
  {
   "cell_type": "code",
   "execution_count": 247,
   "metadata": {},
   "outputs": [],
   "source": [
    "# 提取含有结局终点事件的生脉饮用药\n",
    "df_SUP_drug=pd.merge(df_oup_diagnosis,df_SUP_drug,on='受试者编号',how='inner')"
   ]
  },
  {
   "cell_type": "code",
   "execution_count": 248,
   "metadata": {},
   "outputs": [
    {
     "data": {
      "text/plain": [
       "(733, 9)"
      ]
     },
     "execution_count": 248,
     "metadata": {},
     "output_type": "execute_result"
    }
   ],
   "source": [
    "df_SUP_drug.shape"
   ]
  },
  {
   "cell_type": "code",
   "execution_count": 249,
   "metadata": {},
   "outputs": [],
   "source": [
    "df_SUP_drug.to_excel(project_path+'/data/processed_data/df_1.4.3_生脉用药.xlsx')"
   ]
  },
  {
   "cell_type": "code",
   "execution_count": 250,
   "metadata": {},
   "outputs": [
    {
     "data": {
      "text/plain": [
       "40.0     408\n",
       "60.0     185\n",
       "30.0     106\n",
       "50.0      20\n",
       "20.0      11\n",
       "10.0       2\n",
       "120.0      1\n",
       "Name: 日剂量, dtype: int64"
      ]
     },
     "execution_count": 250,
     "metadata": {},
     "output_type": "execute_result"
    }
   ],
   "source": [
    "df_SUP_drug.日剂量.value_counts()"
   ]
  },
  {
   "cell_type": "markdown",
   "metadata": {},
   "source": [
    "### 计算用药时长"
   ]
  },
  {
   "cell_type": "code",
   "execution_count": 251,
   "metadata": {},
   "outputs": [
    {
     "name": "stderr",
     "output_type": "stream",
     "text": [
      "D:\\Anaconda3\\lib\\site-packages\\ipykernel_launcher.py:3: SettingWithCopyWarning: \n",
      "A value is trying to be set on a copy of a slice from a DataFrame.\n",
      "Try using .loc[row_indexer,col_indexer] = value instead\n",
      "\n",
      "See the caveats in the documentation: https://pandas.pydata.org/pandas-docs/stable/user_guide/indexing.html#returning-a-view-versus-a-copy\n",
      "  This is separate from the ipykernel package so we can avoid doing imports until\n"
     ]
    }
   ],
   "source": [
    "aaa=df_SUP_drug[df_SUP_drug['用药结束时间'].isnull()]\n",
    "bbb=df_SUP_drug[df_SUP_drug['用药结束时间'].notnull()]\n",
    "aaa['用药结束时间']=aaa['用药开始时间']\n",
    "df_SUP_drug=pd.concat([aaa,bbb],axis=0)\n",
    "df_SUP_drug=df_SUP_drug.sort_values(by=['受试者编号','用药开始时间'])\n",
    "df_SUP_drug=df_SUP_drug.reset_index(drop=True)"
   ]
  },
  {
   "cell_type": "code",
   "execution_count": 252,
   "metadata": {},
   "outputs": [],
   "source": [
    "df_SUP_drug['用药天数']=(pd.to_datetime(df_SUP_drug['用药结束时间']) - pd.to_datetime(df_SUP_drug['用药开始时间']))\n",
    "df_SUP_drug['用药天数']=df_SUP_drug['用药天数'].apply(lambda x:x.days+1)"
   ]
  },
  {
   "cell_type": "code",
   "execution_count": 253,
   "metadata": {},
   "outputs": [
    {
     "data": {
      "text/plain": [
       "(733, 9)"
      ]
     },
     "execution_count": 253,
     "metadata": {},
     "output_type": "execute_result"
    }
   ],
   "source": [
    "df_SUP_drug.shape"
   ]
  },
  {
   "cell_type": "code",
   "execution_count": 254,
   "metadata": {},
   "outputs": [],
   "source": [
    "df_SUP_drug.to_excel(project_path+'/data/processed_data/df_1.4.4_用药时长.xlsx')"
   ]
  },
  {
   "cell_type": "code",
   "execution_count": 255,
   "metadata": {},
   "outputs": [
    {
     "data": {
      "text/plain": [
       "(241, 9)"
      ]
     },
     "execution_count": 255,
     "metadata": {},
     "output_type": "execute_result"
    }
   ],
   "source": [
    "df_SUP_drug[df_SUP_drug['用药天数']<5].shape"
   ]
  },
  {
   "cell_type": "code",
   "execution_count": 256,
   "metadata": {},
   "outputs": [
    {
     "data": {
      "text/plain": [
       "(232, 9)"
      ]
     },
     "execution_count": 256,
     "metadata": {},
     "output_type": "execute_result"
    }
   ],
   "source": [
    "df_SUP_drug[(df_SUP_drug['用药天数']>=5) & (df_SUP_drug['用药天数']<=7)].shape"
   ]
  },
  {
   "cell_type": "code",
   "execution_count": 257,
   "metadata": {},
   "outputs": [
    {
     "data": {
      "text/plain": [
       "(260, 9)"
      ]
     },
     "execution_count": 257,
     "metadata": {},
     "output_type": "execute_result"
    }
   ],
   "source": [
    "df_SUP_drug[df_SUP_drug['用药天数']>7].shape"
   ]
  },
  {
   "cell_type": "markdown",
   "metadata": {},
   "source": [
    "## 纳入心血管疾病"
   ]
  },
  {
   "cell_type": "markdown",
   "metadata": {},
   "source": [
    "### 提取疾病"
   ]
  },
  {
   "cell_type": "code",
   "execution_count": 258,
   "metadata": {},
   "outputs": [],
   "source": [
    "df_diagnose_1=pd.read_excel(project_path + '/data/raw_data/导出全部CRF表数据-其他科1021.xlsx',sheet_name='RC_西医诊断',header=1)\n",
    "\n",
    "df_diagnose_2=pd.read_excel(project_path + '/data/raw_data/导出全部CRF表数据-心内科1021.xlsx',sheet_name='RC_西医诊断',header=1)\n",
    "\n",
    "df_diagnose_1['受试者编号']=df_diagnose_1['受试者编号'].astype('str')+'_'+'a'\n",
    "df_diagnose_2['受试者编号']=df_diagnose_2['受试者编号'].astype('str')+'_'+'b'\n",
    "df_diagnose=pd.concat([df_diagnose_1,df_diagnose_2],axis=0)\n",
    "df_diagnose=df_diagnose.reset_index(drop=True)"
   ]
  },
  {
   "cell_type": "code",
   "execution_count": 259,
   "metadata": {},
   "outputs": [
    {
     "name": "stdout",
     "output_type": "stream",
     "text": [
      "(699, 10)\n",
      "(104, 10)\n"
     ]
    }
   ],
   "source": [
    "print(df_diagnose_1.shape)\n",
    "print(df_diagnose_2.shape)"
   ]
  },
  {
   "cell_type": "code",
   "execution_count": 260,
   "metadata": {},
   "outputs": [],
   "source": [
    "df_diagnose=df_diagnose[df_diagnose['西医诊断'].notnull()]\n",
    "df_diagnose=df_diagnose.reset_index(drop=True)"
   ]
  },
  {
   "cell_type": "code",
   "execution_count": 261,
   "metadata": {},
   "outputs": [
    {
     "data": {
      "text/plain": [
       "(799, 10)"
      ]
     },
     "execution_count": 261,
     "metadata": {},
     "output_type": "execute_result"
    }
   ],
   "source": [
    "df_diagnose.shape"
   ]
  },
  {
   "cell_type": "code",
   "execution_count": 262,
   "metadata": {},
   "outputs": [
    {
     "data": {
      "text/html": [
       "<div>\n",
       "<style scoped>\n",
       "    .dataframe tbody tr th:only-of-type {\n",
       "        vertical-align: middle;\n",
       "    }\n",
       "\n",
       "    .dataframe tbody tr th {\n",
       "        vertical-align: top;\n",
       "    }\n",
       "\n",
       "    .dataframe thead th {\n",
       "        text-align: right;\n",
       "    }\n",
       "</style>\n",
       "<table border=\"1\" class=\"dataframe\">\n",
       "  <thead>\n",
       "    <tr style=\"text-align: right;\">\n",
       "      <th></th>\n",
       "      <th>方案号</th>\n",
       "      <th>中心标识</th>\n",
       "      <th>中心名称</th>\n",
       "      <th>受试者编号</th>\n",
       "      <th>访视</th>\n",
       "      <th>编号</th>\n",
       "      <th>西医诊断</th>\n",
       "      <th>开始日期</th>\n",
       "      <th>原始录入日期</th>\n",
       "      <th>最后修改日期</th>\n",
       "    </tr>\n",
       "  </thead>\n",
       "  <tbody>\n",
       "    <tr>\n",
       "      <th>0</th>\n",
       "      <td>SMZSY-V1.0</td>\n",
       "      <td>9</td>\n",
       "      <td>上海交通大学医学院附属新华医院</td>\n",
       "      <td>90001_a</td>\n",
       "      <td>入组访视</td>\n",
       "      <td>1</td>\n",
       "      <td>大脑动脉狭窄脑梗死，高血压病，2DM，脑梗个人史，动脉斑块形成，双侧甲状腺结节</td>\n",
       "      <td>2018-04-03</td>\n",
       "      <td>2018/4/20 15:04:29</td>\n",
       "      <td>NaN</td>\n",
       "    </tr>\n",
       "    <tr>\n",
       "      <th>1</th>\n",
       "      <td>SMZSY-V1.0</td>\n",
       "      <td>9</td>\n",
       "      <td>上海交通大学医学院附属新华医院</td>\n",
       "      <td>90003_a</td>\n",
       "      <td>入组访视</td>\n",
       "      <td>1</td>\n",
       "      <td>肺栓塞(中低危)</td>\n",
       "      <td>2018-01-31</td>\n",
       "      <td>2018/9/16 15:44:19</td>\n",
       "      <td>NaN</td>\n",
       "    </tr>\n",
       "    <tr>\n",
       "      <th>2</th>\n",
       "      <td>SMZSY-V1.0</td>\n",
       "      <td>9</td>\n",
       "      <td>上海交通大学医学院附属新华医院</td>\n",
       "      <td>90003_a</td>\n",
       "      <td>入组访视</td>\n",
       "      <td>2</td>\n",
       "      <td>两肺阴影待查</td>\n",
       "      <td>2018-01-31</td>\n",
       "      <td>2018/9/16 15:44:45</td>\n",
       "      <td>NaN</td>\n",
       "    </tr>\n",
       "    <tr>\n",
       "      <th>3</th>\n",
       "      <td>SMZSY-V1.0</td>\n",
       "      <td>9</td>\n",
       "      <td>上海交通大学医学院附属新华医院</td>\n",
       "      <td>90003_a</td>\n",
       "      <td>入组访视</td>\n",
       "      <td>3</td>\n",
       "      <td>高血压病1级(高危)</td>\n",
       "      <td>2018-01-31</td>\n",
       "      <td>2018/9/16 15:45:10</td>\n",
       "      <td>NaN</td>\n",
       "    </tr>\n",
       "    <tr>\n",
       "      <th>4</th>\n",
       "      <td>SMZSY-V1.0</td>\n",
       "      <td>9</td>\n",
       "      <td>上海交通大学医学院附属新华医院</td>\n",
       "      <td>90003_a</td>\n",
       "      <td>入组访视</td>\n",
       "      <td>4</td>\n",
       "      <td>肝功能不全</td>\n",
       "      <td>2018-01-31</td>\n",
       "      <td>2018/9/16 15:45:39</td>\n",
       "      <td>NaN</td>\n",
       "    </tr>\n",
       "  </tbody>\n",
       "</table>\n",
       "</div>"
      ],
      "text/plain": [
       "          方案号  中心标识             中心名称    受试者编号    访视  编号  \\\n",
       "0  SMZSY-V1.0     9  上海交通大学医学院附属新华医院  90001_a  入组访视   1   \n",
       "1  SMZSY-V1.0     9  上海交通大学医学院附属新华医院  90003_a  入组访视   1   \n",
       "2  SMZSY-V1.0     9  上海交通大学医学院附属新华医院  90003_a  入组访视   2   \n",
       "3  SMZSY-V1.0     9  上海交通大学医学院附属新华医院  90003_a  入组访视   3   \n",
       "4  SMZSY-V1.0     9  上海交通大学医学院附属新华医院  90003_a  入组访视   4   \n",
       "\n",
       "                                      西医诊断        开始日期              原始录入日期  \\\n",
       "0  大脑动脉狭窄脑梗死，高血压病，2DM，脑梗个人史，动脉斑块形成，双侧甲状腺结节  2018-04-03  2018/4/20 15:04:29   \n",
       "1                                 肺栓塞(中低危)  2018-01-31  2018/9/16 15:44:19   \n",
       "2                                   两肺阴影待查  2018-01-31  2018/9/16 15:44:45   \n",
       "3                               高血压病1级(高危)  2018-01-31  2018/9/16 15:45:10   \n",
       "4                                    肝功能不全  2018-01-31  2018/9/16 15:45:39   \n",
       "\n",
       "  最后修改日期  \n",
       "0    NaN  \n",
       "1    NaN  \n",
       "2    NaN  \n",
       "3    NaN  \n",
       "4    NaN  "
      ]
     },
     "execution_count": 262,
     "metadata": {},
     "output_type": "execute_result"
    }
   ],
   "source": [
    "df_diagnose.head()"
   ]
  },
  {
   "cell_type": "code",
   "execution_count": 263,
   "metadata": {},
   "outputs": [],
   "source": [
    "df_diagnose['西医诊断']=df_diagnose['西医诊断'].astype('str').apply(lambda x: re.split(r'[,，：: ?？;；/(/)（）]',x))"
   ]
  },
  {
   "cell_type": "code",
   "execution_count": 264,
   "metadata": {},
   "outputs": [],
   "source": [
    "df_diagnose=df_diagnose[['受试者编号','西医诊断']]"
   ]
  },
  {
   "cell_type": "code",
   "execution_count": 265,
   "metadata": {},
   "outputs": [],
   "source": [
    "temp_list=[]\n",
    "for i in df_diagnose['受试者编号'].unique():\n",
    "#     print(i)\n",
    "    temp=df_diagnose[df_diagnose['受试者编号']==i]\n",
    "    temp=temp.reset_index(drop=True)\n",
    "    if temp.shape[0]>1:\n",
    "        for j in range(1,temp.shape[0]):\n",
    "            temp.loc[0,'西医诊断']=temp.loc[0,'西医诊断'] + temp.loc[j,'西医诊断']\n",
    "        temp=temp.loc[:0,]\n",
    "    temp_list.append(temp)"
   ]
  },
  {
   "cell_type": "code",
   "execution_count": 266,
   "metadata": {},
   "outputs": [],
   "source": [
    "df_diagnose=pd.concat(temp_list,axis=0).sort_values(['受试者编号']).reset_index(drop=True)\n",
    "del temp_list"
   ]
  },
  {
   "cell_type": "code",
   "execution_count": 267,
   "metadata": {
    "scrolled": true
   },
   "outputs": [
    {
     "data": {
      "text/html": [
       "<div>\n",
       "<style scoped>\n",
       "    .dataframe tbody tr th:only-of-type {\n",
       "        vertical-align: middle;\n",
       "    }\n",
       "\n",
       "    .dataframe tbody tr th {\n",
       "        vertical-align: top;\n",
       "    }\n",
       "\n",
       "    .dataframe thead th {\n",
       "        text-align: right;\n",
       "    }\n",
       "</style>\n",
       "<table border=\"1\" class=\"dataframe\">\n",
       "  <thead>\n",
       "    <tr style=\"text-align: right;\">\n",
       "      <th></th>\n",
       "      <th>受试者编号</th>\n",
       "      <th>西医诊断</th>\n",
       "    </tr>\n",
       "  </thead>\n",
       "  <tbody>\n",
       "    <tr>\n",
       "      <th>0</th>\n",
       "      <td>90001_a</td>\n",
       "      <td>[大脑动脉狭窄脑梗死, 高血压病, 2DM, 脑梗个人史, 动脉斑块形成, 双侧甲状腺结节]</td>\n",
       "    </tr>\n",
       "    <tr>\n",
       "      <th>1</th>\n",
       "      <td>90002_b</td>\n",
       "      <td>[急性前壁心肌梗塞, 冠心病killip, Ⅰ级, 急诊LAD-PCI术, , 2型糖尿病]</td>\n",
       "    </tr>\n",
       "    <tr>\n",
       "      <th>2</th>\n",
       "      <td>90003_a</td>\n",
       "      <td>[肺栓塞, 中低危, , 两肺阴影待查, 高血压病1级, 高危, , 肝功能不全, 腔隙性脑梗塞]</td>\n",
       "    </tr>\n",
       "    <tr>\n",
       "      <th>3</th>\n",
       "      <td>90003_b</td>\n",
       "      <td>[, 冠状动脉造影硬化性心脏病, 急性冠脉综合征, 高血压病]</td>\n",
       "    </tr>\n",
       "    <tr>\n",
       "      <th>4</th>\n",
       "      <td>90004_a</td>\n",
       "      <td>[尿毒症, 慢性肾小球肾炎, 腹膜透析, 胸腔积液, 心房颤动伴II度房室传导阻滞, 心功能...</td>\n",
       "    </tr>\n",
       "  </tbody>\n",
       "</table>\n",
       "</div>"
      ],
      "text/plain": [
       "     受试者编号                                               西医诊断\n",
       "0  90001_a     [大脑动脉狭窄脑梗死, 高血压病, 2DM, 脑梗个人史, 动脉斑块形成, 双侧甲状腺结节]\n",
       "1  90002_b     [急性前壁心肌梗塞, 冠心病killip, Ⅰ级, 急诊LAD-PCI术, , 2型糖尿病]\n",
       "2  90003_a  [肺栓塞, 中低危, , 两肺阴影待查, 高血压病1级, 高危, , 肝功能不全, 腔隙性脑梗塞]\n",
       "3  90003_b                    [, 冠状动脉造影硬化性心脏病, 急性冠脉综合征, 高血压病]\n",
       "4  90004_a  [尿毒症, 慢性肾小球肾炎, 腹膜透析, 胸腔积液, 心房颤动伴II度房室传导阻滞, 心功能..."
      ]
     },
     "execution_count": 267,
     "metadata": {},
     "output_type": "execute_result"
    }
   ],
   "source": [
    "df_diagnose.head()"
   ]
  },
  {
   "cell_type": "code",
   "execution_count": 268,
   "metadata": {},
   "outputs": [
    {
     "data": {
      "text/plain": [
       "('心肌梗塞', '心肌梗死', '心梗')"
      ]
     },
     "execution_count": 268,
     "metadata": {},
     "output_type": "execute_result"
    }
   ],
   "source": [
    "# 2022.1.12，重新梳理合并疾病\n",
    "'冠心病','冠状动脉粥样硬化性心脏病','冠状动脉粥样硬化','冠心病kp'\n",
    "'肺部感染'\n",
    "'糖尿病','2型糖尿'\n",
    "'高血压'\n",
    "'心功能不全','心功能'\n",
    "'脑梗死','脑梗'\n",
    "'头晕'\n",
    "'急性冠脉综合症','急性冠脉综合征'\n",
    "'房颤'\n",
    "'肾功能不全','肾功能'\n",
    "'尿毒症'\n",
    "'脓毒血症'\n",
    "'肺水肿'\n",
    "'肺气肿'\n",
    "'呼吸衰竭','呼衰'\n",
    "'胸腔积液'\n",
    "'尿路感染'\n",
    "'腹膜透析'\n",
    "'肝功能不全','肝功'\n",
    "'高脂血症'\n",
    "'慢性支气管炎'\n",
    "'胆囊结石','胆结石'\n",
    "'早搏'\n",
    "'急性肾损伤'\n",
    "'心肌梗塞','心肌梗死','心梗'"
   ]
  },
  {
   "cell_type": "code",
   "execution_count": 269,
   "metadata": {},
   "outputs": [
    {
     "data": {
      "text/plain": [
       "0         [大脑动脉狭窄脑梗死, 高血压病, 2DM, 脑梗个人史, 动脉斑块形成, 双侧甲状腺结节]\n",
       "1         [急性前壁心肌梗塞, 冠心病killip, Ⅰ级, 急诊LAD-PCI术, , 2型糖尿病]\n",
       "2      [肺栓塞, 中低危, , 两肺阴影待查, 高血压病1级, 高危, , 肝功能不全, 腔隙性脑梗塞]\n",
       "3                        [, 冠状动脉造影硬化性心脏病, 急性冠脉综合征, 高血压病]\n",
       "4      [尿毒症, 慢性肾小球肾炎, 腹膜透析, 胸腔积液, 心房颤动伴II度房室传导阻滞, 心功能...\n",
       "                             ...                        \n",
       "734    [帕金森综合征, , , , , , , , , , , , 高血压2级, 高危, , , ...\n",
       "735                    [头痛背痛待查, 急性冠脉综合征, , , 高血压3级, 很高危]\n",
       "736         [横纹肌溶解, 2型糖尿病, 肝功能受损, 反流性食管炎, 糜烂性全胃炎, 血管性痴呆]\n",
       "737                                      [心肌损伤, 化脓性扁桃体炎]\n",
       "738        [初步诊断, , , 帕金森病, 高血压病, 3级, 很高危, , 白内障, 脑梗个人史]\n",
       "Name: 西医诊断, Length: 739, dtype: object"
      ]
     },
     "execution_count": 269,
     "metadata": {},
     "output_type": "execute_result"
    }
   ],
   "source": [
    "df_diagnose['西医诊断']"
   ]
  },
  {
   "cell_type": "code",
   "execution_count": 270,
   "metadata": {},
   "outputs": [],
   "source": [
    "for i in range(df_diagnose.shape[0]):\n",
    "    df_diagnose.loc[i,'西医诊断']=[x.replace('冠状动脉粥样硬化','冠心病') for x in df_diagnose.loc[i,'西医诊断']]\n",
    "    df_diagnose.loc[i,'西医诊断']=[x.replace('糖尿','糖尿病') for x in df_diagnose.loc[i,'西医诊断']]\n",
    "    df_diagnose.loc[i,'西医诊断']=[x.replace('心功能','心功能不全') for x in df_diagnose.loc[i,'西医诊断']]\n",
    "    df_diagnose.loc[i,'西医诊断']=[x.replace('心律','心功能不全') for x in df_diagnose.loc[i,'西医诊断']]\n",
    "    df_diagnose.loc[i,'西医诊断']=[x.replace('心力衰竭','心功能不全') for x in df_diagnose.loc[i,'西医诊断']]\n",
    "    df_diagnose.loc[i,'西医诊断']=[x.replace('脑梗','脑梗死') for x in df_diagnose.loc[i,'西医诊断']]\n",
    "    df_diagnose.loc[i,'西医诊断']=[x.replace('急性冠脉综合症','急性冠脉综合征') for x in df_diagnose.loc[i,'西医诊断']]\n",
    "    df_diagnose.loc[i,'西医诊断']=[x.replace('肾功能','肾功能不全') for x in df_diagnose.loc[i,'西医诊断']]\n",
    "    df_diagnose.loc[i,'西医诊断']=[x.replace('呼衰','呼吸衰竭') for x in df_diagnose.loc[i,'西医诊断']]\n",
    "    df_diagnose.loc[i,'西医诊断']=[x.replace('肝功能','肝功能不全') for x in df_diagnose.loc[i,'西医诊断']]\n",
    "    df_diagnose.loc[i,'西医诊断']=[x.replace('胆结石','胆囊结石') for x in df_diagnose.loc[i,'西医诊断']]\n",
    "    df_diagnose.loc[i,'西医诊断']=[x.replace('心肌梗死','心肌梗塞') for x in df_diagnose.loc[i,'西医诊断']]\n",
    "    df_diagnose.loc[i,'西医诊断']=[x.replace('心梗','心肌梗塞') for x in df_diagnose.loc[i,'西医诊断']]"
   ]
  },
  {
   "cell_type": "code",
   "execution_count": 271,
   "metadata": {},
   "outputs": [],
   "source": [
    "df_diagnose.to_excel(project_path+'/data/processed_data/df_1.4.1_西医诊断疾病.xlsx')"
   ]
  },
  {
   "cell_type": "markdown",
   "metadata": {},
   "source": [
    "### 疾病转置"
   ]
  },
  {
   "cell_type": "code",
   "execution_count": 272,
   "metadata": {},
   "outputs": [],
   "source": [
    "disease_name=['冠心病','肺部感染','糖尿病','高血压','心功能不全','脑梗死','头晕','急性冠脉综合征','房颤',\\\n",
    "               '肾功能不全','尿毒症','脓毒血症','肺水肿','肺气肿','呼吸衰竭','胸腔积液','尿路感染','腹膜透析',\\\n",
    "              '肝功能不全','高脂血症','慢性支气管炎','胆囊结石','早搏','急性肾损伤','心肌梗塞']"
   ]
  },
  {
   "cell_type": "code",
   "execution_count": 273,
   "metadata": {},
   "outputs": [
    {
     "data": {
      "text/plain": [
       "25"
      ]
     },
     "execution_count": 273,
     "metadata": {},
     "output_type": "execute_result"
    }
   ],
   "source": [
    "len(disease_name)"
   ]
  },
  {
   "cell_type": "code",
   "execution_count": 274,
   "metadata": {},
   "outputs": [],
   "source": [
    "df_disease=df_diagnose.copy()\n",
    "for i in range(df_disease.shape[0]):\n",
    "    diag_str=';'.join(df_disease.loc[i,'西医诊断'])\n",
    "    for j in disease_name:\n",
    "        if j in diag_str:\n",
    "            df_disease.loc[i,j]=1\n",
    "        else:\n",
    "            df_disease.loc[i,j]=0"
   ]
  },
  {
   "cell_type": "code",
   "execution_count": 275,
   "metadata": {},
   "outputs": [
    {
     "data": {
      "text/plain": [
       "(739, 27)"
      ]
     },
     "execution_count": 275,
     "metadata": {},
     "output_type": "execute_result"
    }
   ],
   "source": [
    "df_disease.shape"
   ]
  },
  {
   "cell_type": "code",
   "execution_count": 276,
   "metadata": {},
   "outputs": [
    {
     "data": {
      "text/html": [
       "<div>\n",
       "<style scoped>\n",
       "    .dataframe tbody tr th:only-of-type {\n",
       "        vertical-align: middle;\n",
       "    }\n",
       "\n",
       "    .dataframe tbody tr th {\n",
       "        vertical-align: top;\n",
       "    }\n",
       "\n",
       "    .dataframe thead th {\n",
       "        text-align: right;\n",
       "    }\n",
       "</style>\n",
       "<table border=\"1\" class=\"dataframe\">\n",
       "  <thead>\n",
       "    <tr style=\"text-align: right;\">\n",
       "      <th></th>\n",
       "      <th>受试者编号</th>\n",
       "      <th>西医诊断</th>\n",
       "      <th>冠心病</th>\n",
       "      <th>肺部感染</th>\n",
       "      <th>糖尿病</th>\n",
       "      <th>高血压</th>\n",
       "      <th>心功能不全</th>\n",
       "      <th>脑梗死</th>\n",
       "      <th>头晕</th>\n",
       "      <th>急性冠脉综合征</th>\n",
       "      <th>...</th>\n",
       "      <th>胸腔积液</th>\n",
       "      <th>尿路感染</th>\n",
       "      <th>腹膜透析</th>\n",
       "      <th>肝功能不全</th>\n",
       "      <th>高脂血症</th>\n",
       "      <th>慢性支气管炎</th>\n",
       "      <th>胆囊结石</th>\n",
       "      <th>早搏</th>\n",
       "      <th>急性肾损伤</th>\n",
       "      <th>心肌梗塞</th>\n",
       "    </tr>\n",
       "  </thead>\n",
       "  <tbody>\n",
       "    <tr>\n",
       "      <th>0</th>\n",
       "      <td>90001_a</td>\n",
       "      <td>[大脑动脉狭窄脑梗死死, 高血压病, 2DM, 脑梗死个人史, 动脉斑块形成, 双侧甲状腺结节]</td>\n",
       "      <td>0.0</td>\n",
       "      <td>0.0</td>\n",
       "      <td>0.0</td>\n",
       "      <td>1.0</td>\n",
       "      <td>0.0</td>\n",
       "      <td>1.0</td>\n",
       "      <td>0.0</td>\n",
       "      <td>0.0</td>\n",
       "      <td>...</td>\n",
       "      <td>0.0</td>\n",
       "      <td>0.0</td>\n",
       "      <td>0.0</td>\n",
       "      <td>0.0</td>\n",
       "      <td>0.0</td>\n",
       "      <td>0.0</td>\n",
       "      <td>0.0</td>\n",
       "      <td>0.0</td>\n",
       "      <td>0.0</td>\n",
       "      <td>0.0</td>\n",
       "    </tr>\n",
       "    <tr>\n",
       "      <th>1</th>\n",
       "      <td>90002_b</td>\n",
       "      <td>[急性前壁心肌梗塞, 冠心病killip, Ⅰ级, 急诊LAD-PCI术, , 2型糖尿病病]</td>\n",
       "      <td>1.0</td>\n",
       "      <td>0.0</td>\n",
       "      <td>1.0</td>\n",
       "      <td>0.0</td>\n",
       "      <td>0.0</td>\n",
       "      <td>0.0</td>\n",
       "      <td>0.0</td>\n",
       "      <td>0.0</td>\n",
       "      <td>...</td>\n",
       "      <td>0.0</td>\n",
       "      <td>0.0</td>\n",
       "      <td>0.0</td>\n",
       "      <td>0.0</td>\n",
       "      <td>0.0</td>\n",
       "      <td>0.0</td>\n",
       "      <td>0.0</td>\n",
       "      <td>0.0</td>\n",
       "      <td>0.0</td>\n",
       "      <td>1.0</td>\n",
       "    </tr>\n",
       "    <tr>\n",
       "      <th>2</th>\n",
       "      <td>90003_a</td>\n",
       "      <td>[肺栓塞, 中低危, , 两肺阴影待查, 高血压病1级, 高危, , 肝功能不全不全, 腔隙...</td>\n",
       "      <td>0.0</td>\n",
       "      <td>0.0</td>\n",
       "      <td>0.0</td>\n",
       "      <td>1.0</td>\n",
       "      <td>0.0</td>\n",
       "      <td>1.0</td>\n",
       "      <td>0.0</td>\n",
       "      <td>0.0</td>\n",
       "      <td>...</td>\n",
       "      <td>0.0</td>\n",
       "      <td>0.0</td>\n",
       "      <td>0.0</td>\n",
       "      <td>1.0</td>\n",
       "      <td>0.0</td>\n",
       "      <td>0.0</td>\n",
       "      <td>0.0</td>\n",
       "      <td>0.0</td>\n",
       "      <td>0.0</td>\n",
       "      <td>0.0</td>\n",
       "    </tr>\n",
       "    <tr>\n",
       "      <th>3</th>\n",
       "      <td>90003_b</td>\n",
       "      <td>[, 冠状动脉造影硬化性心脏病, 急性冠脉综合征, 高血压病]</td>\n",
       "      <td>0.0</td>\n",
       "      <td>0.0</td>\n",
       "      <td>0.0</td>\n",
       "      <td>1.0</td>\n",
       "      <td>0.0</td>\n",
       "      <td>0.0</td>\n",
       "      <td>0.0</td>\n",
       "      <td>1.0</td>\n",
       "      <td>...</td>\n",
       "      <td>0.0</td>\n",
       "      <td>0.0</td>\n",
       "      <td>0.0</td>\n",
       "      <td>0.0</td>\n",
       "      <td>0.0</td>\n",
       "      <td>0.0</td>\n",
       "      <td>0.0</td>\n",
       "      <td>0.0</td>\n",
       "      <td>0.0</td>\n",
       "      <td>0.0</td>\n",
       "    </tr>\n",
       "    <tr>\n",
       "      <th>4</th>\n",
       "      <td>90004_a</td>\n",
       "      <td>[尿毒症, 慢性肾小球肾炎, 腹膜透析, 胸腔积液, 心房颤动伴II度房室传导阻滞, 心功能...</td>\n",
       "      <td>0.0</td>\n",
       "      <td>0.0</td>\n",
       "      <td>0.0</td>\n",
       "      <td>1.0</td>\n",
       "      <td>1.0</td>\n",
       "      <td>0.0</td>\n",
       "      <td>0.0</td>\n",
       "      <td>0.0</td>\n",
       "      <td>...</td>\n",
       "      <td>1.0</td>\n",
       "      <td>0.0</td>\n",
       "      <td>1.0</td>\n",
       "      <td>0.0</td>\n",
       "      <td>0.0</td>\n",
       "      <td>0.0</td>\n",
       "      <td>0.0</td>\n",
       "      <td>0.0</td>\n",
       "      <td>0.0</td>\n",
       "      <td>0.0</td>\n",
       "    </tr>\n",
       "  </tbody>\n",
       "</table>\n",
       "<p>5 rows × 27 columns</p>\n",
       "</div>"
      ],
      "text/plain": [
       "     受试者编号                                               西医诊断  冠心病  肺部感染  糖尿病  \\\n",
       "0  90001_a   [大脑动脉狭窄脑梗死死, 高血压病, 2DM, 脑梗死个人史, 动脉斑块形成, 双侧甲状腺结节]  0.0   0.0  0.0   \n",
       "1  90002_b    [急性前壁心肌梗塞, 冠心病killip, Ⅰ级, 急诊LAD-PCI术, , 2型糖尿病病]  1.0   0.0  1.0   \n",
       "2  90003_a  [肺栓塞, 中低危, , 两肺阴影待查, 高血压病1级, 高危, , 肝功能不全不全, 腔隙...  0.0   0.0  0.0   \n",
       "3  90003_b                    [, 冠状动脉造影硬化性心脏病, 急性冠脉综合征, 高血压病]  0.0   0.0  0.0   \n",
       "4  90004_a  [尿毒症, 慢性肾小球肾炎, 腹膜透析, 胸腔积液, 心房颤动伴II度房室传导阻滞, 心功能...  0.0   0.0  0.0   \n",
       "\n",
       "   高血压  心功能不全  脑梗死   头晕  急性冠脉综合征  ...  胸腔积液  尿路感染  腹膜透析  肝功能不全  高脂血症  慢性支气管炎  \\\n",
       "0  1.0    0.0  1.0  0.0      0.0  ...   0.0   0.0   0.0    0.0   0.0     0.0   \n",
       "1  0.0    0.0  0.0  0.0      0.0  ...   0.0   0.0   0.0    0.0   0.0     0.0   \n",
       "2  1.0    0.0  1.0  0.0      0.0  ...   0.0   0.0   0.0    1.0   0.0     0.0   \n",
       "3  1.0    0.0  0.0  0.0      1.0  ...   0.0   0.0   0.0    0.0   0.0     0.0   \n",
       "4  1.0    1.0  0.0  0.0      0.0  ...   1.0   0.0   1.0    0.0   0.0     0.0   \n",
       "\n",
       "   胆囊结石   早搏  急性肾损伤  心肌梗塞  \n",
       "0   0.0  0.0    0.0   0.0  \n",
       "1   0.0  0.0    0.0   1.0  \n",
       "2   0.0  0.0    0.0   0.0  \n",
       "3   0.0  0.0    0.0   0.0  \n",
       "4   0.0  0.0    0.0   0.0  \n",
       "\n",
       "[5 rows x 27 columns]"
      ]
     },
     "execution_count": 276,
     "metadata": {},
     "output_type": "execute_result"
    }
   ],
   "source": [
    "df_disease.head()"
   ]
  },
  {
   "cell_type": "code",
   "execution_count": 277,
   "metadata": {},
   "outputs": [],
   "source": [
    "df_disease.to_excel(project_path+'/data/processed_data/df_1.5.2_疾病转置.xlsx')"
   ]
  },
  {
   "cell_type": "code",
   "execution_count": 278,
   "metadata": {},
   "outputs": [
    {
     "data": {
      "text/plain": [
       "Index(['受试者编号', '西医诊断', '冠心病', '肺部感染', '糖尿病', '高血压', '心功能不全', '脑梗死', '头晕',\n",
       "       '急性冠脉综合征', '房颤', '肾功能不全', '尿毒症', '脓毒血症', '肺水肿', '肺气肿', '呼吸衰竭', '胸腔积液',\n",
       "       '尿路感染', '腹膜透析', '肝功能不全', '高脂血症', '慢性支气管炎', '胆囊结石', '早搏', '急性肾损伤',\n",
       "       '心肌梗塞'],\n",
       "      dtype='object')"
      ]
     },
     "execution_count": 278,
     "metadata": {},
     "output_type": "execute_result"
    }
   ],
   "source": [
    "df_disease.columns"
   ]
  },
  {
   "cell_type": "markdown",
   "metadata": {},
   "source": [
    "### 疾病归类"
   ]
  },
  {
   "cell_type": "code",
   "execution_count": 279,
   "metadata": {},
   "outputs": [],
   "source": [
    "df_disease_class=df_disease[['受试者编号','冠心病', '肺部感染', '糖尿病', '高血压', '心功能不全', '脑梗死', '头晕', '急性冠脉综合征',\n",
    "                         '房颤', '肾功能不全', '尿毒症', '脓毒血症', '肺水肿', '肺气肿', '呼吸衰竭', '胸腔积液', '尿路感染',\n",
    "                         '腹膜透析', '肝功能不全', '高脂血症', '慢性支气管炎', '胆囊结石', '早搏',\n",
    "                         '急性肾损伤', '心肌梗塞']]"
   ]
  },
  {
   "cell_type": "code",
   "execution_count": 280,
   "metadata": {},
   "outputs": [
    {
     "data": {
      "text/plain": [
       "'\\n心血管疾病：高血压、冠心病、心肌梗塞、急性冠脉综合征、心功能不全、房颤、早搏\\n呼吸系统疾病：肺部感染、呼吸衰竭、胸腔积液、肺水肿、慢性支气管炎、肺气肿\\n神经系统疾病：脑梗死、头晕\\n泌尿系统疾病：肾功能不全、急性肾损伤、尿毒症、腹膜透析、尿路感染\\n内分泌和代谢疾病：糖尿病、高脂血症\\n消化系统疾病：肝功能不全、胆囊结石\\n危重症疾病：脓毒血症\\n'"
      ]
     },
     "execution_count": 280,
     "metadata": {},
     "output_type": "execute_result"
    }
   ],
   "source": [
    "'''\n",
    "心血管疾病：高血压、冠心病、心肌梗塞、急性冠脉综合征、心功能不全、房颤、早搏\n",
    "呼吸系统疾病：肺部感染、呼吸衰竭、胸腔积液、肺水肿、慢性支气管炎、肺气肿\n",
    "神经系统疾病：脑梗死、头晕\n",
    "泌尿系统疾病：肾功能不全、急性肾损伤、尿毒症、腹膜透析、尿路感染\n",
    "内分泌和代谢疾病：糖尿病、高脂血症\n",
    "消化系统疾病：肝功能不全、胆囊结石\n",
    "危重症疾病：脓毒血症\n",
    "'''"
   ]
  },
  {
   "cell_type": "code",
   "execution_count": 281,
   "metadata": {},
   "outputs": [],
   "source": [
    "for i in range(df_disease_class.shape[0]):\n",
    "    # 心血管疾病\n",
    "    if df_disease_class.loc[i,['高血压','冠心病','心肌梗塞','急性冠脉综合征','心功能不全','房颤','早搏']].sum() >=1:\n",
    "        df_disease_class.loc[i,'心血管疾病_label']=1\n",
    "    else:\n",
    "        df_disease_class.loc[i,'心血管疾病_label']=0\n",
    "     # 呼吸系统疾病\n",
    "    if df_disease_class.loc[i,['肺部感染','呼吸衰竭','胸腔积液','肺水肿','慢性支气管炎','肺气肿']].sum() >=1:\n",
    "        df_disease_class.loc[i,'呼吸系统疾病_label']=1\n",
    "    else:\n",
    "        df_disease_class.loc[i,'呼吸系统疾病_label']=0\n",
    "     # 神经系统疾病\n",
    "    if df_disease_class.loc[i,['脑梗死','头晕']].sum() >=1:\n",
    "        df_disease_class.loc[i,'神经系统疾病_label']=1\n",
    "    else:\n",
    "        df_disease_class.loc[i,'神经系统疾病_label']=0\n",
    "     # 泌尿系统疾病\n",
    "    if df_disease_class.loc[i,['肾功能不全','急性肾损伤','尿毒症','腹膜透析','尿路感染']].sum() >=1:\n",
    "        df_disease_class.loc[i,'泌尿系统疾病_label']=1\n",
    "    else:\n",
    "        df_disease_class.loc[i,'泌尿系统疾病_label']=0\n",
    "     # 内分泌和代谢疾病\n",
    "    if df_disease_class.loc[i,['糖尿病','高脂血症']].sum() >=1:\n",
    "        df_disease_class.loc[i,'内分泌和代谢疾病_label']=1\n",
    "    else:\n",
    "        df_disease_class.loc[i,'内分泌和代谢疾病_label']=0\n",
    "     # 消化系统疾病\n",
    "    if df_disease_class.loc[i,['肝功能不全','胆囊结石']].sum() >=1:\n",
    "        df_disease_class.loc[i,'消化系统疾病_label']=1\n",
    "    else:\n",
    "        df_disease_class.loc[i,'消化系统疾病_label']=0\n",
    "     # 危重症疾病\n",
    "    if df_disease_class.loc[i,['脓毒血症']].sum() >=1:\n",
    "        df_disease_class.loc[i,'危重症疾病_label']=1\n",
    "    else:\n",
    "        df_disease_class.loc[i,'危重症疾病_label']=0"
   ]
  },
  {
   "cell_type": "code",
   "execution_count": 282,
   "metadata": {},
   "outputs": [
    {
     "data": {
      "text/plain": [
       "(739, 33)"
      ]
     },
     "execution_count": 282,
     "metadata": {},
     "output_type": "execute_result"
    }
   ],
   "source": [
    "df_disease_class.shape"
   ]
  },
  {
   "cell_type": "code",
   "execution_count": 283,
   "metadata": {},
   "outputs": [],
   "source": [
    "# 删除细分疾病变量\n",
    "df_disease_class=df_disease_class.drop(disease_name,axis=1)"
   ]
  },
  {
   "cell_type": "code",
   "execution_count": 284,
   "metadata": {},
   "outputs": [
    {
     "data": {
      "text/plain": [
       "(739, 8)"
      ]
     },
     "execution_count": 284,
     "metadata": {},
     "output_type": "execute_result"
    }
   ],
   "source": [
    "df_disease_class.shape"
   ]
  },
  {
   "cell_type": "code",
   "execution_count": 285,
   "metadata": {},
   "outputs": [],
   "source": [
    "df_disease_class.to_excel(project_path+'/data/processed_data/df_1.5.3_疾病归类.xlsx')"
   ]
  },
  {
   "cell_type": "markdown",
   "metadata": {},
   "source": [
    "### 并入疾病"
   ]
  },
  {
   "cell_type": "code",
   "execution_count": 286,
   "metadata": {},
   "outputs": [],
   "source": [
    "df_SUP_disease=pd.merge(df_SUP_drug,df_disease_class,on='受试者编号',how='left')"
   ]
  },
  {
   "cell_type": "code",
   "execution_count": 287,
   "metadata": {},
   "outputs": [
    {
     "data": {
      "text/plain": [
       "(733, 16)"
      ]
     },
     "execution_count": 287,
     "metadata": {},
     "output_type": "execute_result"
    }
   ],
   "source": [
    "df_SUP_disease.shape"
   ]
  },
  {
   "cell_type": "code",
   "execution_count": 288,
   "metadata": {
    "scrolled": true
   },
   "outputs": [
    {
     "data": {
      "text/plain": [
       "受试者编号             False\n",
       "出院诊断               True\n",
       "主要疾病转归_描述         False\n",
       "用药开始时间            False\n",
       "用药结束时间            False\n",
       "用药天数              False\n",
       "EXDOSFRQ          False\n",
       "EXDSTXT           False\n",
       "日剂量               False\n",
       "心血管疾病_label        True\n",
       "呼吸系统疾病_label       True\n",
       "神经系统疾病_label       True\n",
       "泌尿系统疾病_label       True\n",
       "内分泌和代谢疾病_label     True\n",
       "消化系统疾病_label       True\n",
       "危重症疾病_label        True\n",
       "dtype: bool"
      ]
     },
     "execution_count": 288,
     "metadata": {},
     "output_type": "execute_result"
    }
   ],
   "source": [
    "df_SUP_disease.isnull().any()"
   ]
  },
  {
   "cell_type": "code",
   "execution_count": 289,
   "metadata": {},
   "outputs": [],
   "source": [
    "df_SUP_disease.to_excel(project_path+'/data/processed_data/df_1.5.4_并入疾病.xlsx')"
   ]
  },
  {
   "cell_type": "code",
   "execution_count": 290,
   "metadata": {},
   "outputs": [
    {
     "data": {
      "text/plain": [
       "40.0     408\n",
       "60.0     185\n",
       "30.0     106\n",
       "50.0      20\n",
       "20.0      11\n",
       "10.0       2\n",
       "120.0      1\n",
       "Name: 日剂量, dtype: int64"
      ]
     },
     "execution_count": 290,
     "metadata": {},
     "output_type": "execute_result"
    }
   ],
   "source": [
    "df_SUP_disease['日剂量'].value_counts()"
   ]
  },
  {
   "cell_type": "markdown",
   "metadata": {},
   "source": [
    "### 统计疾病"
   ]
  },
  {
   "cell_type": "code",
   "execution_count": 291,
   "metadata": {},
   "outputs": [
    {
     "data": {
      "text/plain": [
       "'\\n心血管疾病：高血压、冠心病、心肌梗塞、急性冠脉综合征、心功能不全、房颤、早搏\\n呼吸系统疾病：肺部感染、呼吸衰竭、胸腔积液、肺水肿、慢性支气管炎、肺气肿\\n神经系统疾病：脑梗死、头晕\\n泌尿系统疾病：肾功能不全、急性肾损伤、尿毒症、腹膜透析、尿路感染\\n内分泌和代谢疾病：糖尿病、高脂血症\\n消化系统疾病：肝功能不全、胆囊结石\\n危重症疾病：脓毒血症\\n'"
      ]
     },
     "execution_count": 291,
     "metadata": {},
     "output_type": "execute_result"
    }
   ],
   "source": [
    "'''\n",
    "心血管疾病：高血压、冠心病、心肌梗塞、急性冠脉综合征、心功能不全、房颤、早搏\n",
    "呼吸系统疾病：肺部感染、呼吸衰竭、胸腔积液、肺水肿、慢性支气管炎、肺气肿\n",
    "神经系统疾病：脑梗死、头晕\n",
    "泌尿系统疾病：肾功能不全、急性肾损伤、尿毒症、腹膜透析、尿路感染\n",
    "内分泌和代谢疾病：糖尿病、高脂血症\n",
    "消化系统疾病：肝功能不全、胆囊结石\n",
    "危重症疾病：脓毒血症\n",
    "'''"
   ]
  },
  {
   "cell_type": "code",
   "execution_count": 292,
   "metadata": {},
   "outputs": [],
   "source": [
    "disease_class_list=['心血管疾病','呼吸系统疾病','神经系统疾病','泌尿系统疾病','内分泌和代谢疾病','消化系统疾病','危重症疾病']"
   ]
  },
  {
   "cell_type": "code",
   "execution_count": 293,
   "metadata": {},
   "outputs": [
    {
     "name": "stdout",
     "output_type": "stream",
     "text": [
      "1.0    573\n",
      "0.0    154\n",
      "Name: 心血管疾病_label, dtype: int64\n",
      "0.0    509\n",
      "1.0    218\n",
      "Name: 呼吸系统疾病_label, dtype: int64\n",
      "0.0    467\n",
      "1.0    260\n",
      "Name: 神经系统疾病_label, dtype: int64\n",
      "0.0    624\n",
      "1.0    103\n",
      "Name: 泌尿系统疾病_label, dtype: int64\n",
      "0.0    516\n",
      "1.0    211\n",
      "Name: 内分泌和代谢疾病_label, dtype: int64\n",
      "0.0    688\n",
      "1.0     39\n",
      "Name: 消化系统疾病_label, dtype: int64\n",
      "0.0    701\n",
      "1.0     26\n",
      "Name: 危重症疾病_label, dtype: int64\n"
     ]
    }
   ],
   "source": [
    "for i in disease_class_list:\n",
    "    print(df_SUP_disease[i+'_label'].value_counts())"
   ]
  },
  {
   "cell_type": "markdown",
   "metadata": {},
   "source": [
    "### 提取心血管疾病患者"
   ]
  },
  {
   "cell_type": "code",
   "execution_count": 294,
   "metadata": {},
   "outputs": [],
   "source": [
    "df_SUP_disease_select=df_SUP_disease[df_SUP_disease['心血管疾病_label']==1]"
   ]
  },
  {
   "cell_type": "code",
   "execution_count": 295,
   "metadata": {},
   "outputs": [
    {
     "data": {
      "text/plain": [
       "(573, 16)"
      ]
     },
     "execution_count": 295,
     "metadata": {},
     "output_type": "execute_result"
    }
   ],
   "source": [
    "df_SUP_disease_select.shape"
   ]
  },
  {
   "cell_type": "code",
   "execution_count": 296,
   "metadata": {},
   "outputs": [],
   "source": [
    "df_SUP_disease_select.to_excel(project_path+'/data/processed_data/df_1.5.6_提取心血管疾病患者.xlsx')"
   ]
  },
  {
   "cell_type": "markdown",
   "metadata": {},
   "source": [
    "## 统计用药时长和出入院时长"
   ]
  },
  {
   "cell_type": "markdown",
   "metadata": {},
   "source": [
    "### 提取入院时间"
   ]
  },
  {
   "cell_type": "code",
   "execution_count": 297,
   "metadata": {},
   "outputs": [],
   "source": [
    "# 其他科 VD_住院日期\n",
    "df_入院时间_1 = pd.read_excel(project_path+'/data/raw_data/导出全部CRF表数据-其他科1021.xlsx',\n",
    "                            sheet_name='VD_住院日期',\n",
    "                           header=1,)  # 指定第2行作为标题行\n",
    "#                            skiprows=[1,1,1])  # 跳过第1行\n",
    "\n",
    "df_入院时间_1['受试者编号']=df_入院时间_1['受试者编号'].apply(lambda x: str(x)+'_a')\n",
    "df_入院时间_1=df_入院时间_1[['受试者编号','住院日期']]"
   ]
  },
  {
   "cell_type": "code",
   "execution_count": 298,
   "metadata": {},
   "outputs": [
    {
     "data": {
      "text/plain": [
       "(645, 2)"
      ]
     },
     "execution_count": 298,
     "metadata": {},
     "output_type": "execute_result"
    }
   ],
   "source": [
    "df_入院时间_1.shape"
   ]
  },
  {
   "cell_type": "code",
   "execution_count": 299,
   "metadata": {},
   "outputs": [],
   "source": [
    "# 心内科入院时间\n",
    "df_入院时间_2 = pd.read_excel(project_path+'/data/raw_data/导出全部CRF表数据-心内科1021.xlsx',\n",
    "                            sheet_name='VD_住院日期',\n",
    "                           header=1,)  # 指定第2行作为标题行\n",
    "#                            skiprows=[1,1,1])  # 跳过第几行)\n",
    "\n",
    "df_入院时间_2['受试者编号']=df_入院时间_2['受试者编号'].apply(lambda x: str(x)+'_b')\n",
    "df_入院时间_2=df_入院时间_2[['受试者编号','住院日期']]"
   ]
  },
  {
   "cell_type": "code",
   "execution_count": 300,
   "metadata": {},
   "outputs": [
    {
     "data": {
      "text/plain": [
       "(105, 2)"
      ]
     },
     "execution_count": 300,
     "metadata": {},
     "output_type": "execute_result"
    }
   ],
   "source": [
    "df_入院时间_2.shape"
   ]
  },
  {
   "cell_type": "code",
   "execution_count": 301,
   "metadata": {},
   "outputs": [],
   "source": [
    "df_入院时间=pd.concat([df_入院时间_1,df_入院时间_2],axis=0)"
   ]
  },
  {
   "cell_type": "code",
   "execution_count": 302,
   "metadata": {},
   "outputs": [
    {
     "data": {
      "text/html": [
       "<div>\n",
       "<style scoped>\n",
       "    .dataframe tbody tr th:only-of-type {\n",
       "        vertical-align: middle;\n",
       "    }\n",
       "\n",
       "    .dataframe tbody tr th {\n",
       "        vertical-align: top;\n",
       "    }\n",
       "\n",
       "    .dataframe thead th {\n",
       "        text-align: right;\n",
       "    }\n",
       "</style>\n",
       "<table border=\"1\" class=\"dataframe\">\n",
       "  <thead>\n",
       "    <tr style=\"text-align: right;\">\n",
       "      <th></th>\n",
       "      <th>受试者编号</th>\n",
       "      <th>住院日期</th>\n",
       "    </tr>\n",
       "  </thead>\n",
       "  <tbody>\n",
       "    <tr>\n",
       "      <th>0</th>\n",
       "      <td>90001_a</td>\n",
       "      <td>2018-04-03</td>\n",
       "    </tr>\n",
       "    <tr>\n",
       "      <th>1</th>\n",
       "      <td>90002_a</td>\n",
       "      <td>2018-07-17</td>\n",
       "    </tr>\n",
       "    <tr>\n",
       "      <th>2</th>\n",
       "      <td>90003_a</td>\n",
       "      <td>2018-01-31</td>\n",
       "    </tr>\n",
       "    <tr>\n",
       "      <th>3</th>\n",
       "      <td>90004_a</td>\n",
       "      <td>2018-01-26</td>\n",
       "    </tr>\n",
       "    <tr>\n",
       "      <th>4</th>\n",
       "      <td>90005_a</td>\n",
       "      <td>2018-02-07</td>\n",
       "    </tr>\n",
       "    <tr>\n",
       "      <th>...</th>\n",
       "      <td>...</td>\n",
       "      <td>...</td>\n",
       "    </tr>\n",
       "    <tr>\n",
       "      <th>100</th>\n",
       "      <td>90101_b</td>\n",
       "      <td>2019-05-08</td>\n",
       "    </tr>\n",
       "    <tr>\n",
       "      <th>101</th>\n",
       "      <td>90102_b</td>\n",
       "      <td>2019-01-18</td>\n",
       "    </tr>\n",
       "    <tr>\n",
       "      <th>102</th>\n",
       "      <td>90103_b</td>\n",
       "      <td>2019-08-15</td>\n",
       "    </tr>\n",
       "    <tr>\n",
       "      <th>103</th>\n",
       "      <td>90104_b</td>\n",
       "      <td>2019-08-05</td>\n",
       "    </tr>\n",
       "    <tr>\n",
       "      <th>104</th>\n",
       "      <td>90105_b</td>\n",
       "      <td>2019-08-22</td>\n",
       "    </tr>\n",
       "  </tbody>\n",
       "</table>\n",
       "<p>750 rows × 2 columns</p>\n",
       "</div>"
      ],
      "text/plain": [
       "       受试者编号        住院日期\n",
       "0    90001_a  2018-04-03\n",
       "1    90002_a  2018-07-17\n",
       "2    90003_a  2018-01-31\n",
       "3    90004_a  2018-01-26\n",
       "4    90005_a  2018-02-07\n",
       "..       ...         ...\n",
       "100  90101_b  2019-05-08\n",
       "101  90102_b  2019-01-18\n",
       "102  90103_b  2019-08-15\n",
       "103  90104_b  2019-08-05\n",
       "104  90105_b  2019-08-22\n",
       "\n",
       "[750 rows x 2 columns]"
      ]
     },
     "execution_count": 302,
     "metadata": {},
     "output_type": "execute_result"
    }
   ],
   "source": [
    "df_入院时间"
   ]
  },
  {
   "cell_type": "code",
   "execution_count": 303,
   "metadata": {},
   "outputs": [
    {
     "data": {
      "text/plain": [
       "(750, 2)"
      ]
     },
     "execution_count": 303,
     "metadata": {},
     "output_type": "execute_result"
    }
   ],
   "source": [
    "df_入院时间.shape"
   ]
  },
  {
   "cell_type": "code",
   "execution_count": 304,
   "metadata": {},
   "outputs": [],
   "source": [
    "df_入院时间.to_excel(project_path+'/data/processed_data/df_1.6.1_提取入院时间.xlsx')"
   ]
  },
  {
   "cell_type": "markdown",
   "metadata": {},
   "source": [
    "### 提取出院时间"
   ]
  },
  {
   "cell_type": "code",
   "execution_count": 305,
   "metadata": {},
   "outputs": [],
   "source": [
    "# 其他科 VD_住院日期\n",
    "df_出院时间_1 = pd.read_excel(project_path+'/data/raw_data/导出全部CRF表数据-其他科1021.xlsx',\n",
    "                            sheet_name='DS_出院情况',\n",
    "                           header=1,)  # 指定第2行作为标题行\n",
    "#                            skiprows=[1,1,1])  # 跳过第1行\n",
    "\n",
    "df_出院时间_1['受试者编号']=df_出院时间_1['受试者编号'].apply(lambda x: str(x)+'_a')\n",
    "df_出院时间_1=df_出院时间_1[['受试者编号','完成日期']]"
   ]
  },
  {
   "cell_type": "code",
   "execution_count": 306,
   "metadata": {},
   "outputs": [
    {
     "data": {
      "text/plain": [
       "(644, 2)"
      ]
     },
     "execution_count": 306,
     "metadata": {},
     "output_type": "execute_result"
    }
   ],
   "source": [
    "df_出院时间_1.shape"
   ]
  },
  {
   "cell_type": "code",
   "execution_count": 307,
   "metadata": {},
   "outputs": [],
   "source": [
    "# 心内科入院时间\n",
    "df_出院时间_2 = pd.read_excel(project_path+'/data/raw_data/导出全部CRF表数据-心内科1021.xlsx',\n",
    "                            sheet_name='DS_出院情况',\n",
    "                           header=1,)  # 指定第2行作为标题行\n",
    "#                            skiprows=[1,1,1])  # 跳过第几行)\n",
    "\n",
    "df_出院时间_2['受试者编号']=df_出院时间_2['受试者编号'].apply(lambda x: str(x)+'_b')\n",
    "df_出院时间_2=df_出院时间_2[['受试者编号','完成日期']]"
   ]
  },
  {
   "cell_type": "code",
   "execution_count": 308,
   "metadata": {},
   "outputs": [
    {
     "data": {
      "text/plain": [
       "(105, 2)"
      ]
     },
     "execution_count": 308,
     "metadata": {},
     "output_type": "execute_result"
    }
   ],
   "source": [
    "df_出院时间_2.shape"
   ]
  },
  {
   "cell_type": "code",
   "execution_count": 309,
   "metadata": {},
   "outputs": [],
   "source": [
    "df_出院时间 = pd.concat([df_出院时间_1,df_出院时间_2],axis=0)"
   ]
  },
  {
   "cell_type": "code",
   "execution_count": 310,
   "metadata": {},
   "outputs": [
    {
     "data": {
      "text/plain": [
       "(749, 2)"
      ]
     },
     "execution_count": 310,
     "metadata": {},
     "output_type": "execute_result"
    }
   ],
   "source": [
    "df_出院时间.shape"
   ]
  },
  {
   "cell_type": "code",
   "execution_count": 311,
   "metadata": {},
   "outputs": [],
   "source": [
    "df_出院时间.to_excel(project_path+'/data/processed_data/df_1.6.2_提取出院时间.xlsx')"
   ]
  },
  {
   "cell_type": "markdown",
   "metadata": {},
   "source": [
    "### 合并住院时间"
   ]
  },
  {
   "cell_type": "code",
   "execution_count": 312,
   "metadata": {},
   "outputs": [],
   "source": [
    "df_住院时间 = pd.merge(df_入院时间,df_出院时间,on='受试者编号',how='left')"
   ]
  },
  {
   "cell_type": "code",
   "execution_count": 313,
   "metadata": {},
   "outputs": [
    {
     "data": {
      "text/plain": [
       "(750, 3)"
      ]
     },
     "execution_count": 313,
     "metadata": {},
     "output_type": "execute_result"
    }
   ],
   "source": [
    "df_住院时间.shape"
   ]
  },
  {
   "cell_type": "code",
   "execution_count": 314,
   "metadata": {},
   "outputs": [
    {
     "data": {
      "text/plain": [
       "Index(['受试者编号', '住院日期', '完成日期'], dtype='object')"
      ]
     },
     "execution_count": 314,
     "metadata": {},
     "output_type": "execute_result"
    }
   ],
   "source": [
    "df_住院时间.columns"
   ]
  },
  {
   "cell_type": "code",
   "execution_count": 315,
   "metadata": {},
   "outputs": [],
   "source": [
    "df_住院时间.to_excel(project_path+'/data/processed_data/df_1.6.3_合并住院时间.xlsx')"
   ]
  },
  {
   "cell_type": "markdown",
   "metadata": {},
   "source": [
    "### 并入用药-计算住院时长"
   ]
  },
  {
   "cell_type": "code",
   "execution_count": 316,
   "metadata": {},
   "outputs": [],
   "source": [
    "# 并入住院时间\n",
    "df_SUP_inp=pd.merge(df_SUP_disease_select,df_住院时间,on='受试者编号',how='left')"
   ]
  },
  {
   "cell_type": "code",
   "execution_count": 317,
   "metadata": {},
   "outputs": [
    {
     "data": {
      "text/plain": [
       "(573, 18)"
      ]
     },
     "execution_count": 317,
     "metadata": {},
     "output_type": "execute_result"
    }
   ],
   "source": [
    "df_SUP_inp.shape"
   ]
  },
  {
   "cell_type": "code",
   "execution_count": 318,
   "metadata": {},
   "outputs": [
    {
     "data": {
      "text/plain": [
       "Index(['受试者编号', '出院诊断', '主要疾病转归_描述', '用药开始时间', '用药结束时间', '用药天数', 'EXDOSFRQ',\n",
       "       'EXDSTXT', '日剂量', '心血管疾病_label', '呼吸系统疾病_label', '神经系统疾病_label',\n",
       "       '泌尿系统疾病_label', '内分泌和代谢疾病_label', '消化系统疾病_label', '危重症疾病_label', '住院日期',\n",
       "       '完成日期'],\n",
       "      dtype='object')"
      ]
     },
     "execution_count": 318,
     "metadata": {},
     "output_type": "execute_result"
    }
   ],
   "source": [
    "df_SUP_inp.columns"
   ]
  },
  {
   "cell_type": "code",
   "execution_count": 319,
   "metadata": {},
   "outputs": [],
   "source": [
    "# 补充住院时间\n",
    "aaa=df_SUP_inp[df_SUP_inp['住院日期'].isnull()]\n",
    "bbb=df_SUP_inp[df_SUP_inp['住院日期'].notnull()]\n",
    "aaa['住院日期']=aaa['用药开始时间']\n",
    "df_SUP_inp=pd.concat([aaa,bbb],axis=0)\n",
    "df_SUP_inp=df_SUP_inp.sort_values(by=['受试者编号','用药开始时间'])\n",
    "df_SUP_inp=df_SUP_inp.reset_index(drop=True)"
   ]
  },
  {
   "cell_type": "code",
   "execution_count": 320,
   "metadata": {},
   "outputs": [
    {
     "data": {
      "text/plain": [
       "受试者编号             False\n",
       "出院诊断              False\n",
       "主要疾病转归_描述         False\n",
       "用药开始时间            False\n",
       "用药结束时间            False\n",
       "用药天数              False\n",
       "EXDOSFRQ          False\n",
       "EXDSTXT           False\n",
       "日剂量               False\n",
       "心血管疾病_label       False\n",
       "呼吸系统疾病_label      False\n",
       "神经系统疾病_label      False\n",
       "泌尿系统疾病_label      False\n",
       "内分泌和代谢疾病_label    False\n",
       "消化系统疾病_label      False\n",
       "危重症疾病_label       False\n",
       "住院日期              False\n",
       "完成日期               True\n",
       "dtype: bool"
      ]
     },
     "execution_count": 320,
     "metadata": {},
     "output_type": "execute_result"
    }
   ],
   "source": [
    "df_SUP_inp.isnull().any()"
   ]
  },
  {
   "cell_type": "code",
   "execution_count": 321,
   "metadata": {},
   "outputs": [],
   "source": [
    "df_SUP_inp.to_excel(project_path+'/data/processed_data/df_1.6.4_temp_补充入院时间.xlsx')"
   ]
  },
  {
   "cell_type": "code",
   "execution_count": 322,
   "metadata": {},
   "outputs": [
    {
     "data": {
      "text/plain": [
       "Index(['受试者编号', '出院诊断', '主要疾病转归_描述', '用药开始时间', '用药结束时间', '用药天数', 'EXDOSFRQ',\n",
       "       'EXDSTXT', '日剂量', '心血管疾病_label', '呼吸系统疾病_label', '神经系统疾病_label',\n",
       "       '泌尿系统疾病_label', '内分泌和代谢疾病_label', '消化系统疾病_label', '危重症疾病_label', '住院日期',\n",
       "       '完成日期'],\n",
       "      dtype='object')"
      ]
     },
     "execution_count": 322,
     "metadata": {},
     "output_type": "execute_result"
    }
   ],
   "source": [
    "df_SUP_inp.columns"
   ]
  },
  {
   "cell_type": "code",
   "execution_count": 323,
   "metadata": {},
   "outputs": [
    {
     "name": "stderr",
     "output_type": "stream",
     "text": [
      "D:\\Anaconda3\\lib\\site-packages\\ipykernel_launcher.py:4: SettingWithCopyWarning: \n",
      "A value is trying to be set on a copy of a slice from a DataFrame.\n",
      "Try using .loc[row_indexer,col_indexer] = value instead\n",
      "\n",
      "See the caveats in the documentation: https://pandas.pydata.org/pandas-docs/stable/user_guide/indexing.html#returning-a-view-versus-a-copy\n",
      "  after removing the cwd from sys.path.\n"
     ]
    }
   ],
   "source": [
    "# 补充出院时间\n",
    "aaa=df_SUP_inp[df_SUP_inp['完成日期'].isnull()]\n",
    "bbb=df_SUP_inp[df_SUP_inp['完成日期'].notnull()]\n",
    "aaa['完成日期']=aaa['用药结束时间']\n",
    "df_SUP_inp=pd.concat([aaa,bbb],axis=0)\n",
    "df_SUP_inp=df_SUP_inp.sort_values(by=['受试者编号','用药开始时间'])\n",
    "df_SUP_inp=df_SUP_inp.reset_index(drop=True)"
   ]
  },
  {
   "cell_type": "code",
   "execution_count": 324,
   "metadata": {},
   "outputs": [
    {
     "data": {
      "text/plain": [
       "受试者编号             False\n",
       "出院诊断              False\n",
       "主要疾病转归_描述         False\n",
       "用药开始时间            False\n",
       "用药结束时间            False\n",
       "用药天数              False\n",
       "EXDOSFRQ          False\n",
       "EXDSTXT           False\n",
       "日剂量               False\n",
       "心血管疾病_label       False\n",
       "呼吸系统疾病_label      False\n",
       "神经系统疾病_label      False\n",
       "泌尿系统疾病_label      False\n",
       "内分泌和代谢疾病_label    False\n",
       "消化系统疾病_label      False\n",
       "危重症疾病_label       False\n",
       "住院日期              False\n",
       "完成日期              False\n",
       "dtype: bool"
      ]
     },
     "execution_count": 324,
     "metadata": {},
     "output_type": "execute_result"
    }
   ],
   "source": [
    "df_SUP_inp.isnull().any()"
   ]
  },
  {
   "cell_type": "code",
   "execution_count": 325,
   "metadata": {},
   "outputs": [],
   "source": [
    "df_SUP_inp.to_excel(project_path+'/data/processed_data/df_1.6.4_temp_补充出院时间.xlsx')"
   ]
  },
  {
   "cell_type": "code",
   "execution_count": 326,
   "metadata": {},
   "outputs": [],
   "source": [
    "df_SUP_inp['住院时长']=(pd.to_datetime(df_SUP_inp['完成日期']) - pd.to_datetime(df_SUP_inp['住院日期']))\n",
    "df_SUP_inp['住院时长']=df_SUP_inp['住院时长'].apply(lambda x:x.days+1)"
   ]
  },
  {
   "cell_type": "code",
   "execution_count": 327,
   "metadata": {},
   "outputs": [
    {
     "data": {
      "text/plain": [
       "(573, 19)"
      ]
     },
     "execution_count": 327,
     "metadata": {},
     "output_type": "execute_result"
    }
   ],
   "source": [
    "df_SUP_inp.shape"
   ]
  },
  {
   "cell_type": "code",
   "execution_count": 328,
   "metadata": {},
   "outputs": [],
   "source": [
    "df_SUP_inp.to_excel(project_path+'/data/processed_data/df_1.6.4_计算住院时长.xlsx')"
   ]
  },
  {
   "cell_type": "markdown",
   "metadata": {},
   "source": [
    "### 出院前3天内用药筛选"
   ]
  },
  {
   "cell_type": "code",
   "execution_count": 329,
   "metadata": {},
   "outputs": [],
   "source": [
    "# 统计出院前1天的用药\n",
    "df_SUP_oup_1d=df_SUP_inp[(pd.to_datetime(df_SUP_inp['用药结束时间'])>=pd.to_datetime(df_SUP_inp['完成日期'])-datetime.timedelta(days=1))&\n",
    "    (pd.to_datetime(df_SUP_inp['用药开始时间'])<=pd.to_datetime(df_SUP_inp['完成日期'])-datetime.timedelta(days=1))]"
   ]
  },
  {
   "cell_type": "code",
   "execution_count": 330,
   "metadata": {},
   "outputs": [
    {
     "data": {
      "text/plain": [
       "(324, 19)"
      ]
     },
     "execution_count": 330,
     "metadata": {},
     "output_type": "execute_result"
    }
   ],
   "source": [
    "df_SUP_oup_1d.shape"
   ]
  },
  {
   "cell_type": "code",
   "execution_count": 331,
   "metadata": {},
   "outputs": [],
   "source": [
    "# 统计出院前2天的用药\n",
    "df_SUP_oup_2d=df_SUP_inp[(pd.to_datetime(df_SUP_inp['用药结束时间'])>=pd.to_datetime(df_SUP_inp['完成日期'])-datetime.timedelta(days=1))&\n",
    "    (pd.to_datetime(df_SUP_inp['用药开始时间'])<=pd.to_datetime(df_SUP_inp['完成日期'])-datetime.timedelta(days=2))]"
   ]
  },
  {
   "cell_type": "code",
   "execution_count": 332,
   "metadata": {},
   "outputs": [
    {
     "data": {
      "text/plain": [
       "(308, 19)"
      ]
     },
     "execution_count": 332,
     "metadata": {},
     "output_type": "execute_result"
    }
   ],
   "source": [
    "df_SUP_oup_2d.shape"
   ]
  },
  {
   "cell_type": "code",
   "execution_count": 333,
   "metadata": {},
   "outputs": [],
   "source": [
    "# 统计出院前3天的用药\n",
    "df_SUP_oup_3d=df_SUP_inp[(pd.to_datetime(df_SUP_inp['用药结束时间'])>=pd.to_datetime(df_SUP_inp['完成日期'])-datetime.timedelta(days=1))&\n",
    "    (pd.to_datetime(df_SUP_inp['用药开始时间'])<=pd.to_datetime(df_SUP_inp['完成日期'])-datetime.timedelta(days=3))]"
   ]
  },
  {
   "cell_type": "code",
   "execution_count": 334,
   "metadata": {},
   "outputs": [
    {
     "data": {
      "text/plain": [
       "(298, 19)"
      ]
     },
     "execution_count": 334,
     "metadata": {},
     "output_type": "execute_result"
    }
   ],
   "source": [
    "df_SUP_oup_3d.shape"
   ]
  },
  {
   "cell_type": "code",
   "execution_count": 335,
   "metadata": {
    "scrolled": true
   },
   "outputs": [],
   "source": [
    "df_SUP_oup_3d.to_excel(project_path+'/data/processed_data/df_1.6.5_出院前3d_用药.xlsx')"
   ]
  },
  {
   "cell_type": "code",
   "execution_count": 336,
   "metadata": {},
   "outputs": [],
   "source": [
    "# 统计出院前4天的用药\n",
    "df_SUP_oup_4d=df_SUP_inp[(pd.to_datetime(df_SUP_inp['用药结束时间'])>=pd.to_datetime(df_SUP_inp['完成日期'])-datetime.timedelta(days=1))&\n",
    "    (pd.to_datetime(df_SUP_inp['用药开始时间'])<=pd.to_datetime(df_SUP_inp['完成日期'])-datetime.timedelta(days=4))]"
   ]
  },
  {
   "cell_type": "code",
   "execution_count": 337,
   "metadata": {},
   "outputs": [
    {
     "data": {
      "text/plain": [
       "(279, 19)"
      ]
     },
     "execution_count": 337,
     "metadata": {},
     "output_type": "execute_result"
    }
   ],
   "source": [
    "df_SUP_oup_4d.shape"
   ]
  },
  {
   "cell_type": "markdown",
   "metadata": {},
   "source": [
    "## 提取人口学特征"
   ]
  },
  {
   "cell_type": "code",
   "execution_count": 338,
   "metadata": {},
   "outputs": [],
   "source": [
    "df_gender_age_1=pd.read_excel(project_path + '/data/raw_data/导出全部CRF表数据-其他科1021.xlsx',sheet_name='DM_人口学资料',header=1)\n",
    "\n",
    "df_gender_age_2=pd.read_excel(project_path + '/data/raw_data/导出全部CRF表数据-心内科1021.xlsx',sheet_name='DM_人口学资料',header=1)\n",
    "\n",
    "df_gender_age_1['受试者编号']=df_gender_age_1['受试者编号'].astype('str')+'_'+'a'\n",
    "df_gender_age_2['受试者编号']=df_gender_age_2['受试者编号'].astype('str')+'_'+'b'\n",
    "df_gender_age=pd.concat([df_gender_age_1,df_gender_age_2],axis=0)\n",
    "df_gender_age=df_gender_age.reset_index(drop=True)"
   ]
  },
  {
   "cell_type": "code",
   "execution_count": 339,
   "metadata": {},
   "outputs": [
    {
     "name": "stdout",
     "output_type": "stream",
     "text": [
      "(642, 22)\n",
      "(104, 22)\n"
     ]
    }
   ],
   "source": [
    "print(df_gender_age_1.shape)\n",
    "print(df_gender_age_2.shape)"
   ]
  },
  {
   "cell_type": "code",
   "execution_count": 340,
   "metadata": {},
   "outputs": [],
   "source": [
    "df_gender_age=df_gender_age[df_gender_age['受试者编号'].notnull()]\n",
    "df_gender_age=df_gender_age.reset_index(drop=True)"
   ]
  },
  {
   "cell_type": "code",
   "execution_count": 341,
   "metadata": {},
   "outputs": [
    {
     "data": {
      "text/plain": [
       "(746, 22)"
      ]
     },
     "execution_count": 341,
     "metadata": {},
     "output_type": "execute_result"
    }
   ],
   "source": [
    "df_gender_age.shape"
   ]
  },
  {
   "cell_type": "code",
   "execution_count": 342,
   "metadata": {},
   "outputs": [
    {
     "data": {
      "text/html": [
       "<div>\n",
       "<style scoped>\n",
       "    .dataframe tbody tr th:only-of-type {\n",
       "        vertical-align: middle;\n",
       "    }\n",
       "\n",
       "    .dataframe tbody tr th {\n",
       "        vertical-align: top;\n",
       "    }\n",
       "\n",
       "    .dataframe thead th {\n",
       "        text-align: right;\n",
       "    }\n",
       "</style>\n",
       "<table border=\"1\" class=\"dataframe\">\n",
       "  <thead>\n",
       "    <tr style=\"text-align: right;\">\n",
       "      <th></th>\n",
       "      <th>方案号</th>\n",
       "      <th>中心标识</th>\n",
       "      <th>中心名称</th>\n",
       "      <th>受试者编号</th>\n",
       "      <th>访视</th>\n",
       "      <th>出生日期</th>\n",
       "      <th>年龄</th>\n",
       "      <th>年龄单位</th>\n",
       "      <th>年龄标准值</th>\n",
       "      <th>年龄标准单位</th>\n",
       "      <th>...</th>\n",
       "      <th>身高</th>\n",
       "      <th>身高单位</th>\n",
       "      <th>身高标准值</th>\n",
       "      <th>身高标准单位</th>\n",
       "      <th>体重</th>\n",
       "      <th>体重单位</th>\n",
       "      <th>体重标准值</th>\n",
       "      <th>体重标准单位</th>\n",
       "      <th>原始录入日期</th>\n",
       "      <th>最后修改日期</th>\n",
       "    </tr>\n",
       "  </thead>\n",
       "  <tbody>\n",
       "    <tr>\n",
       "      <th>0</th>\n",
       "      <td>SMZSY-V1.0</td>\n",
       "      <td>9</td>\n",
       "      <td>上海交通大学医学院附属新华医院</td>\n",
       "      <td>90001_a</td>\n",
       "      <td>入组访视</td>\n",
       "      <td>1957-02-06</td>\n",
       "      <td>61.0</td>\n",
       "      <td>岁</td>\n",
       "      <td>NaN</td>\n",
       "      <td>NaN</td>\n",
       "      <td>...</td>\n",
       "      <td>NaN</td>\n",
       "      <td>NaN</td>\n",
       "      <td>NaN</td>\n",
       "      <td>NaN</td>\n",
       "      <td>NaN</td>\n",
       "      <td>NaN</td>\n",
       "      <td>NaN</td>\n",
       "      <td>NaN</td>\n",
       "      <td>2018/4/20 15:02:45</td>\n",
       "      <td>2019/8/7 22:51:40</td>\n",
       "    </tr>\n",
       "    <tr>\n",
       "      <th>1</th>\n",
       "      <td>SMZSY-V1.0</td>\n",
       "      <td>9</td>\n",
       "      <td>上海交通大学医学院附属新华医院</td>\n",
       "      <td>90003_a</td>\n",
       "      <td>入组访视</td>\n",
       "      <td>1964-11-23</td>\n",
       "      <td>53.0</td>\n",
       "      <td>岁</td>\n",
       "      <td>NaN</td>\n",
       "      <td>NaN</td>\n",
       "      <td>...</td>\n",
       "      <td>NaN</td>\n",
       "      <td>NaN</td>\n",
       "      <td>NaN</td>\n",
       "      <td>NaN</td>\n",
       "      <td>NaN</td>\n",
       "      <td>NaN</td>\n",
       "      <td>NaN</td>\n",
       "      <td>NaN</td>\n",
       "      <td>2018/9/16 15:40:43</td>\n",
       "      <td>2019/8/8 16:42:23</td>\n",
       "    </tr>\n",
       "    <tr>\n",
       "      <th>2</th>\n",
       "      <td>SMZSY-V1.0</td>\n",
       "      <td>9</td>\n",
       "      <td>上海交通大学医学院附属新华医院</td>\n",
       "      <td>90004_a</td>\n",
       "      <td>入组访视</td>\n",
       "      <td>1948-01-01</td>\n",
       "      <td>70.0</td>\n",
       "      <td>岁</td>\n",
       "      <td>NaN</td>\n",
       "      <td>NaN</td>\n",
       "      <td>...</td>\n",
       "      <td>NaN</td>\n",
       "      <td>NaN</td>\n",
       "      <td>NaN</td>\n",
       "      <td>NaN</td>\n",
       "      <td>NaN</td>\n",
       "      <td>NaN</td>\n",
       "      <td>NaN</td>\n",
       "      <td>NaN</td>\n",
       "      <td>2018/10/31 10:59:48</td>\n",
       "      <td>2019/8/7 22:50:39</td>\n",
       "    </tr>\n",
       "    <tr>\n",
       "      <th>3</th>\n",
       "      <td>SMZSY-V1.0</td>\n",
       "      <td>9</td>\n",
       "      <td>上海交通大学医学院附属新华医院</td>\n",
       "      <td>90005_a</td>\n",
       "      <td>入组访视</td>\n",
       "      <td>1948-01-01</td>\n",
       "      <td>70.0</td>\n",
       "      <td>岁</td>\n",
       "      <td>NaN</td>\n",
       "      <td>NaN</td>\n",
       "      <td>...</td>\n",
       "      <td>NaN</td>\n",
       "      <td>NaN</td>\n",
       "      <td>NaN</td>\n",
       "      <td>NaN</td>\n",
       "      <td>NaN</td>\n",
       "      <td>NaN</td>\n",
       "      <td>NaN</td>\n",
       "      <td>NaN</td>\n",
       "      <td>2018/10/31 12:11:00</td>\n",
       "      <td>2019/8/8 16:43:36</td>\n",
       "    </tr>\n",
       "    <tr>\n",
       "      <th>4</th>\n",
       "      <td>SMZSY-V1.0</td>\n",
       "      <td>9</td>\n",
       "      <td>上海交通大学医学院附属新华医院</td>\n",
       "      <td>90006_a</td>\n",
       "      <td>入组访视</td>\n",
       "      <td>1939-01-01</td>\n",
       "      <td>79.0</td>\n",
       "      <td>岁</td>\n",
       "      <td>NaN</td>\n",
       "      <td>NaN</td>\n",
       "      <td>...</td>\n",
       "      <td>NaN</td>\n",
       "      <td>NaN</td>\n",
       "      <td>NaN</td>\n",
       "      <td>NaN</td>\n",
       "      <td>NaN</td>\n",
       "      <td>NaN</td>\n",
       "      <td>NaN</td>\n",
       "      <td>NaN</td>\n",
       "      <td>2018/10/31 13:02:01</td>\n",
       "      <td>2019/8/8 18:00:16</td>\n",
       "    </tr>\n",
       "  </tbody>\n",
       "</table>\n",
       "<p>5 rows × 22 columns</p>\n",
       "</div>"
      ],
      "text/plain": [
       "          方案号  中心标识             中心名称    受试者编号    访视        出生日期    年龄 年龄单位  \\\n",
       "0  SMZSY-V1.0     9  上海交通大学医学院附属新华医院  90001_a  入组访视  1957-02-06  61.0    岁   \n",
       "1  SMZSY-V1.0     9  上海交通大学医学院附属新华医院  90003_a  入组访视  1964-11-23  53.0    岁   \n",
       "2  SMZSY-V1.0     9  上海交通大学医学院附属新华医院  90004_a  入组访视  1948-01-01  70.0    岁   \n",
       "3  SMZSY-V1.0     9  上海交通大学医学院附属新华医院  90005_a  入组访视  1948-01-01  70.0    岁   \n",
       "4  SMZSY-V1.0     9  上海交通大学医学院附属新华医院  90006_a  入组访视  1939-01-01  79.0    岁   \n",
       "\n",
       "   年龄标准值  年龄标准单位  ...  身高 身高单位  身高标准值  身高标准单位  体重  体重单位  体重标准值  体重标准单位  \\\n",
       "0    NaN     NaN  ... NaN  NaN    NaN     NaN NaN   NaN    NaN     NaN   \n",
       "1    NaN     NaN  ... NaN  NaN    NaN     NaN NaN   NaN    NaN     NaN   \n",
       "2    NaN     NaN  ... NaN  NaN    NaN     NaN NaN   NaN    NaN     NaN   \n",
       "3    NaN     NaN  ... NaN  NaN    NaN     NaN NaN   NaN    NaN     NaN   \n",
       "4    NaN     NaN  ... NaN  NaN    NaN     NaN NaN   NaN    NaN     NaN   \n",
       "\n",
       "                原始录入日期             最后修改日期  \n",
       "0   2018/4/20 15:02:45  2019/8/7 22:51:40  \n",
       "1   2018/9/16 15:40:43  2019/8/8 16:42:23  \n",
       "2  2018/10/31 10:59:48  2019/8/7 22:50:39  \n",
       "3  2018/10/31 12:11:00  2019/8/8 16:43:36  \n",
       "4  2018/10/31 13:02:01  2019/8/8 18:00:16  \n",
       "\n",
       "[5 rows x 22 columns]"
      ]
     },
     "execution_count": 342,
     "metadata": {},
     "output_type": "execute_result"
    }
   ],
   "source": [
    "df_gender_age.head()"
   ]
  },
  {
   "cell_type": "code",
   "execution_count": 343,
   "metadata": {},
   "outputs": [],
   "source": [
    "df_gender_age=df_gender_age[['受试者编号','年龄','性别_描述']].rename(columns={'性别_描述':'性别'})\n",
    "df_gender_age['性别']=df_gender_age['性别'].apply(lambda x: 1 if re.match('男',str(x)) else 0)"
   ]
  },
  {
   "cell_type": "code",
   "execution_count": 344,
   "metadata": {},
   "outputs": [],
   "source": [
    "df_popu=df_gender_age"
   ]
  },
  {
   "cell_type": "code",
   "execution_count": 345,
   "metadata": {},
   "outputs": [
    {
     "data": {
      "text/plain": [
       "(746, 3)"
      ]
     },
     "execution_count": 345,
     "metadata": {},
     "output_type": "execute_result"
    }
   ],
   "source": [
    "df_popu.shape"
   ]
  },
  {
   "cell_type": "code",
   "execution_count": 346,
   "metadata": {},
   "outputs": [
    {
     "data": {
      "text/html": [
       "<div>\n",
       "<style scoped>\n",
       "    .dataframe tbody tr th:only-of-type {\n",
       "        vertical-align: middle;\n",
       "    }\n",
       "\n",
       "    .dataframe tbody tr th {\n",
       "        vertical-align: top;\n",
       "    }\n",
       "\n",
       "    .dataframe thead th {\n",
       "        text-align: right;\n",
       "    }\n",
       "</style>\n",
       "<table border=\"1\" class=\"dataframe\">\n",
       "  <thead>\n",
       "    <tr style=\"text-align: right;\">\n",
       "      <th></th>\n",
       "      <th>受试者编号</th>\n",
       "      <th>年龄</th>\n",
       "      <th>性别</th>\n",
       "    </tr>\n",
       "  </thead>\n",
       "  <tbody>\n",
       "    <tr>\n",
       "      <th>0</th>\n",
       "      <td>90001_a</td>\n",
       "      <td>61.0</td>\n",
       "      <td>0</td>\n",
       "    </tr>\n",
       "    <tr>\n",
       "      <th>1</th>\n",
       "      <td>90003_a</td>\n",
       "      <td>53.0</td>\n",
       "      <td>1</td>\n",
       "    </tr>\n",
       "    <tr>\n",
       "      <th>2</th>\n",
       "      <td>90004_a</td>\n",
       "      <td>70.0</td>\n",
       "      <td>1</td>\n",
       "    </tr>\n",
       "    <tr>\n",
       "      <th>3</th>\n",
       "      <td>90005_a</td>\n",
       "      <td>70.0</td>\n",
       "      <td>1</td>\n",
       "    </tr>\n",
       "    <tr>\n",
       "      <th>4</th>\n",
       "      <td>90006_a</td>\n",
       "      <td>79.0</td>\n",
       "      <td>0</td>\n",
       "    </tr>\n",
       "  </tbody>\n",
       "</table>\n",
       "</div>"
      ],
      "text/plain": [
       "     受试者编号    年龄  性别\n",
       "0  90001_a  61.0   0\n",
       "1  90003_a  53.0   1\n",
       "2  90004_a  70.0   1\n",
       "3  90005_a  70.0   1\n",
       "4  90006_a  79.0   0"
      ]
     },
     "execution_count": 346,
     "metadata": {},
     "output_type": "execute_result"
    }
   ],
   "source": [
    "df_popu.head()"
   ]
  },
  {
   "cell_type": "code",
   "execution_count": 347,
   "metadata": {},
   "outputs": [],
   "source": [
    "df_popu.to_excel(project_path+'/data/processed_data/df_1.7_popu.xlsx')"
   ]
  },
  {
   "cell_type": "code",
   "execution_count": 348,
   "metadata": {},
   "outputs": [],
   "source": [
    "df_SUP_popu=pd.merge(df_SUP_oup_3d,df_popu,on='受试者编号',how='left')"
   ]
  },
  {
   "cell_type": "code",
   "execution_count": 349,
   "metadata": {},
   "outputs": [
    {
     "data": {
      "text/plain": [
       "(298, 21)"
      ]
     },
     "execution_count": 349,
     "metadata": {},
     "output_type": "execute_result"
    }
   ],
   "source": [
    "df_SUP_popu.shape"
   ]
  },
  {
   "cell_type": "code",
   "execution_count": 350,
   "metadata": {},
   "outputs": [],
   "source": [
    "df_SUP_popu.to_excel(project_path+'/data/processed_data/df_1.7_df_SUP_popu.xlsx')"
   ]
  },
  {
   "cell_type": "markdown",
   "metadata": {},
   "source": [
    "## 提取基础疾病"
   ]
  },
  {
   "cell_type": "code",
   "execution_count": 351,
   "metadata": {},
   "outputs": [
    {
     "data": {
      "text/plain": [
       "'\\n提取个人史(吸烟；饮酒)、既往史(高血压、糖尿病)、家族史、过敏史。\\n如果个人史既往史不平衡，可以合并成一列：基础疾病。\\n如果疾病疾病不平衡，则可以删除\\n'"
      ]
     },
     "execution_count": 351,
     "metadata": {},
     "output_type": "execute_result"
    }
   ],
   "source": [
    "'''\n",
    "提取个人史(吸烟；饮酒)、既往史(高血压、糖尿病)、家族史、过敏史。\n",
    "如果个人史既往史不平衡，可以合并成一列：基础疾病。\n",
    "如果疾病疾病不平衡，则可以删除\n",
    "'''"
   ]
  },
  {
   "cell_type": "markdown",
   "metadata": {},
   "source": [
    "### 个人史既往史"
   ]
  },
  {
   "cell_type": "code",
   "execution_count": 352,
   "metadata": {},
   "outputs": [],
   "source": [
    "# 其他科 既往史\n",
    "df_past_history_1 = pd.read_excel(project_path+'/data/raw_data/导出全部CRF表数据-其他科1021.xlsx',\n",
    "                            sheet_name='MH_既往史',\n",
    "                           header=1,)  # 指定第2行作为标题行\n",
    "#                            skiprows=[1,1,1])  # 跳过第1行\n",
    "df_past_history_1['受试者编号']=df_past_history_1['受试者编号'].apply(lambda x: str(x)+'_a')\n",
    "df_past_history_1=df_past_history_1[['受试者编号','既往史']]\n",
    "# 心内科既往史\n",
    "df_past_history_2 = pd.read_excel(project_path+'/data/raw_data/导出全部CRF表数据-心内科1021.xlsx',\n",
    "                            sheet_name='MH_既往史',\n",
    "                           header=1,)  # 指定第2行作为标题行\n",
    "#                            skiprows=[1,1,1])  # 跳过第几行)\n",
    "df_past_history_2['受试者编号']=df_past_history_2['受试者编号'].apply(lambda x: str(x)+'_b')\n",
    "df_past_history_2=df_past_history_2[['受试者编号','既往史']]\n",
    "\n",
    "# 合并其他科和心内科--既往史\n",
    "df_past_history=pd.concat([df_past_history_1,df_past_history_2],axis=0).reset_index(drop=True)"
   ]
  },
  {
   "cell_type": "code",
   "execution_count": 353,
   "metadata": {},
   "outputs": [
    {
     "name": "stdout",
     "output_type": "stream",
     "text": [
      "(640, 2)\n",
      "(104, 2)\n"
     ]
    }
   ],
   "source": [
    "print(df_past_history_1.shape)\n",
    "print(df_past_history_2.shape)"
   ]
  },
  {
   "cell_type": "code",
   "execution_count": 354,
   "metadata": {},
   "outputs": [
    {
     "data": {
      "text/html": [
       "<div>\n",
       "<style scoped>\n",
       "    .dataframe tbody tr th:only-of-type {\n",
       "        vertical-align: middle;\n",
       "    }\n",
       "\n",
       "    .dataframe tbody tr th {\n",
       "        vertical-align: top;\n",
       "    }\n",
       "\n",
       "    .dataframe thead th {\n",
       "        text-align: right;\n",
       "    }\n",
       "</style>\n",
       "<table border=\"1\" class=\"dataframe\">\n",
       "  <thead>\n",
       "    <tr style=\"text-align: right;\">\n",
       "      <th></th>\n",
       "      <th>受试者编号</th>\n",
       "      <th>既往史</th>\n",
       "    </tr>\n",
       "  </thead>\n",
       "  <tbody>\n",
       "    <tr>\n",
       "      <th>0</th>\n",
       "      <td>90001_a</td>\n",
       "      <td>脑梗危险因素：有高血压病，有糖尿病，无高脂血症，无房颤，无脑供血动脉狭窄，无吸烟，无酗酒，无...</td>\n",
       "    </tr>\n",
       "    <tr>\n",
       "      <th>1</th>\n",
       "      <td>90003_a</td>\n",
       "      <td>传染病史:35年患有“乙型脑炎”,病后至今患者反应较迟钝。否认肝炎、结核、伤寒等传染病史。\\...</td>\n",
       "    </tr>\n",
       "    <tr>\n",
       "      <th>2</th>\n",
       "      <td>90004_a</td>\n",
       "      <td>传染病史:否认结核伤寒等传染病史。\\n药物及其他过敏史:否认药物食物过敏史。\\n预防接种史:...</td>\n",
       "    </tr>\n",
       "    <tr>\n",
       "      <th>3</th>\n",
       "      <td>90005_a</td>\n",
       "      <td>传染病史:否认肝炎、结核、伤寒等传染病史。\\n药物及其他过敏史:否认药物、食物过敏史。\\n预...</td>\n",
       "    </tr>\n",
       "    <tr>\n",
       "      <th>4</th>\n",
       "      <td>90006_a</td>\n",
       "      <td>脑梗危险因素:有高血压病等危险因素,无糖尿病,高脂血症,房颤,脑供血动脉狭窄,吸烟,酗...</td>\n",
       "    </tr>\n",
       "    <tr>\n",
       "      <th>...</th>\n",
       "      <td>...</td>\n",
       "      <td>...</td>\n",
       "    </tr>\n",
       "    <tr>\n",
       "      <th>739</th>\n",
       "      <td>90100_b</td>\n",
       "      <td>传染病史:否认肝炎、结核、伤寒等传染病史。\\n药物及其他过敏史:否认青霉素、磺胺类药物、链霉...</td>\n",
       "    </tr>\n",
       "    <tr>\n",
       "      <th>740</th>\n",
       "      <td>90101_b</td>\n",
       "      <td>传染病史:否认结核伤寒等传染病史。\\n药物及其他过敏史:否认药物、食物过敏史。\\n预防接种史...</td>\n",
       "    </tr>\n",
       "    <tr>\n",
       "      <th>741</th>\n",
       "      <td>90102_b</td>\n",
       "      <td>传染病史:否认肝炎、结核、伤寒等传染病史。\\n药物及其他过敏史:否认药物、食物过敏史。\\n预...</td>\n",
       "    </tr>\n",
       "    <tr>\n",
       "      <th>742</th>\n",
       "      <td>90104_b</td>\n",
       "      <td>传染病史:否认肝炎、结核、伤寒等传染病史。三周发现右肩部带状疱疹,目前已痊愈。\\n药物及其他...</td>\n",
       "    </tr>\n",
       "    <tr>\n",
       "      <th>743</th>\n",
       "      <td>90105_b</td>\n",
       "      <td>传染病史:否认结核伤寒等传染病史。\\n药物及其他过敏史:否认药物食物过敏史。\\n预防接种史:...</td>\n",
       "    </tr>\n",
       "  </tbody>\n",
       "</table>\n",
       "<p>744 rows × 2 columns</p>\n",
       "</div>"
      ],
      "text/plain": [
       "       受试者编号                                                既往史\n",
       "0    90001_a  脑梗危险因素：有高血压病，有糖尿病，无高脂血症，无房颤，无脑供血动脉狭窄，无吸烟，无酗酒，无...\n",
       "1    90003_a  传染病史:35年患有“乙型脑炎”,病后至今患者反应较迟钝。否认肝炎、结核、伤寒等传染病史。\\...\n",
       "2    90004_a  传染病史:否认结核伤寒等传染病史。\\n药物及其他过敏史:否认药物食物过敏史。\\n预防接种史:...\n",
       "3    90005_a  传染病史:否认肝炎、结核、伤寒等传染病史。\\n药物及其他过敏史:否认药物、食物过敏史。\\n预...\n",
       "4    90006_a     脑梗危险因素:有高血压病等危险因素,无糖尿病,高脂血症,房颤,脑供血动脉狭窄,吸烟,酗...\n",
       "..       ...                                                ...\n",
       "739  90100_b  传染病史:否认肝炎、结核、伤寒等传染病史。\\n药物及其他过敏史:否认青霉素、磺胺类药物、链霉...\n",
       "740  90101_b  传染病史:否认结核伤寒等传染病史。\\n药物及其他过敏史:否认药物、食物过敏史。\\n预防接种史...\n",
       "741  90102_b  传染病史:否认肝炎、结核、伤寒等传染病史。\\n药物及其他过敏史:否认药物、食物过敏史。\\n预...\n",
       "742  90104_b  传染病史:否认肝炎、结核、伤寒等传染病史。三周发现右肩部带状疱疹,目前已痊愈。\\n药物及其他...\n",
       "743  90105_b  传染病史:否认结核伤寒等传染病史。\\n药物及其他过敏史:否认药物食物过敏史。\\n预防接种史:...\n",
       "\n",
       "[744 rows x 2 columns]"
      ]
     },
     "execution_count": 354,
     "metadata": {},
     "output_type": "execute_result"
    }
   ],
   "source": [
    "df_past_history"
   ]
  },
  {
   "cell_type": "code",
   "execution_count": 355,
   "metadata": {},
   "outputs": [],
   "source": [
    "# 个人史包括吸烟史、饮酒史\n",
    "# 既往史包括高血压、糖尿病、青霉素过敏史、肝炎、结核史、手术外伤史、输血史、预防接种史\n",
    "df_past_history[['吸烟史','饮酒史','高血压','糖尿病','肝炎']]=np.nan\n",
    "for i in range(df_past_history.shape[0]):\n",
    "#     if i == 2:\n",
    "#         break\n",
    "    record_content=df_past_history.loc[i,'既往史']\n",
    "    if pd.isnull(record_content):\n",
    "        continue\n",
    "    record_list=re.split('，|,|。',record_content)\n",
    "    # 匹配个人史\n",
    "    for j in record_list:\n",
    "        # 匹配吸烟史\n",
    "        if re.match('[^无否戒没]*烟',j):\n",
    "            df_past_history.loc[i,'吸烟史']=1\n",
    "        else:\n",
    "            df_past_history.loc[i,'吸烟史']= max(0,df_past_history.loc[i,'吸烟史'])\n",
    "        # 匹配饮酒史\n",
    "        if re.match('[^无否戒没]*酒[^精]*',j):\n",
    "            df_past_history.loc[i,'饮酒史']=1\n",
    "#         elif pd.isnull(df_past_history.loc[i,'饮酒史']):\n",
    "#             df_past_history.loc[i,'饮酒史']=0\n",
    "        else:\n",
    "            df_past_history.loc[i,'饮酒史']=max(0,df_past_history.loc[i,'饮酒史'])\n",
    "    # 匹配既往史\n",
    "        # 匹配高血压\n",
    "        if re.match('[^无否没]*高血压[^不详]*',j):\n",
    "            df_past_history.loc[i,'高血压']=1\n",
    "        else:\n",
    "            df_past_history.loc[i,'高血压']=max(0,df_past_history.loc[i,'高血压'])\n",
    "        # 匹配糖尿病\n",
    "        if re.match('[^无否没]*糖尿病',j):\n",
    "            df_past_history.loc[i,'糖尿病']=1\n",
    "        else:\n",
    "            df_past_history.loc[i,'糖尿病']=max(0,df_past_history.loc[i,'糖尿病'])\n",
    "        # 匹配肝炎\n",
    "        if re.match('[^无否没]*肝炎',j):\n",
    "            df_past_history.loc[i,'肝炎']=1\n",
    "        else:\n",
    "            df_past_history.loc[i,'肝炎']=max(0,df_past_history.loc[i,'肝炎'])\n",
    "    # 增加基础疾病变量\n",
    "    if df_past_history.loc[i,['吸烟史','饮酒史','高血压','糖尿病','肝炎']].sum() >=1:\n",
    "        df_past_history.loc[i,'基础疾病']=1\n",
    "    else:\n",
    "        df_past_history.loc[i,'基础疾病']=0"
   ]
  },
  {
   "cell_type": "code",
   "execution_count": 356,
   "metadata": {},
   "outputs": [],
   "source": [
    "df_past_history=df_past_history[['受试者编号','基础疾病']]\n",
    "# 增加基础疾病变量"
   ]
  },
  {
   "cell_type": "code",
   "execution_count": 357,
   "metadata": {},
   "outputs": [
    {
     "data": {
      "text/html": [
       "<div>\n",
       "<style scoped>\n",
       "    .dataframe tbody tr th:only-of-type {\n",
       "        vertical-align: middle;\n",
       "    }\n",
       "\n",
       "    .dataframe tbody tr th {\n",
       "        vertical-align: top;\n",
       "    }\n",
       "\n",
       "    .dataframe thead th {\n",
       "        text-align: right;\n",
       "    }\n",
       "</style>\n",
       "<table border=\"1\" class=\"dataframe\">\n",
       "  <thead>\n",
       "    <tr style=\"text-align: right;\">\n",
       "      <th></th>\n",
       "      <th>受试者编号</th>\n",
       "      <th>基础疾病</th>\n",
       "    </tr>\n",
       "  </thead>\n",
       "  <tbody>\n",
       "    <tr>\n",
       "      <th>0</th>\n",
       "      <td>90001_a</td>\n",
       "      <td>1.0</td>\n",
       "    </tr>\n",
       "    <tr>\n",
       "      <th>1</th>\n",
       "      <td>90003_a</td>\n",
       "      <td>0.0</td>\n",
       "    </tr>\n",
       "    <tr>\n",
       "      <th>2</th>\n",
       "      <td>90004_a</td>\n",
       "      <td>0.0</td>\n",
       "    </tr>\n",
       "    <tr>\n",
       "      <th>3</th>\n",
       "      <td>90005_a</td>\n",
       "      <td>0.0</td>\n",
       "    </tr>\n",
       "    <tr>\n",
       "      <th>4</th>\n",
       "      <td>90006_a</td>\n",
       "      <td>1.0</td>\n",
       "    </tr>\n",
       "  </tbody>\n",
       "</table>\n",
       "</div>"
      ],
      "text/plain": [
       "     受试者编号  基础疾病\n",
       "0  90001_a   1.0\n",
       "1  90003_a   0.0\n",
       "2  90004_a   0.0\n",
       "3  90005_a   0.0\n",
       "4  90006_a   1.0"
      ]
     },
     "execution_count": 357,
     "metadata": {},
     "output_type": "execute_result"
    }
   ],
   "source": [
    "df_past_history.head()"
   ]
  },
  {
   "cell_type": "code",
   "execution_count": 358,
   "metadata": {},
   "outputs": [],
   "source": [
    "df_past_history.to_excel(project_path+'/data/processed_data/基础疾病/df_1.8.1_个人史既往史.xlsx')"
   ]
  },
  {
   "cell_type": "markdown",
   "metadata": {},
   "source": [
    "### 家族史"
   ]
  },
  {
   "cell_type": "code",
   "execution_count": 359,
   "metadata": {},
   "outputs": [],
   "source": [
    "# 其他科 家族史\n",
    "df_family_history_1 = pd.read_excel(project_path+'/data/raw_data/导出全部CRF表数据-其他科1021.xlsx',\n",
    "                            sheet_name='FH_家族史',\n",
    "                           header=1,)  # 指定第2行作为标题行\n",
    "#                            skiprows=[1,1,1])  # 跳过第1行\n",
    "df_family_history_1['受试者编号']=df_family_history_1['受试者编号'].apply(lambda x: str(x)+'_a')\n",
    "df_family_history_1=df_family_history_1[['受试者编号','受试者是否有家族史？_描述']]\n",
    "# 心内科 家族史\n",
    "df_family_history_2 = pd.read_excel(project_path+'/data/raw_data/导出全部CRF表数据-心内科1021.xlsx',\n",
    "                            sheet_name='FH_家族史',\n",
    "                           header=1,)  # 指定第2行作为标题行\n",
    "#                            skiprows=[1,1,1])  # 跳过第几行)\n",
    "df_family_history_2['受试者编号']=df_family_history_2['受试者编号'].apply(lambda x: str(x)+'_b')\n",
    "df_family_history_2=df_family_history_2[['受试者编号','受试者是否有家族史？_描述']]\n",
    "\n",
    "# 合并其他科和心内科--既往史\n",
    "df_family_history=pd.concat([df_family_history_1,df_family_history_2],axis=0).reset_index(drop=True)\n",
    "df_family_history.rename(columns={'受试者是否有家族史？_描述':'family_history'},inplace=True)"
   ]
  },
  {
   "cell_type": "code",
   "execution_count": 360,
   "metadata": {},
   "outputs": [
    {
     "data": {
      "text/html": [
       "<div>\n",
       "<style scoped>\n",
       "    .dataframe tbody tr th:only-of-type {\n",
       "        vertical-align: middle;\n",
       "    }\n",
       "\n",
       "    .dataframe tbody tr th {\n",
       "        vertical-align: top;\n",
       "    }\n",
       "\n",
       "    .dataframe thead th {\n",
       "        text-align: right;\n",
       "    }\n",
       "</style>\n",
       "<table border=\"1\" class=\"dataframe\">\n",
       "  <thead>\n",
       "    <tr style=\"text-align: right;\">\n",
       "      <th></th>\n",
       "      <th>受试者编号</th>\n",
       "      <th>family_history</th>\n",
       "    </tr>\n",
       "  </thead>\n",
       "  <tbody>\n",
       "    <tr>\n",
       "      <th>0</th>\n",
       "      <td>90001_a</td>\n",
       "      <td>无</td>\n",
       "    </tr>\n",
       "    <tr>\n",
       "      <th>1</th>\n",
       "      <td>90003_a</td>\n",
       "      <td>无</td>\n",
       "    </tr>\n",
       "    <tr>\n",
       "      <th>2</th>\n",
       "      <td>90004_a</td>\n",
       "      <td>无</td>\n",
       "    </tr>\n",
       "    <tr>\n",
       "      <th>3</th>\n",
       "      <td>90005_a</td>\n",
       "      <td>无</td>\n",
       "    </tr>\n",
       "    <tr>\n",
       "      <th>4</th>\n",
       "      <td>90006_a</td>\n",
       "      <td>无</td>\n",
       "    </tr>\n",
       "  </tbody>\n",
       "</table>\n",
       "</div>"
      ],
      "text/plain": [
       "     受试者编号 family_history\n",
       "0  90001_a              无\n",
       "1  90003_a              无\n",
       "2  90004_a              无\n",
       "3  90005_a              无\n",
       "4  90006_a              无"
      ]
     },
     "execution_count": 360,
     "metadata": {},
     "output_type": "execute_result"
    }
   ],
   "source": [
    "df_family_history.head()"
   ]
  },
  {
   "cell_type": "code",
   "execution_count": 361,
   "metadata": {},
   "outputs": [],
   "source": [
    "df_family_history['family_history']=df_family_history.family_history.apply(lambda x: np.nan if pd.isnull(x) else\n",
    "                                                                0 if re.match('无',x) else\n",
    "                                                                1 if re.match('有',x) else x)"
   ]
  },
  {
   "cell_type": "code",
   "execution_count": 362,
   "metadata": {},
   "outputs": [
    {
     "data": {
      "text/html": [
       "<div>\n",
       "<style scoped>\n",
       "    .dataframe tbody tr th:only-of-type {\n",
       "        vertical-align: middle;\n",
       "    }\n",
       "\n",
       "    .dataframe tbody tr th {\n",
       "        vertical-align: top;\n",
       "    }\n",
       "\n",
       "    .dataframe thead th {\n",
       "        text-align: right;\n",
       "    }\n",
       "</style>\n",
       "<table border=\"1\" class=\"dataframe\">\n",
       "  <thead>\n",
       "    <tr style=\"text-align: right;\">\n",
       "      <th></th>\n",
       "      <th>受试者编号</th>\n",
       "      <th>family_history</th>\n",
       "    </tr>\n",
       "  </thead>\n",
       "  <tbody>\n",
       "    <tr>\n",
       "      <th>0</th>\n",
       "      <td>90001_a</td>\n",
       "      <td>0</td>\n",
       "    </tr>\n",
       "    <tr>\n",
       "      <th>1</th>\n",
       "      <td>90003_a</td>\n",
       "      <td>0</td>\n",
       "    </tr>\n",
       "    <tr>\n",
       "      <th>2</th>\n",
       "      <td>90004_a</td>\n",
       "      <td>0</td>\n",
       "    </tr>\n",
       "    <tr>\n",
       "      <th>3</th>\n",
       "      <td>90005_a</td>\n",
       "      <td>0</td>\n",
       "    </tr>\n",
       "    <tr>\n",
       "      <th>4</th>\n",
       "      <td>90006_a</td>\n",
       "      <td>0</td>\n",
       "    </tr>\n",
       "  </tbody>\n",
       "</table>\n",
       "</div>"
      ],
      "text/plain": [
       "     受试者编号  family_history\n",
       "0  90001_a               0\n",
       "1  90003_a               0\n",
       "2  90004_a               0\n",
       "3  90005_a               0\n",
       "4  90006_a               0"
      ]
     },
     "execution_count": 362,
     "metadata": {},
     "output_type": "execute_result"
    }
   ],
   "source": [
    "df_family_history.head()"
   ]
  },
  {
   "cell_type": "code",
   "execution_count": 363,
   "metadata": {},
   "outputs": [],
   "source": [
    "df_family_history.to_excel(project_path+'/data/processed_data/基础疾病/df_1.8.2_family_history.xlsx')"
   ]
  },
  {
   "cell_type": "markdown",
   "metadata": {},
   "source": [
    "### 过敏史"
   ]
  },
  {
   "cell_type": "code",
   "execution_count": 364,
   "metadata": {},
   "outputs": [],
   "source": [
    "# 其他科 过敏史\n",
    "df_allergy_history_1 = pd.read_excel(project_path+'/data/raw_data/导出全部CRF表数据-其他科1021.xlsx',\n",
    "                            sheet_name='AH_过敏史',\n",
    "                           header=1,)  # 指定第2行作为标题行\n",
    "#                            skiprows=[1,1,1])  # 跳过第1行\n",
    "df_allergy_history_1['受试者编号']=df_allergy_history_1['受试者编号'].apply(lambda x: str(x)+'_a')\n",
    "df_allergy_history_1=df_allergy_history_1[['受试者编号','药物过敏_描述']]\n",
    "# 心内科 过敏史\n",
    "df_allergy_history_2 = pd.read_excel(project_path+'/data/raw_data/导出全部CRF表数据-心内科1021.xlsx',\n",
    "                            sheet_name='AH_过敏史',\n",
    "                           header=1,)  # 指定第2行作为标题行\n",
    "#                            skiprows=[1,1,1])  # 跳过第几行)\n",
    "df_allergy_history_2['受试者编号']=df_allergy_history_2['受试者编号'].apply(lambda x: str(x)+'_b')\n",
    "df_allergy_history_2=df_allergy_history_2[['受试者编号','药物过敏_描述']]\n",
    "\n",
    "# 合并其他科和心内科--既往史\n",
    "df_allergy_history=pd.concat([df_allergy_history_1,df_allergy_history_2],axis=0)\n",
    "df_allergy_history.rename(columns={'药物过敏_描述':'allergy_history'},inplace=True)"
   ]
  },
  {
   "cell_type": "code",
   "execution_count": 365,
   "metadata": {},
   "outputs": [],
   "source": [
    "df_allergy_history['allergy_history']=df_allergy_history.allergy_history.apply(lambda x: np.nan if pd.isnull(x) else\n",
    "                                                                0 if re.match('无',x) else\n",
    "                                                                1 if re.match('有',x) else x)"
   ]
  },
  {
   "cell_type": "code",
   "execution_count": 366,
   "metadata": {},
   "outputs": [
    {
     "data": {
      "text/html": [
       "<div>\n",
       "<style scoped>\n",
       "    .dataframe tbody tr th:only-of-type {\n",
       "        vertical-align: middle;\n",
       "    }\n",
       "\n",
       "    .dataframe tbody tr th {\n",
       "        vertical-align: top;\n",
       "    }\n",
       "\n",
       "    .dataframe thead th {\n",
       "        text-align: right;\n",
       "    }\n",
       "</style>\n",
       "<table border=\"1\" class=\"dataframe\">\n",
       "  <thead>\n",
       "    <tr style=\"text-align: right;\">\n",
       "      <th></th>\n",
       "      <th>受试者编号</th>\n",
       "      <th>allergy_history</th>\n",
       "    </tr>\n",
       "  </thead>\n",
       "  <tbody>\n",
       "    <tr>\n",
       "      <th>0</th>\n",
       "      <td>90001_a</td>\n",
       "      <td>1.0</td>\n",
       "    </tr>\n",
       "    <tr>\n",
       "      <th>1</th>\n",
       "      <td>90003_a</td>\n",
       "      <td>0.0</td>\n",
       "    </tr>\n",
       "    <tr>\n",
       "      <th>2</th>\n",
       "      <td>90004_a</td>\n",
       "      <td>0.0</td>\n",
       "    </tr>\n",
       "    <tr>\n",
       "      <th>3</th>\n",
       "      <td>90005_a</td>\n",
       "      <td>0.0</td>\n",
       "    </tr>\n",
       "    <tr>\n",
       "      <th>4</th>\n",
       "      <td>90006_a</td>\n",
       "      <td>0.0</td>\n",
       "    </tr>\n",
       "  </tbody>\n",
       "</table>\n",
       "</div>"
      ],
      "text/plain": [
       "     受试者编号  allergy_history\n",
       "0  90001_a              1.0\n",
       "1  90003_a              0.0\n",
       "2  90004_a              0.0\n",
       "3  90005_a              0.0\n",
       "4  90006_a              0.0"
      ]
     },
     "execution_count": 366,
     "metadata": {},
     "output_type": "execute_result"
    }
   ],
   "source": [
    "df_allergy_history.head()"
   ]
  },
  {
   "cell_type": "code",
   "execution_count": 367,
   "metadata": {},
   "outputs": [],
   "source": [
    "df_allergy_history.to_excel(project_path+'/data/processed_data/基础疾病/df_1.8.3_allergy_history.xlsx')"
   ]
  },
  {
   "cell_type": "markdown",
   "metadata": {},
   "source": [
    "### 合并既往史、家族史、过敏史"
   ]
  },
  {
   "cell_type": "code",
   "execution_count": 368,
   "metadata": {},
   "outputs": [],
   "source": [
    "df_history=pd.merge(df_past_history,df_family_history,on='受试者编号',how='outer')\n",
    "df_history=pd.merge(df_history,df_allergy_history,on='受试者编号',how='outer')"
   ]
  },
  {
   "cell_type": "code",
   "execution_count": 369,
   "metadata": {},
   "outputs": [
    {
     "data": {
      "text/html": [
       "<div>\n",
       "<style scoped>\n",
       "    .dataframe tbody tr th:only-of-type {\n",
       "        vertical-align: middle;\n",
       "    }\n",
       "\n",
       "    .dataframe tbody tr th {\n",
       "        vertical-align: top;\n",
       "    }\n",
       "\n",
       "    .dataframe thead th {\n",
       "        text-align: right;\n",
       "    }\n",
       "</style>\n",
       "<table border=\"1\" class=\"dataframe\">\n",
       "  <thead>\n",
       "    <tr style=\"text-align: right;\">\n",
       "      <th></th>\n",
       "      <th>受试者编号</th>\n",
       "      <th>基础疾病</th>\n",
       "      <th>family_history</th>\n",
       "      <th>allergy_history</th>\n",
       "    </tr>\n",
       "  </thead>\n",
       "  <tbody>\n",
       "    <tr>\n",
       "      <th>0</th>\n",
       "      <td>90001_a</td>\n",
       "      <td>1.0</td>\n",
       "      <td>0</td>\n",
       "      <td>1.0</td>\n",
       "    </tr>\n",
       "    <tr>\n",
       "      <th>1</th>\n",
       "      <td>90003_a</td>\n",
       "      <td>0.0</td>\n",
       "      <td>0</td>\n",
       "      <td>0.0</td>\n",
       "    </tr>\n",
       "    <tr>\n",
       "      <th>2</th>\n",
       "      <td>90004_a</td>\n",
       "      <td>0.0</td>\n",
       "      <td>0</td>\n",
       "      <td>0.0</td>\n",
       "    </tr>\n",
       "    <tr>\n",
       "      <th>3</th>\n",
       "      <td>90005_a</td>\n",
       "      <td>0.0</td>\n",
       "      <td>0</td>\n",
       "      <td>0.0</td>\n",
       "    </tr>\n",
       "    <tr>\n",
       "      <th>4</th>\n",
       "      <td>90006_a</td>\n",
       "      <td>1.0</td>\n",
       "      <td>0</td>\n",
       "      <td>0.0</td>\n",
       "    </tr>\n",
       "    <tr>\n",
       "      <th>...</th>\n",
       "      <td>...</td>\n",
       "      <td>...</td>\n",
       "      <td>...</td>\n",
       "      <td>...</td>\n",
       "    </tr>\n",
       "    <tr>\n",
       "      <th>739</th>\n",
       "      <td>90100_b</td>\n",
       "      <td>0.0</td>\n",
       "      <td>0</td>\n",
       "      <td>0.0</td>\n",
       "    </tr>\n",
       "    <tr>\n",
       "      <th>740</th>\n",
       "      <td>90101_b</td>\n",
       "      <td>0.0</td>\n",
       "      <td>0</td>\n",
       "      <td>0.0</td>\n",
       "    </tr>\n",
       "    <tr>\n",
       "      <th>741</th>\n",
       "      <td>90102_b</td>\n",
       "      <td>0.0</td>\n",
       "      <td>0</td>\n",
       "      <td>0.0</td>\n",
       "    </tr>\n",
       "    <tr>\n",
       "      <th>742</th>\n",
       "      <td>90104_b</td>\n",
       "      <td>0.0</td>\n",
       "      <td>0</td>\n",
       "      <td>0.0</td>\n",
       "    </tr>\n",
       "    <tr>\n",
       "      <th>743</th>\n",
       "      <td>90105_b</td>\n",
       "      <td>0.0</td>\n",
       "      <td>0</td>\n",
       "      <td>0.0</td>\n",
       "    </tr>\n",
       "  </tbody>\n",
       "</table>\n",
       "<p>744 rows × 4 columns</p>\n",
       "</div>"
      ],
      "text/plain": [
       "       受试者编号  基础疾病  family_history  allergy_history\n",
       "0    90001_a   1.0               0              1.0\n",
       "1    90003_a   0.0               0              0.0\n",
       "2    90004_a   0.0               0              0.0\n",
       "3    90005_a   0.0               0              0.0\n",
       "4    90006_a   1.0               0              0.0\n",
       "..       ...   ...             ...              ...\n",
       "739  90100_b   0.0               0              0.0\n",
       "740  90101_b   0.0               0              0.0\n",
       "741  90102_b   0.0               0              0.0\n",
       "742  90104_b   0.0               0              0.0\n",
       "743  90105_b   0.0               0              0.0\n",
       "\n",
       "[744 rows x 4 columns]"
      ]
     },
     "execution_count": 369,
     "metadata": {},
     "output_type": "execute_result"
    }
   ],
   "source": [
    "df_history"
   ]
  },
  {
   "cell_type": "markdown",
   "metadata": {},
   "source": [
    "### 并入个人病史"
   ]
  },
  {
   "cell_type": "code",
   "execution_count": 370,
   "metadata": {},
   "outputs": [],
   "source": [
    "df_SUP_history=pd.merge(df_SUP_popu,df_history,on='受试者编号',how='left')"
   ]
  },
  {
   "cell_type": "code",
   "execution_count": 371,
   "metadata": {},
   "outputs": [
    {
     "data": {
      "text/plain": [
       "(298, 24)"
      ]
     },
     "execution_count": 371,
     "metadata": {},
     "output_type": "execute_result"
    }
   ],
   "source": [
    "df_SUP_history.shape"
   ]
  },
  {
   "cell_type": "code",
   "execution_count": 372,
   "metadata": {},
   "outputs": [
    {
     "data": {
      "text/plain": [
       "Index(['受试者编号', '出院诊断', '主要疾病转归_描述', '用药开始时间', '用药结束时间', '用药天数', 'EXDOSFRQ',\n",
       "       'EXDSTXT', '日剂量', '心血管疾病_label', '呼吸系统疾病_label', '神经系统疾病_label',\n",
       "       '泌尿系统疾病_label', '内分泌和代谢疾病_label', '消化系统疾病_label', '危重症疾病_label', '住院日期',\n",
       "       '完成日期', '住院时长', '年龄', '性别', '基础疾病', 'family_history',\n",
       "       'allergy_history'],\n",
       "      dtype='object')"
      ]
     },
     "execution_count": 372,
     "metadata": {},
     "output_type": "execute_result"
    }
   ],
   "source": [
    "df_SUP_history.columns"
   ]
  },
  {
   "cell_type": "code",
   "execution_count": 373,
   "metadata": {},
   "outputs": [],
   "source": [
    "df_SUP_history.to_excel(project_path+'/data/processed_data/df_1.8.5_并入个人病史.xlsx')"
   ]
  },
  {
   "cell_type": "markdown",
   "metadata": {},
   "source": [
    "## 提取联合用药"
   ]
  },
  {
   "cell_type": "markdown",
   "metadata": {},
   "source": [
    "### 提取联合用药"
   ]
  },
  {
   "cell_type": "code",
   "execution_count": 374,
   "metadata": {},
   "outputs": [],
   "source": [
    "# 其他科\n",
    "df_drug_other_1 = pd.read_excel(project_path+'/data/raw_data/导出全部CRF表数据-其他科1021.xlsx',\n",
    "                            sheet_name='CM_合并用药',\n",
    "                           header=1,)  # 指定第2行作为标题行\n",
    "#                            skiprows=[1,1,1])  # 跳过第1行\n",
    "\n",
    "# 标记受试者编号\n",
    "df_drug_other_1['受试者编号']=df_drug_other_1['受试者编号'].apply(lambda x: str(x)+'_a')\n",
    "\n",
    "# 提取有效字段\n",
    "df_drug_other_1=df_drug_other_1[['受试者编号','药物名称（通用名）','用药开始日期','用药结束日期']]"
   ]
  },
  {
   "cell_type": "code",
   "execution_count": 375,
   "metadata": {},
   "outputs": [
    {
     "data": {
      "text/html": [
       "<div>\n",
       "<style scoped>\n",
       "    .dataframe tbody tr th:only-of-type {\n",
       "        vertical-align: middle;\n",
       "    }\n",
       "\n",
       "    .dataframe tbody tr th {\n",
       "        vertical-align: top;\n",
       "    }\n",
       "\n",
       "    .dataframe thead th {\n",
       "        text-align: right;\n",
       "    }\n",
       "</style>\n",
       "<table border=\"1\" class=\"dataframe\">\n",
       "  <thead>\n",
       "    <tr style=\"text-align: right;\">\n",
       "      <th></th>\n",
       "      <th>受试者编号</th>\n",
       "      <th>药物名称（通用名）</th>\n",
       "      <th>用药开始日期</th>\n",
       "      <th>用药结束日期</th>\n",
       "    </tr>\n",
       "  </thead>\n",
       "  <tbody>\n",
       "    <tr>\n",
       "      <th>0</th>\n",
       "      <td>90001_a</td>\n",
       "      <td>乳果糖口服液</td>\n",
       "      <td>2018-04-08</td>\n",
       "      <td>2018-04-15</td>\n",
       "    </tr>\n",
       "    <tr>\n",
       "      <th>1</th>\n",
       "      <td>90001_a</td>\n",
       "      <td>依达拉奉注射液</td>\n",
       "      <td>2018-04-09</td>\n",
       "      <td>2018-04-15</td>\n",
       "    </tr>\n",
       "    <tr>\n",
       "      <th>2</th>\n",
       "      <td>90001_a</td>\n",
       "      <td>精蛋白生物合成人胰岛素30R</td>\n",
       "      <td>2018-04-11</td>\n",
       "      <td>2018-04-15</td>\n",
       "    </tr>\n",
       "    <tr>\n",
       "      <th>3</th>\n",
       "      <td>90001_a</td>\n",
       "      <td>二甲双胍片</td>\n",
       "      <td>2018-04-14</td>\n",
       "      <td>2018-04-15</td>\n",
       "    </tr>\n",
       "    <tr>\n",
       "      <th>4</th>\n",
       "      <td>90001_a</td>\n",
       "      <td>醒脑静注射液</td>\n",
       "      <td>2018-04-14</td>\n",
       "      <td>2018-04-15</td>\n",
       "    </tr>\n",
       "    <tr>\n",
       "      <th>...</th>\n",
       "      <td>...</td>\n",
       "      <td>...</td>\n",
       "      <td>...</td>\n",
       "      <td>...</td>\n",
       "    </tr>\n",
       "    <tr>\n",
       "      <th>1687</th>\n",
       "      <td>90645_a</td>\n",
       "      <td>曲美他嗪片</td>\n",
       "      <td>2019-08-08</td>\n",
       "      <td>2019-08-17</td>\n",
       "    </tr>\n",
       "    <tr>\n",
       "      <th>1688</th>\n",
       "      <td>90645_a</td>\n",
       "      <td>银杏内脂注射液</td>\n",
       "      <td>2019-08-08</td>\n",
       "      <td>2019-08-17</td>\n",
       "    </tr>\n",
       "    <tr>\n",
       "      <th>1689</th>\n",
       "      <td>90646_a</td>\n",
       "      <td>巴氯芬片</td>\n",
       "      <td>2019-08-20</td>\n",
       "      <td>2019-08-22</td>\n",
       "    </tr>\n",
       "    <tr>\n",
       "      <th>1690</th>\n",
       "      <td>90646_a</td>\n",
       "      <td>泮托拉唑肠溶片</td>\n",
       "      <td>2019-08-20</td>\n",
       "      <td>2019-08-22</td>\n",
       "    </tr>\n",
       "    <tr>\n",
       "      <th>1691</th>\n",
       "      <td>90646_a</td>\n",
       "      <td>银杏内脂注射液</td>\n",
       "      <td>2019-08-17</td>\n",
       "      <td>2019-08-24</td>\n",
       "    </tr>\n",
       "  </tbody>\n",
       "</table>\n",
       "<p>1692 rows × 4 columns</p>\n",
       "</div>"
      ],
      "text/plain": [
       "        受试者编号       药物名称（通用名）      用药开始日期      用药结束日期\n",
       "0     90001_a          乳果糖口服液  2018-04-08  2018-04-15\n",
       "1     90001_a         依达拉奉注射液  2018-04-09  2018-04-15\n",
       "2     90001_a  精蛋白生物合成人胰岛素30R  2018-04-11  2018-04-15\n",
       "3     90001_a           二甲双胍片  2018-04-14  2018-04-15\n",
       "4     90001_a          醒脑静注射液  2018-04-14  2018-04-15\n",
       "...       ...             ...         ...         ...\n",
       "1687  90645_a           曲美他嗪片  2019-08-08  2019-08-17\n",
       "1688  90645_a         银杏内脂注射液  2019-08-08  2019-08-17\n",
       "1689  90646_a            巴氯芬片  2019-08-20  2019-08-22\n",
       "1690  90646_a         泮托拉唑肠溶片  2019-08-20  2019-08-22\n",
       "1691  90646_a         银杏内脂注射液  2019-08-17  2019-08-24\n",
       "\n",
       "[1692 rows x 4 columns]"
      ]
     },
     "execution_count": 375,
     "metadata": {},
     "output_type": "execute_result"
    }
   ],
   "source": [
    "df_drug_other_1"
   ]
  },
  {
   "cell_type": "code",
   "execution_count": 376,
   "metadata": {},
   "outputs": [],
   "source": [
    "# 心内科\n",
    "df_drug_other_2 = pd.read_excel(project_path+'/data/raw_data//导出全部CRF表数据-心内科1021.xlsx',\n",
    "                            sheet_name='CM_合并用药',\n",
    "                           header=1,)  # 指定第2行作为标题行\n",
    "#                            skiprows=[1,1,1])  # 跳过第1行\n",
    "\n",
    "# 标记受试者编号\n",
    "df_drug_other_2['受试者编号']=df_drug_other_2['受试者编号'].apply(lambda x: str(x)+'_b')\n",
    "# 提取有效字段\n",
    "df_drug_other_2=df_drug_other_2[['受试者编号','药物名称（通用名）','用药开始日期','用药结束日期']]"
   ]
  },
  {
   "cell_type": "code",
   "execution_count": 377,
   "metadata": {},
   "outputs": [
    {
     "name": "stdout",
     "output_type": "stream",
     "text": [
      "(1692, 4)\n",
      "(311, 4)\n"
     ]
    }
   ],
   "source": [
    "print(df_drug_other_1.shape)\n",
    "print(df_drug_other_2.shape)"
   ]
  },
  {
   "cell_type": "code",
   "execution_count": 378,
   "metadata": {},
   "outputs": [],
   "source": [
    "# 合并其他科和心内科联合用药\n",
    "df_drug_other=pd.concat([df_drug_other_1,df_drug_other_2])"
   ]
  },
  {
   "cell_type": "code",
   "execution_count": 379,
   "metadata": {},
   "outputs": [
    {
     "data": {
      "text/plain": [
       "341"
      ]
     },
     "execution_count": 379,
     "metadata": {},
     "output_type": "execute_result"
    }
   ],
   "source": [
    "df_drug_other['药物名称（通用名）'].nunique()"
   ]
  },
  {
   "cell_type": "code",
   "execution_count": 380,
   "metadata": {},
   "outputs": [],
   "source": [
    "df_drug_other.to_excel(project_path+'/data/processed_data/df_1.9.1_联合用药.xlsx')"
   ]
  },
  {
   "cell_type": "markdown",
   "metadata": {},
   "source": [
    "### 筛选出院前3天的联合用药"
   ]
  },
  {
   "cell_type": "code",
   "execution_count": 381,
   "metadata": {
    "code_folding": []
   },
   "outputs": [],
   "source": [
    "# 提取出院前3天的联合用药\n",
    "temp_list=[]\n",
    "for i in df_SUP_history.受试者编号.unique():\n",
    "    temp=df_SUP_history[df_SUP_history['受试者编号']==i]\n",
    "    temp=temp.reset_index(drop=True)\n",
    "    temp_other=df_drug_other[df_drug_other['受试者编号']==i]\n",
    "    temp_other=temp_other.reset_index(drop=True)\n",
    "    \n",
    "    temp_other_choose=temp_other[(pd.to_datetime(temp_other['用药结束日期'])>=pd.to_datetime(temp.loc[0,'完成日期'])-datetime.timedelta(days=1))&\n",
    "                                 (pd.to_datetime(temp_other['用药开始日期'])<=pd.to_datetime(temp.loc[0,'完成日期'])-datetime.timedelta(days=3))]\n",
    "\n",
    "    temp_list.append(temp_other_choose)"
   ]
  },
  {
   "cell_type": "code",
   "execution_count": 382,
   "metadata": {
    "code_folding": []
   },
   "outputs": [],
   "source": [
    "df_drug_other_choose=pd.concat(temp_list,axis=0).reset_index(drop=True)\n",
    "del temp_list"
   ]
  },
  {
   "cell_type": "code",
   "execution_count": 383,
   "metadata": {},
   "outputs": [],
   "source": [
    "df_drug_other_choose=df_drug_other_choose.rename(columns={'药物名称（通用名）':'drug_name'})"
   ]
  },
  {
   "cell_type": "code",
   "execution_count": 384,
   "metadata": {},
   "outputs": [
    {
     "data": {
      "text/html": [
       "<div>\n",
       "<style scoped>\n",
       "    .dataframe tbody tr th:only-of-type {\n",
       "        vertical-align: middle;\n",
       "    }\n",
       "\n",
       "    .dataframe tbody tr th {\n",
       "        vertical-align: top;\n",
       "    }\n",
       "\n",
       "    .dataframe thead th {\n",
       "        text-align: right;\n",
       "    }\n",
       "</style>\n",
       "<table border=\"1\" class=\"dataframe\">\n",
       "  <thead>\n",
       "    <tr style=\"text-align: right;\">\n",
       "      <th></th>\n",
       "      <th>受试者编号</th>\n",
       "      <th>drug_name</th>\n",
       "      <th>用药开始日期</th>\n",
       "      <th>用药结束日期</th>\n",
       "    </tr>\n",
       "  </thead>\n",
       "  <tbody>\n",
       "    <tr>\n",
       "      <th>0</th>\n",
       "      <td>90001_a</td>\n",
       "      <td>乳果糖口服液</td>\n",
       "      <td>2018-04-08</td>\n",
       "      <td>2018-04-15</td>\n",
       "    </tr>\n",
       "    <tr>\n",
       "      <th>1</th>\n",
       "      <td>90001_a</td>\n",
       "      <td>依达拉奉注射液</td>\n",
       "      <td>2018-04-09</td>\n",
       "      <td>2018-04-15</td>\n",
       "    </tr>\n",
       "    <tr>\n",
       "      <th>2</th>\n",
       "      <td>90001_a</td>\n",
       "      <td>精蛋白生物合成人胰岛素30R</td>\n",
       "      <td>2018-04-11</td>\n",
       "      <td>2018-04-15</td>\n",
       "    </tr>\n",
       "    <tr>\n",
       "      <th>3</th>\n",
       "      <td>90003_a</td>\n",
       "      <td>J叶酸片</td>\n",
       "      <td>2018-03-12</td>\n",
       "      <td>2018-03-17</td>\n",
       "    </tr>\n",
       "    <tr>\n",
       "      <th>4</th>\n",
       "      <td>90003_a</td>\n",
       "      <td>0.9%氯化钠针</td>\n",
       "      <td>2018-03-12</td>\n",
       "      <td>2018-03-17</td>\n",
       "    </tr>\n",
       "  </tbody>\n",
       "</table>\n",
       "</div>"
      ],
      "text/plain": [
       "     受试者编号       drug_name      用药开始日期      用药结束日期\n",
       "0  90001_a          乳果糖口服液  2018-04-08  2018-04-15\n",
       "1  90001_a         依达拉奉注射液  2018-04-09  2018-04-15\n",
       "2  90001_a  精蛋白生物合成人胰岛素30R  2018-04-11  2018-04-15\n",
       "3  90003_a            J叶酸片  2018-03-12  2018-03-17\n",
       "4  90003_a        0.9%氯化钠针  2018-03-12  2018-03-17"
      ]
     },
     "execution_count": 384,
     "metadata": {},
     "output_type": "execute_result"
    }
   ],
   "source": [
    "df_drug_other_choose.head()"
   ]
  },
  {
   "cell_type": "code",
   "execution_count": 385,
   "metadata": {
    "code_folding": []
   },
   "outputs": [],
   "source": [
    "df_drug_other_choose.to_excel(project_path+'/data/processed_data/df_1.9.2_出院前3天内的联合用药.xlsx')"
   ]
  },
  {
   "cell_type": "markdown",
   "metadata": {},
   "source": [
    "### 统计联合用药"
   ]
  },
  {
   "cell_type": "code",
   "execution_count": 386,
   "metadata": {},
   "outputs": [],
   "source": [
    "drug_name_counts=df_drug_other_choose['drug_name'].value_counts()\n",
    "df_drug_other_name=pd.DataFrame(data={'药物名称':drug_name_counts.index,\n",
    "                                     '频次':drug_name_counts.values})\n",
    "# 保存联合用药名\n",
    "df_drug_other_name.to_excel(project_path+'/data/processed_data/df_1.9.3_统计联合用药名.xlsx')"
   ]
  },
  {
   "cell_type": "markdown",
   "metadata": {},
   "source": [
    "### 选取重要联合用药"
   ]
  },
  {
   "cell_type": "code",
   "execution_count": 387,
   "metadata": {},
   "outputs": [
    {
     "data": {
      "text/plain": [
       "'\\n阿司匹林肠溶片、阿司匹灵肠溶片、阿司匹林溶肠片\\n阿托伐他汀钙片、阿伐他汀钙片\\n瑞舒伐他汀钙片、瑞舒伐他汀钙片 、瑞姝伐他汀钙片、 瑞舒伐他汀钙片\\n'"
      ]
     },
     "execution_count": 387,
     "metadata": {},
     "output_type": "execute_result"
    }
   ],
   "source": [
    "'''\n",
    "阿司匹林肠溶片、阿司匹灵肠溶片、阿司匹林溶肠片\n",
    "阿托伐他汀钙片、阿伐他汀钙片\n",
    "瑞舒伐他汀钙片、瑞舒伐他汀钙片 、瑞姝伐他汀钙片、 瑞舒伐他汀钙片\n",
    "银杏内酯注射液、银杏内脂注射液\n",
    "'''"
   ]
  },
  {
   "cell_type": "code",
   "execution_count": 388,
   "metadata": {},
   "outputs": [],
   "source": [
    "df_drug_ASA=df_drug_other_choose[df_drug_other_choose.drug_name.str.contains('阿司匹')]\n",
    "df_drug_AC=df_drug_other_choose[df_drug_other_choose.drug_name.str.contains('阿托伐他汀|阿伐他汀')]\n",
    "df_drug_crestor=df_drug_other_choose[df_drug_other_choose.drug_name.str.contains('瑞舒伐他汀|瑞姝伐他汀')]\n",
    "df_drug_GGI=df_drug_other_choose[df_drug_other_choose.drug_name.str.contains('瑞舒伐他汀|瑞姝伐他汀')]"
   ]
  },
  {
   "cell_type": "code",
   "execution_count": 389,
   "metadata": {},
   "outputs": [
    {
     "data": {
      "text/plain": [
       "array(['阿司匹灵肠溶片', '阿司匹林肠溶片', '阿司匹林溶肠片'], dtype=object)"
      ]
     },
     "execution_count": 389,
     "metadata": {},
     "output_type": "execute_result"
    }
   ],
   "source": [
    "df_drug_ASA.drug_name.unique()"
   ]
  },
  {
   "cell_type": "code",
   "execution_count": 390,
   "metadata": {},
   "outputs": [
    {
     "data": {
      "text/plain": [
       "array(['阿托伐他汀钙片', '阿伐他汀钙片'], dtype=object)"
      ]
     },
     "execution_count": 390,
     "metadata": {},
     "output_type": "execute_result"
    }
   ],
   "source": [
    "df_drug_AC.drug_name.unique()"
   ]
  },
  {
   "cell_type": "code",
   "execution_count": 391,
   "metadata": {},
   "outputs": [
    {
     "data": {
      "text/plain": [
       "array(['瑞姝伐他汀钙片', '瑞舒伐他汀钙片', ' 瑞舒伐他汀钙片', '瑞舒伐他汀钙片 '], dtype=object)"
      ]
     },
     "execution_count": 391,
     "metadata": {},
     "output_type": "execute_result"
    }
   ],
   "source": [
    "df_drug_crestor.drug_name.unique()"
   ]
  },
  {
   "cell_type": "code",
   "execution_count": 392,
   "metadata": {},
   "outputs": [],
   "source": [
    "df_drug_ASA.to_excel(project_path+'/data/processed_data/联合用药/df_1.9.4_阿司匹林.xlsx')\n",
    "df_drug_AC.to_excel(project_path+'/data/processed_data/联合用药/df_1.9.4_阿托伐他汀.xlsx')\n",
    "df_drug_crestor.to_excel(project_path+'/data/processed_data/联合用药/df_1.9.4_瑞舒伐他汀.xlsx')"
   ]
  },
  {
   "cell_type": "markdown",
   "metadata": {},
   "source": [
    "### 合并联合用药"
   ]
  },
  {
   "cell_type": "code",
   "execution_count": 393,
   "metadata": {},
   "outputs": [],
   "source": [
    "df_SUP_drug_other=df_SUP_history.copy()"
   ]
  },
  {
   "cell_type": "code",
   "execution_count": 394,
   "metadata": {},
   "outputs": [
    {
     "data": {
      "text/plain": [
       "Index(['受试者编号', '出院诊断', '主要疾病转归_描述', '用药开始时间', '用药结束时间', '用药天数', 'EXDOSFRQ',\n",
       "       'EXDSTXT', '日剂量', '心血管疾病_label', '呼吸系统疾病_label', '神经系统疾病_label',\n",
       "       '泌尿系统疾病_label', '内分泌和代谢疾病_label', '消化系统疾病_label', '危重症疾病_label', '住院日期',\n",
       "       '完成日期', '住院时长', '年龄', '性别', '基础疾病', 'family_history',\n",
       "       'allergy_history'],\n",
       "      dtype='object')"
      ]
     },
     "execution_count": 394,
     "metadata": {},
     "output_type": "execute_result"
    }
   ],
   "source": [
    "df_SUP_drug_other.columns"
   ]
  },
  {
   "cell_type": "code",
   "execution_count": 395,
   "metadata": {},
   "outputs": [
    {
     "data": {
      "text/plain": [
       "Index(['受试者编号', 'drug_name', '用药开始日期', '用药结束日期'], dtype='object')"
      ]
     },
     "execution_count": 395,
     "metadata": {},
     "output_type": "execute_result"
    }
   ],
   "source": [
    "df_drug_ASA.columns"
   ]
  },
  {
   "cell_type": "code",
   "execution_count": 396,
   "metadata": {},
   "outputs": [],
   "source": [
    "# 并入联合用药阿司匹林、阿托伐他汀、瑞舒伐他汀\n",
    "df_SUP_drug_other['drug_ASA']=df_SUP_drug_other.受试者编号.apply(lambda x: 1 if x in df_drug_ASA.受试者编号.unique() else 0)\n",
    "df_SUP_drug_other['drug_AC']=df_SUP_drug_other.受试者编号.apply(lambda x: 1 if x in df_drug_AC.受试者编号.unique() else 0)\n",
    "df_SUP_drug_other['drug_crestor']=df_SUP_drug_other.受试者编号.apply(lambda x: 1 if x in df_drug_crestor.受试者编号.unique() else 0)"
   ]
  },
  {
   "cell_type": "code",
   "execution_count": 397,
   "metadata": {},
   "outputs": [
    {
     "data": {
      "text/plain": [
       "(298, 27)"
      ]
     },
     "execution_count": 397,
     "metadata": {},
     "output_type": "execute_result"
    }
   ],
   "source": [
    "df_SUP_drug_other.shape"
   ]
  },
  {
   "cell_type": "code",
   "execution_count": 398,
   "metadata": {},
   "outputs": [],
   "source": [
    "df_SUP_drug_other.to_excel(project_path+'/data/processed_data/df_1.9.5_合并联合用药.xlsx')"
   ]
  },
  {
   "cell_type": "markdown",
   "metadata": {},
   "source": [
    "## 提取检测信息"
   ]
  },
  {
   "cell_type": "code",
   "execution_count": 399,
   "metadata": {},
   "outputs": [],
   "source": [
    "df_SUP_test=df_SUP_drug_other.copy()"
   ]
  },
  {
   "cell_type": "markdown",
   "metadata": {},
   "source": [
    "### 血常规"
   ]
  },
  {
   "cell_type": "code",
   "execution_count": 400,
   "metadata": {},
   "outputs": [],
   "source": [
    "# 其他科-入院血常规\n",
    "df_血常规_1 = pd.read_excel(project_path+'/data/raw_data/导出全部CRF表数据-其他科1021.xlsx',\n",
    "                            sheet_name='LBR_血常规',\n",
    "                           header=1,)  # 指定第2行作为标题行\n",
    "#                            skiprows=[1,1,1])  # 跳过第1行\n",
    "# 心内科-入院血常规\n",
    "df_血常规_2 = pd.read_excel(project_path+'/data/raw_data/导出全部CRF表数据-心内科1021.xlsx',\n",
    "                            sheet_name='LBR_血常规',\n",
    "                           header=1,)  # 指定第2行作为标题行\n",
    "#                            skiprows=[1,1,1])  # 跳过第几行)"
   ]
  },
  {
   "cell_type": "code",
   "execution_count": 401,
   "metadata": {},
   "outputs": [],
   "source": [
    "# 标记受试者编号\n",
    "df_血常规_1['受试者编号']=df_血常规_1['受试者编号'].apply(lambda x: str(x)+'_a')\n",
    "# 标记受试者编号\n",
    "df_血常规_2['受试者编号']=df_血常规_2['受试者编号'].apply(lambda x: str(x)+'_b')"
   ]
  },
  {
   "cell_type": "code",
   "execution_count": 402,
   "metadata": {},
   "outputs": [
    {
     "data": {
      "text/plain": [
       "Index(['方案号', '中心标识', '中心名称', '受试者编号', '访视', '检查日期', '红细胞', '红细胞-临床意义',\n",
       "       '红细胞-临床意义_描述', '红细胞-异常请描述', '血红蛋白', '血红蛋白-临床意义', '血红蛋白-临床意义_描述',\n",
       "       '血红蛋白-异常请描述', '白细胞', '白细胞-临床意义', '白细胞-临床意义_描述', '白细胞-异常请描述', '中性粒细胞计数',\n",
       "       '中性粒细胞计数-临床意义', '中性粒细胞计数-临床意义_描述', '中性粒细胞计数-异常请描述', '血小板', '血小板-临床意义',\n",
       "       '血小板-临床意义_描述', '血小板-异常请描述', '红细胞压积', '红细胞压积-临床意义', '红细胞压积-临床意义_描述',\n",
       "       '红细胞压积-异常请描述', '原始录入日期', '最后修改日期'],\n",
       "      dtype='object')"
      ]
     },
     "execution_count": 402,
     "metadata": {},
     "output_type": "execute_result"
    }
   ],
   "source": [
    "df_血常规_1.columns"
   ]
  },
  {
   "cell_type": "code",
   "execution_count": 403,
   "metadata": {},
   "outputs": [
    {
     "data": {
      "text/plain": [
       "Index(['方案号', '中心标识', '中心名称', '受试者编号', '访视', '检查日期', '红细胞', '红细胞-临床意义',\n",
       "       '红细胞-临床意义_描述', '红细胞-异常请描述', '血红蛋白', '血红蛋白-临床意义', '血红蛋白-临床意义_描述',\n",
       "       '血红蛋白-异常请描述', '白细胞', '白细胞-临床意义', '白细胞-临床意义_描述', '白细胞-异常请描述', '中性粒细胞计数',\n",
       "       '中性粒细胞计数-临床意义', '中性粒细胞计数-临床意义_描述', '中性粒细胞计数-异常请描述', '血小板', '血小板-临床意义',\n",
       "       '血小板-临床意义_描述', '血小板-异常请描述', '红细胞压积', '红细胞压积-临床意义', '红细胞压积-临床意义_描述',\n",
       "       '红细胞压积-异常请描述', '原始录入日期', '最后修改日期'],\n",
       "      dtype='object')"
      ]
     },
     "execution_count": 403,
     "metadata": {},
     "output_type": "execute_result"
    }
   ],
   "source": [
    "df_血常规_2.columns"
   ]
  },
  {
   "cell_type": "code",
   "execution_count": 404,
   "metadata": {},
   "outputs": [],
   "source": [
    "# 提取有效字段\n",
    "df_血常规_1=df_血常规_1[['访视','受试者编号','检查日期','红细胞','血红蛋白','白细胞','中性粒细胞计数','血小板','红细胞压积']]\n",
    "# 提取有效字段\n",
    "df_血常规_2=df_血常规_2[['访视','受试者编号','检查日期','红细胞','血红蛋白','白细胞','中性粒细胞计数','血小板','红细胞压积']]"
   ]
  },
  {
   "cell_type": "code",
   "execution_count": 405,
   "metadata": {},
   "outputs": [
    {
     "data": {
      "text/plain": [
       "(1176, 9)"
      ]
     },
     "execution_count": 405,
     "metadata": {},
     "output_type": "execute_result"
    }
   ],
   "source": [
    "df_血常规_1.shape"
   ]
  },
  {
   "cell_type": "code",
   "execution_count": 406,
   "metadata": {
    "scrolled": true
   },
   "outputs": [
    {
     "data": {
      "text/html": [
       "<div>\n",
       "<style scoped>\n",
       "    .dataframe tbody tr th:only-of-type {\n",
       "        vertical-align: middle;\n",
       "    }\n",
       "\n",
       "    .dataframe tbody tr th {\n",
       "        vertical-align: top;\n",
       "    }\n",
       "\n",
       "    .dataframe thead th {\n",
       "        text-align: right;\n",
       "    }\n",
       "</style>\n",
       "<table border=\"1\" class=\"dataframe\">\n",
       "  <thead>\n",
       "    <tr style=\"text-align: right;\">\n",
       "      <th></th>\n",
       "      <th>访视</th>\n",
       "      <th>受试者编号</th>\n",
       "      <th>检查日期</th>\n",
       "      <th>红细胞</th>\n",
       "      <th>血红蛋白</th>\n",
       "      <th>白细胞</th>\n",
       "      <th>中性粒细胞计数</th>\n",
       "      <th>血小板</th>\n",
       "      <th>红细胞压积</th>\n",
       "    </tr>\n",
       "  </thead>\n",
       "  <tbody>\n",
       "    <tr>\n",
       "      <th>0</th>\n",
       "      <td>入院检查</td>\n",
       "      <td>90001_a</td>\n",
       "      <td>2018-03-31</td>\n",
       "      <td>4.38</td>\n",
       "      <td>127.0</td>\n",
       "      <td>10.6</td>\n",
       "      <td>75.4</td>\n",
       "      <td>315.0</td>\n",
       "      <td>37.2</td>\n",
       "    </tr>\n",
       "    <tr>\n",
       "      <th>1</th>\n",
       "      <td>出院前检查</td>\n",
       "      <td>90001_a</td>\n",
       "      <td>2018-04-10</td>\n",
       "      <td>3.85</td>\n",
       "      <td>111.0</td>\n",
       "      <td>15.0</td>\n",
       "      <td>75.0</td>\n",
       "      <td>337.0</td>\n",
       "      <td>32.5</td>\n",
       "    </tr>\n",
       "    <tr>\n",
       "      <th>2</th>\n",
       "      <td>入院检查</td>\n",
       "      <td>90003_a</td>\n",
       "      <td>2018-01-31</td>\n",
       "      <td>4.70</td>\n",
       "      <td>133.0</td>\n",
       "      <td>1.8</td>\n",
       "      <td>87.5</td>\n",
       "      <td>136.0</td>\n",
       "      <td>38.7</td>\n",
       "    </tr>\n",
       "    <tr>\n",
       "      <th>3</th>\n",
       "      <td>出院前检查</td>\n",
       "      <td>90003_a</td>\n",
       "      <td>NaN</td>\n",
       "      <td>NaN</td>\n",
       "      <td>NaN</td>\n",
       "      <td>NaN</td>\n",
       "      <td>NaN</td>\n",
       "      <td>NaN</td>\n",
       "      <td>NaN</td>\n",
       "    </tr>\n",
       "    <tr>\n",
       "      <th>4</th>\n",
       "      <td>入院检查</td>\n",
       "      <td>90004_a</td>\n",
       "      <td>2018-01-26</td>\n",
       "      <td>2.99</td>\n",
       "      <td>97.0</td>\n",
       "      <td>6.2</td>\n",
       "      <td>59.9</td>\n",
       "      <td>226.0</td>\n",
       "      <td>29.0</td>\n",
       "    </tr>\n",
       "  </tbody>\n",
       "</table>\n",
       "</div>"
      ],
      "text/plain": [
       "      访视    受试者编号        检查日期   红细胞   血红蛋白   白细胞  中性粒细胞计数    血小板  红细胞压积\n",
       "0   入院检查  90001_a  2018-03-31  4.38  127.0  10.6     75.4  315.0   37.2\n",
       "1  出院前检查  90001_a  2018-04-10  3.85  111.0  15.0     75.0  337.0   32.5\n",
       "2   入院检查  90003_a  2018-01-31  4.70  133.0   1.8     87.5  136.0   38.7\n",
       "3  出院前检查  90003_a         NaN   NaN    NaN   NaN      NaN    NaN    NaN\n",
       "4   入院检查  90004_a  2018-01-26  2.99   97.0   6.2     59.9  226.0   29.0"
      ]
     },
     "execution_count": 406,
     "metadata": {},
     "output_type": "execute_result"
    }
   ],
   "source": [
    "df_血常规_1.head()"
   ]
  },
  {
   "cell_type": "markdown",
   "metadata": {},
   "source": [
    "#### 入院检查"
   ]
  },
  {
   "cell_type": "code",
   "execution_count": 407,
   "metadata": {},
   "outputs": [],
   "source": [
    "# 其他科--入院血常规检测\n",
    "df_血常规_1_inp=df_血常规_1[df_血常规_1['访视'].str.contains('入院检查')]\n",
    "df_血常规_1_inp=df_血常规_1_inp.reset_index(drop=True)\n",
    "# 心内科--入院血常规检测\n",
    "df_血常规_2_inp=df_血常规_2[df_血常规_2['访视'].str.contains('入院检查')]\n",
    "df_血常规_2_inp=df_血常规_2_inp.reset_index(drop=True)\n",
    "# 合并入院血常规检查\n",
    "df_血常规_inp = pd.concat([df_血常规_1_inp,df_血常规_2_inp],axis=0)"
   ]
  },
  {
   "cell_type": "code",
   "execution_count": 408,
   "metadata": {},
   "outputs": [
    {
     "data": {
      "text/plain": [
       "(745, 9)"
      ]
     },
     "execution_count": 408,
     "metadata": {},
     "output_type": "execute_result"
    }
   ],
   "source": [
    "df_血常规_inp.shape"
   ]
  },
  {
   "cell_type": "code",
   "execution_count": 409,
   "metadata": {},
   "outputs": [
    {
     "data": {
      "text/html": [
       "<div>\n",
       "<style scoped>\n",
       "    .dataframe tbody tr th:only-of-type {\n",
       "        vertical-align: middle;\n",
       "    }\n",
       "\n",
       "    .dataframe tbody tr th {\n",
       "        vertical-align: top;\n",
       "    }\n",
       "\n",
       "    .dataframe thead th {\n",
       "        text-align: right;\n",
       "    }\n",
       "</style>\n",
       "<table border=\"1\" class=\"dataframe\">\n",
       "  <thead>\n",
       "    <tr style=\"text-align: right;\">\n",
       "      <th></th>\n",
       "      <th>访视</th>\n",
       "      <th>受试者编号</th>\n",
       "      <th>检查日期</th>\n",
       "      <th>红细胞</th>\n",
       "      <th>血红蛋白</th>\n",
       "      <th>白细胞</th>\n",
       "      <th>中性粒细胞计数</th>\n",
       "      <th>血小板</th>\n",
       "      <th>红细胞压积</th>\n",
       "    </tr>\n",
       "  </thead>\n",
       "  <tbody>\n",
       "    <tr>\n",
       "      <th>0</th>\n",
       "      <td>入院检查</td>\n",
       "      <td>90001_a</td>\n",
       "      <td>2018-03-31</td>\n",
       "      <td>4.38</td>\n",
       "      <td>127.0</td>\n",
       "      <td>10.60</td>\n",
       "      <td>75.4</td>\n",
       "      <td>315.0</td>\n",
       "      <td>37.2</td>\n",
       "    </tr>\n",
       "    <tr>\n",
       "      <th>1</th>\n",
       "      <td>入院检查</td>\n",
       "      <td>90003_a</td>\n",
       "      <td>2018-01-31</td>\n",
       "      <td>4.70</td>\n",
       "      <td>133.0</td>\n",
       "      <td>1.80</td>\n",
       "      <td>87.5</td>\n",
       "      <td>136.0</td>\n",
       "      <td>38.7</td>\n",
       "    </tr>\n",
       "    <tr>\n",
       "      <th>2</th>\n",
       "      <td>入院检查</td>\n",
       "      <td>90004_a</td>\n",
       "      <td>2018-01-26</td>\n",
       "      <td>2.99</td>\n",
       "      <td>97.0</td>\n",
       "      <td>6.20</td>\n",
       "      <td>59.9</td>\n",
       "      <td>226.0</td>\n",
       "      <td>29.0</td>\n",
       "    </tr>\n",
       "    <tr>\n",
       "      <th>3</th>\n",
       "      <td>入院检查</td>\n",
       "      <td>90005_a</td>\n",
       "      <td>2018-02-08</td>\n",
       "      <td>3.26</td>\n",
       "      <td>104.0</td>\n",
       "      <td>14.21</td>\n",
       "      <td>80.5</td>\n",
       "      <td>243.0</td>\n",
       "      <td>30.5</td>\n",
       "    </tr>\n",
       "    <tr>\n",
       "      <th>4</th>\n",
       "      <td>入院检查</td>\n",
       "      <td>90006_a</td>\n",
       "      <td>2018-02-12</td>\n",
       "      <td>4.36</td>\n",
       "      <td>125.0</td>\n",
       "      <td>8.00</td>\n",
       "      <td>58.5</td>\n",
       "      <td>260.0</td>\n",
       "      <td>37.7</td>\n",
       "    </tr>\n",
       "  </tbody>\n",
       "</table>\n",
       "</div>"
      ],
      "text/plain": [
       "     访视    受试者编号        检查日期   红细胞   血红蛋白    白细胞  中性粒细胞计数    血小板  红细胞压积\n",
       "0  入院检查  90001_a  2018-03-31  4.38  127.0  10.60     75.4  315.0   37.2\n",
       "1  入院检查  90003_a  2018-01-31  4.70  133.0   1.80     87.5  136.0   38.7\n",
       "2  入院检查  90004_a  2018-01-26  2.99   97.0   6.20     59.9  226.0   29.0\n",
       "3  入院检查  90005_a  2018-02-08  3.26  104.0  14.21     80.5  243.0   30.5\n",
       "4  入院检查  90006_a  2018-02-12  4.36  125.0   8.00     58.5  260.0   37.7"
      ]
     },
     "execution_count": 409,
     "metadata": {},
     "output_type": "execute_result"
    }
   ],
   "source": [
    "df_血常规_inp.head()"
   ]
  },
  {
   "cell_type": "code",
   "execution_count": 410,
   "metadata": {},
   "outputs": [],
   "source": [
    "df_血常规_inp.to_excel(project_path+'/data/processed_data/检测数据/df_血常规_入院检查.xlsx')"
   ]
  },
  {
   "cell_type": "markdown",
   "metadata": {},
   "source": [
    "#### 出院检查"
   ]
  },
  {
   "cell_type": "code",
   "execution_count": 411,
   "metadata": {},
   "outputs": [],
   "source": [
    "# 其他科--出院血常规检测\n",
    "df_血常规_1_oup=df_血常规_1[df_血常规_1['访视'].str.contains('出院前检查')]\n",
    "df_血常规_1_oup=df_血常规_1_oup.reset_index(drop=True)\n",
    "# 心内科--出院血常规检测\n",
    "df_血常规_2_oup=df_血常规_2[df_血常规_2['访视'].str.contains('出院前检查')]\n",
    "df_血常规_2_oup=df_血常规_2_oup.reset_index(drop=True)\n",
    "# 合并出院院血常规检查\n",
    "df_血常规_oup = pd.concat([df_血常规_1_oup,df_血常规_2_oup],axis=0)"
   ]
  },
  {
   "cell_type": "code",
   "execution_count": 412,
   "metadata": {},
   "outputs": [
    {
     "data": {
      "text/plain": [
       "(630, 9)"
      ]
     },
     "execution_count": 412,
     "metadata": {},
     "output_type": "execute_result"
    }
   ],
   "source": [
    "df_血常规_oup.shape"
   ]
  },
  {
   "cell_type": "code",
   "execution_count": 413,
   "metadata": {
    "scrolled": true
   },
   "outputs": [
    {
     "data": {
      "text/html": [
       "<div>\n",
       "<style scoped>\n",
       "    .dataframe tbody tr th:only-of-type {\n",
       "        vertical-align: middle;\n",
       "    }\n",
       "\n",
       "    .dataframe tbody tr th {\n",
       "        vertical-align: top;\n",
       "    }\n",
       "\n",
       "    .dataframe thead th {\n",
       "        text-align: right;\n",
       "    }\n",
       "</style>\n",
       "<table border=\"1\" class=\"dataframe\">\n",
       "  <thead>\n",
       "    <tr style=\"text-align: right;\">\n",
       "      <th></th>\n",
       "      <th>访视</th>\n",
       "      <th>受试者编号</th>\n",
       "      <th>检查日期</th>\n",
       "      <th>红细胞</th>\n",
       "      <th>血红蛋白</th>\n",
       "      <th>白细胞</th>\n",
       "      <th>中性粒细胞计数</th>\n",
       "      <th>血小板</th>\n",
       "      <th>红细胞压积</th>\n",
       "    </tr>\n",
       "  </thead>\n",
       "  <tbody>\n",
       "    <tr>\n",
       "      <th>0</th>\n",
       "      <td>出院前检查</td>\n",
       "      <td>90001_a</td>\n",
       "      <td>2018-04-10</td>\n",
       "      <td>3.85</td>\n",
       "      <td>111.0</td>\n",
       "      <td>15.0</td>\n",
       "      <td>75.0</td>\n",
       "      <td>337.0</td>\n",
       "      <td>32.5</td>\n",
       "    </tr>\n",
       "    <tr>\n",
       "      <th>1</th>\n",
       "      <td>出院前检查</td>\n",
       "      <td>90003_a</td>\n",
       "      <td>NaN</td>\n",
       "      <td>NaN</td>\n",
       "      <td>NaN</td>\n",
       "      <td>NaN</td>\n",
       "      <td>NaN</td>\n",
       "      <td>NaN</td>\n",
       "      <td>NaN</td>\n",
       "    </tr>\n",
       "    <tr>\n",
       "      <th>2</th>\n",
       "      <td>出院前检查</td>\n",
       "      <td>90004_a</td>\n",
       "      <td>NaN</td>\n",
       "      <td>NaN</td>\n",
       "      <td>NaN</td>\n",
       "      <td>NaN</td>\n",
       "      <td>NaN</td>\n",
       "      <td>NaN</td>\n",
       "      <td>NaN</td>\n",
       "    </tr>\n",
       "    <tr>\n",
       "      <th>3</th>\n",
       "      <td>出院前检查</td>\n",
       "      <td>90005_a</td>\n",
       "      <td>2018-02-13</td>\n",
       "      <td>3.11</td>\n",
       "      <td>103.0</td>\n",
       "      <td>13.3</td>\n",
       "      <td>67.7</td>\n",
       "      <td>194.0</td>\n",
       "      <td>29.1</td>\n",
       "    </tr>\n",
       "    <tr>\n",
       "      <th>4</th>\n",
       "      <td>出院前检查</td>\n",
       "      <td>90006_a</td>\n",
       "      <td>2018-02-19</td>\n",
       "      <td>4.10</td>\n",
       "      <td>120.0</td>\n",
       "      <td>9.6</td>\n",
       "      <td>73.1</td>\n",
       "      <td>256.0</td>\n",
       "      <td>35.2</td>\n",
       "    </tr>\n",
       "  </tbody>\n",
       "</table>\n",
       "</div>"
      ],
      "text/plain": [
       "      访视    受试者编号        检查日期   红细胞   血红蛋白   白细胞  中性粒细胞计数    血小板  红细胞压积\n",
       "0  出院前检查  90001_a  2018-04-10  3.85  111.0  15.0     75.0  337.0   32.5\n",
       "1  出院前检查  90003_a         NaN   NaN    NaN   NaN      NaN    NaN    NaN\n",
       "2  出院前检查  90004_a         NaN   NaN    NaN   NaN      NaN    NaN    NaN\n",
       "3  出院前检查  90005_a  2018-02-13  3.11  103.0  13.3     67.7  194.0   29.1\n",
       "4  出院前检查  90006_a  2018-02-19  4.10  120.0   9.6     73.1  256.0   35.2"
      ]
     },
     "execution_count": 413,
     "metadata": {},
     "output_type": "execute_result"
    }
   ],
   "source": [
    "df_血常规_oup.head()"
   ]
  },
  {
   "cell_type": "code",
   "execution_count": 414,
   "metadata": {},
   "outputs": [],
   "source": [
    "df_血常规_oup.to_excel(project_path+'/data/processed_data/检测数据/df_血常规_出院检查.xlsx')"
   ]
  },
  {
   "cell_type": "markdown",
   "metadata": {},
   "source": [
    "#### 修改列名"
   ]
  },
  {
   "cell_type": "code",
   "execution_count": 415,
   "metadata": {
    "scrolled": true
   },
   "outputs": [],
   "source": [
    "df_血常规_inp=df_血常规_inp.drop(['访视'],axis=1)\n",
    "df_血常规_oup=df_血常规_oup.drop(['访视'],axis=1)"
   ]
  },
  {
   "cell_type": "code",
   "execution_count": 416,
   "metadata": {},
   "outputs": [],
   "source": [
    "for i in df_血常规_inp.columns[1:]:\n",
    "    df_血常规_inp.rename(columns={i:i + '_入院'},inplace=True)\n",
    "for i in df_血常规_oup.columns[1:]:\n",
    "    df_血常规_oup.rename(columns={i:i+'_出院'},inplace=True)  "
   ]
  },
  {
   "cell_type": "code",
   "execution_count": 417,
   "metadata": {},
   "outputs": [],
   "source": [
    "df_test_血常规=pd.merge(df_血常规_inp,df_血常规_oup,on='受试者编号',how='outer')"
   ]
  },
  {
   "cell_type": "code",
   "execution_count": 418,
   "metadata": {},
   "outputs": [
    {
     "data": {
      "text/html": [
       "<div>\n",
       "<style scoped>\n",
       "    .dataframe tbody tr th:only-of-type {\n",
       "        vertical-align: middle;\n",
       "    }\n",
       "\n",
       "    .dataframe tbody tr th {\n",
       "        vertical-align: top;\n",
       "    }\n",
       "\n",
       "    .dataframe thead th {\n",
       "        text-align: right;\n",
       "    }\n",
       "</style>\n",
       "<table border=\"1\" class=\"dataframe\">\n",
       "  <thead>\n",
       "    <tr style=\"text-align: right;\">\n",
       "      <th></th>\n",
       "      <th>受试者编号</th>\n",
       "      <th>检查日期_入院</th>\n",
       "      <th>红细胞_入院</th>\n",
       "      <th>血红蛋白_入院</th>\n",
       "      <th>白细胞_入院</th>\n",
       "      <th>中性粒细胞计数_入院</th>\n",
       "      <th>血小板_入院</th>\n",
       "      <th>红细胞压积_入院</th>\n",
       "      <th>检查日期_出院</th>\n",
       "      <th>红细胞_出院</th>\n",
       "      <th>血红蛋白_出院</th>\n",
       "      <th>白细胞_出院</th>\n",
       "      <th>中性粒细胞计数_出院</th>\n",
       "      <th>血小板_出院</th>\n",
       "      <th>红细胞压积_出院</th>\n",
       "    </tr>\n",
       "  </thead>\n",
       "  <tbody>\n",
       "    <tr>\n",
       "      <th>0</th>\n",
       "      <td>90001_a</td>\n",
       "      <td>2018-03-31</td>\n",
       "      <td>4.38</td>\n",
       "      <td>127.0</td>\n",
       "      <td>10.60</td>\n",
       "      <td>75.4</td>\n",
       "      <td>315.0</td>\n",
       "      <td>37.2</td>\n",
       "      <td>2018-04-10</td>\n",
       "      <td>3.85</td>\n",
       "      <td>111.0</td>\n",
       "      <td>15.0</td>\n",
       "      <td>75.0</td>\n",
       "      <td>337.0</td>\n",
       "      <td>32.5</td>\n",
       "    </tr>\n",
       "    <tr>\n",
       "      <th>1</th>\n",
       "      <td>90003_a</td>\n",
       "      <td>2018-01-31</td>\n",
       "      <td>4.70</td>\n",
       "      <td>133.0</td>\n",
       "      <td>1.80</td>\n",
       "      <td>87.5</td>\n",
       "      <td>136.0</td>\n",
       "      <td>38.7</td>\n",
       "      <td>NaN</td>\n",
       "      <td>NaN</td>\n",
       "      <td>NaN</td>\n",
       "      <td>NaN</td>\n",
       "      <td>NaN</td>\n",
       "      <td>NaN</td>\n",
       "      <td>NaN</td>\n",
       "    </tr>\n",
       "    <tr>\n",
       "      <th>2</th>\n",
       "      <td>90004_a</td>\n",
       "      <td>2018-01-26</td>\n",
       "      <td>2.99</td>\n",
       "      <td>97.0</td>\n",
       "      <td>6.20</td>\n",
       "      <td>59.9</td>\n",
       "      <td>226.0</td>\n",
       "      <td>29.0</td>\n",
       "      <td>NaN</td>\n",
       "      <td>NaN</td>\n",
       "      <td>NaN</td>\n",
       "      <td>NaN</td>\n",
       "      <td>NaN</td>\n",
       "      <td>NaN</td>\n",
       "      <td>NaN</td>\n",
       "    </tr>\n",
       "    <tr>\n",
       "      <th>3</th>\n",
       "      <td>90005_a</td>\n",
       "      <td>2018-02-08</td>\n",
       "      <td>3.26</td>\n",
       "      <td>104.0</td>\n",
       "      <td>14.21</td>\n",
       "      <td>80.5</td>\n",
       "      <td>243.0</td>\n",
       "      <td>30.5</td>\n",
       "      <td>2018-02-13</td>\n",
       "      <td>3.11</td>\n",
       "      <td>103.0</td>\n",
       "      <td>13.3</td>\n",
       "      <td>67.7</td>\n",
       "      <td>194.0</td>\n",
       "      <td>29.1</td>\n",
       "    </tr>\n",
       "    <tr>\n",
       "      <th>4</th>\n",
       "      <td>90006_a</td>\n",
       "      <td>2018-02-12</td>\n",
       "      <td>4.36</td>\n",
       "      <td>125.0</td>\n",
       "      <td>8.00</td>\n",
       "      <td>58.5</td>\n",
       "      <td>260.0</td>\n",
       "      <td>37.7</td>\n",
       "      <td>2018-02-19</td>\n",
       "      <td>4.10</td>\n",
       "      <td>120.0</td>\n",
       "      <td>9.6</td>\n",
       "      <td>73.1</td>\n",
       "      <td>256.0</td>\n",
       "      <td>35.2</td>\n",
       "    </tr>\n",
       "  </tbody>\n",
       "</table>\n",
       "</div>"
      ],
      "text/plain": [
       "     受试者编号     检查日期_入院  红细胞_入院  血红蛋白_入院  白细胞_入院  中性粒细胞计数_入院  血小板_入院  红细胞压积_入院  \\\n",
       "0  90001_a  2018-03-31    4.38    127.0   10.60        75.4   315.0      37.2   \n",
       "1  90003_a  2018-01-31    4.70    133.0    1.80        87.5   136.0      38.7   \n",
       "2  90004_a  2018-01-26    2.99     97.0    6.20        59.9   226.0      29.0   \n",
       "3  90005_a  2018-02-08    3.26    104.0   14.21        80.5   243.0      30.5   \n",
       "4  90006_a  2018-02-12    4.36    125.0    8.00        58.5   260.0      37.7   \n",
       "\n",
       "      检查日期_出院  红细胞_出院  血红蛋白_出院  白细胞_出院  中性粒细胞计数_出院  血小板_出院  红细胞压积_出院  \n",
       "0  2018-04-10    3.85    111.0    15.0        75.0   337.0      32.5  \n",
       "1         NaN     NaN      NaN     NaN         NaN     NaN       NaN  \n",
       "2         NaN     NaN      NaN     NaN         NaN     NaN       NaN  \n",
       "3  2018-02-13    3.11    103.0    13.3        67.7   194.0      29.1  \n",
       "4  2018-02-19    4.10    120.0     9.6        73.1   256.0      35.2  "
      ]
     },
     "execution_count": 418,
     "metadata": {},
     "output_type": "execute_result"
    }
   ],
   "source": [
    "df_test_血常规.head()"
   ]
  },
  {
   "cell_type": "code",
   "execution_count": 419,
   "metadata": {},
   "outputs": [],
   "source": [
    "df_test_血常规.to_excel(project_path+'/data/processed_data/df_1.10.1.3_检查_血常规.xlsx')"
   ]
  },
  {
   "cell_type": "markdown",
   "metadata": {},
   "source": [
    "#### 统计血常规-住院天数"
   ]
  },
  {
   "cell_type": "code",
   "execution_count": 420,
   "metadata": {},
   "outputs": [],
   "source": [
    "# df_test_血常规=df_test_血常规[['受试者编号','检查日期_入院']]\n",
    "# df_inp_oup_time=df_SUP_history[['受试者编号','住院日期', '完成日期']]\n",
    "\n",
    "# # 合并检测时间和住院时间\n",
    "# df_血常规_time=pd.merge(df_血常规_入院_time,df_血常规_出院_time,on='受试者编号',how='right')\n",
    "# df_血常规_inp_oup = pd.merge(df_血常规_time,df_inp_oup_time,on='受试者编号',how='inner')\n",
    "\n",
    "# df_血常规_inp_oup['血常规-入院']=pd.to_datetime(df_血常规_inp_oup['住院日期'])-pd.to_datetime(df_血常规_inp_oup['检查日期_入院'])\n",
    "# df_血常规_inp_oup['血常规-入院']=df_血常规_inp_oup['血常规-入院'].apply(lambda x:x.days+1)\n",
    "\n",
    "# df_血常规_inp_oup['血常规-出院']=pd.to_datetime(df_血常规_inp_oup['完成日期'])-pd.to_datetime(df_血常规_inp_oup['检查日期_出院'])\n",
    "# df_血常规_inp_oup['血常规-出院']=df_血常规_inp_oup['血常规-出院'].apply(lambda x:x.days+1)\n",
    "\n",
    "# df_血常规_inp_oup.to_excel(project_path+'/data/processed_data/df_1.9.1.4_血常规-出入院时间统计.xlsx')"
   ]
  },
  {
   "cell_type": "markdown",
   "metadata": {},
   "source": [
    "#### 并入血常规检查"
   ]
  },
  {
   "cell_type": "code",
   "execution_count": 421,
   "metadata": {},
   "outputs": [
    {
     "data": {
      "text/html": [
       "<div>\n",
       "<style scoped>\n",
       "    .dataframe tbody tr th:only-of-type {\n",
       "        vertical-align: middle;\n",
       "    }\n",
       "\n",
       "    .dataframe tbody tr th {\n",
       "        vertical-align: top;\n",
       "    }\n",
       "\n",
       "    .dataframe thead th {\n",
       "        text-align: right;\n",
       "    }\n",
       "</style>\n",
       "<table border=\"1\" class=\"dataframe\">\n",
       "  <thead>\n",
       "    <tr style=\"text-align: right;\">\n",
       "      <th></th>\n",
       "      <th>受试者编号</th>\n",
       "      <th>检查日期_入院</th>\n",
       "      <th>红细胞_入院</th>\n",
       "      <th>血红蛋白_入院</th>\n",
       "      <th>白细胞_入院</th>\n",
       "      <th>中性粒细胞计数_入院</th>\n",
       "      <th>血小板_入院</th>\n",
       "      <th>红细胞压积_入院</th>\n",
       "      <th>检查日期_出院</th>\n",
       "      <th>红细胞_出院</th>\n",
       "      <th>血红蛋白_出院</th>\n",
       "      <th>白细胞_出院</th>\n",
       "      <th>中性粒细胞计数_出院</th>\n",
       "      <th>血小板_出院</th>\n",
       "      <th>红细胞压积_出院</th>\n",
       "    </tr>\n",
       "  </thead>\n",
       "  <tbody>\n",
       "    <tr>\n",
       "      <th>0</th>\n",
       "      <td>90001_a</td>\n",
       "      <td>2018-03-31</td>\n",
       "      <td>4.38</td>\n",
       "      <td>127.0</td>\n",
       "      <td>10.60</td>\n",
       "      <td>75.4</td>\n",
       "      <td>315.0</td>\n",
       "      <td>37.2</td>\n",
       "      <td>2018-04-10</td>\n",
       "      <td>3.85</td>\n",
       "      <td>111.0</td>\n",
       "      <td>15.0</td>\n",
       "      <td>75.0</td>\n",
       "      <td>337.0</td>\n",
       "      <td>32.5</td>\n",
       "    </tr>\n",
       "    <tr>\n",
       "      <th>1</th>\n",
       "      <td>90003_a</td>\n",
       "      <td>2018-01-31</td>\n",
       "      <td>4.70</td>\n",
       "      <td>133.0</td>\n",
       "      <td>1.80</td>\n",
       "      <td>87.5</td>\n",
       "      <td>136.0</td>\n",
       "      <td>38.7</td>\n",
       "      <td>NaN</td>\n",
       "      <td>NaN</td>\n",
       "      <td>NaN</td>\n",
       "      <td>NaN</td>\n",
       "      <td>NaN</td>\n",
       "      <td>NaN</td>\n",
       "      <td>NaN</td>\n",
       "    </tr>\n",
       "    <tr>\n",
       "      <th>2</th>\n",
       "      <td>90004_a</td>\n",
       "      <td>2018-01-26</td>\n",
       "      <td>2.99</td>\n",
       "      <td>97.0</td>\n",
       "      <td>6.20</td>\n",
       "      <td>59.9</td>\n",
       "      <td>226.0</td>\n",
       "      <td>29.0</td>\n",
       "      <td>NaN</td>\n",
       "      <td>NaN</td>\n",
       "      <td>NaN</td>\n",
       "      <td>NaN</td>\n",
       "      <td>NaN</td>\n",
       "      <td>NaN</td>\n",
       "      <td>NaN</td>\n",
       "    </tr>\n",
       "    <tr>\n",
       "      <th>3</th>\n",
       "      <td>90005_a</td>\n",
       "      <td>2018-02-08</td>\n",
       "      <td>3.26</td>\n",
       "      <td>104.0</td>\n",
       "      <td>14.21</td>\n",
       "      <td>80.5</td>\n",
       "      <td>243.0</td>\n",
       "      <td>30.5</td>\n",
       "      <td>2018-02-13</td>\n",
       "      <td>3.11</td>\n",
       "      <td>103.0</td>\n",
       "      <td>13.3</td>\n",
       "      <td>67.7</td>\n",
       "      <td>194.0</td>\n",
       "      <td>29.1</td>\n",
       "    </tr>\n",
       "    <tr>\n",
       "      <th>4</th>\n",
       "      <td>90006_a</td>\n",
       "      <td>2018-02-12</td>\n",
       "      <td>4.36</td>\n",
       "      <td>125.0</td>\n",
       "      <td>8.00</td>\n",
       "      <td>58.5</td>\n",
       "      <td>260.0</td>\n",
       "      <td>37.7</td>\n",
       "      <td>2018-02-19</td>\n",
       "      <td>4.10</td>\n",
       "      <td>120.0</td>\n",
       "      <td>9.6</td>\n",
       "      <td>73.1</td>\n",
       "      <td>256.0</td>\n",
       "      <td>35.2</td>\n",
       "    </tr>\n",
       "  </tbody>\n",
       "</table>\n",
       "</div>"
      ],
      "text/plain": [
       "     受试者编号     检查日期_入院  红细胞_入院  血红蛋白_入院  白细胞_入院  中性粒细胞计数_入院  血小板_入院  红细胞压积_入院  \\\n",
       "0  90001_a  2018-03-31    4.38    127.0   10.60        75.4   315.0      37.2   \n",
       "1  90003_a  2018-01-31    4.70    133.0    1.80        87.5   136.0      38.7   \n",
       "2  90004_a  2018-01-26    2.99     97.0    6.20        59.9   226.0      29.0   \n",
       "3  90005_a  2018-02-08    3.26    104.0   14.21        80.5   243.0      30.5   \n",
       "4  90006_a  2018-02-12    4.36    125.0    8.00        58.5   260.0      37.7   \n",
       "\n",
       "      检查日期_出院  红细胞_出院  血红蛋白_出院  白细胞_出院  中性粒细胞计数_出院  血小板_出院  红细胞压积_出院  \n",
       "0  2018-04-10    3.85    111.0    15.0        75.0   337.0      32.5  \n",
       "1         NaN     NaN      NaN     NaN         NaN     NaN       NaN  \n",
       "2         NaN     NaN      NaN     NaN         NaN     NaN       NaN  \n",
       "3  2018-02-13    3.11    103.0    13.3        67.7   194.0      29.1  \n",
       "4  2018-02-19    4.10    120.0     9.6        73.1   256.0      35.2  "
      ]
     },
     "execution_count": 421,
     "metadata": {},
     "output_type": "execute_result"
    }
   ],
   "source": [
    "df_test_血常规.head()"
   ]
  },
  {
   "cell_type": "code",
   "execution_count": 422,
   "metadata": {},
   "outputs": [],
   "source": [
    "# 删除检查日期\n",
    "df_test_血常规=df_test_血常规.drop(['检查日期_入院','检查日期_出院'],axis=1)\n",
    "# 并入出入院-血常规检查\n",
    "df_SUP_test=pd.merge(df_SUP_test,df_test_血常规,on='受试者编号',how='left')"
   ]
  },
  {
   "cell_type": "code",
   "execution_count": 423,
   "metadata": {},
   "outputs": [
    {
     "data": {
      "text/html": [
       "<div>\n",
       "<style scoped>\n",
       "    .dataframe tbody tr th:only-of-type {\n",
       "        vertical-align: middle;\n",
       "    }\n",
       "\n",
       "    .dataframe tbody tr th {\n",
       "        vertical-align: top;\n",
       "    }\n",
       "\n",
       "    .dataframe thead th {\n",
       "        text-align: right;\n",
       "    }\n",
       "</style>\n",
       "<table border=\"1\" class=\"dataframe\">\n",
       "  <thead>\n",
       "    <tr style=\"text-align: right;\">\n",
       "      <th></th>\n",
       "      <th>受试者编号</th>\n",
       "      <th>出院诊断</th>\n",
       "      <th>主要疾病转归_描述</th>\n",
       "      <th>用药开始时间</th>\n",
       "      <th>用药结束时间</th>\n",
       "      <th>用药天数</th>\n",
       "      <th>EXDOSFRQ</th>\n",
       "      <th>EXDSTXT</th>\n",
       "      <th>日剂量</th>\n",
       "      <th>心血管疾病_label</th>\n",
       "      <th>...</th>\n",
       "      <th>白细胞_入院</th>\n",
       "      <th>中性粒细胞计数_入院</th>\n",
       "      <th>血小板_入院</th>\n",
       "      <th>红细胞压积_入院</th>\n",
       "      <th>红细胞_出院</th>\n",
       "      <th>血红蛋白_出院</th>\n",
       "      <th>白细胞_出院</th>\n",
       "      <th>中性粒细胞计数_出院</th>\n",
       "      <th>血小板_出院</th>\n",
       "      <th>红细胞压积_出院</th>\n",
       "    </tr>\n",
       "  </thead>\n",
       "  <tbody>\n",
       "    <tr>\n",
       "      <th>0</th>\n",
       "      <td>90001_a</td>\n",
       "      <td>大脑动脉狭窄脑梗死 NIHSS评分12分，高血压病（2级，很高危），2型糖尿病，脑梗死个人史...</td>\n",
       "      <td>0</td>\n",
       "      <td>2018-04-07</td>\n",
       "      <td>2018-04-15</td>\n",
       "      <td>9</td>\n",
       "      <td>1.0</td>\n",
       "      <td>30.0</td>\n",
       "      <td>30.0</td>\n",
       "      <td>1.0</td>\n",
       "      <td>...</td>\n",
       "      <td>10.60</td>\n",
       "      <td>75.40</td>\n",
       "      <td>315.0</td>\n",
       "      <td>37.2</td>\n",
       "      <td>3.85</td>\n",
       "      <td>111.0</td>\n",
       "      <td>15.0</td>\n",
       "      <td>75.0</td>\n",
       "      <td>337.0</td>\n",
       "      <td>32.5</td>\n",
       "    </tr>\n",
       "    <tr>\n",
       "      <th>1</th>\n",
       "      <td>90003_a</td>\n",
       "      <td>I型呼吸衰竭 重症肺炎 肺栓塞(中低危)心功能不全 高血压病I级(高危)肝功能不全 下肢静脉...</td>\n",
       "      <td>1</td>\n",
       "      <td>2018-03-12</td>\n",
       "      <td>2018-03-17</td>\n",
       "      <td>6</td>\n",
       "      <td>1.0</td>\n",
       "      <td>40.0</td>\n",
       "      <td>40.0</td>\n",
       "      <td>1.0</td>\n",
       "      <td>...</td>\n",
       "      <td>1.80</td>\n",
       "      <td>87.50</td>\n",
       "      <td>136.0</td>\n",
       "      <td>38.7</td>\n",
       "      <td>NaN</td>\n",
       "      <td>NaN</td>\n",
       "      <td>NaN</td>\n",
       "      <td>NaN</td>\n",
       "      <td>NaN</td>\n",
       "      <td>NaN</td>\n",
       "    </tr>\n",
       "    <tr>\n",
       "      <th>2</th>\n",
       "      <td>90018_b</td>\n",
       "      <td>急性下壁心肌梗塞,Killip I 级,急诊RCA-PCI术后,冠心病,高血压病(1级,很高危)</td>\n",
       "      <td>0</td>\n",
       "      <td>2019-05-28</td>\n",
       "      <td>2019-06-04</td>\n",
       "      <td>8</td>\n",
       "      <td>1.0</td>\n",
       "      <td>60.0</td>\n",
       "      <td>60.0</td>\n",
       "      <td>1.0</td>\n",
       "      <td>...</td>\n",
       "      <td>12.50</td>\n",
       "      <td>88.10</td>\n",
       "      <td>261.0</td>\n",
       "      <td>36.4</td>\n",
       "      <td>NaN</td>\n",
       "      <td>NaN</td>\n",
       "      <td>NaN</td>\n",
       "      <td>NaN</td>\n",
       "      <td>NaN</td>\n",
       "      <td>NaN</td>\n",
       "    </tr>\n",
       "    <tr>\n",
       "      <th>3</th>\n",
       "      <td>90021_b</td>\n",
       "      <td>急性前壁心肌梗塞,killip Ⅰ级,急诊PCI术后,冠心病 2型糖尿病 脑梗个人史</td>\n",
       "      <td>0</td>\n",
       "      <td>2019-04-23</td>\n",
       "      <td>2019-05-05</td>\n",
       "      <td>13</td>\n",
       "      <td>1.0</td>\n",
       "      <td>60.0</td>\n",
       "      <td>60.0</td>\n",
       "      <td>1.0</td>\n",
       "      <td>...</td>\n",
       "      <td>10.31</td>\n",
       "      <td>8.39</td>\n",
       "      <td>204.0</td>\n",
       "      <td>37.4</td>\n",
       "      <td>NaN</td>\n",
       "      <td>NaN</td>\n",
       "      <td>NaN</td>\n",
       "      <td>NaN</td>\n",
       "      <td>NaN</td>\n",
       "      <td>NaN</td>\n",
       "    </tr>\n",
       "    <tr>\n",
       "      <th>4</th>\n",
       "      <td>90025_a</td>\n",
       "      <td>1.大脑动脉狭窄 2.肺部感染 慢支 3.高血压病3级,极高危; 4.2型糖尿病 5.脑梗死个人史</td>\n",
       "      <td>0</td>\n",
       "      <td>2018-02-23</td>\n",
       "      <td>2018-03-02</td>\n",
       "      <td>8</td>\n",
       "      <td>1.0</td>\n",
       "      <td>40.0</td>\n",
       "      <td>40.0</td>\n",
       "      <td>1.0</td>\n",
       "      <td>...</td>\n",
       "      <td>13.00</td>\n",
       "      <td>86.60</td>\n",
       "      <td>279.0</td>\n",
       "      <td>38.3</td>\n",
       "      <td>3.68</td>\n",
       "      <td>115.0</td>\n",
       "      <td>7.9</td>\n",
       "      <td>75.0</td>\n",
       "      <td>217.0</td>\n",
       "      <td>33.7</td>\n",
       "    </tr>\n",
       "  </tbody>\n",
       "</table>\n",
       "<p>5 rows × 39 columns</p>\n",
       "</div>"
      ],
      "text/plain": [
       "     受试者编号                                               出院诊断  主要疾病转归_描述  \\\n",
       "0  90001_a  大脑动脉狭窄脑梗死 NIHSS评分12分，高血压病（2级，很高危），2型糖尿病，脑梗死个人史...          0   \n",
       "1  90003_a  I型呼吸衰竭 重症肺炎 肺栓塞(中低危)心功能不全 高血压病I级(高危)肝功能不全 下肢静脉...          1   \n",
       "2  90018_b   急性下壁心肌梗塞,Killip I 级,急诊RCA-PCI术后,冠心病,高血压病(1级,很高危)          0   \n",
       "3  90021_b         急性前壁心肌梗塞,killip Ⅰ级,急诊PCI术后,冠心病 2型糖尿病 脑梗个人史          0   \n",
       "4  90025_a  1.大脑动脉狭窄 2.肺部感染 慢支 3.高血压病3级,极高危; 4.2型糖尿病 5.脑梗死个人史          0   \n",
       "\n",
       "       用药开始时间      用药结束时间  用药天数  EXDOSFRQ  EXDSTXT   日剂量  心血管疾病_label  ...  \\\n",
       "0  2018-04-07  2018-04-15     9       1.0     30.0  30.0          1.0  ...   \n",
       "1  2018-03-12  2018-03-17     6       1.0     40.0  40.0          1.0  ...   \n",
       "2  2019-05-28  2019-06-04     8       1.0     60.0  60.0          1.0  ...   \n",
       "3  2019-04-23  2019-05-05    13       1.0     60.0  60.0          1.0  ...   \n",
       "4  2018-02-23  2018-03-02     8       1.0     40.0  40.0          1.0  ...   \n",
       "\n",
       "   白细胞_入院  中性粒细胞计数_入院  血小板_入院  红细胞压积_入院  红细胞_出院  血红蛋白_出院 白细胞_出院 中性粒细胞计数_出院  \\\n",
       "0   10.60       75.40   315.0      37.2    3.85    111.0   15.0       75.0   \n",
       "1    1.80       87.50   136.0      38.7     NaN      NaN    NaN        NaN   \n",
       "2   12.50       88.10   261.0      36.4     NaN      NaN    NaN        NaN   \n",
       "3   10.31        8.39   204.0      37.4     NaN      NaN    NaN        NaN   \n",
       "4   13.00       86.60   279.0      38.3    3.68    115.0    7.9       75.0   \n",
       "\n",
       "   血小板_出院  红细胞压积_出院  \n",
       "0   337.0      32.5  \n",
       "1     NaN       NaN  \n",
       "2     NaN       NaN  \n",
       "3     NaN       NaN  \n",
       "4   217.0      33.7  \n",
       "\n",
       "[5 rows x 39 columns]"
      ]
     },
     "execution_count": 423,
     "metadata": {},
     "output_type": "execute_result"
    }
   ],
   "source": [
    "df_SUP_test.head()"
   ]
  },
  {
   "cell_type": "markdown",
   "metadata": {},
   "source": [
    "### 尿常规"
   ]
  },
  {
   "cell_type": "code",
   "execution_count": 424,
   "metadata": {},
   "outputs": [],
   "source": [
    "# 其他科-尿常规检查\n",
    "df_尿常规_1 = pd.read_excel(project_path+'/data/raw_data/导出全部CRF表数据-其他科1021.xlsx',\n",
    "                            sheet_name='LBU_尿常规',\n",
    "                           header=1,)  # 指定第2行作为标题行\n",
    "#                            skiprows=[1,1,1])  # 跳过第1行\n",
    "# 标记受试者编号\n",
    "df_尿常规_1['受试者编号']=df_尿常规_1['受试者编号'].apply(lambda x: str(x)+'_a')\n",
    "# 心内科-尿常规检查\n",
    "df_尿常规_2 = pd.read_excel(project_path+'/data/raw_data/导出全部CRF表数据-心内科1021.xlsx',\n",
    "                            sheet_name='LBU_尿常规',\n",
    "                           header=1,)  # 指定第2行作为标题行\n",
    "#                            skiprows=[1,1,1])  # 跳过第几行)\n",
    "# 标记受试者编号\n",
    "df_尿常规_2['受试者编号']=df_尿常规_2['受试者编号'].apply(lambda x: str(x)+'_b')"
   ]
  },
  {
   "cell_type": "code",
   "execution_count": 425,
   "metadata": {},
   "outputs": [
    {
     "data": {
      "text/plain": [
       "Index(['方案号', '中心标识', '中心名称', '受试者编号', '访视', '检查日期', '尿蛋白（PRO）',\n",
       "       '尿蛋白（PRO）-临床意义', '尿蛋白（PRO）-临床意义_描述', '尿蛋白（PRO）-异常请描述', '尿白细胞（LEU）',\n",
       "       '尿白细胞（LEU）-临床意义', '尿白细胞（LEU）-临床意义_描述', '尿白细胞（LEU）-异常请描述', '尿红细胞（ERY）',\n",
       "       '尿红细胞（ERY）-临床意义', '尿红细胞（ERY）-临床意义_描述', '尿红细胞（ERY）-异常请描述', '原始录入日期',\n",
       "       '最后修改日期'],\n",
       "      dtype='object')"
      ]
     },
     "execution_count": 425,
     "metadata": {},
     "output_type": "execute_result"
    }
   ],
   "source": [
    "df_尿常规_1.columns"
   ]
  },
  {
   "cell_type": "code",
   "execution_count": 426,
   "metadata": {},
   "outputs": [
    {
     "data": {
      "text/plain": [
       "Index(['方案号', '中心标识', '中心名称', '受试者编号', '访视', '检查日期', '尿蛋白（PRO）',\n",
       "       '尿蛋白（PRO）-临床意义', '尿蛋白（PRO）-临床意义_描述', '尿蛋白（PRO）-异常请描述', '尿白细胞（LEU）',\n",
       "       '尿白细胞（LEU）-临床意义', '尿白细胞（LEU）-临床意义_描述', '尿白细胞（LEU）-异常请描述', '尿红细胞（ERY）',\n",
       "       '尿红细胞（ERY）-临床意义', '尿红细胞（ERY）-临床意义_描述', '尿红细胞（ERY）-异常请描述', '原始录入日期',\n",
       "       '最后修改日期'],\n",
       "      dtype='object')"
      ]
     },
     "execution_count": 426,
     "metadata": {},
     "output_type": "execute_result"
    }
   ],
   "source": [
    "df_尿常规_2.columns"
   ]
  },
  {
   "cell_type": "code",
   "execution_count": 427,
   "metadata": {},
   "outputs": [],
   "source": [
    "# 提取有效字段\n",
    "df_尿常规_1=df_尿常规_1[['访视','受试者编号','检查日期','尿蛋白（PRO）','尿白细胞（LEU）','尿红细胞（ERY）']]\n",
    "df_尿常规_2=df_尿常规_2[['访视','受试者编号','检查日期','尿蛋白（PRO）','尿白细胞（LEU）','尿红细胞（ERY）']]"
   ]
  },
  {
   "cell_type": "code",
   "execution_count": 428,
   "metadata": {},
   "outputs": [
    {
     "data": {
      "text/plain": [
       "(1167, 6)"
      ]
     },
     "execution_count": 428,
     "metadata": {},
     "output_type": "execute_result"
    }
   ],
   "source": [
    "df_尿常规_1.shape"
   ]
  },
  {
   "cell_type": "code",
   "execution_count": 429,
   "metadata": {},
   "outputs": [
    {
     "data": {
      "text/html": [
       "<div>\n",
       "<style scoped>\n",
       "    .dataframe tbody tr th:only-of-type {\n",
       "        vertical-align: middle;\n",
       "    }\n",
       "\n",
       "    .dataframe tbody tr th {\n",
       "        vertical-align: top;\n",
       "    }\n",
       "\n",
       "    .dataframe thead th {\n",
       "        text-align: right;\n",
       "    }\n",
       "</style>\n",
       "<table border=\"1\" class=\"dataframe\">\n",
       "  <thead>\n",
       "    <tr style=\"text-align: right;\">\n",
       "      <th></th>\n",
       "      <th>访视</th>\n",
       "      <th>受试者编号</th>\n",
       "      <th>检查日期</th>\n",
       "      <th>尿蛋白（PRO）</th>\n",
       "      <th>尿白细胞（LEU）</th>\n",
       "      <th>尿红细胞（ERY）</th>\n",
       "    </tr>\n",
       "  </thead>\n",
       "  <tbody>\n",
       "    <tr>\n",
       "      <th>0</th>\n",
       "      <td>入院检查</td>\n",
       "      <td>90001_a</td>\n",
       "      <td>2018-03-31</td>\n",
       "      <td>25</td>\n",
       "      <td>5-8</td>\n",
       "      <td>0</td>\n",
       "    </tr>\n",
       "    <tr>\n",
       "      <th>1</th>\n",
       "      <td>出院前检查</td>\n",
       "      <td>90001_a</td>\n",
       "      <td>NaN</td>\n",
       "      <td>NaN</td>\n",
       "      <td>NaN</td>\n",
       "      <td>NaN</td>\n",
       "    </tr>\n",
       "    <tr>\n",
       "      <th>2</th>\n",
       "      <td>入院检查</td>\n",
       "      <td>90003_a</td>\n",
       "      <td>NaN</td>\n",
       "      <td>NaN</td>\n",
       "      <td>NaN</td>\n",
       "      <td>NaN</td>\n",
       "    </tr>\n",
       "    <tr>\n",
       "      <th>3</th>\n",
       "      <td>出院前检查</td>\n",
       "      <td>90003_a</td>\n",
       "      <td>NaN</td>\n",
       "      <td>NaN</td>\n",
       "      <td>NaN</td>\n",
       "      <td>NaN</td>\n",
       "    </tr>\n",
       "    <tr>\n",
       "      <th>4</th>\n",
       "      <td>入院检查</td>\n",
       "      <td>90004_a</td>\n",
       "      <td>NaN</td>\n",
       "      <td>NaN</td>\n",
       "      <td>NaN</td>\n",
       "      <td>NaN</td>\n",
       "    </tr>\n",
       "  </tbody>\n",
       "</table>\n",
       "</div>"
      ],
      "text/plain": [
       "      访视    受试者编号        检查日期 尿蛋白（PRO） 尿白细胞（LEU） 尿红细胞（ERY）\n",
       "0   入院检查  90001_a  2018-03-31       25       5-8         0\n",
       "1  出院前检查  90001_a         NaN      NaN       NaN       NaN\n",
       "2   入院检查  90003_a         NaN      NaN       NaN       NaN\n",
       "3  出院前检查  90003_a         NaN      NaN       NaN       NaN\n",
       "4   入院检查  90004_a         NaN      NaN       NaN       NaN"
      ]
     },
     "execution_count": 429,
     "metadata": {},
     "output_type": "execute_result"
    }
   ],
   "source": [
    "df_尿常规_1.head()"
   ]
  },
  {
   "cell_type": "markdown",
   "metadata": {},
   "source": [
    "#### 入院检查"
   ]
  },
  {
   "cell_type": "code",
   "execution_count": 430,
   "metadata": {},
   "outputs": [],
   "source": [
    "# 入院尿常规检测\n",
    "df_尿常规_1_inp=df_尿常规_1[df_尿常规_1['访视'].str.contains('入院检查')]\n",
    "df_尿常规_1_inp=df_尿常规_1_inp.reset_index(drop=True)\n",
    "df_尿常规_2_inp=df_尿常规_2[df_尿常规_2['访视'].str.contains('入院检查')]\n",
    "df_尿常规_2_inp=df_尿常规_2_inp.reset_index(drop=True)\n",
    "# 合并入院尿常规检查\n",
    "df_尿常规_inp=pd.concat([df_尿常规_1_inp,df_尿常规_2_inp],axis=0)"
   ]
  },
  {
   "cell_type": "code",
   "execution_count": 431,
   "metadata": {},
   "outputs": [
    {
     "data": {
      "text/plain": [
       "(738, 6)"
      ]
     },
     "execution_count": 431,
     "metadata": {},
     "output_type": "execute_result"
    }
   ],
   "source": [
    "df_尿常规_inp.shape"
   ]
  },
  {
   "cell_type": "code",
   "execution_count": 432,
   "metadata": {},
   "outputs": [
    {
     "data": {
      "text/html": [
       "<div>\n",
       "<style scoped>\n",
       "    .dataframe tbody tr th:only-of-type {\n",
       "        vertical-align: middle;\n",
       "    }\n",
       "\n",
       "    .dataframe tbody tr th {\n",
       "        vertical-align: top;\n",
       "    }\n",
       "\n",
       "    .dataframe thead th {\n",
       "        text-align: right;\n",
       "    }\n",
       "</style>\n",
       "<table border=\"1\" class=\"dataframe\">\n",
       "  <thead>\n",
       "    <tr style=\"text-align: right;\">\n",
       "      <th></th>\n",
       "      <th>访视</th>\n",
       "      <th>受试者编号</th>\n",
       "      <th>检查日期</th>\n",
       "      <th>尿蛋白（PRO）</th>\n",
       "      <th>尿白细胞（LEU）</th>\n",
       "      <th>尿红细胞（ERY）</th>\n",
       "    </tr>\n",
       "  </thead>\n",
       "  <tbody>\n",
       "    <tr>\n",
       "      <th>0</th>\n",
       "      <td>入院检查</td>\n",
       "      <td>90001_a</td>\n",
       "      <td>2018-03-31</td>\n",
       "      <td>25</td>\n",
       "      <td>5-8</td>\n",
       "      <td>0</td>\n",
       "    </tr>\n",
       "    <tr>\n",
       "      <th>1</th>\n",
       "      <td>入院检查</td>\n",
       "      <td>90003_a</td>\n",
       "      <td>NaN</td>\n",
       "      <td>NaN</td>\n",
       "      <td>NaN</td>\n",
       "      <td>NaN</td>\n",
       "    </tr>\n",
       "    <tr>\n",
       "      <th>2</th>\n",
       "      <td>入院检查</td>\n",
       "      <td>90004_a</td>\n",
       "      <td>NaN</td>\n",
       "      <td>NaN</td>\n",
       "      <td>NaN</td>\n",
       "      <td>NaN</td>\n",
       "    </tr>\n",
       "    <tr>\n",
       "      <th>3</th>\n",
       "      <td>入院检查</td>\n",
       "      <td>90005_a</td>\n",
       "      <td>NaN</td>\n",
       "      <td>NaN</td>\n",
       "      <td>NaN</td>\n",
       "      <td>NaN</td>\n",
       "    </tr>\n",
       "    <tr>\n",
       "      <th>4</th>\n",
       "      <td>入院检查</td>\n",
       "      <td>90006_a</td>\n",
       "      <td>2018-02-12</td>\n",
       "      <td>阴性</td>\n",
       "      <td>阴性</td>\n",
       "      <td>10</td>\n",
       "    </tr>\n",
       "  </tbody>\n",
       "</table>\n",
       "</div>"
      ],
      "text/plain": [
       "     访视    受试者编号        检查日期 尿蛋白（PRO） 尿白细胞（LEU） 尿红细胞（ERY）\n",
       "0  入院检查  90001_a  2018-03-31       25       5-8         0\n",
       "1  入院检查  90003_a         NaN      NaN       NaN       NaN\n",
       "2  入院检查  90004_a         NaN      NaN       NaN       NaN\n",
       "3  入院检查  90005_a         NaN      NaN       NaN       NaN\n",
       "4  入院检查  90006_a  2018-02-12       阴性        阴性        10"
      ]
     },
     "execution_count": 432,
     "metadata": {},
     "output_type": "execute_result"
    }
   ],
   "source": [
    "df_尿常规_inp.head()"
   ]
  },
  {
   "cell_type": "code",
   "execution_count": 433,
   "metadata": {},
   "outputs": [],
   "source": [
    "df_尿常规_inp.to_excel(project_path+'/data/processed_data/检测数据/df_尿常规_入院检查.xlsx')"
   ]
  },
  {
   "cell_type": "markdown",
   "metadata": {},
   "source": [
    "#### 出院检查"
   ]
  },
  {
   "cell_type": "code",
   "execution_count": 434,
   "metadata": {},
   "outputs": [],
   "source": [
    "# 出院尿常规检查\n",
    "df_尿常规_1_oup=df_尿常规_1[df_尿常规_1['访视'].str.contains('出院前检查')]\n",
    "df_尿常规_1_oup=df_尿常规_1_oup.reset_index(drop=True)\n",
    "df_尿常规_2_oup=df_尿常规_2[df_尿常规_2['访视'].str.contains('出院前检查')]\n",
    "df_尿常规_2_oup=df_尿常规_2_oup.reset_index(drop=True)\n",
    "# 合并尿常规检查\n",
    "df_尿常规_oup=pd.concat([df_尿常规_1_oup,df_尿常规_2_oup],axis=0)"
   ]
  },
  {
   "cell_type": "code",
   "execution_count": 435,
   "metadata": {},
   "outputs": [
    {
     "data": {
      "text/plain": [
       "(617, 6)"
      ]
     },
     "execution_count": 435,
     "metadata": {},
     "output_type": "execute_result"
    }
   ],
   "source": [
    "df_尿常规_oup.shape"
   ]
  },
  {
   "cell_type": "code",
   "execution_count": 436,
   "metadata": {},
   "outputs": [
    {
     "data": {
      "text/html": [
       "<div>\n",
       "<style scoped>\n",
       "    .dataframe tbody tr th:only-of-type {\n",
       "        vertical-align: middle;\n",
       "    }\n",
       "\n",
       "    .dataframe tbody tr th {\n",
       "        vertical-align: top;\n",
       "    }\n",
       "\n",
       "    .dataframe thead th {\n",
       "        text-align: right;\n",
       "    }\n",
       "</style>\n",
       "<table border=\"1\" class=\"dataframe\">\n",
       "  <thead>\n",
       "    <tr style=\"text-align: right;\">\n",
       "      <th></th>\n",
       "      <th>访视</th>\n",
       "      <th>受试者编号</th>\n",
       "      <th>检查日期</th>\n",
       "      <th>尿蛋白（PRO）</th>\n",
       "      <th>尿白细胞（LEU）</th>\n",
       "      <th>尿红细胞（ERY）</th>\n",
       "    </tr>\n",
       "  </thead>\n",
       "  <tbody>\n",
       "    <tr>\n",
       "      <th>0</th>\n",
       "      <td>出院前检查</td>\n",
       "      <td>90001_a</td>\n",
       "      <td>NaN</td>\n",
       "      <td>NaN</td>\n",
       "      <td>NaN</td>\n",
       "      <td>NaN</td>\n",
       "    </tr>\n",
       "    <tr>\n",
       "      <th>1</th>\n",
       "      <td>出院前检查</td>\n",
       "      <td>90003_a</td>\n",
       "      <td>NaN</td>\n",
       "      <td>NaN</td>\n",
       "      <td>NaN</td>\n",
       "      <td>NaN</td>\n",
       "    </tr>\n",
       "    <tr>\n",
       "      <th>2</th>\n",
       "      <td>出院前检查</td>\n",
       "      <td>90004_a</td>\n",
       "      <td>NaN</td>\n",
       "      <td>NaN</td>\n",
       "      <td>NaN</td>\n",
       "      <td>NaN</td>\n",
       "    </tr>\n",
       "    <tr>\n",
       "      <th>3</th>\n",
       "      <td>出院前检查</td>\n",
       "      <td>90005_a</td>\n",
       "      <td>NaN</td>\n",
       "      <td>NaN</td>\n",
       "      <td>NaN</td>\n",
       "      <td>NaN</td>\n",
       "    </tr>\n",
       "    <tr>\n",
       "      <th>4</th>\n",
       "      <td>出院前检查</td>\n",
       "      <td>90006_a</td>\n",
       "      <td>NaN</td>\n",
       "      <td>NaN</td>\n",
       "      <td>NaN</td>\n",
       "      <td>NaN</td>\n",
       "    </tr>\n",
       "  </tbody>\n",
       "</table>\n",
       "</div>"
      ],
      "text/plain": [
       "      访视    受试者编号 检查日期 尿蛋白（PRO） 尿白细胞（LEU） 尿红细胞（ERY）\n",
       "0  出院前检查  90001_a  NaN      NaN       NaN       NaN\n",
       "1  出院前检查  90003_a  NaN      NaN       NaN       NaN\n",
       "2  出院前检查  90004_a  NaN      NaN       NaN       NaN\n",
       "3  出院前检查  90005_a  NaN      NaN       NaN       NaN\n",
       "4  出院前检查  90006_a  NaN      NaN       NaN       NaN"
      ]
     },
     "execution_count": 436,
     "metadata": {},
     "output_type": "execute_result"
    }
   ],
   "source": [
    "df_尿常规_oup.head()"
   ]
  },
  {
   "cell_type": "code",
   "execution_count": 437,
   "metadata": {},
   "outputs": [],
   "source": [
    "df_尿常规_oup.to_excel(project_path+'/data/processed_data/检测数据/df_尿常规_出院检查.xlsx')"
   ]
  },
  {
   "cell_type": "markdown",
   "metadata": {},
   "source": [
    "#### 修改列名"
   ]
  },
  {
   "cell_type": "code",
   "execution_count": 438,
   "metadata": {},
   "outputs": [],
   "source": [
    "# 删除访视\n",
    "df_尿常规_inp=df_尿常规_inp.drop(['访视'],axis=1)\n",
    "df_尿常规_oup=df_尿常规_oup.drop(['访视'],axis=1)\n",
    "# 修改列名\n",
    "for i in df_尿常规_inp.columns[1:]:\n",
    "    df_尿常规_inp.rename(columns={i:i + '_入院'},inplace=True)\n",
    "for i in df_尿常规_oup.columns[1:]:\n",
    "    df_尿常规_oup.rename(columns={i:i+'_出院'},inplace=True)  "
   ]
  },
  {
   "cell_type": "code",
   "execution_count": 439,
   "metadata": {},
   "outputs": [],
   "source": [
    "df_test_尿常规=pd.merge(df_尿常规_inp,df_尿常规_oup,on='受试者编号',how='outer')"
   ]
  },
  {
   "cell_type": "code",
   "execution_count": 440,
   "metadata": {},
   "outputs": [
    {
     "data": {
      "text/html": [
       "<div>\n",
       "<style scoped>\n",
       "    .dataframe tbody tr th:only-of-type {\n",
       "        vertical-align: middle;\n",
       "    }\n",
       "\n",
       "    .dataframe tbody tr th {\n",
       "        vertical-align: top;\n",
       "    }\n",
       "\n",
       "    .dataframe thead th {\n",
       "        text-align: right;\n",
       "    }\n",
       "</style>\n",
       "<table border=\"1\" class=\"dataframe\">\n",
       "  <thead>\n",
       "    <tr style=\"text-align: right;\">\n",
       "      <th></th>\n",
       "      <th>受试者编号</th>\n",
       "      <th>检查日期_入院</th>\n",
       "      <th>尿蛋白（PRO）_入院</th>\n",
       "      <th>尿白细胞（LEU）_入院</th>\n",
       "      <th>尿红细胞（ERY）_入院</th>\n",
       "      <th>检查日期_出院</th>\n",
       "      <th>尿蛋白（PRO）_出院</th>\n",
       "      <th>尿白细胞（LEU）_出院</th>\n",
       "      <th>尿红细胞（ERY）_出院</th>\n",
       "    </tr>\n",
       "  </thead>\n",
       "  <tbody>\n",
       "    <tr>\n",
       "      <th>0</th>\n",
       "      <td>90001_a</td>\n",
       "      <td>2018-03-31</td>\n",
       "      <td>25</td>\n",
       "      <td>5-8</td>\n",
       "      <td>0</td>\n",
       "      <td>NaN</td>\n",
       "      <td>NaN</td>\n",
       "      <td>NaN</td>\n",
       "      <td>NaN</td>\n",
       "    </tr>\n",
       "    <tr>\n",
       "      <th>1</th>\n",
       "      <td>90003_a</td>\n",
       "      <td>NaN</td>\n",
       "      <td>NaN</td>\n",
       "      <td>NaN</td>\n",
       "      <td>NaN</td>\n",
       "      <td>NaN</td>\n",
       "      <td>NaN</td>\n",
       "      <td>NaN</td>\n",
       "      <td>NaN</td>\n",
       "    </tr>\n",
       "    <tr>\n",
       "      <th>2</th>\n",
       "      <td>90004_a</td>\n",
       "      <td>NaN</td>\n",
       "      <td>NaN</td>\n",
       "      <td>NaN</td>\n",
       "      <td>NaN</td>\n",
       "      <td>NaN</td>\n",
       "      <td>NaN</td>\n",
       "      <td>NaN</td>\n",
       "      <td>NaN</td>\n",
       "    </tr>\n",
       "    <tr>\n",
       "      <th>3</th>\n",
       "      <td>90005_a</td>\n",
       "      <td>NaN</td>\n",
       "      <td>NaN</td>\n",
       "      <td>NaN</td>\n",
       "      <td>NaN</td>\n",
       "      <td>NaN</td>\n",
       "      <td>NaN</td>\n",
       "      <td>NaN</td>\n",
       "      <td>NaN</td>\n",
       "    </tr>\n",
       "    <tr>\n",
       "      <th>4</th>\n",
       "      <td>90006_a</td>\n",
       "      <td>2018-02-12</td>\n",
       "      <td>阴性</td>\n",
       "      <td>阴性</td>\n",
       "      <td>10</td>\n",
       "      <td>NaN</td>\n",
       "      <td>NaN</td>\n",
       "      <td>NaN</td>\n",
       "      <td>NaN</td>\n",
       "    </tr>\n",
       "  </tbody>\n",
       "</table>\n",
       "</div>"
      ],
      "text/plain": [
       "     受试者编号     检查日期_入院 尿蛋白（PRO）_入院 尿白细胞（LEU）_入院 尿红细胞（ERY）_入院 检查日期_出院  \\\n",
       "0  90001_a  2018-03-31          25          5-8            0     NaN   \n",
       "1  90003_a         NaN         NaN          NaN          NaN     NaN   \n",
       "2  90004_a         NaN         NaN          NaN          NaN     NaN   \n",
       "3  90005_a         NaN         NaN          NaN          NaN     NaN   \n",
       "4  90006_a  2018-02-12          阴性           阴性           10     NaN   \n",
       "\n",
       "  尿蛋白（PRO）_出院 尿白细胞（LEU）_出院 尿红细胞（ERY）_出院  \n",
       "0         NaN          NaN          NaN  \n",
       "1         NaN          NaN          NaN  \n",
       "2         NaN          NaN          NaN  \n",
       "3         NaN          NaN          NaN  \n",
       "4         NaN          NaN          NaN  "
      ]
     },
     "execution_count": 440,
     "metadata": {},
     "output_type": "execute_result"
    }
   ],
   "source": [
    "df_test_尿常规.head()"
   ]
  },
  {
   "cell_type": "code",
   "execution_count": 441,
   "metadata": {},
   "outputs": [],
   "source": [
    "df_test_尿常规.to_excel(project_path+'/data/processed_data/df_1.10.2.3_尿常规_检查.xlsx')"
   ]
  },
  {
   "cell_type": "markdown",
   "metadata": {},
   "source": [
    "#### 并入尿常规检查"
   ]
  },
  {
   "cell_type": "code",
   "execution_count": 442,
   "metadata": {},
   "outputs": [
    {
     "data": {
      "text/html": [
       "<div>\n",
       "<style scoped>\n",
       "    .dataframe tbody tr th:only-of-type {\n",
       "        vertical-align: middle;\n",
       "    }\n",
       "\n",
       "    .dataframe tbody tr th {\n",
       "        vertical-align: top;\n",
       "    }\n",
       "\n",
       "    .dataframe thead th {\n",
       "        text-align: right;\n",
       "    }\n",
       "</style>\n",
       "<table border=\"1\" class=\"dataframe\">\n",
       "  <thead>\n",
       "    <tr style=\"text-align: right;\">\n",
       "      <th></th>\n",
       "      <th>受试者编号</th>\n",
       "      <th>检查日期_入院</th>\n",
       "      <th>尿蛋白（PRO）_入院</th>\n",
       "      <th>尿白细胞（LEU）_入院</th>\n",
       "      <th>尿红细胞（ERY）_入院</th>\n",
       "      <th>检查日期_出院</th>\n",
       "      <th>尿蛋白（PRO）_出院</th>\n",
       "      <th>尿白细胞（LEU）_出院</th>\n",
       "      <th>尿红细胞（ERY）_出院</th>\n",
       "    </tr>\n",
       "  </thead>\n",
       "  <tbody>\n",
       "    <tr>\n",
       "      <th>0</th>\n",
       "      <td>90001_a</td>\n",
       "      <td>2018-03-31</td>\n",
       "      <td>25</td>\n",
       "      <td>5-8</td>\n",
       "      <td>0</td>\n",
       "      <td>NaN</td>\n",
       "      <td>NaN</td>\n",
       "      <td>NaN</td>\n",
       "      <td>NaN</td>\n",
       "    </tr>\n",
       "    <tr>\n",
       "      <th>1</th>\n",
       "      <td>90003_a</td>\n",
       "      <td>NaN</td>\n",
       "      <td>NaN</td>\n",
       "      <td>NaN</td>\n",
       "      <td>NaN</td>\n",
       "      <td>NaN</td>\n",
       "      <td>NaN</td>\n",
       "      <td>NaN</td>\n",
       "      <td>NaN</td>\n",
       "    </tr>\n",
       "    <tr>\n",
       "      <th>2</th>\n",
       "      <td>90004_a</td>\n",
       "      <td>NaN</td>\n",
       "      <td>NaN</td>\n",
       "      <td>NaN</td>\n",
       "      <td>NaN</td>\n",
       "      <td>NaN</td>\n",
       "      <td>NaN</td>\n",
       "      <td>NaN</td>\n",
       "      <td>NaN</td>\n",
       "    </tr>\n",
       "    <tr>\n",
       "      <th>3</th>\n",
       "      <td>90005_a</td>\n",
       "      <td>NaN</td>\n",
       "      <td>NaN</td>\n",
       "      <td>NaN</td>\n",
       "      <td>NaN</td>\n",
       "      <td>NaN</td>\n",
       "      <td>NaN</td>\n",
       "      <td>NaN</td>\n",
       "      <td>NaN</td>\n",
       "    </tr>\n",
       "    <tr>\n",
       "      <th>4</th>\n",
       "      <td>90006_a</td>\n",
       "      <td>2018-02-12</td>\n",
       "      <td>阴性</td>\n",
       "      <td>阴性</td>\n",
       "      <td>10</td>\n",
       "      <td>NaN</td>\n",
       "      <td>NaN</td>\n",
       "      <td>NaN</td>\n",
       "      <td>NaN</td>\n",
       "    </tr>\n",
       "  </tbody>\n",
       "</table>\n",
       "</div>"
      ],
      "text/plain": [
       "     受试者编号     检查日期_入院 尿蛋白（PRO）_入院 尿白细胞（LEU）_入院 尿红细胞（ERY）_入院 检查日期_出院  \\\n",
       "0  90001_a  2018-03-31          25          5-8            0     NaN   \n",
       "1  90003_a         NaN         NaN          NaN          NaN     NaN   \n",
       "2  90004_a         NaN         NaN          NaN          NaN     NaN   \n",
       "3  90005_a         NaN         NaN          NaN          NaN     NaN   \n",
       "4  90006_a  2018-02-12          阴性           阴性           10     NaN   \n",
       "\n",
       "  尿蛋白（PRO）_出院 尿白细胞（LEU）_出院 尿红细胞（ERY）_出院  \n",
       "0         NaN          NaN          NaN  \n",
       "1         NaN          NaN          NaN  \n",
       "2         NaN          NaN          NaN  \n",
       "3         NaN          NaN          NaN  \n",
       "4         NaN          NaN          NaN  "
      ]
     },
     "execution_count": 442,
     "metadata": {},
     "output_type": "execute_result"
    }
   ],
   "source": [
    "df_test_尿常规.head()"
   ]
  },
  {
   "cell_type": "code",
   "execution_count": 443,
   "metadata": {},
   "outputs": [],
   "source": [
    "# 删除检查日期\n",
    "df_test_尿常规=df_test_尿常规.drop(['检查日期_入院','检查日期_出院'],axis=1)\n",
    "# 并入出入院-血常规检查\n",
    "df_SUP_test=pd.merge(df_SUP_test,df_test_尿常规,on='受试者编号',how='left')"
   ]
  },
  {
   "cell_type": "code",
   "execution_count": 444,
   "metadata": {},
   "outputs": [
    {
     "data": {
      "text/html": [
       "<div>\n",
       "<style scoped>\n",
       "    .dataframe tbody tr th:only-of-type {\n",
       "        vertical-align: middle;\n",
       "    }\n",
       "\n",
       "    .dataframe tbody tr th {\n",
       "        vertical-align: top;\n",
       "    }\n",
       "\n",
       "    .dataframe thead th {\n",
       "        text-align: right;\n",
       "    }\n",
       "</style>\n",
       "<table border=\"1\" class=\"dataframe\">\n",
       "  <thead>\n",
       "    <tr style=\"text-align: right;\">\n",
       "      <th></th>\n",
       "      <th>受试者编号</th>\n",
       "      <th>出院诊断</th>\n",
       "      <th>主要疾病转归_描述</th>\n",
       "      <th>用药开始时间</th>\n",
       "      <th>用药结束时间</th>\n",
       "      <th>用药天数</th>\n",
       "      <th>EXDOSFRQ</th>\n",
       "      <th>EXDSTXT</th>\n",
       "      <th>日剂量</th>\n",
       "      <th>心血管疾病_label</th>\n",
       "      <th>...</th>\n",
       "      <th>白细胞_出院</th>\n",
       "      <th>中性粒细胞计数_出院</th>\n",
       "      <th>血小板_出院</th>\n",
       "      <th>红细胞压积_出院</th>\n",
       "      <th>尿蛋白（PRO）_入院</th>\n",
       "      <th>尿白细胞（LEU）_入院</th>\n",
       "      <th>尿红细胞（ERY）_入院</th>\n",
       "      <th>尿蛋白（PRO）_出院</th>\n",
       "      <th>尿白细胞（LEU）_出院</th>\n",
       "      <th>尿红细胞（ERY）_出院</th>\n",
       "    </tr>\n",
       "  </thead>\n",
       "  <tbody>\n",
       "    <tr>\n",
       "      <th>0</th>\n",
       "      <td>90001_a</td>\n",
       "      <td>大脑动脉狭窄脑梗死 NIHSS评分12分，高血压病（2级，很高危），2型糖尿病，脑梗死个人史...</td>\n",
       "      <td>0</td>\n",
       "      <td>2018-04-07</td>\n",
       "      <td>2018-04-15</td>\n",
       "      <td>9</td>\n",
       "      <td>1.0</td>\n",
       "      <td>30.0</td>\n",
       "      <td>30.0</td>\n",
       "      <td>1.0</td>\n",
       "      <td>...</td>\n",
       "      <td>15.0</td>\n",
       "      <td>75.0</td>\n",
       "      <td>337.0</td>\n",
       "      <td>32.5</td>\n",
       "      <td>25</td>\n",
       "      <td>5-8</td>\n",
       "      <td>0</td>\n",
       "      <td>NaN</td>\n",
       "      <td>NaN</td>\n",
       "      <td>NaN</td>\n",
       "    </tr>\n",
       "    <tr>\n",
       "      <th>1</th>\n",
       "      <td>90003_a</td>\n",
       "      <td>I型呼吸衰竭 重症肺炎 肺栓塞(中低危)心功能不全 高血压病I级(高危)肝功能不全 下肢静脉...</td>\n",
       "      <td>1</td>\n",
       "      <td>2018-03-12</td>\n",
       "      <td>2018-03-17</td>\n",
       "      <td>6</td>\n",
       "      <td>1.0</td>\n",
       "      <td>40.0</td>\n",
       "      <td>40.0</td>\n",
       "      <td>1.0</td>\n",
       "      <td>...</td>\n",
       "      <td>NaN</td>\n",
       "      <td>NaN</td>\n",
       "      <td>NaN</td>\n",
       "      <td>NaN</td>\n",
       "      <td>NaN</td>\n",
       "      <td>NaN</td>\n",
       "      <td>NaN</td>\n",
       "      <td>NaN</td>\n",
       "      <td>NaN</td>\n",
       "      <td>NaN</td>\n",
       "    </tr>\n",
       "    <tr>\n",
       "      <th>2</th>\n",
       "      <td>90018_b</td>\n",
       "      <td>急性下壁心肌梗塞,Killip I 级,急诊RCA-PCI术后,冠心病,高血压病(1级,很高危)</td>\n",
       "      <td>0</td>\n",
       "      <td>2019-05-28</td>\n",
       "      <td>2019-06-04</td>\n",
       "      <td>8</td>\n",
       "      <td>1.0</td>\n",
       "      <td>60.0</td>\n",
       "      <td>60.0</td>\n",
       "      <td>1.0</td>\n",
       "      <td>...</td>\n",
       "      <td>NaN</td>\n",
       "      <td>NaN</td>\n",
       "      <td>NaN</td>\n",
       "      <td>NaN</td>\n",
       "      <td>阴性</td>\n",
       "      <td>1</td>\n",
       "      <td>3</td>\n",
       "      <td>NaN</td>\n",
       "      <td>NaN</td>\n",
       "      <td>NaN</td>\n",
       "    </tr>\n",
       "    <tr>\n",
       "      <th>3</th>\n",
       "      <td>90021_b</td>\n",
       "      <td>急性前壁心肌梗塞,killip Ⅰ级,急诊PCI术后,冠心病 2型糖尿病 脑梗个人史</td>\n",
       "      <td>0</td>\n",
       "      <td>2019-04-23</td>\n",
       "      <td>2019-05-05</td>\n",
       "      <td>13</td>\n",
       "      <td>1.0</td>\n",
       "      <td>60.0</td>\n",
       "      <td>60.0</td>\n",
       "      <td>1.0</td>\n",
       "      <td>...</td>\n",
       "      <td>NaN</td>\n",
       "      <td>NaN</td>\n",
       "      <td>NaN</td>\n",
       "      <td>NaN</td>\n",
       "      <td>阴性</td>\n",
       "      <td>1</td>\n",
       "      <td>NaN</td>\n",
       "      <td>NaN</td>\n",
       "      <td>NaN</td>\n",
       "      <td>NaN</td>\n",
       "    </tr>\n",
       "    <tr>\n",
       "      <th>4</th>\n",
       "      <td>90025_a</td>\n",
       "      <td>1.大脑动脉狭窄 2.肺部感染 慢支 3.高血压病3级,极高危; 4.2型糖尿病 5.脑梗死个人史</td>\n",
       "      <td>0</td>\n",
       "      <td>2018-02-23</td>\n",
       "      <td>2018-03-02</td>\n",
       "      <td>8</td>\n",
       "      <td>1.0</td>\n",
       "      <td>40.0</td>\n",
       "      <td>40.0</td>\n",
       "      <td>1.0</td>\n",
       "      <td>...</td>\n",
       "      <td>7.9</td>\n",
       "      <td>75.0</td>\n",
       "      <td>217.0</td>\n",
       "      <td>33.7</td>\n",
       "      <td>75</td>\n",
       "      <td>0-2</td>\n",
       "      <td>0-1</td>\n",
       "      <td>NaN</td>\n",
       "      <td>NaN</td>\n",
       "      <td>NaN</td>\n",
       "    </tr>\n",
       "  </tbody>\n",
       "</table>\n",
       "<p>5 rows × 45 columns</p>\n",
       "</div>"
      ],
      "text/plain": [
       "     受试者编号                                               出院诊断  主要疾病转归_描述  \\\n",
       "0  90001_a  大脑动脉狭窄脑梗死 NIHSS评分12分，高血压病（2级，很高危），2型糖尿病，脑梗死个人史...          0   \n",
       "1  90003_a  I型呼吸衰竭 重症肺炎 肺栓塞(中低危)心功能不全 高血压病I级(高危)肝功能不全 下肢静脉...          1   \n",
       "2  90018_b   急性下壁心肌梗塞,Killip I 级,急诊RCA-PCI术后,冠心病,高血压病(1级,很高危)          0   \n",
       "3  90021_b         急性前壁心肌梗塞,killip Ⅰ级,急诊PCI术后,冠心病 2型糖尿病 脑梗个人史          0   \n",
       "4  90025_a  1.大脑动脉狭窄 2.肺部感染 慢支 3.高血压病3级,极高危; 4.2型糖尿病 5.脑梗死个人史          0   \n",
       "\n",
       "       用药开始时间      用药结束时间  用药天数  EXDOSFRQ  EXDSTXT   日剂量  心血管疾病_label  ...  \\\n",
       "0  2018-04-07  2018-04-15     9       1.0     30.0  30.0          1.0  ...   \n",
       "1  2018-03-12  2018-03-17     6       1.0     40.0  40.0          1.0  ...   \n",
       "2  2019-05-28  2019-06-04     8       1.0     60.0  60.0          1.0  ...   \n",
       "3  2019-04-23  2019-05-05    13       1.0     60.0  60.0          1.0  ...   \n",
       "4  2018-02-23  2018-03-02     8       1.0     40.0  40.0          1.0  ...   \n",
       "\n",
       "   白细胞_出院  中性粒细胞计数_出院  血小板_出院  红细胞压积_出院  尿蛋白（PRO）_入院  尿白细胞（LEU）_入院  \\\n",
       "0    15.0        75.0   337.0      32.5           25           5-8   \n",
       "1     NaN         NaN     NaN       NaN          NaN           NaN   \n",
       "2     NaN         NaN     NaN       NaN           阴性             1   \n",
       "3     NaN         NaN     NaN       NaN           阴性             1   \n",
       "4     7.9        75.0   217.0      33.7           75           0-2   \n",
       "\n",
       "  尿红细胞（ERY）_入院 尿蛋白（PRO）_出院  尿白细胞（LEU）_出院  尿红细胞（ERY）_出院  \n",
       "0            0         NaN           NaN           NaN  \n",
       "1          NaN         NaN           NaN           NaN  \n",
       "2            3         NaN           NaN           NaN  \n",
       "3          NaN         NaN           NaN           NaN  \n",
       "4          0-1         NaN           NaN           NaN  \n",
       "\n",
       "[5 rows x 45 columns]"
      ]
     },
     "execution_count": 444,
     "metadata": {},
     "output_type": "execute_result"
    }
   ],
   "source": [
    "df_SUP_test.head()"
   ]
  },
  {
   "cell_type": "markdown",
   "metadata": {},
   "source": [
    "### 血生化"
   ]
  },
  {
   "cell_type": "code",
   "execution_count": 445,
   "metadata": {},
   "outputs": [],
   "source": [
    "# 其他科-血生化检查\n",
    "df_血生化_1 = pd.read_excel(project_path+'/data/raw_data/导出全部CRF表数据-其他科1021.xlsx',\n",
    "                            sheet_name='LBB_血生化',\n",
    "                           header=1,)  # 指定第2行作为标题行\n",
    "#                            skiprows=[1,1,1])  # 跳过第1行\n",
    "# 标记受试者编号\n",
    "df_血生化_1['受试者编号']=df_血生化_1['受试者编号'].apply(lambda x: str(x)+'_a')\n",
    "# 心内科-血生化检查\n",
    "df_血生化_2 = pd.read_excel(project_path+'/data/raw_data/导出全部CRF表数据-心内科1021.xlsx',\n",
    "                            sheet_name='LBB_血生化',\n",
    "                           header=1,)  # 指定第2行作为标题行\n",
    "#                            skiprows=[1,1,1])  # 跳过第几行)\n",
    "# 标记受试者编号\n",
    "df_血生化_2['受试者编号']=df_血生化_2['受试者编号'].apply(lambda x: str(x)+'_b')"
   ]
  },
  {
   "cell_type": "code",
   "execution_count": 446,
   "metadata": {},
   "outputs": [
    {
     "data": {
      "text/plain": [
       "Index(['方案号', '中心标识', '中心名称', '受试者编号', '访视', '检查日期', '总胆红素（TBil）',\n",
       "       '总胆红素（TBil）-临床意义', '总胆红素（TBil）-临床意义_描述', '总胆红素（TBil）-异常请描述',\n",
       "       '直接胆红素（DBil）', '直接胆红素（DBil）-临床意义', '直接胆红素（DBil）-临床意义_描述',\n",
       "       '直接胆红素（DBil）-异常请描述', '白蛋白', '白蛋白-临床意义', '白蛋白-临床意义_描述', '白蛋白-异常请描述',\n",
       "       '前白蛋白', '前白蛋白-临床意义', '前白蛋白-临床意义_描述', '前白蛋白-异常请描述', 'ALT', 'ALT-临床意义',\n",
       "       'ALT-临床意义_描述', 'ALT-异常请描述', 'AST', 'AST-临床意义', 'AST-临床意义_描述',\n",
       "       'AST-异常请描述', 'GGT', 'GGT-临床意义', 'GGT-临床意义_描述', 'GGT-异常请描述', 'AKP',\n",
       "       'AKP-临床意义', 'AKP-临床意义_描述', 'AKP-异常请描述', '尿素氮（BUN）', '尿素氮（BUN）-临床意义',\n",
       "       '尿素氮（BUN）-临床意义_描述', '尿素氮（BUN）-异常请描述', '肌酐（Cr）', '肌酐（Cr）-临床意义',\n",
       "       '肌酐（Cr）-临床意义_描述', '肌酐（Cr）-异常请描述', 'PT', 'PT-临床意义', 'PT-临床意义_描述',\n",
       "       'PT-异常请描述', 'INR', 'INR-临床意义', 'INR-临床意义_描述', 'INR-异常请描述', '血钠',\n",
       "       '血钠-临床意义', '血钠-临床意义_描述', '血钠-异常请描述', '血钾', '血钾-临床意义', '血钾-临床意义_描述',\n",
       "       '血钾-异常请描述', '血氯', '血氯-临床意义', '血氯-临床意义_描述', '血氯-异常请描述', '甘油三酯',\n",
       "       '甘油三酯-临床意义', '甘油三酯-临床意义_描述', '甘油三酯-异常请描述', '胆固醇', '胆固醇-临床意义',\n",
       "       '胆固醇-临床意义_描述', '胆固醇-异常请描述', '低密度脂蛋白（LDL）', '低密度脂蛋白（LDL）-临床意义',\n",
       "       '低密度脂蛋白（LDL）-临床意义_描述', '低密度脂蛋白（LDL）-异常请描述', '高密度脂蛋白胆固醇（HDLC）',\n",
       "       '高密度脂蛋白胆固醇（HDLC）-临床意义', '高密度脂蛋白胆固醇（HDLC）-临床意义_描述',\n",
       "       '高密度脂蛋白胆固醇（HDLC）-异常请描述', '原始录入日期', '最后修改日期'],\n",
       "      dtype='object')"
      ]
     },
     "execution_count": 446,
     "metadata": {},
     "output_type": "execute_result"
    }
   ],
   "source": [
    "df_血生化_1.columns"
   ]
  },
  {
   "cell_type": "code",
   "execution_count": 447,
   "metadata": {},
   "outputs": [],
   "source": [
    "# 提取有效字段\n",
    "df_血生化_1=df_血生化_1[['访视','受试者编号','检查日期','总胆红素（TBil）','直接胆红素（DBil）','白蛋白','前白蛋白',\n",
    "                  'ALT','AST','GGT','AKP','尿素氮（BUN）','肌酐（Cr）','PT','INR','血钠','血钾','血氯','甘油三酯',\n",
    "                  '胆固醇','低密度脂蛋白（LDL）','高密度脂蛋白胆固醇（HDLC）']]\n",
    "df_血生化_2=df_血生化_2[['访视','受试者编号','检查日期','白蛋白','HCY','NT-pro BNP','肌钙蛋白','CK-MB',\n",
    "                  'ALT','AST','尿素氮（BUN）','肌酐（Cr）','血钠','血钾','血氯','甘油三酯',\n",
    "                  '胆固醇','低密度脂蛋白（LDL）','高密度脂蛋白胆固醇（HDLC）']]"
   ]
  },
  {
   "cell_type": "code",
   "execution_count": 448,
   "metadata": {},
   "outputs": [
    {
     "data": {
      "text/plain": [
       "(1173, 22)"
      ]
     },
     "execution_count": 448,
     "metadata": {},
     "output_type": "execute_result"
    }
   ],
   "source": [
    "df_血生化_1.shape"
   ]
  },
  {
   "cell_type": "code",
   "execution_count": 449,
   "metadata": {},
   "outputs": [
    {
     "data": {
      "text/html": [
       "<div>\n",
       "<style scoped>\n",
       "    .dataframe tbody tr th:only-of-type {\n",
       "        vertical-align: middle;\n",
       "    }\n",
       "\n",
       "    .dataframe tbody tr th {\n",
       "        vertical-align: top;\n",
       "    }\n",
       "\n",
       "    .dataframe thead th {\n",
       "        text-align: right;\n",
       "    }\n",
       "</style>\n",
       "<table border=\"1\" class=\"dataframe\">\n",
       "  <thead>\n",
       "    <tr style=\"text-align: right;\">\n",
       "      <th></th>\n",
       "      <th>访视</th>\n",
       "      <th>受试者编号</th>\n",
       "      <th>检查日期</th>\n",
       "      <th>总胆红素（TBil）</th>\n",
       "      <th>直接胆红素（DBil）</th>\n",
       "      <th>白蛋白</th>\n",
       "      <th>前白蛋白</th>\n",
       "      <th>ALT</th>\n",
       "      <th>AST</th>\n",
       "      <th>GGT</th>\n",
       "      <th>...</th>\n",
       "      <th>肌酐（Cr）</th>\n",
       "      <th>PT</th>\n",
       "      <th>INR</th>\n",
       "      <th>血钠</th>\n",
       "      <th>血钾</th>\n",
       "      <th>血氯</th>\n",
       "      <th>甘油三酯</th>\n",
       "      <th>胆固醇</th>\n",
       "      <th>低密度脂蛋白（LDL）</th>\n",
       "      <th>高密度脂蛋白胆固醇（HDLC）</th>\n",
       "    </tr>\n",
       "  </thead>\n",
       "  <tbody>\n",
       "    <tr>\n",
       "      <th>0</th>\n",
       "      <td>入院检查</td>\n",
       "      <td>90001_a</td>\n",
       "      <td>2018-03-28</td>\n",
       "      <td>12.4</td>\n",
       "      <td>0.0</td>\n",
       "      <td>43.6</td>\n",
       "      <td>NaN</td>\n",
       "      <td>51.0</td>\n",
       "      <td>51.0</td>\n",
       "      <td>71.0</td>\n",
       "      <td>...</td>\n",
       "      <td>62.5</td>\n",
       "      <td>10.4</td>\n",
       "      <td>0.96</td>\n",
       "      <td>142.0</td>\n",
       "      <td>4.53</td>\n",
       "      <td>105.0</td>\n",
       "      <td>1.18</td>\n",
       "      <td>3.72</td>\n",
       "      <td>1.83</td>\n",
       "      <td>1.59</td>\n",
       "    </tr>\n",
       "    <tr>\n",
       "      <th>1</th>\n",
       "      <td>出院前检查</td>\n",
       "      <td>90001_a</td>\n",
       "      <td>2018-04-10</td>\n",
       "      <td>5.9</td>\n",
       "      <td>2.3</td>\n",
       "      <td>35.6</td>\n",
       "      <td>147.0</td>\n",
       "      <td>22.0</td>\n",
       "      <td>19.0</td>\n",
       "      <td>NaN</td>\n",
       "      <td>...</td>\n",
       "      <td>53.0</td>\n",
       "      <td>11.8</td>\n",
       "      <td>1.07</td>\n",
       "      <td>142.0</td>\n",
       "      <td>3.47</td>\n",
       "      <td>101.4</td>\n",
       "      <td>NaN</td>\n",
       "      <td>NaN</td>\n",
       "      <td>NaN</td>\n",
       "      <td>NaN</td>\n",
       "    </tr>\n",
       "    <tr>\n",
       "      <th>2</th>\n",
       "      <td>入院检查</td>\n",
       "      <td>90003_a</td>\n",
       "      <td>2018-01-31</td>\n",
       "      <td>12.1</td>\n",
       "      <td>0.0</td>\n",
       "      <td>27.5</td>\n",
       "      <td>NaN</td>\n",
       "      <td>83.0</td>\n",
       "      <td>100.0</td>\n",
       "      <td>43.0</td>\n",
       "      <td>...</td>\n",
       "      <td>63.2</td>\n",
       "      <td>NaN</td>\n",
       "      <td>NaN</td>\n",
       "      <td>138.0</td>\n",
       "      <td>3.40</td>\n",
       "      <td>107.0</td>\n",
       "      <td>NaN</td>\n",
       "      <td>NaN</td>\n",
       "      <td>NaN</td>\n",
       "      <td>NaN</td>\n",
       "    </tr>\n",
       "    <tr>\n",
       "      <th>3</th>\n",
       "      <td>出院前检查</td>\n",
       "      <td>90003_a</td>\n",
       "      <td>NaN</td>\n",
       "      <td>NaN</td>\n",
       "      <td>NaN</td>\n",
       "      <td>NaN</td>\n",
       "      <td>NaN</td>\n",
       "      <td>NaN</td>\n",
       "      <td>NaN</td>\n",
       "      <td>NaN</td>\n",
       "      <td>...</td>\n",
       "      <td>NaN</td>\n",
       "      <td>NaN</td>\n",
       "      <td>NaN</td>\n",
       "      <td>NaN</td>\n",
       "      <td>NaN</td>\n",
       "      <td>NaN</td>\n",
       "      <td>NaN</td>\n",
       "      <td>NaN</td>\n",
       "      <td>NaN</td>\n",
       "      <td>NaN</td>\n",
       "    </tr>\n",
       "    <tr>\n",
       "      <th>4</th>\n",
       "      <td>入院检查</td>\n",
       "      <td>90004_a</td>\n",
       "      <td>2018-01-27</td>\n",
       "      <td>4.4</td>\n",
       "      <td>2.1</td>\n",
       "      <td>25.5</td>\n",
       "      <td>253.0</td>\n",
       "      <td>9.0</td>\n",
       "      <td>17.0</td>\n",
       "      <td>33.0</td>\n",
       "      <td>...</td>\n",
       "      <td>914.4</td>\n",
       "      <td>NaN</td>\n",
       "      <td>NaN</td>\n",
       "      <td>137.0</td>\n",
       "      <td>2.70</td>\n",
       "      <td>96.0</td>\n",
       "      <td>1.05</td>\n",
       "      <td>4.84</td>\n",
       "      <td>3.12</td>\n",
       "      <td>1.28</td>\n",
       "    </tr>\n",
       "  </tbody>\n",
       "</table>\n",
       "<p>5 rows × 22 columns</p>\n",
       "</div>"
      ],
      "text/plain": [
       "      访视    受试者编号        检查日期  总胆红素（TBil）  直接胆红素（DBil）   白蛋白   前白蛋白   ALT  \\\n",
       "0   入院检查  90001_a  2018-03-28        12.4          0.0  43.6    NaN  51.0   \n",
       "1  出院前检查  90001_a  2018-04-10         5.9          2.3  35.6  147.0  22.0   \n",
       "2   入院检查  90003_a  2018-01-31        12.1          0.0  27.5    NaN  83.0   \n",
       "3  出院前检查  90003_a         NaN         NaN          NaN   NaN    NaN   NaN   \n",
       "4   入院检查  90004_a  2018-01-27         4.4          2.1  25.5  253.0   9.0   \n",
       "\n",
       "     AST   GGT  ...  肌酐（Cr）    PT   INR     血钠    血钾     血氯  甘油三酯   胆固醇  \\\n",
       "0   51.0  71.0  ...    62.5  10.4  0.96  142.0  4.53  105.0  1.18  3.72   \n",
       "1   19.0   NaN  ...    53.0  11.8  1.07  142.0  3.47  101.4   NaN   NaN   \n",
       "2  100.0  43.0  ...    63.2   NaN   NaN  138.0  3.40  107.0   NaN   NaN   \n",
       "3    NaN   NaN  ...     NaN   NaN   NaN    NaN   NaN    NaN   NaN   NaN   \n",
       "4   17.0  33.0  ...   914.4   NaN   NaN  137.0  2.70   96.0  1.05  4.84   \n",
       "\n",
       "   低密度脂蛋白（LDL）  高密度脂蛋白胆固醇（HDLC）  \n",
       "0         1.83             1.59  \n",
       "1          NaN              NaN  \n",
       "2          NaN              NaN  \n",
       "3          NaN              NaN  \n",
       "4         3.12             1.28  \n",
       "\n",
       "[5 rows x 22 columns]"
      ]
     },
     "execution_count": 449,
     "metadata": {},
     "output_type": "execute_result"
    }
   ],
   "source": [
    "df_血生化_1.head()"
   ]
  },
  {
   "cell_type": "markdown",
   "metadata": {},
   "source": [
    "#### 入院检查"
   ]
  },
  {
   "cell_type": "code",
   "execution_count": 450,
   "metadata": {},
   "outputs": [],
   "source": [
    "# 入院血生化检查\n",
    "df_血生化_1_inp=df_血生化_1[df_血生化_1['访视'].str.contains('入院检查')]\n",
    "df_血生化_1_inp=df_血生化_1_inp.reset_index(drop=True)\n",
    "df_血生化_2_inp=df_血生化_2[df_血生化_2['访视'].str.contains('入院检查')]\n",
    "df_血生化_2_inp=df_血生化_2_inp.reset_index(drop=True)\n",
    "# 合并血生化检查\n",
    "df_血生化_inp=pd.concat([df_血生化_1_inp,df_血生化_2_inp],axis=0)"
   ]
  },
  {
   "cell_type": "code",
   "execution_count": 451,
   "metadata": {},
   "outputs": [
    {
     "data": {
      "text/plain": [
       "(741, 26)"
      ]
     },
     "execution_count": 451,
     "metadata": {},
     "output_type": "execute_result"
    }
   ],
   "source": [
    "df_血生化_inp.shape"
   ]
  },
  {
   "cell_type": "code",
   "execution_count": 452,
   "metadata": {},
   "outputs": [
    {
     "data": {
      "text/html": [
       "<div>\n",
       "<style scoped>\n",
       "    .dataframe tbody tr th:only-of-type {\n",
       "        vertical-align: middle;\n",
       "    }\n",
       "\n",
       "    .dataframe tbody tr th {\n",
       "        vertical-align: top;\n",
       "    }\n",
       "\n",
       "    .dataframe thead th {\n",
       "        text-align: right;\n",
       "    }\n",
       "</style>\n",
       "<table border=\"1\" class=\"dataframe\">\n",
       "  <thead>\n",
       "    <tr style=\"text-align: right;\">\n",
       "      <th></th>\n",
       "      <th>访视</th>\n",
       "      <th>受试者编号</th>\n",
       "      <th>检查日期</th>\n",
       "      <th>总胆红素（TBil）</th>\n",
       "      <th>直接胆红素（DBil）</th>\n",
       "      <th>白蛋白</th>\n",
       "      <th>前白蛋白</th>\n",
       "      <th>ALT</th>\n",
       "      <th>AST</th>\n",
       "      <th>GGT</th>\n",
       "      <th>...</th>\n",
       "      <th>血钾</th>\n",
       "      <th>血氯</th>\n",
       "      <th>甘油三酯</th>\n",
       "      <th>胆固醇</th>\n",
       "      <th>低密度脂蛋白（LDL）</th>\n",
       "      <th>高密度脂蛋白胆固醇（HDLC）</th>\n",
       "      <th>HCY</th>\n",
       "      <th>NT-pro BNP</th>\n",
       "      <th>肌钙蛋白</th>\n",
       "      <th>CK-MB</th>\n",
       "    </tr>\n",
       "  </thead>\n",
       "  <tbody>\n",
       "    <tr>\n",
       "      <th>0</th>\n",
       "      <td>入院检查</td>\n",
       "      <td>90001_a</td>\n",
       "      <td>2018-03-28</td>\n",
       "      <td>12.4</td>\n",
       "      <td>0.0</td>\n",
       "      <td>43.6</td>\n",
       "      <td>NaN</td>\n",
       "      <td>51.0</td>\n",
       "      <td>51.0</td>\n",
       "      <td>71.0</td>\n",
       "      <td>...</td>\n",
       "      <td>4.53</td>\n",
       "      <td>105.0</td>\n",
       "      <td>1.18</td>\n",
       "      <td>3.72</td>\n",
       "      <td>1.83</td>\n",
       "      <td>1.59</td>\n",
       "      <td>NaN</td>\n",
       "      <td>NaN</td>\n",
       "      <td>NaN</td>\n",
       "      <td>NaN</td>\n",
       "    </tr>\n",
       "    <tr>\n",
       "      <th>1</th>\n",
       "      <td>入院检查</td>\n",
       "      <td>90003_a</td>\n",
       "      <td>2018-01-31</td>\n",
       "      <td>12.1</td>\n",
       "      <td>0.0</td>\n",
       "      <td>27.5</td>\n",
       "      <td>NaN</td>\n",
       "      <td>83.0</td>\n",
       "      <td>100.0</td>\n",
       "      <td>43.0</td>\n",
       "      <td>...</td>\n",
       "      <td>3.40</td>\n",
       "      <td>107.0</td>\n",
       "      <td>NaN</td>\n",
       "      <td>NaN</td>\n",
       "      <td>NaN</td>\n",
       "      <td>NaN</td>\n",
       "      <td>NaN</td>\n",
       "      <td>NaN</td>\n",
       "      <td>NaN</td>\n",
       "      <td>NaN</td>\n",
       "    </tr>\n",
       "    <tr>\n",
       "      <th>2</th>\n",
       "      <td>入院检查</td>\n",
       "      <td>90004_a</td>\n",
       "      <td>2018-01-27</td>\n",
       "      <td>4.4</td>\n",
       "      <td>2.1</td>\n",
       "      <td>25.5</td>\n",
       "      <td>253.0</td>\n",
       "      <td>9.0</td>\n",
       "      <td>17.0</td>\n",
       "      <td>33.0</td>\n",
       "      <td>...</td>\n",
       "      <td>2.70</td>\n",
       "      <td>96.0</td>\n",
       "      <td>1.05</td>\n",
       "      <td>4.84</td>\n",
       "      <td>3.12</td>\n",
       "      <td>1.28</td>\n",
       "      <td>NaN</td>\n",
       "      <td>NaN</td>\n",
       "      <td>NaN</td>\n",
       "      <td>NaN</td>\n",
       "    </tr>\n",
       "    <tr>\n",
       "      <th>3</th>\n",
       "      <td>入院检查</td>\n",
       "      <td>90005_a</td>\n",
       "      <td>2018-02-07</td>\n",
       "      <td>15.3</td>\n",
       "      <td>0.0</td>\n",
       "      <td>37.7</td>\n",
       "      <td>391.0</td>\n",
       "      <td>21.0</td>\n",
       "      <td>31.0</td>\n",
       "      <td>24.0</td>\n",
       "      <td>...</td>\n",
       "      <td>3.50</td>\n",
       "      <td>92.0</td>\n",
       "      <td>3.13</td>\n",
       "      <td>6.66</td>\n",
       "      <td>4.27</td>\n",
       "      <td>1.24</td>\n",
       "      <td>NaN</td>\n",
       "      <td>NaN</td>\n",
       "      <td>NaN</td>\n",
       "      <td>NaN</td>\n",
       "    </tr>\n",
       "    <tr>\n",
       "      <th>4</th>\n",
       "      <td>入院检查</td>\n",
       "      <td>90006_a</td>\n",
       "      <td>2018-02-12</td>\n",
       "      <td>14.2</td>\n",
       "      <td>3.2</td>\n",
       "      <td>64.2</td>\n",
       "      <td>191.0</td>\n",
       "      <td>17.0</td>\n",
       "      <td>16.0</td>\n",
       "      <td>16.0</td>\n",
       "      <td>...</td>\n",
       "      <td>4.05</td>\n",
       "      <td>106.0</td>\n",
       "      <td>4.23</td>\n",
       "      <td>6.17</td>\n",
       "      <td>4.48</td>\n",
       "      <td>1.05</td>\n",
       "      <td>NaN</td>\n",
       "      <td>NaN</td>\n",
       "      <td>NaN</td>\n",
       "      <td>NaN</td>\n",
       "    </tr>\n",
       "  </tbody>\n",
       "</table>\n",
       "<p>5 rows × 26 columns</p>\n",
       "</div>"
      ],
      "text/plain": [
       "     访视    受试者编号        检查日期  总胆红素（TBil）  直接胆红素（DBil）   白蛋白   前白蛋白   ALT  \\\n",
       "0  入院检查  90001_a  2018-03-28        12.4          0.0  43.6    NaN  51.0   \n",
       "1  入院检查  90003_a  2018-01-31        12.1          0.0  27.5    NaN  83.0   \n",
       "2  入院检查  90004_a  2018-01-27         4.4          2.1  25.5  253.0   9.0   \n",
       "3  入院检查  90005_a  2018-02-07        15.3          0.0  37.7  391.0  21.0   \n",
       "4  入院检查  90006_a  2018-02-12        14.2          3.2  64.2  191.0  17.0   \n",
       "\n",
       "     AST   GGT  ...    血钾     血氯  甘油三酯   胆固醇  低密度脂蛋白（LDL）  高密度脂蛋白胆固醇（HDLC）  \\\n",
       "0   51.0  71.0  ...  4.53  105.0  1.18  3.72         1.83             1.59   \n",
       "1  100.0  43.0  ...  3.40  107.0   NaN   NaN          NaN              NaN   \n",
       "2   17.0  33.0  ...  2.70   96.0  1.05  4.84         3.12             1.28   \n",
       "3   31.0  24.0  ...  3.50   92.0  3.13  6.66         4.27             1.24   \n",
       "4   16.0  16.0  ...  4.05  106.0  4.23  6.17         4.48             1.05   \n",
       "\n",
       "   HCY  NT-pro BNP  肌钙蛋白  CK-MB  \n",
       "0  NaN         NaN   NaN    NaN  \n",
       "1  NaN         NaN   NaN    NaN  \n",
       "2  NaN         NaN   NaN    NaN  \n",
       "3  NaN         NaN   NaN    NaN  \n",
       "4  NaN         NaN   NaN    NaN  \n",
       "\n",
       "[5 rows x 26 columns]"
      ]
     },
     "execution_count": 452,
     "metadata": {},
     "output_type": "execute_result"
    }
   ],
   "source": [
    "df_血生化_inp.head()"
   ]
  },
  {
   "cell_type": "code",
   "execution_count": 453,
   "metadata": {},
   "outputs": [],
   "source": [
    "df_血生化_inp.to_excel(project_path+'/data/processed_data/检测数据/df_血生化_入院检查.xlsx')"
   ]
  },
  {
   "cell_type": "markdown",
   "metadata": {},
   "source": [
    "#### 出院检查"
   ]
  },
  {
   "cell_type": "code",
   "execution_count": 454,
   "metadata": {},
   "outputs": [],
   "source": [
    "# 出院血生化检查\n",
    "df_血生化_1_oup=df_血生化_1[df_血生化_1['访视'].str.contains('出院前检查')]\n",
    "df_血生化_1_oup=df_血生化_1_oup.reset_index(drop=True)\n",
    "df_血生化_2_oup=df_血生化_2[df_血生化_2['访视'].str.contains('出院前检查')]\n",
    "df_血生化_2_oup=df_血生化_2_oup.reset_index(drop=True)\n",
    "# 合并血生化检查\n",
    "df_血生化_oup=pd.concat([df_血生化_1_oup,df_血生化_2_oup],axis=0)"
   ]
  },
  {
   "cell_type": "code",
   "execution_count": 455,
   "metadata": {},
   "outputs": [
    {
     "data": {
      "text/plain": [
       "(626, 26)"
      ]
     },
     "execution_count": 455,
     "metadata": {},
     "output_type": "execute_result"
    }
   ],
   "source": [
    "df_血生化_oup.shape"
   ]
  },
  {
   "cell_type": "code",
   "execution_count": 456,
   "metadata": {},
   "outputs": [
    {
     "data": {
      "text/html": [
       "<div>\n",
       "<style scoped>\n",
       "    .dataframe tbody tr th:only-of-type {\n",
       "        vertical-align: middle;\n",
       "    }\n",
       "\n",
       "    .dataframe tbody tr th {\n",
       "        vertical-align: top;\n",
       "    }\n",
       "\n",
       "    .dataframe thead th {\n",
       "        text-align: right;\n",
       "    }\n",
       "</style>\n",
       "<table border=\"1\" class=\"dataframe\">\n",
       "  <thead>\n",
       "    <tr style=\"text-align: right;\">\n",
       "      <th></th>\n",
       "      <th>访视</th>\n",
       "      <th>受试者编号</th>\n",
       "      <th>检查日期</th>\n",
       "      <th>总胆红素（TBil）</th>\n",
       "      <th>直接胆红素（DBil）</th>\n",
       "      <th>白蛋白</th>\n",
       "      <th>前白蛋白</th>\n",
       "      <th>ALT</th>\n",
       "      <th>AST</th>\n",
       "      <th>GGT</th>\n",
       "      <th>...</th>\n",
       "      <th>血钾</th>\n",
       "      <th>血氯</th>\n",
       "      <th>甘油三酯</th>\n",
       "      <th>胆固醇</th>\n",
       "      <th>低密度脂蛋白（LDL）</th>\n",
       "      <th>高密度脂蛋白胆固醇（HDLC）</th>\n",
       "      <th>HCY</th>\n",
       "      <th>NT-pro BNP</th>\n",
       "      <th>肌钙蛋白</th>\n",
       "      <th>CK-MB</th>\n",
       "    </tr>\n",
       "  </thead>\n",
       "  <tbody>\n",
       "    <tr>\n",
       "      <th>0</th>\n",
       "      <td>出院前检查</td>\n",
       "      <td>90001_a</td>\n",
       "      <td>2018-04-10</td>\n",
       "      <td>5.9</td>\n",
       "      <td>2.3</td>\n",
       "      <td>35.6</td>\n",
       "      <td>147.0</td>\n",
       "      <td>22.0</td>\n",
       "      <td>19.0</td>\n",
       "      <td>NaN</td>\n",
       "      <td>...</td>\n",
       "      <td>3.47</td>\n",
       "      <td>101.4</td>\n",
       "      <td>NaN</td>\n",
       "      <td>NaN</td>\n",
       "      <td>NaN</td>\n",
       "      <td>NaN</td>\n",
       "      <td>NaN</td>\n",
       "      <td>NaN</td>\n",
       "      <td>NaN</td>\n",
       "      <td>NaN</td>\n",
       "    </tr>\n",
       "    <tr>\n",
       "      <th>1</th>\n",
       "      <td>出院前检查</td>\n",
       "      <td>90003_a</td>\n",
       "      <td>NaN</td>\n",
       "      <td>NaN</td>\n",
       "      <td>NaN</td>\n",
       "      <td>NaN</td>\n",
       "      <td>NaN</td>\n",
       "      <td>NaN</td>\n",
       "      <td>NaN</td>\n",
       "      <td>NaN</td>\n",
       "      <td>...</td>\n",
       "      <td>NaN</td>\n",
       "      <td>NaN</td>\n",
       "      <td>NaN</td>\n",
       "      <td>NaN</td>\n",
       "      <td>NaN</td>\n",
       "      <td>NaN</td>\n",
       "      <td>NaN</td>\n",
       "      <td>NaN</td>\n",
       "      <td>NaN</td>\n",
       "      <td>NaN</td>\n",
       "    </tr>\n",
       "    <tr>\n",
       "      <th>2</th>\n",
       "      <td>出院前检查</td>\n",
       "      <td>90004_a</td>\n",
       "      <td>NaN</td>\n",
       "      <td>NaN</td>\n",
       "      <td>NaN</td>\n",
       "      <td>NaN</td>\n",
       "      <td>NaN</td>\n",
       "      <td>NaN</td>\n",
       "      <td>NaN</td>\n",
       "      <td>NaN</td>\n",
       "      <td>...</td>\n",
       "      <td>NaN</td>\n",
       "      <td>NaN</td>\n",
       "      <td>NaN</td>\n",
       "      <td>NaN</td>\n",
       "      <td>NaN</td>\n",
       "      <td>NaN</td>\n",
       "      <td>NaN</td>\n",
       "      <td>NaN</td>\n",
       "      <td>NaN</td>\n",
       "      <td>NaN</td>\n",
       "    </tr>\n",
       "    <tr>\n",
       "      <th>3</th>\n",
       "      <td>出院前检查</td>\n",
       "      <td>90005_a</td>\n",
       "      <td>2018-02-13</td>\n",
       "      <td>5.3</td>\n",
       "      <td>2.9</td>\n",
       "      <td>35.2</td>\n",
       "      <td>391.0</td>\n",
       "      <td>21.0</td>\n",
       "      <td>31.0</td>\n",
       "      <td>24.0</td>\n",
       "      <td>...</td>\n",
       "      <td>2.92</td>\n",
       "      <td>93.0</td>\n",
       "      <td>NaN</td>\n",
       "      <td>NaN</td>\n",
       "      <td>NaN</td>\n",
       "      <td>NaN</td>\n",
       "      <td>NaN</td>\n",
       "      <td>NaN</td>\n",
       "      <td>NaN</td>\n",
       "      <td>NaN</td>\n",
       "    </tr>\n",
       "    <tr>\n",
       "      <th>4</th>\n",
       "      <td>出院前检查</td>\n",
       "      <td>90006_a</td>\n",
       "      <td>2018-02-19</td>\n",
       "      <td>17.7</td>\n",
       "      <td>5.1</td>\n",
       "      <td>40.8</td>\n",
       "      <td>173.0</td>\n",
       "      <td>25.0</td>\n",
       "      <td>19.0</td>\n",
       "      <td>17.0</td>\n",
       "      <td>...</td>\n",
       "      <td>NaN</td>\n",
       "      <td>NaN</td>\n",
       "      <td>NaN</td>\n",
       "      <td>NaN</td>\n",
       "      <td>NaN</td>\n",
       "      <td>NaN</td>\n",
       "      <td>NaN</td>\n",
       "      <td>NaN</td>\n",
       "      <td>NaN</td>\n",
       "      <td>NaN</td>\n",
       "    </tr>\n",
       "  </tbody>\n",
       "</table>\n",
       "<p>5 rows × 26 columns</p>\n",
       "</div>"
      ],
      "text/plain": [
       "      访视    受试者编号        检查日期  总胆红素（TBil）  直接胆红素（DBil）   白蛋白   前白蛋白   ALT  \\\n",
       "0  出院前检查  90001_a  2018-04-10         5.9          2.3  35.6  147.0  22.0   \n",
       "1  出院前检查  90003_a         NaN         NaN          NaN   NaN    NaN   NaN   \n",
       "2  出院前检查  90004_a         NaN         NaN          NaN   NaN    NaN   NaN   \n",
       "3  出院前检查  90005_a  2018-02-13         5.3          2.9  35.2  391.0  21.0   \n",
       "4  出院前检查  90006_a  2018-02-19        17.7          5.1  40.8  173.0  25.0   \n",
       "\n",
       "    AST   GGT  ...    血钾     血氯  甘油三酯  胆固醇  低密度脂蛋白（LDL）  高密度脂蛋白胆固醇（HDLC）  HCY  \\\n",
       "0  19.0   NaN  ...  3.47  101.4   NaN  NaN          NaN              NaN  NaN   \n",
       "1   NaN   NaN  ...   NaN    NaN   NaN  NaN          NaN              NaN  NaN   \n",
       "2   NaN   NaN  ...   NaN    NaN   NaN  NaN          NaN              NaN  NaN   \n",
       "3  31.0  24.0  ...  2.92   93.0   NaN  NaN          NaN              NaN  NaN   \n",
       "4  19.0  17.0  ...   NaN    NaN   NaN  NaN          NaN              NaN  NaN   \n",
       "\n",
       "   NT-pro BNP  肌钙蛋白  CK-MB  \n",
       "0         NaN   NaN    NaN  \n",
       "1         NaN   NaN    NaN  \n",
       "2         NaN   NaN    NaN  \n",
       "3         NaN   NaN    NaN  \n",
       "4         NaN   NaN    NaN  \n",
       "\n",
       "[5 rows x 26 columns]"
      ]
     },
     "execution_count": 456,
     "metadata": {},
     "output_type": "execute_result"
    }
   ],
   "source": [
    "df_血生化_oup.head()"
   ]
  },
  {
   "cell_type": "code",
   "execution_count": 457,
   "metadata": {},
   "outputs": [],
   "source": [
    "df_血生化_oup.to_excel(project_path+'/data/processed_data/检测数据/df_血生化_出院检查.xlsx')"
   ]
  },
  {
   "cell_type": "markdown",
   "metadata": {},
   "source": [
    "#### 修改列名"
   ]
  },
  {
   "cell_type": "code",
   "execution_count": 458,
   "metadata": {},
   "outputs": [],
   "source": [
    "# 删除访视\n",
    "df_血生化_inp=df_血生化_inp.drop(['访视','PT','INR'],axis=1) # 避免与凝血指标冲突\n",
    "df_血生化_oup=df_血生化_oup.drop(['访视','PT','INR'],axis=1)\n",
    "# 修改列名\n",
    "for i in df_血生化_inp.columns[1:]:\n",
    "    df_血生化_inp.rename(columns={i:i + '_入院'},inplace=True)\n",
    "for i in df_血生化_oup.columns[1:]:\n",
    "    df_血生化_oup.rename(columns={i:i+'_出院'},inplace=True)  \n",
    "df_test_血生化=pd.merge(df_血生化_inp,df_血生化_oup,on='受试者编号',how='outer')"
   ]
  },
  {
   "cell_type": "code",
   "execution_count": 459,
   "metadata": {},
   "outputs": [
    {
     "data": {
      "text/plain": [
       "(741, 45)"
      ]
     },
     "execution_count": 459,
     "metadata": {},
     "output_type": "execute_result"
    }
   ],
   "source": [
    "df_test_血生化.shape"
   ]
  },
  {
   "cell_type": "code",
   "execution_count": 460,
   "metadata": {},
   "outputs": [
    {
     "data": {
      "text/html": [
       "<div>\n",
       "<style scoped>\n",
       "    .dataframe tbody tr th:only-of-type {\n",
       "        vertical-align: middle;\n",
       "    }\n",
       "\n",
       "    .dataframe tbody tr th {\n",
       "        vertical-align: top;\n",
       "    }\n",
       "\n",
       "    .dataframe thead th {\n",
       "        text-align: right;\n",
       "    }\n",
       "</style>\n",
       "<table border=\"1\" class=\"dataframe\">\n",
       "  <thead>\n",
       "    <tr style=\"text-align: right;\">\n",
       "      <th></th>\n",
       "      <th>受试者编号</th>\n",
       "      <th>检查日期_入院</th>\n",
       "      <th>总胆红素（TBil）_入院</th>\n",
       "      <th>直接胆红素（DBil）_入院</th>\n",
       "      <th>白蛋白_入院</th>\n",
       "      <th>前白蛋白_入院</th>\n",
       "      <th>ALT_入院</th>\n",
       "      <th>AST_入院</th>\n",
       "      <th>GGT_入院</th>\n",
       "      <th>AKP_入院</th>\n",
       "      <th>...</th>\n",
       "      <th>血钾_出院</th>\n",
       "      <th>血氯_出院</th>\n",
       "      <th>甘油三酯_出院</th>\n",
       "      <th>胆固醇_出院</th>\n",
       "      <th>低密度脂蛋白（LDL）_出院</th>\n",
       "      <th>高密度脂蛋白胆固醇（HDLC）_出院</th>\n",
       "      <th>HCY_出院</th>\n",
       "      <th>NT-pro BNP_出院</th>\n",
       "      <th>肌钙蛋白_出院</th>\n",
       "      <th>CK-MB_出院</th>\n",
       "    </tr>\n",
       "  </thead>\n",
       "  <tbody>\n",
       "    <tr>\n",
       "      <th>0</th>\n",
       "      <td>90001_a</td>\n",
       "      <td>2018-03-28</td>\n",
       "      <td>12.4</td>\n",
       "      <td>0.0</td>\n",
       "      <td>43.6</td>\n",
       "      <td>NaN</td>\n",
       "      <td>51.0</td>\n",
       "      <td>51.0</td>\n",
       "      <td>71.0</td>\n",
       "      <td>NaN</td>\n",
       "      <td>...</td>\n",
       "      <td>3.47</td>\n",
       "      <td>101.4</td>\n",
       "      <td>NaN</td>\n",
       "      <td>NaN</td>\n",
       "      <td>NaN</td>\n",
       "      <td>NaN</td>\n",
       "      <td>NaN</td>\n",
       "      <td>NaN</td>\n",
       "      <td>NaN</td>\n",
       "      <td>NaN</td>\n",
       "    </tr>\n",
       "    <tr>\n",
       "      <th>1</th>\n",
       "      <td>90003_a</td>\n",
       "      <td>2018-01-31</td>\n",
       "      <td>12.1</td>\n",
       "      <td>0.0</td>\n",
       "      <td>27.5</td>\n",
       "      <td>NaN</td>\n",
       "      <td>83.0</td>\n",
       "      <td>100.0</td>\n",
       "      <td>43.0</td>\n",
       "      <td>NaN</td>\n",
       "      <td>...</td>\n",
       "      <td>NaN</td>\n",
       "      <td>NaN</td>\n",
       "      <td>NaN</td>\n",
       "      <td>NaN</td>\n",
       "      <td>NaN</td>\n",
       "      <td>NaN</td>\n",
       "      <td>NaN</td>\n",
       "      <td>NaN</td>\n",
       "      <td>NaN</td>\n",
       "      <td>NaN</td>\n",
       "    </tr>\n",
       "    <tr>\n",
       "      <th>2</th>\n",
       "      <td>90004_a</td>\n",
       "      <td>2018-01-27</td>\n",
       "      <td>4.4</td>\n",
       "      <td>2.1</td>\n",
       "      <td>25.5</td>\n",
       "      <td>253.0</td>\n",
       "      <td>9.0</td>\n",
       "      <td>17.0</td>\n",
       "      <td>33.0</td>\n",
       "      <td>NaN</td>\n",
       "      <td>...</td>\n",
       "      <td>NaN</td>\n",
       "      <td>NaN</td>\n",
       "      <td>NaN</td>\n",
       "      <td>NaN</td>\n",
       "      <td>NaN</td>\n",
       "      <td>NaN</td>\n",
       "      <td>NaN</td>\n",
       "      <td>NaN</td>\n",
       "      <td>NaN</td>\n",
       "      <td>NaN</td>\n",
       "    </tr>\n",
       "    <tr>\n",
       "      <th>3</th>\n",
       "      <td>90005_a</td>\n",
       "      <td>2018-02-07</td>\n",
       "      <td>15.3</td>\n",
       "      <td>0.0</td>\n",
       "      <td>37.7</td>\n",
       "      <td>391.0</td>\n",
       "      <td>21.0</td>\n",
       "      <td>31.0</td>\n",
       "      <td>24.0</td>\n",
       "      <td>NaN</td>\n",
       "      <td>...</td>\n",
       "      <td>2.92</td>\n",
       "      <td>93.0</td>\n",
       "      <td>NaN</td>\n",
       "      <td>NaN</td>\n",
       "      <td>NaN</td>\n",
       "      <td>NaN</td>\n",
       "      <td>NaN</td>\n",
       "      <td>NaN</td>\n",
       "      <td>NaN</td>\n",
       "      <td>NaN</td>\n",
       "    </tr>\n",
       "    <tr>\n",
       "      <th>4</th>\n",
       "      <td>90006_a</td>\n",
       "      <td>2018-02-12</td>\n",
       "      <td>14.2</td>\n",
       "      <td>3.2</td>\n",
       "      <td>64.2</td>\n",
       "      <td>191.0</td>\n",
       "      <td>17.0</td>\n",
       "      <td>16.0</td>\n",
       "      <td>16.0</td>\n",
       "      <td>NaN</td>\n",
       "      <td>...</td>\n",
       "      <td>NaN</td>\n",
       "      <td>NaN</td>\n",
       "      <td>NaN</td>\n",
       "      <td>NaN</td>\n",
       "      <td>NaN</td>\n",
       "      <td>NaN</td>\n",
       "      <td>NaN</td>\n",
       "      <td>NaN</td>\n",
       "      <td>NaN</td>\n",
       "      <td>NaN</td>\n",
       "    </tr>\n",
       "  </tbody>\n",
       "</table>\n",
       "<p>5 rows × 45 columns</p>\n",
       "</div>"
      ],
      "text/plain": [
       "     受试者编号     检查日期_入院  总胆红素（TBil）_入院  直接胆红素（DBil）_入院  白蛋白_入院  前白蛋白_入院  \\\n",
       "0  90001_a  2018-03-28           12.4             0.0    43.6      NaN   \n",
       "1  90003_a  2018-01-31           12.1             0.0    27.5      NaN   \n",
       "2  90004_a  2018-01-27            4.4             2.1    25.5    253.0   \n",
       "3  90005_a  2018-02-07           15.3             0.0    37.7    391.0   \n",
       "4  90006_a  2018-02-12           14.2             3.2    64.2    191.0   \n",
       "\n",
       "   ALT_入院  AST_入院  GGT_入院  AKP_入院  ...  血钾_出院  血氯_出院  甘油三酯_出院  胆固醇_出院  \\\n",
       "0    51.0    51.0    71.0     NaN  ...   3.47  101.4      NaN     NaN   \n",
       "1    83.0   100.0    43.0     NaN  ...    NaN    NaN      NaN     NaN   \n",
       "2     9.0    17.0    33.0     NaN  ...    NaN    NaN      NaN     NaN   \n",
       "3    21.0    31.0    24.0     NaN  ...   2.92   93.0      NaN     NaN   \n",
       "4    17.0    16.0    16.0     NaN  ...    NaN    NaN      NaN     NaN   \n",
       "\n",
       "   低密度脂蛋白（LDL）_出院  高密度脂蛋白胆固醇（HDLC）_出院  HCY_出院  NT-pro BNP_出院  肌钙蛋白_出院  \\\n",
       "0             NaN                 NaN     NaN            NaN      NaN   \n",
       "1             NaN                 NaN     NaN            NaN      NaN   \n",
       "2             NaN                 NaN     NaN            NaN      NaN   \n",
       "3             NaN                 NaN     NaN            NaN      NaN   \n",
       "4             NaN                 NaN     NaN            NaN      NaN   \n",
       "\n",
       "   CK-MB_出院  \n",
       "0       NaN  \n",
       "1       NaN  \n",
       "2       NaN  \n",
       "3       NaN  \n",
       "4       NaN  \n",
       "\n",
       "[5 rows x 45 columns]"
      ]
     },
     "execution_count": 460,
     "metadata": {},
     "output_type": "execute_result"
    }
   ],
   "source": [
    "df_test_血生化.head()"
   ]
  },
  {
   "cell_type": "code",
   "execution_count": 461,
   "metadata": {},
   "outputs": [],
   "source": [
    "df_test_血生化.to_excel(project_path+'/data/processed_data/df_1.10.3.3_血生化_检查.xlsx')"
   ]
  },
  {
   "cell_type": "markdown",
   "metadata": {},
   "source": [
    "#### 并入血生化检查"
   ]
  },
  {
   "cell_type": "code",
   "execution_count": 462,
   "metadata": {},
   "outputs": [
    {
     "data": {
      "text/html": [
       "<div>\n",
       "<style scoped>\n",
       "    .dataframe tbody tr th:only-of-type {\n",
       "        vertical-align: middle;\n",
       "    }\n",
       "\n",
       "    .dataframe tbody tr th {\n",
       "        vertical-align: top;\n",
       "    }\n",
       "\n",
       "    .dataframe thead th {\n",
       "        text-align: right;\n",
       "    }\n",
       "</style>\n",
       "<table border=\"1\" class=\"dataframe\">\n",
       "  <thead>\n",
       "    <tr style=\"text-align: right;\">\n",
       "      <th></th>\n",
       "      <th>受试者编号</th>\n",
       "      <th>检查日期_入院</th>\n",
       "      <th>总胆红素（TBil）_入院</th>\n",
       "      <th>直接胆红素（DBil）_入院</th>\n",
       "      <th>白蛋白_入院</th>\n",
       "      <th>前白蛋白_入院</th>\n",
       "      <th>ALT_入院</th>\n",
       "      <th>AST_入院</th>\n",
       "      <th>GGT_入院</th>\n",
       "      <th>AKP_入院</th>\n",
       "      <th>...</th>\n",
       "      <th>血钾_出院</th>\n",
       "      <th>血氯_出院</th>\n",
       "      <th>甘油三酯_出院</th>\n",
       "      <th>胆固醇_出院</th>\n",
       "      <th>低密度脂蛋白（LDL）_出院</th>\n",
       "      <th>高密度脂蛋白胆固醇（HDLC）_出院</th>\n",
       "      <th>HCY_出院</th>\n",
       "      <th>NT-pro BNP_出院</th>\n",
       "      <th>肌钙蛋白_出院</th>\n",
       "      <th>CK-MB_出院</th>\n",
       "    </tr>\n",
       "  </thead>\n",
       "  <tbody>\n",
       "    <tr>\n",
       "      <th>0</th>\n",
       "      <td>90001_a</td>\n",
       "      <td>2018-03-28</td>\n",
       "      <td>12.4</td>\n",
       "      <td>0.0</td>\n",
       "      <td>43.6</td>\n",
       "      <td>NaN</td>\n",
       "      <td>51.0</td>\n",
       "      <td>51.0</td>\n",
       "      <td>71.0</td>\n",
       "      <td>NaN</td>\n",
       "      <td>...</td>\n",
       "      <td>3.47</td>\n",
       "      <td>101.4</td>\n",
       "      <td>NaN</td>\n",
       "      <td>NaN</td>\n",
       "      <td>NaN</td>\n",
       "      <td>NaN</td>\n",
       "      <td>NaN</td>\n",
       "      <td>NaN</td>\n",
       "      <td>NaN</td>\n",
       "      <td>NaN</td>\n",
       "    </tr>\n",
       "    <tr>\n",
       "      <th>1</th>\n",
       "      <td>90003_a</td>\n",
       "      <td>2018-01-31</td>\n",
       "      <td>12.1</td>\n",
       "      <td>0.0</td>\n",
       "      <td>27.5</td>\n",
       "      <td>NaN</td>\n",
       "      <td>83.0</td>\n",
       "      <td>100.0</td>\n",
       "      <td>43.0</td>\n",
       "      <td>NaN</td>\n",
       "      <td>...</td>\n",
       "      <td>NaN</td>\n",
       "      <td>NaN</td>\n",
       "      <td>NaN</td>\n",
       "      <td>NaN</td>\n",
       "      <td>NaN</td>\n",
       "      <td>NaN</td>\n",
       "      <td>NaN</td>\n",
       "      <td>NaN</td>\n",
       "      <td>NaN</td>\n",
       "      <td>NaN</td>\n",
       "    </tr>\n",
       "    <tr>\n",
       "      <th>2</th>\n",
       "      <td>90004_a</td>\n",
       "      <td>2018-01-27</td>\n",
       "      <td>4.4</td>\n",
       "      <td>2.1</td>\n",
       "      <td>25.5</td>\n",
       "      <td>253.0</td>\n",
       "      <td>9.0</td>\n",
       "      <td>17.0</td>\n",
       "      <td>33.0</td>\n",
       "      <td>NaN</td>\n",
       "      <td>...</td>\n",
       "      <td>NaN</td>\n",
       "      <td>NaN</td>\n",
       "      <td>NaN</td>\n",
       "      <td>NaN</td>\n",
       "      <td>NaN</td>\n",
       "      <td>NaN</td>\n",
       "      <td>NaN</td>\n",
       "      <td>NaN</td>\n",
       "      <td>NaN</td>\n",
       "      <td>NaN</td>\n",
       "    </tr>\n",
       "    <tr>\n",
       "      <th>3</th>\n",
       "      <td>90005_a</td>\n",
       "      <td>2018-02-07</td>\n",
       "      <td>15.3</td>\n",
       "      <td>0.0</td>\n",
       "      <td>37.7</td>\n",
       "      <td>391.0</td>\n",
       "      <td>21.0</td>\n",
       "      <td>31.0</td>\n",
       "      <td>24.0</td>\n",
       "      <td>NaN</td>\n",
       "      <td>...</td>\n",
       "      <td>2.92</td>\n",
       "      <td>93.0</td>\n",
       "      <td>NaN</td>\n",
       "      <td>NaN</td>\n",
       "      <td>NaN</td>\n",
       "      <td>NaN</td>\n",
       "      <td>NaN</td>\n",
       "      <td>NaN</td>\n",
       "      <td>NaN</td>\n",
       "      <td>NaN</td>\n",
       "    </tr>\n",
       "    <tr>\n",
       "      <th>4</th>\n",
       "      <td>90006_a</td>\n",
       "      <td>2018-02-12</td>\n",
       "      <td>14.2</td>\n",
       "      <td>3.2</td>\n",
       "      <td>64.2</td>\n",
       "      <td>191.0</td>\n",
       "      <td>17.0</td>\n",
       "      <td>16.0</td>\n",
       "      <td>16.0</td>\n",
       "      <td>NaN</td>\n",
       "      <td>...</td>\n",
       "      <td>NaN</td>\n",
       "      <td>NaN</td>\n",
       "      <td>NaN</td>\n",
       "      <td>NaN</td>\n",
       "      <td>NaN</td>\n",
       "      <td>NaN</td>\n",
       "      <td>NaN</td>\n",
       "      <td>NaN</td>\n",
       "      <td>NaN</td>\n",
       "      <td>NaN</td>\n",
       "    </tr>\n",
       "  </tbody>\n",
       "</table>\n",
       "<p>5 rows × 45 columns</p>\n",
       "</div>"
      ],
      "text/plain": [
       "     受试者编号     检查日期_入院  总胆红素（TBil）_入院  直接胆红素（DBil）_入院  白蛋白_入院  前白蛋白_入院  \\\n",
       "0  90001_a  2018-03-28           12.4             0.0    43.6      NaN   \n",
       "1  90003_a  2018-01-31           12.1             0.0    27.5      NaN   \n",
       "2  90004_a  2018-01-27            4.4             2.1    25.5    253.0   \n",
       "3  90005_a  2018-02-07           15.3             0.0    37.7    391.0   \n",
       "4  90006_a  2018-02-12           14.2             3.2    64.2    191.0   \n",
       "\n",
       "   ALT_入院  AST_入院  GGT_入院  AKP_入院  ...  血钾_出院  血氯_出院  甘油三酯_出院  胆固醇_出院  \\\n",
       "0    51.0    51.0    71.0     NaN  ...   3.47  101.4      NaN     NaN   \n",
       "1    83.0   100.0    43.0     NaN  ...    NaN    NaN      NaN     NaN   \n",
       "2     9.0    17.0    33.0     NaN  ...    NaN    NaN      NaN     NaN   \n",
       "3    21.0    31.0    24.0     NaN  ...   2.92   93.0      NaN     NaN   \n",
       "4    17.0    16.0    16.0     NaN  ...    NaN    NaN      NaN     NaN   \n",
       "\n",
       "   低密度脂蛋白（LDL）_出院  高密度脂蛋白胆固醇（HDLC）_出院  HCY_出院  NT-pro BNP_出院  肌钙蛋白_出院  \\\n",
       "0             NaN                 NaN     NaN            NaN      NaN   \n",
       "1             NaN                 NaN     NaN            NaN      NaN   \n",
       "2             NaN                 NaN     NaN            NaN      NaN   \n",
       "3             NaN                 NaN     NaN            NaN      NaN   \n",
       "4             NaN                 NaN     NaN            NaN      NaN   \n",
       "\n",
       "   CK-MB_出院  \n",
       "0       NaN  \n",
       "1       NaN  \n",
       "2       NaN  \n",
       "3       NaN  \n",
       "4       NaN  \n",
       "\n",
       "[5 rows x 45 columns]"
      ]
     },
     "execution_count": 462,
     "metadata": {},
     "output_type": "execute_result"
    }
   ],
   "source": [
    "df_test_血生化.head()"
   ]
  },
  {
   "cell_type": "code",
   "execution_count": 463,
   "metadata": {},
   "outputs": [],
   "source": [
    "# 删除检查日期\n",
    "df_test_血生化=df_test_血生化.drop(['检查日期_入院','检查日期_出院'],axis=1)\n",
    "# 并入出入院-血生化检查\n",
    "df_SUP_test=pd.merge(df_SUP_test,df_test_血生化,on='受试者编号',how='left')"
   ]
  },
  {
   "cell_type": "code",
   "execution_count": 464,
   "metadata": {},
   "outputs": [
    {
     "data": {
      "text/html": [
       "<div>\n",
       "<style scoped>\n",
       "    .dataframe tbody tr th:only-of-type {\n",
       "        vertical-align: middle;\n",
       "    }\n",
       "\n",
       "    .dataframe tbody tr th {\n",
       "        vertical-align: top;\n",
       "    }\n",
       "\n",
       "    .dataframe thead th {\n",
       "        text-align: right;\n",
       "    }\n",
       "</style>\n",
       "<table border=\"1\" class=\"dataframe\">\n",
       "  <thead>\n",
       "    <tr style=\"text-align: right;\">\n",
       "      <th></th>\n",
       "      <th>受试者编号</th>\n",
       "      <th>出院诊断</th>\n",
       "      <th>主要疾病转归_描述</th>\n",
       "      <th>用药开始时间</th>\n",
       "      <th>用药结束时间</th>\n",
       "      <th>用药天数</th>\n",
       "      <th>EXDOSFRQ</th>\n",
       "      <th>EXDSTXT</th>\n",
       "      <th>日剂量</th>\n",
       "      <th>心血管疾病_label</th>\n",
       "      <th>...</th>\n",
       "      <th>血钾_出院</th>\n",
       "      <th>血氯_出院</th>\n",
       "      <th>甘油三酯_出院</th>\n",
       "      <th>胆固醇_出院</th>\n",
       "      <th>低密度脂蛋白（LDL）_出院</th>\n",
       "      <th>高密度脂蛋白胆固醇（HDLC）_出院</th>\n",
       "      <th>HCY_出院</th>\n",
       "      <th>NT-pro BNP_出院</th>\n",
       "      <th>肌钙蛋白_出院</th>\n",
       "      <th>CK-MB_出院</th>\n",
       "    </tr>\n",
       "  </thead>\n",
       "  <tbody>\n",
       "    <tr>\n",
       "      <th>0</th>\n",
       "      <td>90001_a</td>\n",
       "      <td>大脑动脉狭窄脑梗死 NIHSS评分12分，高血压病（2级，很高危），2型糖尿病，脑梗死个人史...</td>\n",
       "      <td>0</td>\n",
       "      <td>2018-04-07</td>\n",
       "      <td>2018-04-15</td>\n",
       "      <td>9</td>\n",
       "      <td>1.0</td>\n",
       "      <td>30.0</td>\n",
       "      <td>30.0</td>\n",
       "      <td>1.0</td>\n",
       "      <td>...</td>\n",
       "      <td>3.47</td>\n",
       "      <td>101.4</td>\n",
       "      <td>NaN</td>\n",
       "      <td>NaN</td>\n",
       "      <td>NaN</td>\n",
       "      <td>NaN</td>\n",
       "      <td>NaN</td>\n",
       "      <td>NaN</td>\n",
       "      <td>NaN</td>\n",
       "      <td>NaN</td>\n",
       "    </tr>\n",
       "    <tr>\n",
       "      <th>1</th>\n",
       "      <td>90003_a</td>\n",
       "      <td>I型呼吸衰竭 重症肺炎 肺栓塞(中低危)心功能不全 高血压病I级(高危)肝功能不全 下肢静脉...</td>\n",
       "      <td>1</td>\n",
       "      <td>2018-03-12</td>\n",
       "      <td>2018-03-17</td>\n",
       "      <td>6</td>\n",
       "      <td>1.0</td>\n",
       "      <td>40.0</td>\n",
       "      <td>40.0</td>\n",
       "      <td>1.0</td>\n",
       "      <td>...</td>\n",
       "      <td>NaN</td>\n",
       "      <td>NaN</td>\n",
       "      <td>NaN</td>\n",
       "      <td>NaN</td>\n",
       "      <td>NaN</td>\n",
       "      <td>NaN</td>\n",
       "      <td>NaN</td>\n",
       "      <td>NaN</td>\n",
       "      <td>NaN</td>\n",
       "      <td>NaN</td>\n",
       "    </tr>\n",
       "    <tr>\n",
       "      <th>2</th>\n",
       "      <td>90018_b</td>\n",
       "      <td>急性下壁心肌梗塞,Killip I 级,急诊RCA-PCI术后,冠心病,高血压病(1级,很高危)</td>\n",
       "      <td>0</td>\n",
       "      <td>2019-05-28</td>\n",
       "      <td>2019-06-04</td>\n",
       "      <td>8</td>\n",
       "      <td>1.0</td>\n",
       "      <td>60.0</td>\n",
       "      <td>60.0</td>\n",
       "      <td>1.0</td>\n",
       "      <td>...</td>\n",
       "      <td>NaN</td>\n",
       "      <td>NaN</td>\n",
       "      <td>NaN</td>\n",
       "      <td>NaN</td>\n",
       "      <td>NaN</td>\n",
       "      <td>NaN</td>\n",
       "      <td>NaN</td>\n",
       "      <td>NaN</td>\n",
       "      <td>NaN</td>\n",
       "      <td>NaN</td>\n",
       "    </tr>\n",
       "    <tr>\n",
       "      <th>3</th>\n",
       "      <td>90021_b</td>\n",
       "      <td>急性前壁心肌梗塞,killip Ⅰ级,急诊PCI术后,冠心病 2型糖尿病 脑梗个人史</td>\n",
       "      <td>0</td>\n",
       "      <td>2019-04-23</td>\n",
       "      <td>2019-05-05</td>\n",
       "      <td>13</td>\n",
       "      <td>1.0</td>\n",
       "      <td>60.0</td>\n",
       "      <td>60.0</td>\n",
       "      <td>1.0</td>\n",
       "      <td>...</td>\n",
       "      <td>NaN</td>\n",
       "      <td>NaN</td>\n",
       "      <td>NaN</td>\n",
       "      <td>NaN</td>\n",
       "      <td>NaN</td>\n",
       "      <td>NaN</td>\n",
       "      <td>NaN</td>\n",
       "      <td>NaN</td>\n",
       "      <td>NaN</td>\n",
       "      <td>NaN</td>\n",
       "    </tr>\n",
       "    <tr>\n",
       "      <th>4</th>\n",
       "      <td>90025_a</td>\n",
       "      <td>1.大脑动脉狭窄 2.肺部感染 慢支 3.高血压病3级,极高危; 4.2型糖尿病 5.脑梗死个人史</td>\n",
       "      <td>0</td>\n",
       "      <td>2018-02-23</td>\n",
       "      <td>2018-03-02</td>\n",
       "      <td>8</td>\n",
       "      <td>1.0</td>\n",
       "      <td>40.0</td>\n",
       "      <td>40.0</td>\n",
       "      <td>1.0</td>\n",
       "      <td>...</td>\n",
       "      <td>NaN</td>\n",
       "      <td>NaN</td>\n",
       "      <td>NaN</td>\n",
       "      <td>NaN</td>\n",
       "      <td>NaN</td>\n",
       "      <td>NaN</td>\n",
       "      <td>NaN</td>\n",
       "      <td>NaN</td>\n",
       "      <td>NaN</td>\n",
       "      <td>NaN</td>\n",
       "    </tr>\n",
       "  </tbody>\n",
       "</table>\n",
       "<p>5 rows × 87 columns</p>\n",
       "</div>"
      ],
      "text/plain": [
       "     受试者编号                                               出院诊断  主要疾病转归_描述  \\\n",
       "0  90001_a  大脑动脉狭窄脑梗死 NIHSS评分12分，高血压病（2级，很高危），2型糖尿病，脑梗死个人史...          0   \n",
       "1  90003_a  I型呼吸衰竭 重症肺炎 肺栓塞(中低危)心功能不全 高血压病I级(高危)肝功能不全 下肢静脉...          1   \n",
       "2  90018_b   急性下壁心肌梗塞,Killip I 级,急诊RCA-PCI术后,冠心病,高血压病(1级,很高危)          0   \n",
       "3  90021_b         急性前壁心肌梗塞,killip Ⅰ级,急诊PCI术后,冠心病 2型糖尿病 脑梗个人史          0   \n",
       "4  90025_a  1.大脑动脉狭窄 2.肺部感染 慢支 3.高血压病3级,极高危; 4.2型糖尿病 5.脑梗死个人史          0   \n",
       "\n",
       "       用药开始时间      用药结束时间  用药天数  EXDOSFRQ  EXDSTXT   日剂量  心血管疾病_label  ...  \\\n",
       "0  2018-04-07  2018-04-15     9       1.0     30.0  30.0          1.0  ...   \n",
       "1  2018-03-12  2018-03-17     6       1.0     40.0  40.0          1.0  ...   \n",
       "2  2019-05-28  2019-06-04     8       1.0     60.0  60.0          1.0  ...   \n",
       "3  2019-04-23  2019-05-05    13       1.0     60.0  60.0          1.0  ...   \n",
       "4  2018-02-23  2018-03-02     8       1.0     40.0  40.0          1.0  ...   \n",
       "\n",
       "   血钾_出院  血氯_出院  甘油三酯_出院  胆固醇_出院  低密度脂蛋白（LDL）_出院  高密度脂蛋白胆固醇（HDLC）_出院 HCY_出院  \\\n",
       "0   3.47  101.4      NaN     NaN             NaN                 NaN    NaN   \n",
       "1    NaN    NaN      NaN     NaN             NaN                 NaN    NaN   \n",
       "2    NaN    NaN      NaN     NaN             NaN                 NaN    NaN   \n",
       "3    NaN    NaN      NaN     NaN             NaN                 NaN    NaN   \n",
       "4    NaN    NaN      NaN     NaN             NaN                 NaN    NaN   \n",
       "\n",
       "  NT-pro BNP_出院  肌钙蛋白_出院  CK-MB_出院  \n",
       "0           NaN      NaN       NaN  \n",
       "1           NaN      NaN       NaN  \n",
       "2           NaN      NaN       NaN  \n",
       "3           NaN      NaN       NaN  \n",
       "4           NaN      NaN       NaN  \n",
       "\n",
       "[5 rows x 87 columns]"
      ]
     },
     "execution_count": 464,
     "metadata": {},
     "output_type": "execute_result"
    }
   ],
   "source": [
    "df_SUP_test.head()"
   ]
  },
  {
   "cell_type": "markdown",
   "metadata": {},
   "source": [
    "### 凝血"
   ]
  },
  {
   "cell_type": "code",
   "execution_count": 465,
   "metadata": {},
   "outputs": [],
   "source": [
    "# 其他科-凝血检查\n",
    "df_凝血_1 = pd.read_excel(project_path+'/data/raw_data/导出全部CRF表数据-其他科1021.xlsx',\n",
    "                            sheet_name='LBC_凝血功能',\n",
    "                           header=1,)  # 指定第2行作为标题行\n",
    "#                            skiprows=[1,1,1])  # 跳过第1行\n",
    "# 标记受试者编号\n",
    "df_凝血_1['受试者编号']=df_凝血_1['受试者编号'].apply(lambda x: str(x)+'_a')\n",
    "# 心内科-凝血检查\n",
    "df_凝血_2 = pd.read_excel(project_path+'/data/raw_data/导出全部CRF表数据-心内科1021.xlsx',\n",
    "                            sheet_name='LBC_凝血功能',\n",
    "                           header=1,)  # 指定第2行作为标题行\n",
    "#                            skiprows=[1,1,1])  # 跳过第几行)\n",
    "# 标记受试者编号\n",
    "df_凝血_2['受试者编号']=df_凝血_2['受试者编号'].apply(lambda x: str(x)+'_b')"
   ]
  },
  {
   "cell_type": "code",
   "execution_count": 466,
   "metadata": {},
   "outputs": [
    {
     "data": {
      "text/plain": [
       "Index(['方案号', '中心标识', '中心名称', '受试者编号', '访视', '检查日期', 'PT', 'PT-临床意义',\n",
       "       'PT-临床意义_描述', 'PT-异常请描述', 'INR', 'INR-临床意义', 'INR-临床意义_描述', 'INR-异常请描述',\n",
       "       'APTT', 'APTT-临床意义', 'APTT-临床意义_描述', 'APTT-异常请描述', '原始录入日期', '最后修改日期'],\n",
       "      dtype='object')"
      ]
     },
     "execution_count": 466,
     "metadata": {},
     "output_type": "execute_result"
    }
   ],
   "source": [
    "df_凝血_1.columns"
   ]
  },
  {
   "cell_type": "code",
   "execution_count": 467,
   "metadata": {},
   "outputs": [
    {
     "data": {
      "text/plain": [
       "Index(['方案号', '中心标识', '中心名称', '受试者编号', '访视', '检查日期', 'PT', 'PT-临床意义',\n",
       "       'PT-临床意义_描述', 'PT-异常请描述', 'INR', 'INR-临床意义', 'INR-临床意义_描述', 'INR-异常请描述',\n",
       "       'APTT', 'APTT-临床意义', 'APTT-临床意义_描述', 'APTT-异常请描述', '原始录入日期', '最后修改日期'],\n",
       "      dtype='object')"
      ]
     },
     "execution_count": 467,
     "metadata": {},
     "output_type": "execute_result"
    }
   ],
   "source": [
    "df_凝血_2.columns"
   ]
  },
  {
   "cell_type": "code",
   "execution_count": 468,
   "metadata": {},
   "outputs": [],
   "source": [
    "# 提取有效字段\n",
    "df_凝血_1=df_凝血_1[['访视','受试者编号','检查日期','PT','INR','APTT']]\n",
    "# 提取有效字段\n",
    "df_凝血_2=df_凝血_2[['访视','受试者编号','检查日期','PT','INR','APTT']]"
   ]
  },
  {
   "cell_type": "code",
   "execution_count": 469,
   "metadata": {},
   "outputs": [
    {
     "data": {
      "text/plain": [
       "(1167, 6)"
      ]
     },
     "execution_count": 469,
     "metadata": {},
     "output_type": "execute_result"
    }
   ],
   "source": [
    "df_凝血_1.shape"
   ]
  },
  {
   "cell_type": "code",
   "execution_count": 470,
   "metadata": {},
   "outputs": [
    {
     "data": {
      "text/html": [
       "<div>\n",
       "<style scoped>\n",
       "    .dataframe tbody tr th:only-of-type {\n",
       "        vertical-align: middle;\n",
       "    }\n",
       "\n",
       "    .dataframe tbody tr th {\n",
       "        vertical-align: top;\n",
       "    }\n",
       "\n",
       "    .dataframe thead th {\n",
       "        text-align: right;\n",
       "    }\n",
       "</style>\n",
       "<table border=\"1\" class=\"dataframe\">\n",
       "  <thead>\n",
       "    <tr style=\"text-align: right;\">\n",
       "      <th></th>\n",
       "      <th>访视</th>\n",
       "      <th>受试者编号</th>\n",
       "      <th>检查日期</th>\n",
       "      <th>PT</th>\n",
       "      <th>INR</th>\n",
       "      <th>APTT</th>\n",
       "    </tr>\n",
       "  </thead>\n",
       "  <tbody>\n",
       "    <tr>\n",
       "      <th>0</th>\n",
       "      <td>入院检查</td>\n",
       "      <td>90001_a</td>\n",
       "      <td>2018-03-28</td>\n",
       "      <td>10.4</td>\n",
       "      <td>0.96</td>\n",
       "      <td>28.0</td>\n",
       "    </tr>\n",
       "    <tr>\n",
       "      <th>1</th>\n",
       "      <td>出院前检查</td>\n",
       "      <td>90001_a</td>\n",
       "      <td>2018-04-10</td>\n",
       "      <td>11.8</td>\n",
       "      <td>1.07</td>\n",
       "      <td>28.3</td>\n",
       "    </tr>\n",
       "    <tr>\n",
       "      <th>2</th>\n",
       "      <td>入院检查</td>\n",
       "      <td>90003_a</td>\n",
       "      <td>2018-01-31</td>\n",
       "      <td>17.6</td>\n",
       "      <td>1.63</td>\n",
       "      <td>42.0</td>\n",
       "    </tr>\n",
       "    <tr>\n",
       "      <th>3</th>\n",
       "      <td>出院前检查</td>\n",
       "      <td>90003_a</td>\n",
       "      <td>NaN</td>\n",
       "      <td>NaN</td>\n",
       "      <td>NaN</td>\n",
       "      <td>NaN</td>\n",
       "    </tr>\n",
       "    <tr>\n",
       "      <th>4</th>\n",
       "      <td>入院检查</td>\n",
       "      <td>90004_a</td>\n",
       "      <td>NaN</td>\n",
       "      <td>NaN</td>\n",
       "      <td>NaN</td>\n",
       "      <td>NaN</td>\n",
       "    </tr>\n",
       "  </tbody>\n",
       "</table>\n",
       "</div>"
      ],
      "text/plain": [
       "      访视    受试者编号        检查日期    PT   INR  APTT\n",
       "0   入院检查  90001_a  2018-03-28  10.4  0.96  28.0\n",
       "1  出院前检查  90001_a  2018-04-10  11.8  1.07  28.3\n",
       "2   入院检查  90003_a  2018-01-31  17.6  1.63  42.0\n",
       "3  出院前检查  90003_a         NaN   NaN   NaN   NaN\n",
       "4   入院检查  90004_a         NaN   NaN   NaN   NaN"
      ]
     },
     "execution_count": 470,
     "metadata": {},
     "output_type": "execute_result"
    }
   ],
   "source": [
    "df_凝血_1.head()"
   ]
  },
  {
   "cell_type": "markdown",
   "metadata": {},
   "source": [
    "#### 入院检查"
   ]
  },
  {
   "cell_type": "code",
   "execution_count": 471,
   "metadata": {},
   "outputs": [],
   "source": [
    "# 出入院血常规检测\n",
    "df_凝血_1_inp=df_凝血_1[df_凝血_1['访视'].str.contains('入院检查')]\n",
    "df_凝血_1_inp=df_凝血_1_inp.reset_index(drop=True)\n",
    "df_凝血_2_inp=df_凝血_2[df_凝血_2['访视'].str.contains('入院检查')]\n",
    "df_凝血_2_inp=df_凝血_2_inp.reset_index(drop=True)\n",
    "# 合并凝血检查\n",
    "df_凝血_inp=pd.concat([df_凝血_1_inp,df_凝血_2_inp],axis=0)"
   ]
  },
  {
   "cell_type": "code",
   "execution_count": 472,
   "metadata": {},
   "outputs": [
    {
     "data": {
      "text/plain": [
       "(741, 6)"
      ]
     },
     "execution_count": 472,
     "metadata": {},
     "output_type": "execute_result"
    }
   ],
   "source": [
    "df_凝血_inp.shape"
   ]
  },
  {
   "cell_type": "code",
   "execution_count": 473,
   "metadata": {},
   "outputs": [
    {
     "data": {
      "text/html": [
       "<div>\n",
       "<style scoped>\n",
       "    .dataframe tbody tr th:only-of-type {\n",
       "        vertical-align: middle;\n",
       "    }\n",
       "\n",
       "    .dataframe tbody tr th {\n",
       "        vertical-align: top;\n",
       "    }\n",
       "\n",
       "    .dataframe thead th {\n",
       "        text-align: right;\n",
       "    }\n",
       "</style>\n",
       "<table border=\"1\" class=\"dataframe\">\n",
       "  <thead>\n",
       "    <tr style=\"text-align: right;\">\n",
       "      <th></th>\n",
       "      <th>访视</th>\n",
       "      <th>受试者编号</th>\n",
       "      <th>检查日期</th>\n",
       "      <th>PT</th>\n",
       "      <th>INR</th>\n",
       "      <th>APTT</th>\n",
       "    </tr>\n",
       "  </thead>\n",
       "  <tbody>\n",
       "    <tr>\n",
       "      <th>0</th>\n",
       "      <td>入院检查</td>\n",
       "      <td>90001_a</td>\n",
       "      <td>2018-03-28</td>\n",
       "      <td>10.4</td>\n",
       "      <td>0.96</td>\n",
       "      <td>28.0</td>\n",
       "    </tr>\n",
       "    <tr>\n",
       "      <th>1</th>\n",
       "      <td>入院检查</td>\n",
       "      <td>90003_a</td>\n",
       "      <td>2018-01-31</td>\n",
       "      <td>17.6</td>\n",
       "      <td>1.63</td>\n",
       "      <td>42.0</td>\n",
       "    </tr>\n",
       "    <tr>\n",
       "      <th>2</th>\n",
       "      <td>入院检查</td>\n",
       "      <td>90004_a</td>\n",
       "      <td>NaN</td>\n",
       "      <td>NaN</td>\n",
       "      <td>NaN</td>\n",
       "      <td>NaN</td>\n",
       "    </tr>\n",
       "    <tr>\n",
       "      <th>3</th>\n",
       "      <td>入院检查</td>\n",
       "      <td>90005_a</td>\n",
       "      <td>2018-02-07</td>\n",
       "      <td>11.9</td>\n",
       "      <td>1.10</td>\n",
       "      <td>27.7</td>\n",
       "    </tr>\n",
       "    <tr>\n",
       "      <th>4</th>\n",
       "      <td>入院检查</td>\n",
       "      <td>90006_a</td>\n",
       "      <td>NaN</td>\n",
       "      <td>NaN</td>\n",
       "      <td>NaN</td>\n",
       "      <td>NaN</td>\n",
       "    </tr>\n",
       "  </tbody>\n",
       "</table>\n",
       "</div>"
      ],
      "text/plain": [
       "     访视    受试者编号        检查日期    PT   INR  APTT\n",
       "0  入院检查  90001_a  2018-03-28  10.4  0.96  28.0\n",
       "1  入院检查  90003_a  2018-01-31  17.6  1.63  42.0\n",
       "2  入院检查  90004_a         NaN   NaN   NaN   NaN\n",
       "3  入院检查  90005_a  2018-02-07  11.9  1.10  27.7\n",
       "4  入院检查  90006_a         NaN   NaN   NaN   NaN"
      ]
     },
     "execution_count": 473,
     "metadata": {},
     "output_type": "execute_result"
    }
   ],
   "source": [
    "df_凝血_inp.head()"
   ]
  },
  {
   "cell_type": "code",
   "execution_count": 474,
   "metadata": {},
   "outputs": [],
   "source": [
    "df_凝血_inp.to_excel(project_path+'/data/processed_data/检测数据/df_凝血_入院记录.xlsx')"
   ]
  },
  {
   "cell_type": "markdown",
   "metadata": {},
   "source": [
    "#### 出院检查"
   ]
  },
  {
   "cell_type": "code",
   "execution_count": 475,
   "metadata": {},
   "outputs": [],
   "source": [
    "# 出院凝血检查\n",
    "df_凝血_1_oup=df_凝血_1[df_凝血_1['访视'].str.contains('出院前检查')]\n",
    "df_凝血_1_oup=df_凝血_1_oup.reset_index(drop=True)\n",
    "df_凝血_2_oup=df_凝血_2[df_凝血_2['访视'].str.contains('出院前检查')]\n",
    "df_凝血_2_oup=df_凝血_2_oup.reset_index(drop=True)\n",
    "# 合并凝血检查\n",
    "df_凝血_oup=pd.concat([df_凝血_1_oup,df_凝血_2_oup],axis=0)"
   ]
  },
  {
   "cell_type": "code",
   "execution_count": 476,
   "metadata": {},
   "outputs": [
    {
     "data": {
      "text/plain": [
       "(617, 6)"
      ]
     },
     "execution_count": 476,
     "metadata": {},
     "output_type": "execute_result"
    }
   ],
   "source": [
    "df_凝血_oup.shape"
   ]
  },
  {
   "cell_type": "code",
   "execution_count": 477,
   "metadata": {},
   "outputs": [
    {
     "data": {
      "text/html": [
       "<div>\n",
       "<style scoped>\n",
       "    .dataframe tbody tr th:only-of-type {\n",
       "        vertical-align: middle;\n",
       "    }\n",
       "\n",
       "    .dataframe tbody tr th {\n",
       "        vertical-align: top;\n",
       "    }\n",
       "\n",
       "    .dataframe thead th {\n",
       "        text-align: right;\n",
       "    }\n",
       "</style>\n",
       "<table border=\"1\" class=\"dataframe\">\n",
       "  <thead>\n",
       "    <tr style=\"text-align: right;\">\n",
       "      <th></th>\n",
       "      <th>访视</th>\n",
       "      <th>受试者编号</th>\n",
       "      <th>检查日期</th>\n",
       "      <th>PT</th>\n",
       "      <th>INR</th>\n",
       "      <th>APTT</th>\n",
       "    </tr>\n",
       "  </thead>\n",
       "  <tbody>\n",
       "    <tr>\n",
       "      <th>0</th>\n",
       "      <td>出院前检查</td>\n",
       "      <td>90001_a</td>\n",
       "      <td>2018-04-10</td>\n",
       "      <td>11.8</td>\n",
       "      <td>1.07</td>\n",
       "      <td>28.3</td>\n",
       "    </tr>\n",
       "    <tr>\n",
       "      <th>1</th>\n",
       "      <td>出院前检查</td>\n",
       "      <td>90003_a</td>\n",
       "      <td>NaN</td>\n",
       "      <td>NaN</td>\n",
       "      <td>NaN</td>\n",
       "      <td>NaN</td>\n",
       "    </tr>\n",
       "    <tr>\n",
       "      <th>2</th>\n",
       "      <td>出院前检查</td>\n",
       "      <td>90004_a</td>\n",
       "      <td>NaN</td>\n",
       "      <td>NaN</td>\n",
       "      <td>NaN</td>\n",
       "      <td>NaN</td>\n",
       "    </tr>\n",
       "    <tr>\n",
       "      <th>3</th>\n",
       "      <td>出院前检查</td>\n",
       "      <td>90005_a</td>\n",
       "      <td>NaN</td>\n",
       "      <td>NaN</td>\n",
       "      <td>NaN</td>\n",
       "      <td>NaN</td>\n",
       "    </tr>\n",
       "    <tr>\n",
       "      <th>4</th>\n",
       "      <td>出院前检查</td>\n",
       "      <td>90006_a</td>\n",
       "      <td>2018-02-19</td>\n",
       "      <td>10.7</td>\n",
       "      <td>0.99</td>\n",
       "      <td>31.9</td>\n",
       "    </tr>\n",
       "  </tbody>\n",
       "</table>\n",
       "</div>"
      ],
      "text/plain": [
       "      访视    受试者编号        检查日期    PT   INR  APTT\n",
       "0  出院前检查  90001_a  2018-04-10  11.8  1.07  28.3\n",
       "1  出院前检查  90003_a         NaN   NaN   NaN   NaN\n",
       "2  出院前检查  90004_a         NaN   NaN   NaN   NaN\n",
       "3  出院前检查  90005_a         NaN   NaN   NaN   NaN\n",
       "4  出院前检查  90006_a  2018-02-19  10.7  0.99  31.9"
      ]
     },
     "execution_count": 477,
     "metadata": {},
     "output_type": "execute_result"
    }
   ],
   "source": [
    "df_凝血_oup.head()"
   ]
  },
  {
   "cell_type": "code",
   "execution_count": 478,
   "metadata": {},
   "outputs": [],
   "source": [
    "df_凝血_oup.to_excel(project_path+'/data/processed_data/检测数据/df_凝血_出院记录.xlsx')"
   ]
  },
  {
   "cell_type": "markdown",
   "metadata": {},
   "source": [
    "#### 修改列名"
   ]
  },
  {
   "cell_type": "code",
   "execution_count": 479,
   "metadata": {},
   "outputs": [],
   "source": [
    "# 删除访视变量\n",
    "df_凝血_inp=df_凝血_inp.drop(['访视'],axis=1)\n",
    "df_凝血_oup=df_凝血_oup.drop(['访视'],axis=1)\n",
    "# 修改列名\n",
    "for i in df_凝血_inp.columns[1:]:\n",
    "    df_凝血_inp.rename(columns={i:i + '_入院'},inplace=True)\n",
    "for i in df_凝血_oup.columns[1:]:\n",
    "    df_凝血_oup.rename(columns={i:i+'_出院'},inplace=True)  \n",
    "df_test_凝血=pd.merge(df_凝血_inp,df_凝血_oup,on='受试者编号',how='outer')"
   ]
  },
  {
   "cell_type": "code",
   "execution_count": 480,
   "metadata": {},
   "outputs": [
    {
     "data": {
      "text/html": [
       "<div>\n",
       "<style scoped>\n",
       "    .dataframe tbody tr th:only-of-type {\n",
       "        vertical-align: middle;\n",
       "    }\n",
       "\n",
       "    .dataframe tbody tr th {\n",
       "        vertical-align: top;\n",
       "    }\n",
       "\n",
       "    .dataframe thead th {\n",
       "        text-align: right;\n",
       "    }\n",
       "</style>\n",
       "<table border=\"1\" class=\"dataframe\">\n",
       "  <thead>\n",
       "    <tr style=\"text-align: right;\">\n",
       "      <th></th>\n",
       "      <th>受试者编号</th>\n",
       "      <th>检查日期_入院</th>\n",
       "      <th>PT_入院</th>\n",
       "      <th>INR_入院</th>\n",
       "      <th>APTT_入院</th>\n",
       "      <th>检查日期_出院</th>\n",
       "      <th>PT_出院</th>\n",
       "      <th>INR_出院</th>\n",
       "      <th>APTT_出院</th>\n",
       "    </tr>\n",
       "  </thead>\n",
       "  <tbody>\n",
       "    <tr>\n",
       "      <th>0</th>\n",
       "      <td>90001_a</td>\n",
       "      <td>2018-03-28</td>\n",
       "      <td>10.4</td>\n",
       "      <td>0.96</td>\n",
       "      <td>28.0</td>\n",
       "      <td>2018-04-10</td>\n",
       "      <td>11.8</td>\n",
       "      <td>1.07</td>\n",
       "      <td>28.3</td>\n",
       "    </tr>\n",
       "    <tr>\n",
       "      <th>1</th>\n",
       "      <td>90003_a</td>\n",
       "      <td>2018-01-31</td>\n",
       "      <td>17.6</td>\n",
       "      <td>1.63</td>\n",
       "      <td>42.0</td>\n",
       "      <td>NaN</td>\n",
       "      <td>NaN</td>\n",
       "      <td>NaN</td>\n",
       "      <td>NaN</td>\n",
       "    </tr>\n",
       "    <tr>\n",
       "      <th>2</th>\n",
       "      <td>90004_a</td>\n",
       "      <td>NaN</td>\n",
       "      <td>NaN</td>\n",
       "      <td>NaN</td>\n",
       "      <td>NaN</td>\n",
       "      <td>NaN</td>\n",
       "      <td>NaN</td>\n",
       "      <td>NaN</td>\n",
       "      <td>NaN</td>\n",
       "    </tr>\n",
       "    <tr>\n",
       "      <th>3</th>\n",
       "      <td>90005_a</td>\n",
       "      <td>2018-02-07</td>\n",
       "      <td>11.9</td>\n",
       "      <td>1.10</td>\n",
       "      <td>27.7</td>\n",
       "      <td>NaN</td>\n",
       "      <td>NaN</td>\n",
       "      <td>NaN</td>\n",
       "      <td>NaN</td>\n",
       "    </tr>\n",
       "    <tr>\n",
       "      <th>4</th>\n",
       "      <td>90006_a</td>\n",
       "      <td>NaN</td>\n",
       "      <td>NaN</td>\n",
       "      <td>NaN</td>\n",
       "      <td>NaN</td>\n",
       "      <td>2018-02-19</td>\n",
       "      <td>10.7</td>\n",
       "      <td>0.99</td>\n",
       "      <td>31.9</td>\n",
       "    </tr>\n",
       "  </tbody>\n",
       "</table>\n",
       "</div>"
      ],
      "text/plain": [
       "     受试者编号     检查日期_入院  PT_入院  INR_入院  APTT_入院     检查日期_出院  PT_出院  INR_出院  \\\n",
       "0  90001_a  2018-03-28   10.4    0.96     28.0  2018-04-10   11.8    1.07   \n",
       "1  90003_a  2018-01-31   17.6    1.63     42.0         NaN    NaN     NaN   \n",
       "2  90004_a         NaN    NaN     NaN      NaN         NaN    NaN     NaN   \n",
       "3  90005_a  2018-02-07   11.9    1.10     27.7         NaN    NaN     NaN   \n",
       "4  90006_a         NaN    NaN     NaN      NaN  2018-02-19   10.7    0.99   \n",
       "\n",
       "   APTT_出院  \n",
       "0     28.3  \n",
       "1      NaN  \n",
       "2      NaN  \n",
       "3      NaN  \n",
       "4     31.9  "
      ]
     },
     "execution_count": 480,
     "metadata": {},
     "output_type": "execute_result"
    }
   ],
   "source": [
    "df_test_凝血.head()"
   ]
  },
  {
   "cell_type": "code",
   "execution_count": 481,
   "metadata": {},
   "outputs": [
    {
     "data": {
      "text/plain": [
       "(741, 9)"
      ]
     },
     "execution_count": 481,
     "metadata": {},
     "output_type": "execute_result"
    }
   ],
   "source": [
    "df_test_凝血.shape"
   ]
  },
  {
   "cell_type": "code",
   "execution_count": 482,
   "metadata": {},
   "outputs": [],
   "source": [
    "df_test_凝血.to_excel(project_path+'/data/processed_data/df_1.10.4.3_凝血_检查.xlsx')"
   ]
  },
  {
   "cell_type": "markdown",
   "metadata": {},
   "source": [
    "#### 并入凝血检查"
   ]
  },
  {
   "cell_type": "code",
   "execution_count": 483,
   "metadata": {},
   "outputs": [
    {
     "data": {
      "text/html": [
       "<div>\n",
       "<style scoped>\n",
       "    .dataframe tbody tr th:only-of-type {\n",
       "        vertical-align: middle;\n",
       "    }\n",
       "\n",
       "    .dataframe tbody tr th {\n",
       "        vertical-align: top;\n",
       "    }\n",
       "\n",
       "    .dataframe thead th {\n",
       "        text-align: right;\n",
       "    }\n",
       "</style>\n",
       "<table border=\"1\" class=\"dataframe\">\n",
       "  <thead>\n",
       "    <tr style=\"text-align: right;\">\n",
       "      <th></th>\n",
       "      <th>受试者编号</th>\n",
       "      <th>检查日期_入院</th>\n",
       "      <th>PT_入院</th>\n",
       "      <th>INR_入院</th>\n",
       "      <th>APTT_入院</th>\n",
       "      <th>检查日期_出院</th>\n",
       "      <th>PT_出院</th>\n",
       "      <th>INR_出院</th>\n",
       "      <th>APTT_出院</th>\n",
       "    </tr>\n",
       "  </thead>\n",
       "  <tbody>\n",
       "    <tr>\n",
       "      <th>0</th>\n",
       "      <td>90001_a</td>\n",
       "      <td>2018-03-28</td>\n",
       "      <td>10.4</td>\n",
       "      <td>0.96</td>\n",
       "      <td>28.0</td>\n",
       "      <td>2018-04-10</td>\n",
       "      <td>11.8</td>\n",
       "      <td>1.07</td>\n",
       "      <td>28.3</td>\n",
       "    </tr>\n",
       "    <tr>\n",
       "      <th>1</th>\n",
       "      <td>90003_a</td>\n",
       "      <td>2018-01-31</td>\n",
       "      <td>17.6</td>\n",
       "      <td>1.63</td>\n",
       "      <td>42.0</td>\n",
       "      <td>NaN</td>\n",
       "      <td>NaN</td>\n",
       "      <td>NaN</td>\n",
       "      <td>NaN</td>\n",
       "    </tr>\n",
       "    <tr>\n",
       "      <th>2</th>\n",
       "      <td>90004_a</td>\n",
       "      <td>NaN</td>\n",
       "      <td>NaN</td>\n",
       "      <td>NaN</td>\n",
       "      <td>NaN</td>\n",
       "      <td>NaN</td>\n",
       "      <td>NaN</td>\n",
       "      <td>NaN</td>\n",
       "      <td>NaN</td>\n",
       "    </tr>\n",
       "    <tr>\n",
       "      <th>3</th>\n",
       "      <td>90005_a</td>\n",
       "      <td>2018-02-07</td>\n",
       "      <td>11.9</td>\n",
       "      <td>1.10</td>\n",
       "      <td>27.7</td>\n",
       "      <td>NaN</td>\n",
       "      <td>NaN</td>\n",
       "      <td>NaN</td>\n",
       "      <td>NaN</td>\n",
       "    </tr>\n",
       "    <tr>\n",
       "      <th>4</th>\n",
       "      <td>90006_a</td>\n",
       "      <td>NaN</td>\n",
       "      <td>NaN</td>\n",
       "      <td>NaN</td>\n",
       "      <td>NaN</td>\n",
       "      <td>2018-02-19</td>\n",
       "      <td>10.7</td>\n",
       "      <td>0.99</td>\n",
       "      <td>31.9</td>\n",
       "    </tr>\n",
       "  </tbody>\n",
       "</table>\n",
       "</div>"
      ],
      "text/plain": [
       "     受试者编号     检查日期_入院  PT_入院  INR_入院  APTT_入院     检查日期_出院  PT_出院  INR_出院  \\\n",
       "0  90001_a  2018-03-28   10.4    0.96     28.0  2018-04-10   11.8    1.07   \n",
       "1  90003_a  2018-01-31   17.6    1.63     42.0         NaN    NaN     NaN   \n",
       "2  90004_a         NaN    NaN     NaN      NaN         NaN    NaN     NaN   \n",
       "3  90005_a  2018-02-07   11.9    1.10     27.7         NaN    NaN     NaN   \n",
       "4  90006_a         NaN    NaN     NaN      NaN  2018-02-19   10.7    0.99   \n",
       "\n",
       "   APTT_出院  \n",
       "0     28.3  \n",
       "1      NaN  \n",
       "2      NaN  \n",
       "3      NaN  \n",
       "4     31.9  "
      ]
     },
     "execution_count": 483,
     "metadata": {},
     "output_type": "execute_result"
    }
   ],
   "source": [
    "df_test_凝血.head()"
   ]
  },
  {
   "cell_type": "code",
   "execution_count": 484,
   "metadata": {},
   "outputs": [],
   "source": [
    "# 删除检查日期\n",
    "df_test_凝血=df_test_凝血.drop(['检查日期_入院','检查日期_出院'],axis=1)\n",
    "# 并入出入院-凝血检查\n",
    "df_SUP_test=pd.merge(df_SUP_test,df_test_凝血,on='受试者编号',how='left')"
   ]
  },
  {
   "cell_type": "code",
   "execution_count": 485,
   "metadata": {},
   "outputs": [
    {
     "data": {
      "text/plain": [
       "(298, 93)"
      ]
     },
     "execution_count": 485,
     "metadata": {},
     "output_type": "execute_result"
    }
   ],
   "source": [
    "df_SUP_test.shape"
   ]
  },
  {
   "cell_type": "markdown",
   "metadata": {},
   "source": [
    "### 肿瘤指标"
   ]
  },
  {
   "cell_type": "code",
   "execution_count": 486,
   "metadata": {},
   "outputs": [],
   "source": [
    "# 其他科-肿瘤检查\n",
    "df_肿瘤_1 = pd.read_excel(project_path+'/data/raw_data/导出全部CRF表数据-其他科1021.xlsx',\n",
    "                            sheet_name='TM_肿瘤标记物',\n",
    "                           header=1,)  # 指定第2行作为标题行\n",
    "#                            skiprows=[1,1,1])  # 跳过第1行\n",
    "# 标记受试者编号\n",
    "df_肿瘤_1['受试者编号']=df_肿瘤_1['受试者编号'].apply(lambda x: str(x)+'_a')\n",
    "# 心内科-肿瘤检查\n",
    "df_肿瘤_2 = pd.read_excel(project_path+'/data/raw_data/导出全部CRF表数据-心内科1021.xlsx',\n",
    "                            sheet_name='TM_肿瘤标记物',\n",
    "                           header=1,)  # 指定第2行作为标题行\n",
    "#                            skiprows=[1,1,1])  # 跳过第几行)\n",
    "# 标记受试者编号\n",
    "df_肿瘤_2['受试者编号']=df_肿瘤_2['受试者编号'].apply(lambda x: str(x)+'_b')"
   ]
  },
  {
   "cell_type": "code",
   "execution_count": 487,
   "metadata": {},
   "outputs": [
    {
     "data": {
      "text/plain": [
       "Index(['方案号', '中心标识', '中心名称', '受试者编号', '访视', '编号', '检查日期', '检查项目', '检查项目_描述',\n",
       "       '检查结果', '检查结果单位', '检查结果标准值', '检查结果标准单位', '临床意义', '临床意义_描述', '若为异常请描述',\n",
       "       '原始录入日期', '最后修改日期'],\n",
       "      dtype='object')"
      ]
     },
     "execution_count": 487,
     "metadata": {},
     "output_type": "execute_result"
    }
   ],
   "source": [
    "df_肿瘤_1.columns"
   ]
  },
  {
   "cell_type": "code",
   "execution_count": 488,
   "metadata": {},
   "outputs": [
    {
     "data": {
      "text/plain": [
       "Index(['方案号', '中心标识', '中心名称', '受试者编号', '访视', '编号', '检查日期', '检查项目', '检查项目_描述',\n",
       "       '检查结果', '检查结果单位', '检查结果标准值', '检查结果标准单位', '临床意义', '临床意义_描述', '若为异常请描述',\n",
       "       '原始录入日期', '最后修改日期'],\n",
       "      dtype='object')"
      ]
     },
     "execution_count": 488,
     "metadata": {},
     "output_type": "execute_result"
    }
   ],
   "source": [
    "df_肿瘤_2.columns"
   ]
  },
  {
   "cell_type": "code",
   "execution_count": 489,
   "metadata": {},
   "outputs": [],
   "source": [
    "# 提取有效字段\n",
    "df_肿瘤_1=df_肿瘤_1[['访视','受试者编号','检查日期','检查项目_描述','检查结果']]\n",
    "# 提取有效字段\n",
    "df_肿瘤_2=df_肿瘤_2[['访视','受试者编号','检查日期','检查项目_描述','检查结果']]"
   ]
  },
  {
   "cell_type": "code",
   "execution_count": 490,
   "metadata": {},
   "outputs": [
    {
     "data": {
      "text/plain": [
       "(3215, 5)"
      ]
     },
     "execution_count": 490,
     "metadata": {},
     "output_type": "execute_result"
    }
   ],
   "source": [
    "df_肿瘤_1.shape"
   ]
  },
  {
   "cell_type": "code",
   "execution_count": 491,
   "metadata": {},
   "outputs": [
    {
     "data": {
      "text/html": [
       "<div>\n",
       "<style scoped>\n",
       "    .dataframe tbody tr th:only-of-type {\n",
       "        vertical-align: middle;\n",
       "    }\n",
       "\n",
       "    .dataframe tbody tr th {\n",
       "        vertical-align: top;\n",
       "    }\n",
       "\n",
       "    .dataframe thead th {\n",
       "        text-align: right;\n",
       "    }\n",
       "</style>\n",
       "<table border=\"1\" class=\"dataframe\">\n",
       "  <thead>\n",
       "    <tr style=\"text-align: right;\">\n",
       "      <th></th>\n",
       "      <th>访视</th>\n",
       "      <th>受试者编号</th>\n",
       "      <th>检查日期</th>\n",
       "      <th>检查项目_描述</th>\n",
       "      <th>检查结果</th>\n",
       "    </tr>\n",
       "  </thead>\n",
       "  <tbody>\n",
       "    <tr>\n",
       "      <th>0</th>\n",
       "      <td>出院前检查</td>\n",
       "      <td>90001_a</td>\n",
       "      <td>2018-04-04</td>\n",
       "      <td>AFP</td>\n",
       "      <td>1.48</td>\n",
       "    </tr>\n",
       "    <tr>\n",
       "      <th>1</th>\n",
       "      <td>入院检查</td>\n",
       "      <td>90005_a</td>\n",
       "      <td>2018-02-08</td>\n",
       "      <td>AFP</td>\n",
       "      <td>3.00</td>\n",
       "    </tr>\n",
       "    <tr>\n",
       "      <th>2</th>\n",
       "      <td>入院检查</td>\n",
       "      <td>90005_a</td>\n",
       "      <td>2018-02-08</td>\n",
       "      <td>CEA</td>\n",
       "      <td>1.45</td>\n",
       "    </tr>\n",
       "    <tr>\n",
       "      <th>3</th>\n",
       "      <td>入院检查</td>\n",
       "      <td>90005_a</td>\n",
       "      <td>2018-02-08</td>\n",
       "      <td>CA-199</td>\n",
       "      <td>16.70</td>\n",
       "    </tr>\n",
       "    <tr>\n",
       "      <th>4</th>\n",
       "      <td>入院检查</td>\n",
       "      <td>90005_a</td>\n",
       "      <td>2018-02-08</td>\n",
       "      <td>TPSA</td>\n",
       "      <td>7.31</td>\n",
       "    </tr>\n",
       "  </tbody>\n",
       "</table>\n",
       "</div>"
      ],
      "text/plain": [
       "      访视    受试者编号        检查日期 检查项目_描述   检查结果\n",
       "0  出院前检查  90001_a  2018-04-04     AFP   1.48\n",
       "1   入院检查  90005_a  2018-02-08     AFP   3.00\n",
       "2   入院检查  90005_a  2018-02-08     CEA   1.45\n",
       "3   入院检查  90005_a  2018-02-08  CA-199  16.70\n",
       "4   入院检查  90005_a  2018-02-08    TPSA   7.31"
      ]
     },
     "execution_count": 491,
     "metadata": {},
     "output_type": "execute_result"
    }
   ],
   "source": [
    "df_肿瘤_1.head()"
   ]
  },
  {
   "cell_type": "markdown",
   "metadata": {},
   "source": [
    "#### 入院检查"
   ]
  },
  {
   "cell_type": "code",
   "execution_count": 492,
   "metadata": {},
   "outputs": [],
   "source": [
    "# 出入院血常规检测\n",
    "df_肿瘤_1_inp=df_肿瘤_1[df_肿瘤_1['访视'].str.contains('入院检查')]\n",
    "df_肿瘤_1_inp=df_肿瘤_1_inp.reset_index(drop=True)\n",
    "df_肿瘤_2_inp=df_肿瘤_2[df_肿瘤_2['访视'].str.contains('入院检查')]\n",
    "df_肿瘤_2_inp=df_肿瘤_2_inp.reset_index(drop=True)\n",
    "# 合并肿瘤检查\n",
    "df_肿瘤_inp=pd.concat([df_肿瘤_1_inp,df_肿瘤_2_inp],axis=0)"
   ]
  },
  {
   "cell_type": "code",
   "execution_count": 493,
   "metadata": {},
   "outputs": [
    {
     "data": {
      "text/plain": [
       "(3228, 5)"
      ]
     },
     "execution_count": 493,
     "metadata": {},
     "output_type": "execute_result"
    }
   ],
   "source": [
    "df_肿瘤_inp.shape"
   ]
  },
  {
   "cell_type": "code",
   "execution_count": 494,
   "metadata": {},
   "outputs": [
    {
     "data": {
      "text/html": [
       "<div>\n",
       "<style scoped>\n",
       "    .dataframe tbody tr th:only-of-type {\n",
       "        vertical-align: middle;\n",
       "    }\n",
       "\n",
       "    .dataframe tbody tr th {\n",
       "        vertical-align: top;\n",
       "    }\n",
       "\n",
       "    .dataframe thead th {\n",
       "        text-align: right;\n",
       "    }\n",
       "</style>\n",
       "<table border=\"1\" class=\"dataframe\">\n",
       "  <thead>\n",
       "    <tr style=\"text-align: right;\">\n",
       "      <th></th>\n",
       "      <th>访视</th>\n",
       "      <th>受试者编号</th>\n",
       "      <th>检查日期</th>\n",
       "      <th>检查项目_描述</th>\n",
       "      <th>检查结果</th>\n",
       "    </tr>\n",
       "  </thead>\n",
       "  <tbody>\n",
       "    <tr>\n",
       "      <th>0</th>\n",
       "      <td>入院检查</td>\n",
       "      <td>90005_a</td>\n",
       "      <td>2018-02-08</td>\n",
       "      <td>AFP</td>\n",
       "      <td>3.00</td>\n",
       "    </tr>\n",
       "    <tr>\n",
       "      <th>1</th>\n",
       "      <td>入院检查</td>\n",
       "      <td>90005_a</td>\n",
       "      <td>2018-02-08</td>\n",
       "      <td>CEA</td>\n",
       "      <td>1.45</td>\n",
       "    </tr>\n",
       "    <tr>\n",
       "      <th>2</th>\n",
       "      <td>入院检查</td>\n",
       "      <td>90005_a</td>\n",
       "      <td>2018-02-08</td>\n",
       "      <td>CA-199</td>\n",
       "      <td>16.70</td>\n",
       "    </tr>\n",
       "    <tr>\n",
       "      <th>3</th>\n",
       "      <td>入院检查</td>\n",
       "      <td>90005_a</td>\n",
       "      <td>2018-02-08</td>\n",
       "      <td>TPSA</td>\n",
       "      <td>7.31</td>\n",
       "    </tr>\n",
       "    <tr>\n",
       "      <th>4</th>\n",
       "      <td>入院检查</td>\n",
       "      <td>90005_a</td>\n",
       "      <td>2018-02-08</td>\n",
       "      <td>CA-125</td>\n",
       "      <td>13.40</td>\n",
       "    </tr>\n",
       "  </tbody>\n",
       "</table>\n",
       "</div>"
      ],
      "text/plain": [
       "     访视    受试者编号        检查日期 检查项目_描述   检查结果\n",
       "0  入院检查  90005_a  2018-02-08     AFP   3.00\n",
       "1  入院检查  90005_a  2018-02-08     CEA   1.45\n",
       "2  入院检查  90005_a  2018-02-08  CA-199  16.70\n",
       "3  入院检查  90005_a  2018-02-08    TPSA   7.31\n",
       "4  入院检查  90005_a  2018-02-08  CA-125  13.40"
      ]
     },
     "execution_count": 494,
     "metadata": {},
     "output_type": "execute_result"
    }
   ],
   "source": [
    "df_肿瘤_inp.head()"
   ]
  },
  {
   "cell_type": "code",
   "execution_count": 495,
   "metadata": {},
   "outputs": [],
   "source": [
    "# 数据透视表-检测项转置为表头\n",
    "df_肿瘤_inp=df_肿瘤_inp.pivot_table(values='检查结果',index=['受试者编号'],columns='检查项目_描述').reset_index()"
   ]
  },
  {
   "cell_type": "code",
   "execution_count": 496,
   "metadata": {},
   "outputs": [
    {
     "data": {
      "text/plain": [
       "(488, 13)"
      ]
     },
     "execution_count": 496,
     "metadata": {},
     "output_type": "execute_result"
    }
   ],
   "source": [
    "df_肿瘤_inp.shape"
   ]
  },
  {
   "cell_type": "code",
   "execution_count": 497,
   "metadata": {},
   "outputs": [
    {
     "data": {
      "text/plain": [
       "Index(['受试者编号', 'AFP', 'CA-125', 'CA-153', 'CA-199', 'CA-242', 'CA-50',\n",
       "       'CA-724', 'CEA', 'Cyfra211', 'FPSA', 'NSE', 'TPSA'],\n",
       "      dtype='object', name='检查项目_描述')"
      ]
     },
     "execution_count": 497,
     "metadata": {},
     "output_type": "execute_result"
    }
   ],
   "source": [
    "df_肿瘤_inp.columns"
   ]
  },
  {
   "cell_type": "code",
   "execution_count": 498,
   "metadata": {},
   "outputs": [
    {
     "data": {
      "text/html": [
       "<div>\n",
       "<style scoped>\n",
       "    .dataframe tbody tr th:only-of-type {\n",
       "        vertical-align: middle;\n",
       "    }\n",
       "\n",
       "    .dataframe tbody tr th {\n",
       "        vertical-align: top;\n",
       "    }\n",
       "\n",
       "    .dataframe thead th {\n",
       "        text-align: right;\n",
       "    }\n",
       "</style>\n",
       "<table border=\"1\" class=\"dataframe\">\n",
       "  <thead>\n",
       "    <tr style=\"text-align: right;\">\n",
       "      <th>检查项目_描述</th>\n",
       "      <th>受试者编号</th>\n",
       "      <th>AFP</th>\n",
       "      <th>CA-125</th>\n",
       "      <th>CA-153</th>\n",
       "      <th>CA-199</th>\n",
       "      <th>CA-242</th>\n",
       "      <th>CA-50</th>\n",
       "      <th>CA-724</th>\n",
       "      <th>CEA</th>\n",
       "      <th>Cyfra211</th>\n",
       "      <th>FPSA</th>\n",
       "      <th>NSE</th>\n",
       "      <th>TPSA</th>\n",
       "    </tr>\n",
       "  </thead>\n",
       "  <tbody>\n",
       "    <tr>\n",
       "      <th>0</th>\n",
       "      <td>90005_a</td>\n",
       "      <td>3.00</td>\n",
       "      <td>13.40</td>\n",
       "      <td>NaN</td>\n",
       "      <td>16.70</td>\n",
       "      <td>NaN</td>\n",
       "      <td>NaN</td>\n",
       "      <td>NaN</td>\n",
       "      <td>1.45</td>\n",
       "      <td>NaN</td>\n",
       "      <td>1.87</td>\n",
       "      <td>17.10</td>\n",
       "      <td>7.31</td>\n",
       "    </tr>\n",
       "    <tr>\n",
       "      <th>1</th>\n",
       "      <td>90005_b</td>\n",
       "      <td>NaN</td>\n",
       "      <td>76.80</td>\n",
       "      <td>14.70</td>\n",
       "      <td>11.40</td>\n",
       "      <td>4.77</td>\n",
       "      <td>NaN</td>\n",
       "      <td>1.50</td>\n",
       "      <td>NaN</td>\n",
       "      <td>NaN</td>\n",
       "      <td>NaN</td>\n",
       "      <td>NaN</td>\n",
       "      <td>NaN</td>\n",
       "    </tr>\n",
       "    <tr>\n",
       "      <th>2</th>\n",
       "      <td>90006_a</td>\n",
       "      <td>2.51</td>\n",
       "      <td>11.45</td>\n",
       "      <td>48.16</td>\n",
       "      <td>14.98</td>\n",
       "      <td>4.22</td>\n",
       "      <td>NaN</td>\n",
       "      <td>NaN</td>\n",
       "      <td>1.83</td>\n",
       "      <td>NaN</td>\n",
       "      <td>NaN</td>\n",
       "      <td>13.15</td>\n",
       "      <td>NaN</td>\n",
       "    </tr>\n",
       "    <tr>\n",
       "      <th>3</th>\n",
       "      <td>90007_a</td>\n",
       "      <td>3.92</td>\n",
       "      <td>11.63</td>\n",
       "      <td>15.73</td>\n",
       "      <td>20.10</td>\n",
       "      <td>6.51</td>\n",
       "      <td>NaN</td>\n",
       "      <td>2.43</td>\n",
       "      <td>2.75</td>\n",
       "      <td>5.26</td>\n",
       "      <td>NaN</td>\n",
       "      <td>12.57</td>\n",
       "      <td>NaN</td>\n",
       "    </tr>\n",
       "    <tr>\n",
       "      <th>4</th>\n",
       "      <td>90008_a</td>\n",
       "      <td>3.05</td>\n",
       "      <td>6.49</td>\n",
       "      <td>5.42</td>\n",
       "      <td>1.79</td>\n",
       "      <td>4.13</td>\n",
       "      <td>NaN</td>\n",
       "      <td>5.22</td>\n",
       "      <td>2.52</td>\n",
       "      <td>1.73</td>\n",
       "      <td>0.21</td>\n",
       "      <td>9.98</td>\n",
       "      <td>0.47</td>\n",
       "    </tr>\n",
       "  </tbody>\n",
       "</table>\n",
       "</div>"
      ],
      "text/plain": [
       "检查项目_描述    受试者编号   AFP  CA-125  CA-153  CA-199  CA-242  CA-50  CA-724   CEA  \\\n",
       "0        90005_a  3.00   13.40     NaN   16.70     NaN    NaN     NaN  1.45   \n",
       "1        90005_b   NaN   76.80   14.70   11.40    4.77    NaN    1.50   NaN   \n",
       "2        90006_a  2.51   11.45   48.16   14.98    4.22    NaN     NaN  1.83   \n",
       "3        90007_a  3.92   11.63   15.73   20.10    6.51    NaN    2.43  2.75   \n",
       "4        90008_a  3.05    6.49    5.42    1.79    4.13    NaN    5.22  2.52   \n",
       "\n",
       "检查项目_描述  Cyfra211  FPSA    NSE  TPSA  \n",
       "0             NaN  1.87  17.10  7.31  \n",
       "1             NaN   NaN    NaN   NaN  \n",
       "2             NaN   NaN  13.15   NaN  \n",
       "3            5.26   NaN  12.57   NaN  \n",
       "4            1.73  0.21   9.98  0.47  "
      ]
     },
     "execution_count": 498,
     "metadata": {},
     "output_type": "execute_result"
    }
   ],
   "source": [
    "df_肿瘤_inp.head()"
   ]
  },
  {
   "cell_type": "code",
   "execution_count": 499,
   "metadata": {},
   "outputs": [],
   "source": [
    "df_肿瘤_inp.to_excel(project_path+'/data/processed_data/检测数据/df_肿瘤_入院检查.xlsx')"
   ]
  },
  {
   "cell_type": "markdown",
   "metadata": {},
   "source": [
    "#### 出院检查"
   ]
  },
  {
   "cell_type": "code",
   "execution_count": 500,
   "metadata": {},
   "outputs": [],
   "source": [
    "# 出院肿瘤检查\n",
    "df_肿瘤_1_oup=df_肿瘤_1[df_肿瘤_1['访视'].str.contains('出院前检查')]\n",
    "df_肿瘤_1_oup=df_肿瘤_1_oup.reset_index(drop=True)\n",
    "df_肿瘤_2_oup=df_肿瘤_2[df_肿瘤_2['访视'].str.contains('出院前检查')]\n",
    "df_肿瘤_2_oup=df_肿瘤_2_oup.reset_index(drop=True)\n",
    "# 合并肿瘤检查\n",
    "df_肿瘤_oup=pd.concat([df_肿瘤_1_oup,df_肿瘤_2_oup],axis=0)"
   ]
  },
  {
   "cell_type": "code",
   "execution_count": 501,
   "metadata": {},
   "outputs": [
    {
     "data": {
      "text/plain": [
       "(14, 5)"
      ]
     },
     "execution_count": 501,
     "metadata": {},
     "output_type": "execute_result"
    }
   ],
   "source": [
    "df_肿瘤_oup.shape"
   ]
  },
  {
   "cell_type": "code",
   "execution_count": 502,
   "metadata": {},
   "outputs": [
    {
     "data": {
      "text/html": [
       "<div>\n",
       "<style scoped>\n",
       "    .dataframe tbody tr th:only-of-type {\n",
       "        vertical-align: middle;\n",
       "    }\n",
       "\n",
       "    .dataframe tbody tr th {\n",
       "        vertical-align: top;\n",
       "    }\n",
       "\n",
       "    .dataframe thead th {\n",
       "        text-align: right;\n",
       "    }\n",
       "</style>\n",
       "<table border=\"1\" class=\"dataframe\">\n",
       "  <thead>\n",
       "    <tr style=\"text-align: right;\">\n",
       "      <th></th>\n",
       "      <th>访视</th>\n",
       "      <th>受试者编号</th>\n",
       "      <th>检查日期</th>\n",
       "      <th>检查项目_描述</th>\n",
       "      <th>检查结果</th>\n",
       "    </tr>\n",
       "  </thead>\n",
       "  <tbody>\n",
       "    <tr>\n",
       "      <th>0</th>\n",
       "      <td>出院前检查</td>\n",
       "      <td>90001_a</td>\n",
       "      <td>2018-04-04</td>\n",
       "      <td>AFP</td>\n",
       "      <td>1.48</td>\n",
       "    </tr>\n",
       "    <tr>\n",
       "      <th>1</th>\n",
       "      <td>出院前检查</td>\n",
       "      <td>90034_a</td>\n",
       "      <td>2018-03-01</td>\n",
       "      <td>CA-50</td>\n",
       "      <td>10.97</td>\n",
       "    </tr>\n",
       "    <tr>\n",
       "      <th>2</th>\n",
       "      <td>出院前检查</td>\n",
       "      <td>90037_a</td>\n",
       "      <td>2018-03-01</td>\n",
       "      <td>AFP</td>\n",
       "      <td>2.74</td>\n",
       "    </tr>\n",
       "    <tr>\n",
       "      <th>3</th>\n",
       "      <td>出院前检查</td>\n",
       "      <td>90037_a</td>\n",
       "      <td>2018-03-01</td>\n",
       "      <td>CEA</td>\n",
       "      <td>2.62</td>\n",
       "    </tr>\n",
       "    <tr>\n",
       "      <th>4</th>\n",
       "      <td>出院前检查</td>\n",
       "      <td>90037_a</td>\n",
       "      <td>2018-03-01</td>\n",
       "      <td>CA-199</td>\n",
       "      <td>25.20</td>\n",
       "    </tr>\n",
       "  </tbody>\n",
       "</table>\n",
       "</div>"
      ],
      "text/plain": [
       "      访视    受试者编号        检查日期 检查项目_描述   检查结果\n",
       "0  出院前检查  90001_a  2018-04-04     AFP   1.48\n",
       "1  出院前检查  90034_a  2018-03-01   CA-50  10.97\n",
       "2  出院前检查  90037_a  2018-03-01     AFP   2.74\n",
       "3  出院前检查  90037_a  2018-03-01     CEA   2.62\n",
       "4  出院前检查  90037_a  2018-03-01  CA-199  25.20"
      ]
     },
     "execution_count": 502,
     "metadata": {},
     "output_type": "execute_result"
    }
   ],
   "source": [
    "df_肿瘤_oup.head()"
   ]
  },
  {
   "cell_type": "code",
   "execution_count": 503,
   "metadata": {},
   "outputs": [],
   "source": [
    "# 数据透视表-检测项转置为表头\n",
    "df_肿瘤_oup=df_肿瘤_oup.pivot_table(values='检查结果',index=['受试者编号'],columns='检查项目_描述').reset_index()"
   ]
  },
  {
   "cell_type": "code",
   "execution_count": 504,
   "metadata": {},
   "outputs": [
    {
     "data": {
      "text/plain": [
       "(5, 9)"
      ]
     },
     "execution_count": 504,
     "metadata": {},
     "output_type": "execute_result"
    }
   ],
   "source": [
    "df_肿瘤_oup.shape"
   ]
  },
  {
   "cell_type": "code",
   "execution_count": 505,
   "metadata": {},
   "outputs": [
    {
     "data": {
      "text/html": [
       "<div>\n",
       "<style scoped>\n",
       "    .dataframe tbody tr th:only-of-type {\n",
       "        vertical-align: middle;\n",
       "    }\n",
       "\n",
       "    .dataframe tbody tr th {\n",
       "        vertical-align: top;\n",
       "    }\n",
       "\n",
       "    .dataframe thead th {\n",
       "        text-align: right;\n",
       "    }\n",
       "</style>\n",
       "<table border=\"1\" class=\"dataframe\">\n",
       "  <thead>\n",
       "    <tr style=\"text-align: right;\">\n",
       "      <th>检查项目_描述</th>\n",
       "      <th>受试者编号</th>\n",
       "      <th>AFP</th>\n",
       "      <th>CA-125</th>\n",
       "      <th>CA-153</th>\n",
       "      <th>CA-199</th>\n",
       "      <th>CA-242</th>\n",
       "      <th>CA-50</th>\n",
       "      <th>CA-724</th>\n",
       "      <th>CEA</th>\n",
       "    </tr>\n",
       "  </thead>\n",
       "  <tbody>\n",
       "    <tr>\n",
       "      <th>0</th>\n",
       "      <td>90001_a</td>\n",
       "      <td>1.48</td>\n",
       "      <td>NaN</td>\n",
       "      <td>NaN</td>\n",
       "      <td>NaN</td>\n",
       "      <td>NaN</td>\n",
       "      <td>NaN</td>\n",
       "      <td>NaN</td>\n",
       "      <td>NaN</td>\n",
       "    </tr>\n",
       "    <tr>\n",
       "      <th>1</th>\n",
       "      <td>90034_a</td>\n",
       "      <td>NaN</td>\n",
       "      <td>NaN</td>\n",
       "      <td>NaN</td>\n",
       "      <td>NaN</td>\n",
       "      <td>NaN</td>\n",
       "      <td>10.97</td>\n",
       "      <td>NaN</td>\n",
       "      <td>NaN</td>\n",
       "    </tr>\n",
       "    <tr>\n",
       "      <th>2</th>\n",
       "      <td>90034_b</td>\n",
       "      <td>NaN</td>\n",
       "      <td>271.00</td>\n",
       "      <td>10.60</td>\n",
       "      <td>14.2</td>\n",
       "      <td>7.89</td>\n",
       "      <td>NaN</td>\n",
       "      <td>1.6</td>\n",
       "      <td>NaN</td>\n",
       "    </tr>\n",
       "    <tr>\n",
       "      <th>3</th>\n",
       "      <td>90037_a</td>\n",
       "      <td>2.74</td>\n",
       "      <td>7.63</td>\n",
       "      <td>8.21</td>\n",
       "      <td>25.2</td>\n",
       "      <td>11.05</td>\n",
       "      <td>NaN</td>\n",
       "      <td>NaN</td>\n",
       "      <td>2.62</td>\n",
       "    </tr>\n",
       "    <tr>\n",
       "      <th>4</th>\n",
       "      <td>90052_a</td>\n",
       "      <td>NaN</td>\n",
       "      <td>NaN</td>\n",
       "      <td>NaN</td>\n",
       "      <td>NaN</td>\n",
       "      <td>NaN</td>\n",
       "      <td>7.41</td>\n",
       "      <td>NaN</td>\n",
       "      <td>NaN</td>\n",
       "    </tr>\n",
       "  </tbody>\n",
       "</table>\n",
       "</div>"
      ],
      "text/plain": [
       "检查项目_描述    受试者编号   AFP  CA-125  CA-153  CA-199  CA-242  CA-50  CA-724   CEA\n",
       "0        90001_a  1.48     NaN     NaN     NaN     NaN    NaN     NaN   NaN\n",
       "1        90034_a   NaN     NaN     NaN     NaN     NaN  10.97     NaN   NaN\n",
       "2        90034_b   NaN  271.00   10.60    14.2    7.89    NaN     1.6   NaN\n",
       "3        90037_a  2.74    7.63    8.21    25.2   11.05    NaN     NaN  2.62\n",
       "4        90052_a   NaN     NaN     NaN     NaN     NaN   7.41     NaN   NaN"
      ]
     },
     "execution_count": 505,
     "metadata": {},
     "output_type": "execute_result"
    }
   ],
   "source": [
    "df_肿瘤_oup.head()"
   ]
  },
  {
   "cell_type": "code",
   "execution_count": 506,
   "metadata": {},
   "outputs": [
    {
     "data": {
      "text/plain": [
       "Index(['受试者编号', 'AFP', 'CA-125', 'CA-153', 'CA-199', 'CA-242', 'CA-50',\n",
       "       'CA-724', 'CEA'],\n",
       "      dtype='object', name='检查项目_描述')"
      ]
     },
     "execution_count": 506,
     "metadata": {},
     "output_type": "execute_result"
    }
   ],
   "source": [
    "df_肿瘤_oup.columns"
   ]
  },
  {
   "cell_type": "code",
   "execution_count": 507,
   "metadata": {},
   "outputs": [],
   "source": [
    "df_肿瘤_oup.to_excel(project_path+'/data/processed_data/检测数据/df_肿瘤_出院检查.xlsx')"
   ]
  },
  {
   "cell_type": "markdown",
   "metadata": {},
   "source": [
    "#### 修改列名"
   ]
  },
  {
   "cell_type": "code",
   "execution_count": 508,
   "metadata": {},
   "outputs": [],
   "source": [
    "# 修改列名\n",
    "for i in df_肿瘤_inp.columns[1:]:\n",
    "    df_肿瘤_inp.rename(columns={i:i + '_入院'},inplace=True)\n",
    "for i in df_肿瘤_oup.columns[1:]:\n",
    "    df_肿瘤_oup.rename(columns={i:i+'_出院'},inplace=True) \n",
    "    "
   ]
  },
  {
   "cell_type": "code",
   "execution_count": 509,
   "metadata": {},
   "outputs": [],
   "source": [
    "df_test_肿瘤=pd.merge(df_肿瘤_inp,df_肿瘤_oup,on='受试者编号',how='outer').reset_index(drop=True)"
   ]
  },
  {
   "cell_type": "code",
   "execution_count": 510,
   "metadata": {},
   "outputs": [
    {
     "data": {
      "text/plain": [
       "(491, 21)"
      ]
     },
     "execution_count": 510,
     "metadata": {},
     "output_type": "execute_result"
    }
   ],
   "source": [
    "df_test_肿瘤.shape"
   ]
  },
  {
   "cell_type": "code",
   "execution_count": 511,
   "metadata": {},
   "outputs": [
    {
     "data": {
      "text/plain": [
       "Index(['受试者编号', 'AFP_入院', 'CA-125_入院', 'CA-153_入院', 'CA-199_入院', 'CA-242_入院',\n",
       "       'CA-50_入院', 'CA-724_入院', 'CEA_入院', 'Cyfra211_入院', 'FPSA_入院', 'NSE_入院',\n",
       "       'TPSA_入院', 'AFP_出院', 'CA-125_出院', 'CA-153_出院', 'CA-199_出院', 'CA-242_出院',\n",
       "       'CA-50_出院', 'CA-724_出院', 'CEA_出院'],\n",
       "      dtype='object', name='检查项目_描述')"
      ]
     },
     "execution_count": 511,
     "metadata": {},
     "output_type": "execute_result"
    }
   ],
   "source": [
    "df_test_肿瘤.columns"
   ]
  },
  {
   "cell_type": "code",
   "execution_count": 512,
   "metadata": {},
   "outputs": [
    {
     "data": {
      "text/html": [
       "<div>\n",
       "<style scoped>\n",
       "    .dataframe tbody tr th:only-of-type {\n",
       "        vertical-align: middle;\n",
       "    }\n",
       "\n",
       "    .dataframe tbody tr th {\n",
       "        vertical-align: top;\n",
       "    }\n",
       "\n",
       "    .dataframe thead th {\n",
       "        text-align: right;\n",
       "    }\n",
       "</style>\n",
       "<table border=\"1\" class=\"dataframe\">\n",
       "  <thead>\n",
       "    <tr style=\"text-align: right;\">\n",
       "      <th>检查项目_描述</th>\n",
       "      <th>受试者编号</th>\n",
       "      <th>AFP_入院</th>\n",
       "      <th>CA-125_入院</th>\n",
       "      <th>CA-153_入院</th>\n",
       "      <th>CA-199_入院</th>\n",
       "      <th>CA-242_入院</th>\n",
       "      <th>CA-50_入院</th>\n",
       "      <th>CA-724_入院</th>\n",
       "      <th>CEA_入院</th>\n",
       "      <th>Cyfra211_入院</th>\n",
       "      <th>...</th>\n",
       "      <th>NSE_入院</th>\n",
       "      <th>TPSA_入院</th>\n",
       "      <th>AFP_出院</th>\n",
       "      <th>CA-125_出院</th>\n",
       "      <th>CA-153_出院</th>\n",
       "      <th>CA-199_出院</th>\n",
       "      <th>CA-242_出院</th>\n",
       "      <th>CA-50_出院</th>\n",
       "      <th>CA-724_出院</th>\n",
       "      <th>CEA_出院</th>\n",
       "    </tr>\n",
       "  </thead>\n",
       "  <tbody>\n",
       "    <tr>\n",
       "      <th>0</th>\n",
       "      <td>90005_a</td>\n",
       "      <td>3.00</td>\n",
       "      <td>13.40</td>\n",
       "      <td>NaN</td>\n",
       "      <td>16.70</td>\n",
       "      <td>NaN</td>\n",
       "      <td>NaN</td>\n",
       "      <td>NaN</td>\n",
       "      <td>1.45</td>\n",
       "      <td>NaN</td>\n",
       "      <td>...</td>\n",
       "      <td>17.10</td>\n",
       "      <td>7.31</td>\n",
       "      <td>NaN</td>\n",
       "      <td>NaN</td>\n",
       "      <td>NaN</td>\n",
       "      <td>NaN</td>\n",
       "      <td>NaN</td>\n",
       "      <td>NaN</td>\n",
       "      <td>NaN</td>\n",
       "      <td>NaN</td>\n",
       "    </tr>\n",
       "    <tr>\n",
       "      <th>1</th>\n",
       "      <td>90005_b</td>\n",
       "      <td>NaN</td>\n",
       "      <td>76.80</td>\n",
       "      <td>14.70</td>\n",
       "      <td>11.40</td>\n",
       "      <td>4.77</td>\n",
       "      <td>NaN</td>\n",
       "      <td>1.50</td>\n",
       "      <td>NaN</td>\n",
       "      <td>NaN</td>\n",
       "      <td>...</td>\n",
       "      <td>NaN</td>\n",
       "      <td>NaN</td>\n",
       "      <td>NaN</td>\n",
       "      <td>NaN</td>\n",
       "      <td>NaN</td>\n",
       "      <td>NaN</td>\n",
       "      <td>NaN</td>\n",
       "      <td>NaN</td>\n",
       "      <td>NaN</td>\n",
       "      <td>NaN</td>\n",
       "    </tr>\n",
       "    <tr>\n",
       "      <th>2</th>\n",
       "      <td>90006_a</td>\n",
       "      <td>2.51</td>\n",
       "      <td>11.45</td>\n",
       "      <td>48.16</td>\n",
       "      <td>14.98</td>\n",
       "      <td>4.22</td>\n",
       "      <td>NaN</td>\n",
       "      <td>NaN</td>\n",
       "      <td>1.83</td>\n",
       "      <td>NaN</td>\n",
       "      <td>...</td>\n",
       "      <td>13.15</td>\n",
       "      <td>NaN</td>\n",
       "      <td>NaN</td>\n",
       "      <td>NaN</td>\n",
       "      <td>NaN</td>\n",
       "      <td>NaN</td>\n",
       "      <td>NaN</td>\n",
       "      <td>NaN</td>\n",
       "      <td>NaN</td>\n",
       "      <td>NaN</td>\n",
       "    </tr>\n",
       "    <tr>\n",
       "      <th>3</th>\n",
       "      <td>90007_a</td>\n",
       "      <td>3.92</td>\n",
       "      <td>11.63</td>\n",
       "      <td>15.73</td>\n",
       "      <td>20.10</td>\n",
       "      <td>6.51</td>\n",
       "      <td>NaN</td>\n",
       "      <td>2.43</td>\n",
       "      <td>2.75</td>\n",
       "      <td>5.26</td>\n",
       "      <td>...</td>\n",
       "      <td>12.57</td>\n",
       "      <td>NaN</td>\n",
       "      <td>NaN</td>\n",
       "      <td>NaN</td>\n",
       "      <td>NaN</td>\n",
       "      <td>NaN</td>\n",
       "      <td>NaN</td>\n",
       "      <td>NaN</td>\n",
       "      <td>NaN</td>\n",
       "      <td>NaN</td>\n",
       "    </tr>\n",
       "    <tr>\n",
       "      <th>4</th>\n",
       "      <td>90008_a</td>\n",
       "      <td>3.05</td>\n",
       "      <td>6.49</td>\n",
       "      <td>5.42</td>\n",
       "      <td>1.79</td>\n",
       "      <td>4.13</td>\n",
       "      <td>NaN</td>\n",
       "      <td>5.22</td>\n",
       "      <td>2.52</td>\n",
       "      <td>1.73</td>\n",
       "      <td>...</td>\n",
       "      <td>9.98</td>\n",
       "      <td>0.47</td>\n",
       "      <td>NaN</td>\n",
       "      <td>NaN</td>\n",
       "      <td>NaN</td>\n",
       "      <td>NaN</td>\n",
       "      <td>NaN</td>\n",
       "      <td>NaN</td>\n",
       "      <td>NaN</td>\n",
       "      <td>NaN</td>\n",
       "    </tr>\n",
       "  </tbody>\n",
       "</table>\n",
       "<p>5 rows × 21 columns</p>\n",
       "</div>"
      ],
      "text/plain": [
       "检查项目_描述    受试者编号  AFP_入院  CA-125_入院  CA-153_入院  CA-199_入院  CA-242_入院  \\\n",
       "0        90005_a    3.00      13.40        NaN      16.70        NaN   \n",
       "1        90005_b     NaN      76.80      14.70      11.40       4.77   \n",
       "2        90006_a    2.51      11.45      48.16      14.98       4.22   \n",
       "3        90007_a    3.92      11.63      15.73      20.10       6.51   \n",
       "4        90008_a    3.05       6.49       5.42       1.79       4.13   \n",
       "\n",
       "检查项目_描述  CA-50_入院  CA-724_入院  CEA_入院  Cyfra211_入院  ...  NSE_入院  TPSA_入院  \\\n",
       "0             NaN        NaN    1.45          NaN  ...   17.10     7.31   \n",
       "1             NaN       1.50     NaN          NaN  ...     NaN      NaN   \n",
       "2             NaN        NaN    1.83          NaN  ...   13.15      NaN   \n",
       "3             NaN       2.43    2.75         5.26  ...   12.57      NaN   \n",
       "4             NaN       5.22    2.52         1.73  ...    9.98     0.47   \n",
       "\n",
       "检查项目_描述  AFP_出院  CA-125_出院  CA-153_出院  CA-199_出院  CA-242_出院  CA-50_出院  \\\n",
       "0           NaN        NaN        NaN        NaN        NaN       NaN   \n",
       "1           NaN        NaN        NaN        NaN        NaN       NaN   \n",
       "2           NaN        NaN        NaN        NaN        NaN       NaN   \n",
       "3           NaN        NaN        NaN        NaN        NaN       NaN   \n",
       "4           NaN        NaN        NaN        NaN        NaN       NaN   \n",
       "\n",
       "检查项目_描述  CA-724_出院  CEA_出院  \n",
       "0              NaN     NaN  \n",
       "1              NaN     NaN  \n",
       "2              NaN     NaN  \n",
       "3              NaN     NaN  \n",
       "4              NaN     NaN  \n",
       "\n",
       "[5 rows x 21 columns]"
      ]
     },
     "execution_count": 512,
     "metadata": {},
     "output_type": "execute_result"
    }
   ],
   "source": [
    "df_test_肿瘤.head()"
   ]
  },
  {
   "cell_type": "code",
   "execution_count": 513,
   "metadata": {},
   "outputs": [],
   "source": [
    "df_test_肿瘤.to_excel(project_path+'/data/processed_data/df_1.10.5.3_肿瘤_检查.xlsx')"
   ]
  },
  {
   "cell_type": "markdown",
   "metadata": {},
   "source": [
    "#### 并入肿瘤指标"
   ]
  },
  {
   "cell_type": "code",
   "execution_count": 514,
   "metadata": {},
   "outputs": [],
   "source": [
    "# 并入出入院-肿瘤检查\n",
    "df_SUP_test=pd.merge(df_SUP_test,df_test_肿瘤,on='受试者编号',how='left')"
   ]
  },
  {
   "cell_type": "code",
   "execution_count": 515,
   "metadata": {},
   "outputs": [
    {
     "data": {
      "text/plain": [
       "(298, 113)"
      ]
     },
     "execution_count": 515,
     "metadata": {},
     "output_type": "execute_result"
    }
   ],
   "source": [
    "df_SUP_test.shape"
   ]
  },
  {
   "cell_type": "code",
   "execution_count": 516,
   "metadata": {},
   "outputs": [
    {
     "data": {
      "text/html": [
       "<div>\n",
       "<style scoped>\n",
       "    .dataframe tbody tr th:only-of-type {\n",
       "        vertical-align: middle;\n",
       "    }\n",
       "\n",
       "    .dataframe tbody tr th {\n",
       "        vertical-align: top;\n",
       "    }\n",
       "\n",
       "    .dataframe thead th {\n",
       "        text-align: right;\n",
       "    }\n",
       "</style>\n",
       "<table border=\"1\" class=\"dataframe\">\n",
       "  <thead>\n",
       "    <tr style=\"text-align: right;\">\n",
       "      <th></th>\n",
       "      <th>受试者编号</th>\n",
       "      <th>出院诊断</th>\n",
       "      <th>主要疾病转归_描述</th>\n",
       "      <th>用药开始时间</th>\n",
       "      <th>用药结束时间</th>\n",
       "      <th>用药天数</th>\n",
       "      <th>EXDOSFRQ</th>\n",
       "      <th>EXDSTXT</th>\n",
       "      <th>日剂量</th>\n",
       "      <th>心血管疾病_label</th>\n",
       "      <th>...</th>\n",
       "      <th>NSE_入院</th>\n",
       "      <th>TPSA_入院</th>\n",
       "      <th>AFP_出院</th>\n",
       "      <th>CA-125_出院</th>\n",
       "      <th>CA-153_出院</th>\n",
       "      <th>CA-199_出院</th>\n",
       "      <th>CA-242_出院</th>\n",
       "      <th>CA-50_出院</th>\n",
       "      <th>CA-724_出院</th>\n",
       "      <th>CEA_出院</th>\n",
       "    </tr>\n",
       "  </thead>\n",
       "  <tbody>\n",
       "    <tr>\n",
       "      <th>0</th>\n",
       "      <td>90001_a</td>\n",
       "      <td>大脑动脉狭窄脑梗死 NIHSS评分12分，高血压病（2级，很高危），2型糖尿病，脑梗死个人史...</td>\n",
       "      <td>0</td>\n",
       "      <td>2018-04-07</td>\n",
       "      <td>2018-04-15</td>\n",
       "      <td>9</td>\n",
       "      <td>1.0</td>\n",
       "      <td>30.0</td>\n",
       "      <td>30.0</td>\n",
       "      <td>1.0</td>\n",
       "      <td>...</td>\n",
       "      <td>NaN</td>\n",
       "      <td>NaN</td>\n",
       "      <td>1.48</td>\n",
       "      <td>NaN</td>\n",
       "      <td>NaN</td>\n",
       "      <td>NaN</td>\n",
       "      <td>NaN</td>\n",
       "      <td>NaN</td>\n",
       "      <td>NaN</td>\n",
       "      <td>NaN</td>\n",
       "    </tr>\n",
       "    <tr>\n",
       "      <th>1</th>\n",
       "      <td>90003_a</td>\n",
       "      <td>I型呼吸衰竭 重症肺炎 肺栓塞(中低危)心功能不全 高血压病I级(高危)肝功能不全 下肢静脉...</td>\n",
       "      <td>1</td>\n",
       "      <td>2018-03-12</td>\n",
       "      <td>2018-03-17</td>\n",
       "      <td>6</td>\n",
       "      <td>1.0</td>\n",
       "      <td>40.0</td>\n",
       "      <td>40.0</td>\n",
       "      <td>1.0</td>\n",
       "      <td>...</td>\n",
       "      <td>NaN</td>\n",
       "      <td>NaN</td>\n",
       "      <td>NaN</td>\n",
       "      <td>NaN</td>\n",
       "      <td>NaN</td>\n",
       "      <td>NaN</td>\n",
       "      <td>NaN</td>\n",
       "      <td>NaN</td>\n",
       "      <td>NaN</td>\n",
       "      <td>NaN</td>\n",
       "    </tr>\n",
       "    <tr>\n",
       "      <th>2</th>\n",
       "      <td>90018_b</td>\n",
       "      <td>急性下壁心肌梗塞,Killip I 级,急诊RCA-PCI术后,冠心病,高血压病(1级,很高危)</td>\n",
       "      <td>0</td>\n",
       "      <td>2019-05-28</td>\n",
       "      <td>2019-06-04</td>\n",
       "      <td>8</td>\n",
       "      <td>1.0</td>\n",
       "      <td>60.0</td>\n",
       "      <td>60.0</td>\n",
       "      <td>1.0</td>\n",
       "      <td>...</td>\n",
       "      <td>NaN</td>\n",
       "      <td>NaN</td>\n",
       "      <td>NaN</td>\n",
       "      <td>NaN</td>\n",
       "      <td>NaN</td>\n",
       "      <td>NaN</td>\n",
       "      <td>NaN</td>\n",
       "      <td>NaN</td>\n",
       "      <td>NaN</td>\n",
       "      <td>NaN</td>\n",
       "    </tr>\n",
       "    <tr>\n",
       "      <th>3</th>\n",
       "      <td>90021_b</td>\n",
       "      <td>急性前壁心肌梗塞,killip Ⅰ级,急诊PCI术后,冠心病 2型糖尿病 脑梗个人史</td>\n",
       "      <td>0</td>\n",
       "      <td>2019-04-23</td>\n",
       "      <td>2019-05-05</td>\n",
       "      <td>13</td>\n",
       "      <td>1.0</td>\n",
       "      <td>60.0</td>\n",
       "      <td>60.0</td>\n",
       "      <td>1.0</td>\n",
       "      <td>...</td>\n",
       "      <td>NaN</td>\n",
       "      <td>NaN</td>\n",
       "      <td>NaN</td>\n",
       "      <td>NaN</td>\n",
       "      <td>NaN</td>\n",
       "      <td>NaN</td>\n",
       "      <td>NaN</td>\n",
       "      <td>NaN</td>\n",
       "      <td>NaN</td>\n",
       "      <td>NaN</td>\n",
       "    </tr>\n",
       "    <tr>\n",
       "      <th>4</th>\n",
       "      <td>90025_a</td>\n",
       "      <td>1.大脑动脉狭窄 2.肺部感染 慢支 3.高血压病3级,极高危; 4.2型糖尿病 5.脑梗死个人史</td>\n",
       "      <td>0</td>\n",
       "      <td>2018-02-23</td>\n",
       "      <td>2018-03-02</td>\n",
       "      <td>8</td>\n",
       "      <td>1.0</td>\n",
       "      <td>40.0</td>\n",
       "      <td>40.0</td>\n",
       "      <td>1.0</td>\n",
       "      <td>...</td>\n",
       "      <td>12.43</td>\n",
       "      <td>1.44</td>\n",
       "      <td>NaN</td>\n",
       "      <td>NaN</td>\n",
       "      <td>NaN</td>\n",
       "      <td>NaN</td>\n",
       "      <td>NaN</td>\n",
       "      <td>NaN</td>\n",
       "      <td>NaN</td>\n",
       "      <td>NaN</td>\n",
       "    </tr>\n",
       "  </tbody>\n",
       "</table>\n",
       "<p>5 rows × 113 columns</p>\n",
       "</div>"
      ],
      "text/plain": [
       "     受试者编号                                               出院诊断  主要疾病转归_描述  \\\n",
       "0  90001_a  大脑动脉狭窄脑梗死 NIHSS评分12分，高血压病（2级，很高危），2型糖尿病，脑梗死个人史...          0   \n",
       "1  90003_a  I型呼吸衰竭 重症肺炎 肺栓塞(中低危)心功能不全 高血压病I级(高危)肝功能不全 下肢静脉...          1   \n",
       "2  90018_b   急性下壁心肌梗塞,Killip I 级,急诊RCA-PCI术后,冠心病,高血压病(1级,很高危)          0   \n",
       "3  90021_b         急性前壁心肌梗塞,killip Ⅰ级,急诊PCI术后,冠心病 2型糖尿病 脑梗个人史          0   \n",
       "4  90025_a  1.大脑动脉狭窄 2.肺部感染 慢支 3.高血压病3级,极高危; 4.2型糖尿病 5.脑梗死个人史          0   \n",
       "\n",
       "       用药开始时间      用药结束时间  用药天数  EXDOSFRQ  EXDSTXT   日剂量  心血管疾病_label  ...  \\\n",
       "0  2018-04-07  2018-04-15     9       1.0     30.0  30.0          1.0  ...   \n",
       "1  2018-03-12  2018-03-17     6       1.0     40.0  40.0          1.0  ...   \n",
       "2  2019-05-28  2019-06-04     8       1.0     60.0  60.0          1.0  ...   \n",
       "3  2019-04-23  2019-05-05    13       1.0     60.0  60.0          1.0  ...   \n",
       "4  2018-02-23  2018-03-02     8       1.0     40.0  40.0          1.0  ...   \n",
       "\n",
       "   NSE_入院  TPSA_入院  AFP_出院  CA-125_出院  CA-153_出院  CA-199_出院 CA-242_出院  \\\n",
       "0     NaN      NaN    1.48        NaN        NaN        NaN       NaN   \n",
       "1     NaN      NaN     NaN        NaN        NaN        NaN       NaN   \n",
       "2     NaN      NaN     NaN        NaN        NaN        NaN       NaN   \n",
       "3     NaN      NaN     NaN        NaN        NaN        NaN       NaN   \n",
       "4   12.43     1.44     NaN        NaN        NaN        NaN       NaN   \n",
       "\n",
       "  CA-50_出院  CA-724_出院  CEA_出院  \n",
       "0      NaN        NaN     NaN  \n",
       "1      NaN        NaN     NaN  \n",
       "2      NaN        NaN     NaN  \n",
       "3      NaN        NaN     NaN  \n",
       "4      NaN        NaN     NaN  \n",
       "\n",
       "[5 rows x 113 columns]"
      ]
     },
     "execution_count": 516,
     "metadata": {},
     "output_type": "execute_result"
    }
   ],
   "source": [
    "df_SUP_test.head()"
   ]
  },
  {
   "cell_type": "code",
   "execution_count": 517,
   "metadata": {},
   "outputs": [],
   "source": [
    "df_SUP_test.to_excel(project_path+'/data/processed_data/df_1.10.5.4_并入检测指标.xlsx')"
   ]
  },
  {
   "cell_type": "markdown",
   "metadata": {},
   "source": [
    "### 人工删除不重要的列"
   ]
  },
  {
   "cell_type": "code",
   "execution_count": 518,
   "metadata": {},
   "outputs": [],
   "source": [
    "# 人工删除不重要变量\n",
    "df_SUP_test=df_SUP_test.drop(['尿蛋白（PRO）_入院'],axis=1)\n",
    "# # 删除特殊字符\n",
    "# df_model = filter_spec_character(df_model,'尿蛋白（PRO）_入院')    \n",
    "# df_model['尿蛋白（PRO）_入院']=df_model['尿蛋白（PRO）_入院'].apply(lambda x: 0.1 if re.match('阴性|隐性', str(x)) else \n",
    "#                                                                                 np.nan if x=='nan' else x)"
   ]
  },
  {
   "cell_type": "code",
   "execution_count": 519,
   "metadata": {},
   "outputs": [
    {
     "data": {
      "text/plain": [
       "(298, 112)"
      ]
     },
     "execution_count": 519,
     "metadata": {},
     "output_type": "execute_result"
    }
   ],
   "source": [
    "df_SUP_test.shape"
   ]
  },
  {
   "cell_type": "code",
   "execution_count": 520,
   "metadata": {},
   "outputs": [],
   "source": [
    "df_SUP_test.to_excel(project_path+'/data/processed_data/df_1.10.6_人工删除不重要列.xlsx')"
   ]
  },
  {
   "cell_type": "code",
   "execution_count": null,
   "metadata": {},
   "outputs": [],
   "source": []
  }
 ],
 "metadata": {
  "kernelspec": {
   "display_name": "Python 3",
   "language": "python",
   "name": "python3"
  },
  "language_info": {
   "codemirror_mode": {
    "name": "ipython",
    "version": 3
   },
   "file_extension": ".py",
   "mimetype": "text/x-python",
   "name": "python",
   "nbconvert_exporter": "python",
   "pygments_lexer": "ipython3",
   "version": "3.6.8"
  },
  "toc": {
   "base_numbering": 1,
   "nav_menu": {},
   "number_sections": true,
   "sideBar": true,
   "skip_h1_title": false,
   "title_cell": "Table of Contents",
   "title_sidebar": "Contents",
   "toc_cell": false,
   "toc_position": {
    "height": "calc(100% - 180px)",
    "left": "10px",
    "top": "150px",
    "width": "460.8px"
   },
   "toc_section_display": true,
   "toc_window_display": true
  },
  "varInspector": {
   "cols": {
    "lenName": 16,
    "lenType": 16,
    "lenVar": 40
   },
   "kernels_config": {
    "python": {
     "delete_cmd_postfix": "",
     "delete_cmd_prefix": "del ",
     "library": "var_list.py",
     "varRefreshCmd": "print(var_dic_list())"
    },
    "r": {
     "delete_cmd_postfix": ") ",
     "delete_cmd_prefix": "rm(",
     "library": "var_list.r",
     "varRefreshCmd": "cat(var_dic_list()) "
    }
   },
   "types_to_exclude": [
    "module",
    "function",
    "builtin_function_or_method",
    "instance",
    "_Feature"
   ],
   "window_display": false
  }
 },
 "nbformat": 4,
 "nbformat_minor": 2
}
